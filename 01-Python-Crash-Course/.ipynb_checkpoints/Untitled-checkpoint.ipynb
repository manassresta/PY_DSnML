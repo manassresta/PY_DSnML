{
 "cells": [
  {
   "cell_type": "code",
   "execution_count": 1,
   "id": "3bd7d5cb-0da4-40ca-a4f2-f4299bcb8d73",
   "metadata": {},
   "outputs": [],
   "source": [
    "num=24\n",
    "name='manas'"
   ]
  },
  {
   "cell_type": "code",
   "execution_count": 3,
   "id": "0c3bb3f6-d846-4822-95cd-fdbc4e7a2cbc",
   "metadata": {},
   "outputs": [
    {
     "name": "stdout",
     "output_type": "stream",
     "text": [
      "My age is 24 and my name is manas\n"
     ]
    }
   ],
   "source": [
    "print(f\"My age is {num} and my name is {name}\")"
   ]
  },
  {
   "cell_type": "code",
   "execution_count": 7,
   "id": "262741bd-90a4-4fec-98cb-6ce1f5001738",
   "metadata": {},
   "outputs": [
    {
     "data": {
      "text/plain": [
       "'a'"
      ]
     },
     "execution_count": 7,
     "metadata": {},
     "output_type": "execute_result"
    }
   ],
   "source": [
    "name[3]"
   ]
  },
  {
   "cell_type": "code",
   "execution_count": 11,
   "id": "8aac8b75-ce69-4f2b-8eb8-d659a2b94a72",
   "metadata": {},
   "outputs": [],
   "source": [
    "my_list=['a','b','c','d']\n"
   ]
  },
  {
   "cell_type": "code",
   "execution_count": 15,
   "id": "8cce68ea-59bf-45fc-a191-923232f8b7c3",
   "metadata": {},
   "outputs": [
    {
     "data": {
      "text/plain": [
       "['b', 'c']"
      ]
     },
     "execution_count": 15,
     "metadata": {},
     "output_type": "execute_result"
    }
   ],
   "source": [
    "my_list[1:3]"
   ]
  },
  {
   "cell_type": "code",
   "execution_count": 29,
   "id": "10ab3696-7667-438f-9719-461248e3ab1f",
   "metadata": {},
   "outputs": [
    {
     "data": {
      "text/plain": [
       "'r'"
      ]
     },
     "execution_count": 29,
     "metadata": {},
     "output_type": "execute_result"
    }
   ],
   "source": [
    "nest=[4,5,6,[1,2,['target']]]\n",
    "nest[3][2][0][2]"
   ]
  },
  {
   "cell_type": "code",
   "execution_count": 38,
   "id": "3b400198-0d1e-494f-acb4-677c7f5eff7d",
   "metadata": {},
   "outputs": [
    {
     "data": {
      "text/plain": [
       "123"
      ]
     },
     "execution_count": 38,
     "metadata": {},
     "output_type": "execute_result"
    }
   ],
   "source": [
    "d = {'key1':'value','key2':123}\n",
    "d['key1']\n",
    "d['key2']"
   ]
  },
  {
   "cell_type": "code",
   "execution_count": 40,
   "id": "1439c0a1-9f87-452a-bb06-7fa47b29c4bc",
   "metadata": {},
   "outputs": [
    {
     "data": {
      "text/plain": [
       "1"
      ]
     },
     "execution_count": 40,
     "metadata": {},
     "output_type": "execute_result"
    }
   ],
   "source": [
    "t=(1,2,3)\n",
    "t[0]"
   ]
  },
  {
   "cell_type": "code",
   "execution_count": null,
   "id": "0b77b15e-868f-41ac-9c09-163523e0aacd",
   "metadata": {},
   "outputs": [],
   "source": []
  }
 ],
 "metadata": {
  "kernelspec": {
   "display_name": "Python 3 (ipykernel)",
   "language": "python",
   "name": "python3"
  },
  "language_info": {
   "codemirror_mode": {
    "name": "ipython",
    "version": 3
   },
   "file_extension": ".py",
   "mimetype": "text/x-python",
   "name": "python",
   "nbconvert_exporter": "python",
   "pygments_lexer": "ipython3",
   "version": "3.11.7"
  }
 },
 "nbformat": 4,
 "nbformat_minor": 5
}
