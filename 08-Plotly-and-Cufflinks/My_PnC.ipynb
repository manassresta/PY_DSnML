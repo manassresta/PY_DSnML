{
 "cells": [
  {
   "cell_type": "code",
   "execution_count": 11,
   "id": "a1cca6c9-f261-437b-bfa1-c225e2f6b491",
   "metadata": {},
   "outputs": [
    {
     "name": "stdout",
     "output_type": "stream",
     "text": [
      "Collecting cufflinks\n",
      "  Using cached cufflinks-0.17.3-py3-none-any.whl\n",
      "Requirement already satisfied: numpy>=1.9.2 in d:\\user\\a\\lib\\site-packages (from cufflinks) (1.26.4)\n",
      "Requirement already satisfied: pandas>=0.19.2 in d:\\user\\a\\lib\\site-packages (from cufflinks) (2.1.4)\n",
      "Requirement already satisfied: plotly>=4.1.1 in d:\\user\\a\\lib\\site-packages (from cufflinks) (5.9.0)\n",
      "Requirement already satisfied: six>=1.9.0 in d:\\user\\a\\lib\\site-packages (from cufflinks) (1.16.0)\n",
      "Collecting colorlover>=0.2.1 (from cufflinks)\n",
      "  Using cached colorlover-0.3.0-py3-none-any.whl.metadata (421 bytes)\n",
      "Requirement already satisfied: setuptools>=34.4.1 in d:\\user\\a\\lib\\site-packages (from cufflinks) (68.2.2)\n",
      "Requirement already satisfied: ipython>=5.3.0 in d:\\user\\a\\lib\\site-packages (from cufflinks) (8.20.0)\n",
      "Requirement already satisfied: ipywidgets>=7.0.0 in d:\\user\\a\\lib\\site-packages (from cufflinks) (7.6.5)\n",
      "Requirement already satisfied: decorator in d:\\user\\a\\lib\\site-packages (from ipython>=5.3.0->cufflinks) (5.1.1)\n",
      "Requirement already satisfied: jedi>=0.16 in d:\\user\\a\\lib\\site-packages (from ipython>=5.3.0->cufflinks) (0.18.1)\n",
      "Requirement already satisfied: matplotlib-inline in d:\\user\\a\\lib\\site-packages (from ipython>=5.3.0->cufflinks) (0.1.6)\n",
      "Requirement already satisfied: prompt-toolkit<3.1.0,>=3.0.41 in d:\\user\\a\\lib\\site-packages (from ipython>=5.3.0->cufflinks) (3.0.43)\n",
      "Requirement already satisfied: pygments>=2.4.0 in d:\\user\\a\\lib\\site-packages (from ipython>=5.3.0->cufflinks) (2.15.1)\n",
      "Requirement already satisfied: stack-data in d:\\user\\a\\lib\\site-packages (from ipython>=5.3.0->cufflinks) (0.2.0)\n",
      "Requirement already satisfied: traitlets>=5 in d:\\user\\a\\lib\\site-packages (from ipython>=5.3.0->cufflinks) (5.7.1)\n",
      "Requirement already satisfied: colorama in d:\\user\\a\\lib\\site-packages (from ipython>=5.3.0->cufflinks) (0.4.6)\n",
      "Requirement already satisfied: ipykernel>=4.5.1 in d:\\user\\a\\lib\\site-packages (from ipywidgets>=7.0.0->cufflinks) (6.28.0)\n",
      "Requirement already satisfied: ipython-genutils~=0.2.0 in d:\\user\\a\\lib\\site-packages (from ipywidgets>=7.0.0->cufflinks) (0.2.0)\n",
      "Requirement already satisfied: nbformat>=4.2.0 in d:\\user\\a\\lib\\site-packages (from ipywidgets>=7.0.0->cufflinks) (5.9.2)\n",
      "Requirement already satisfied: widgetsnbextension~=3.5.0 in d:\\user\\a\\lib\\site-packages (from ipywidgets>=7.0.0->cufflinks) (3.5.2)\n",
      "Requirement already satisfied: jupyterlab-widgets>=1.0.0 in d:\\user\\a\\lib\\site-packages (from ipywidgets>=7.0.0->cufflinks) (3.0.9)\n",
      "Requirement already satisfied: python-dateutil>=2.8.2 in d:\\user\\a\\lib\\site-packages (from pandas>=0.19.2->cufflinks) (2.8.2)\n",
      "Requirement already satisfied: pytz>=2020.1 in d:\\user\\a\\lib\\site-packages (from pandas>=0.19.2->cufflinks) (2023.3.post1)\n",
      "Requirement already satisfied: tzdata>=2022.1 in d:\\user\\a\\lib\\site-packages (from pandas>=0.19.2->cufflinks) (2023.3)\n",
      "Requirement already satisfied: tenacity>=6.2.0 in d:\\user\\a\\lib\\site-packages (from plotly>=4.1.1->cufflinks) (8.2.2)\n",
      "Requirement already satisfied: comm>=0.1.1 in d:\\user\\a\\lib\\site-packages (from ipykernel>=4.5.1->ipywidgets>=7.0.0->cufflinks) (0.1.2)\n",
      "Requirement already satisfied: debugpy>=1.6.5 in d:\\user\\a\\lib\\site-packages (from ipykernel>=4.5.1->ipywidgets>=7.0.0->cufflinks) (1.6.7)\n",
      "Requirement already satisfied: jupyter-client>=6.1.12 in d:\\user\\a\\lib\\site-packages (from ipykernel>=4.5.1->ipywidgets>=7.0.0->cufflinks) (8.6.0)\n",
      "Requirement already satisfied: jupyter-core!=5.0.*,>=4.12 in d:\\user\\a\\lib\\site-packages (from ipykernel>=4.5.1->ipywidgets>=7.0.0->cufflinks) (5.5.0)\n",
      "Requirement already satisfied: nest-asyncio in d:\\user\\a\\lib\\site-packages (from ipykernel>=4.5.1->ipywidgets>=7.0.0->cufflinks) (1.6.0)\n",
      "Requirement already satisfied: packaging in d:\\user\\a\\lib\\site-packages (from ipykernel>=4.5.1->ipywidgets>=7.0.0->cufflinks) (23.1)\n",
      "Requirement already satisfied: psutil in d:\\user\\a\\lib\\site-packages (from ipykernel>=4.5.1->ipywidgets>=7.0.0->cufflinks) (5.9.0)\n",
      "Requirement already satisfied: pyzmq>=24 in d:\\user\\a\\lib\\site-packages (from ipykernel>=4.5.1->ipywidgets>=7.0.0->cufflinks) (25.1.2)\n",
      "Requirement already satisfied: tornado>=6.1 in d:\\user\\a\\lib\\site-packages (from ipykernel>=4.5.1->ipywidgets>=7.0.0->cufflinks) (6.3.3)\n",
      "Requirement already satisfied: parso<0.9.0,>=0.8.0 in d:\\user\\a\\lib\\site-packages (from jedi>=0.16->ipython>=5.3.0->cufflinks) (0.8.3)\n",
      "Requirement already satisfied: fastjsonschema in d:\\user\\a\\lib\\site-packages (from nbformat>=4.2.0->ipywidgets>=7.0.0->cufflinks) (2.16.2)\n",
      "Requirement already satisfied: jsonschema>=2.6 in d:\\user\\a\\lib\\site-packages (from nbformat>=4.2.0->ipywidgets>=7.0.0->cufflinks) (4.19.2)\n",
      "Requirement already satisfied: wcwidth in d:\\user\\a\\lib\\site-packages (from prompt-toolkit<3.1.0,>=3.0.41->ipython>=5.3.0->cufflinks) (0.2.5)\n",
      "Requirement already satisfied: notebook>=4.4.1 in d:\\user\\a\\lib\\site-packages (from widgetsnbextension~=3.5.0->ipywidgets>=7.0.0->cufflinks) (7.0.8)\n",
      "Requirement already satisfied: executing in d:\\user\\a\\lib\\site-packages (from stack-data->ipython>=5.3.0->cufflinks) (0.8.3)\n",
      "Requirement already satisfied: asttokens in d:\\user\\a\\lib\\site-packages (from stack-data->ipython>=5.3.0->cufflinks) (2.0.5)\n",
      "Requirement already satisfied: pure-eval in d:\\user\\a\\lib\\site-packages (from stack-data->ipython>=5.3.0->cufflinks) (0.2.2)\n",
      "Requirement already satisfied: attrs>=22.2.0 in d:\\user\\a\\lib\\site-packages (from jsonschema>=2.6->nbformat>=4.2.0->ipywidgets>=7.0.0->cufflinks) (23.1.0)\n",
      "Requirement already satisfied: jsonschema-specifications>=2023.03.6 in d:\\user\\a\\lib\\site-packages (from jsonschema>=2.6->nbformat>=4.2.0->ipywidgets>=7.0.0->cufflinks) (2023.7.1)\n",
      "Requirement already satisfied: referencing>=0.28.4 in d:\\user\\a\\lib\\site-packages (from jsonschema>=2.6->nbformat>=4.2.0->ipywidgets>=7.0.0->cufflinks) (0.30.2)\n",
      "Requirement already satisfied: rpds-py>=0.7.1 in d:\\user\\a\\lib\\site-packages (from jsonschema>=2.6->nbformat>=4.2.0->ipywidgets>=7.0.0->cufflinks) (0.10.6)\n",
      "Requirement already satisfied: platformdirs>=2.5 in d:\\user\\a\\lib\\site-packages (from jupyter-core!=5.0.*,>=4.12->ipykernel>=4.5.1->ipywidgets>=7.0.0->cufflinks) (3.10.0)\n",
      "Requirement already satisfied: pywin32>=300 in d:\\user\\a\\lib\\site-packages (from jupyter-core!=5.0.*,>=4.12->ipykernel>=4.5.1->ipywidgets>=7.0.0->cufflinks) (305.1)\n",
      "Requirement already satisfied: jupyter-server<3,>=2.4.0 in d:\\user\\a\\lib\\site-packages (from notebook>=4.4.1->widgetsnbextension~=3.5.0->ipywidgets>=7.0.0->cufflinks) (2.10.0)\n",
      "Requirement already satisfied: jupyterlab-server<3,>=2.22.1 in d:\\user\\a\\lib\\site-packages (from notebook>=4.4.1->widgetsnbextension~=3.5.0->ipywidgets>=7.0.0->cufflinks) (2.25.1)\n",
      "Requirement already satisfied: jupyterlab<4.1,>=4.0.2 in d:\\user\\a\\lib\\site-packages (from notebook>=4.4.1->widgetsnbextension~=3.5.0->ipywidgets>=7.0.0->cufflinks) (4.0.11)\n",
      "Requirement already satisfied: notebook-shim<0.3,>=0.2 in d:\\user\\a\\lib\\site-packages (from notebook>=4.4.1->widgetsnbextension~=3.5.0->ipywidgets>=7.0.0->cufflinks) (0.2.3)\n",
      "Requirement already satisfied: anyio>=3.1.0 in d:\\user\\a\\lib\\site-packages (from jupyter-server<3,>=2.4.0->notebook>=4.4.1->widgetsnbextension~=3.5.0->ipywidgets>=7.0.0->cufflinks) (4.2.0)\n",
      "Requirement already satisfied: argon2-cffi in d:\\user\\a\\lib\\site-packages (from jupyter-server<3,>=2.4.0->notebook>=4.4.1->widgetsnbextension~=3.5.0->ipywidgets>=7.0.0->cufflinks) (21.3.0)\n",
      "Requirement already satisfied: jinja2 in d:\\user\\a\\lib\\site-packages (from jupyter-server<3,>=2.4.0->notebook>=4.4.1->widgetsnbextension~=3.5.0->ipywidgets>=7.0.0->cufflinks) (3.1.3)\n",
      "Requirement already satisfied: jupyter-events>=0.6.0 in d:\\user\\a\\lib\\site-packages (from jupyter-server<3,>=2.4.0->notebook>=4.4.1->widgetsnbextension~=3.5.0->ipywidgets>=7.0.0->cufflinks) (0.8.0)\n",
      "Requirement already satisfied: jupyter-server-terminals in d:\\user\\a\\lib\\site-packages (from jupyter-server<3,>=2.4.0->notebook>=4.4.1->widgetsnbextension~=3.5.0->ipywidgets>=7.0.0->cufflinks) (0.4.4)\n",
      "Requirement already satisfied: nbconvert>=6.4.4 in d:\\user\\a\\lib\\site-packages (from jupyter-server<3,>=2.4.0->notebook>=4.4.1->widgetsnbextension~=3.5.0->ipywidgets>=7.0.0->cufflinks) (7.10.0)\n",
      "Requirement already satisfied: overrides in d:\\user\\a\\lib\\site-packages (from jupyter-server<3,>=2.4.0->notebook>=4.4.1->widgetsnbextension~=3.5.0->ipywidgets>=7.0.0->cufflinks) (7.4.0)\n",
      "Requirement already satisfied: prometheus-client in d:\\user\\a\\lib\\site-packages (from jupyter-server<3,>=2.4.0->notebook>=4.4.1->widgetsnbextension~=3.5.0->ipywidgets>=7.0.0->cufflinks) (0.14.1)\n",
      "Requirement already satisfied: pywinpty in d:\\user\\a\\lib\\site-packages (from jupyter-server<3,>=2.4.0->notebook>=4.4.1->widgetsnbextension~=3.5.0->ipywidgets>=7.0.0->cufflinks) (2.0.10)\n",
      "Requirement already satisfied: send2trash>=1.8.2 in d:\\user\\a\\lib\\site-packages (from jupyter-server<3,>=2.4.0->notebook>=4.4.1->widgetsnbextension~=3.5.0->ipywidgets>=7.0.0->cufflinks) (1.8.2)\n",
      "Requirement already satisfied: terminado>=0.8.3 in d:\\user\\a\\lib\\site-packages (from jupyter-server<3,>=2.4.0->notebook>=4.4.1->widgetsnbextension~=3.5.0->ipywidgets>=7.0.0->cufflinks) (0.17.1)\n",
      "Requirement already satisfied: websocket-client in d:\\user\\a\\lib\\site-packages (from jupyter-server<3,>=2.4.0->notebook>=4.4.1->widgetsnbextension~=3.5.0->ipywidgets>=7.0.0->cufflinks) (0.58.0)\n",
      "Requirement already satisfied: async-lru>=1.0.0 in d:\\user\\a\\lib\\site-packages (from jupyterlab<4.1,>=4.0.2->notebook>=4.4.1->widgetsnbextension~=3.5.0->ipywidgets>=7.0.0->cufflinks) (2.0.4)\n",
      "Requirement already satisfied: jupyter-lsp>=2.0.0 in d:\\user\\a\\lib\\site-packages (from jupyterlab<4.1,>=4.0.2->notebook>=4.4.1->widgetsnbextension~=3.5.0->ipywidgets>=7.0.0->cufflinks) (2.2.0)\n",
      "Requirement already satisfied: babel>=2.10 in d:\\user\\a\\lib\\site-packages (from jupyterlab-server<3,>=2.22.1->notebook>=4.4.1->widgetsnbextension~=3.5.0->ipywidgets>=7.0.0->cufflinks) (2.11.0)\n",
      "Requirement already satisfied: json5>=0.9.0 in d:\\user\\a\\lib\\site-packages (from jupyterlab-server<3,>=2.22.1->notebook>=4.4.1->widgetsnbextension~=3.5.0->ipywidgets>=7.0.0->cufflinks) (0.9.6)\n",
      "Requirement already satisfied: requests>=2.31 in d:\\user\\a\\lib\\site-packages (from jupyterlab-server<3,>=2.22.1->notebook>=4.4.1->widgetsnbextension~=3.5.0->ipywidgets>=7.0.0->cufflinks) (2.32.3)\n",
      "Requirement already satisfied: idna>=2.8 in d:\\user\\a\\lib\\site-packages (from anyio>=3.1.0->jupyter-server<3,>=2.4.0->notebook>=4.4.1->widgetsnbextension~=3.5.0->ipywidgets>=7.0.0->cufflinks) (3.4)\n",
      "Requirement already satisfied: sniffio>=1.1 in d:\\user\\a\\lib\\site-packages (from anyio>=3.1.0->jupyter-server<3,>=2.4.0->notebook>=4.4.1->widgetsnbextension~=3.5.0->ipywidgets>=7.0.0->cufflinks) (1.3.0)\n",
      "Requirement already satisfied: MarkupSafe>=2.0 in d:\\user\\a\\lib\\site-packages (from jinja2->jupyter-server<3,>=2.4.0->notebook>=4.4.1->widgetsnbextension~=3.5.0->ipywidgets>=7.0.0->cufflinks) (2.1.3)\n",
      "Requirement already satisfied: python-json-logger>=2.0.4 in d:\\user\\a\\lib\\site-packages (from jupyter-events>=0.6.0->jupyter-server<3,>=2.4.0->notebook>=4.4.1->widgetsnbextension~=3.5.0->ipywidgets>=7.0.0->cufflinks) (2.0.7)\n",
      "Requirement already satisfied: pyyaml>=5.3 in d:\\user\\a\\lib\\site-packages (from jupyter-events>=0.6.0->jupyter-server<3,>=2.4.0->notebook>=4.4.1->widgetsnbextension~=3.5.0->ipywidgets>=7.0.0->cufflinks) (6.0.1)\n",
      "Requirement already satisfied: rfc3339-validator in d:\\user\\a\\lib\\site-packages (from jupyter-events>=0.6.0->jupyter-server<3,>=2.4.0->notebook>=4.4.1->widgetsnbextension~=3.5.0->ipywidgets>=7.0.0->cufflinks) (0.1.4)\n",
      "Requirement already satisfied: rfc3986-validator>=0.1.1 in d:\\user\\a\\lib\\site-packages (from jupyter-events>=0.6.0->jupyter-server<3,>=2.4.0->notebook>=4.4.1->widgetsnbextension~=3.5.0->ipywidgets>=7.0.0->cufflinks) (0.1.1)\n",
      "Requirement already satisfied: beautifulsoup4 in d:\\user\\a\\lib\\site-packages (from nbconvert>=6.4.4->jupyter-server<3,>=2.4.0->notebook>=4.4.1->widgetsnbextension~=3.5.0->ipywidgets>=7.0.0->cufflinks) (4.12.2)\n",
      "Requirement already satisfied: bleach!=5.0.0 in d:\\user\\a\\lib\\site-packages (from nbconvert>=6.4.4->jupyter-server<3,>=2.4.0->notebook>=4.4.1->widgetsnbextension~=3.5.0->ipywidgets>=7.0.0->cufflinks) (4.1.0)\n",
      "Requirement already satisfied: defusedxml in d:\\user\\a\\lib\\site-packages (from nbconvert>=6.4.4->jupyter-server<3,>=2.4.0->notebook>=4.4.1->widgetsnbextension~=3.5.0->ipywidgets>=7.0.0->cufflinks) (0.7.1)\n",
      "Requirement already satisfied: jupyterlab-pygments in d:\\user\\a\\lib\\site-packages (from nbconvert>=6.4.4->jupyter-server<3,>=2.4.0->notebook>=4.4.1->widgetsnbextension~=3.5.0->ipywidgets>=7.0.0->cufflinks) (0.1.2)\n",
      "Requirement already satisfied: mistune<4,>=2.0.3 in d:\\user\\a\\lib\\site-packages (from nbconvert>=6.4.4->jupyter-server<3,>=2.4.0->notebook>=4.4.1->widgetsnbextension~=3.5.0->ipywidgets>=7.0.0->cufflinks) (2.0.4)\n",
      "Requirement already satisfied: nbclient>=0.5.0 in d:\\user\\a\\lib\\site-packages (from nbconvert>=6.4.4->jupyter-server<3,>=2.4.0->notebook>=4.4.1->widgetsnbextension~=3.5.0->ipywidgets>=7.0.0->cufflinks) (0.8.0)\n",
      "Requirement already satisfied: pandocfilters>=1.4.1 in d:\\user\\a\\lib\\site-packages (from nbconvert>=6.4.4->jupyter-server<3,>=2.4.0->notebook>=4.4.1->widgetsnbextension~=3.5.0->ipywidgets>=7.0.0->cufflinks) (1.5.0)\n",
      "Requirement already satisfied: tinycss2 in d:\\user\\a\\lib\\site-packages (from nbconvert>=6.4.4->jupyter-server<3,>=2.4.0->notebook>=4.4.1->widgetsnbextension~=3.5.0->ipywidgets>=7.0.0->cufflinks) (1.2.1)\n",
      "Requirement already satisfied: charset-normalizer<4,>=2 in d:\\user\\a\\lib\\site-packages (from requests>=2.31->jupyterlab-server<3,>=2.22.1->notebook>=4.4.1->widgetsnbextension~=3.5.0->ipywidgets>=7.0.0->cufflinks) (2.0.4)\n",
      "Requirement already satisfied: urllib3<3,>=1.21.1 in d:\\user\\a\\lib\\site-packages (from requests>=2.31->jupyterlab-server<3,>=2.22.1->notebook>=4.4.1->widgetsnbextension~=3.5.0->ipywidgets>=7.0.0->cufflinks) (2.0.7)\n",
      "Requirement already satisfied: certifi>=2017.4.17 in d:\\user\\a\\lib\\site-packages (from requests>=2.31->jupyterlab-server<3,>=2.22.1->notebook>=4.4.1->widgetsnbextension~=3.5.0->ipywidgets>=7.0.0->cufflinks) (2024.12.14)\n",
      "Requirement already satisfied: argon2-cffi-bindings in d:\\user\\a\\lib\\site-packages (from argon2-cffi->jupyter-server<3,>=2.4.0->notebook>=4.4.1->widgetsnbextension~=3.5.0->ipywidgets>=7.0.0->cufflinks) (21.2.0)\n",
      "Requirement already satisfied: webencodings in d:\\user\\a\\lib\\site-packages (from bleach!=5.0.0->nbconvert>=6.4.4->jupyter-server<3,>=2.4.0->notebook>=4.4.1->widgetsnbextension~=3.5.0->ipywidgets>=7.0.0->cufflinks) (0.5.1)\n",
      "Collecting fqdn (from jsonschema[format-nongpl]>=4.18.0->jupyter-events>=0.6.0->jupyter-server<3,>=2.4.0->notebook>=4.4.1->widgetsnbextension~=3.5.0->ipywidgets>=7.0.0->cufflinks)\n",
      "  Downloading fqdn-1.5.1-py3-none-any.whl.metadata (1.4 kB)\n",
      "Collecting isoduration (from jsonschema[format-nongpl]>=4.18.0->jupyter-events>=0.6.0->jupyter-server<3,>=2.4.0->notebook>=4.4.1->widgetsnbextension~=3.5.0->ipywidgets>=7.0.0->cufflinks)\n",
      "  Downloading isoduration-20.11.0-py3-none-any.whl.metadata (5.7 kB)\n",
      "Requirement already satisfied: jsonpointer>1.13 in d:\\user\\a\\lib\\site-packages (from jsonschema[format-nongpl]>=4.18.0->jupyter-events>=0.6.0->jupyter-server<3,>=2.4.0->notebook>=4.4.1->widgetsnbextension~=3.5.0->ipywidgets>=7.0.0->cufflinks) (2.1)\n",
      "Collecting uri-template (from jsonschema[format-nongpl]>=4.18.0->jupyter-events>=0.6.0->jupyter-server<3,>=2.4.0->notebook>=4.4.1->widgetsnbextension~=3.5.0->ipywidgets>=7.0.0->cufflinks)\n",
      "  Downloading uri_template-1.3.0-py3-none-any.whl.metadata (8.8 kB)\n",
      "Collecting webcolors>=1.11 (from jsonschema[format-nongpl]>=4.18.0->jupyter-events>=0.6.0->jupyter-server<3,>=2.4.0->notebook>=4.4.1->widgetsnbextension~=3.5.0->ipywidgets>=7.0.0->cufflinks)\n",
      "  Downloading webcolors-24.11.1-py3-none-any.whl.metadata (2.2 kB)\n",
      "Requirement already satisfied: cffi>=1.0.1 in d:\\user\\a\\lib\\site-packages (from argon2-cffi-bindings->argon2-cffi->jupyter-server<3,>=2.4.0->notebook>=4.4.1->widgetsnbextension~=3.5.0->ipywidgets>=7.0.0->cufflinks) (1.16.0)\n",
      "Requirement already satisfied: soupsieve>1.2 in d:\\user\\a\\lib\\site-packages (from beautifulsoup4->nbconvert>=6.4.4->jupyter-server<3,>=2.4.0->notebook>=4.4.1->widgetsnbextension~=3.5.0->ipywidgets>=7.0.0->cufflinks) (2.5)\n",
      "Requirement already satisfied: pycparser in d:\\user\\a\\lib\\site-packages (from cffi>=1.0.1->argon2-cffi-bindings->argon2-cffi->jupyter-server<3,>=2.4.0->notebook>=4.4.1->widgetsnbextension~=3.5.0->ipywidgets>=7.0.0->cufflinks) (2.21)\n",
      "Requirement already satisfied: arrow>=0.15.0 in d:\\user\\a\\lib\\site-packages (from isoduration->jsonschema[format-nongpl]>=4.18.0->jupyter-events>=0.6.0->jupyter-server<3,>=2.4.0->notebook>=4.4.1->widgetsnbextension~=3.5.0->ipywidgets>=7.0.0->cufflinks) (1.2.3)\n",
      "Using cached colorlover-0.3.0-py3-none-any.whl (8.9 kB)\n",
      "Downloading webcolors-24.11.1-py3-none-any.whl (14 kB)\n",
      "Downloading fqdn-1.5.1-py3-none-any.whl (9.1 kB)\n",
      "Downloading isoduration-20.11.0-py3-none-any.whl (11 kB)\n",
      "Downloading uri_template-1.3.0-py3-none-any.whl (11 kB)\n",
      "Installing collected packages: colorlover, webcolors, uri-template, fqdn, isoduration, cufflinks\n",
      "Successfully installed colorlover-0.3.0 cufflinks-0.17.3 fqdn-1.5.1 isoduration-20.11.0 uri-template-1.3.0 webcolors-24.11.1\n"
     ]
    }
   ],
   "source": [
    "!pip install cufflinks\n"
   ]
  },
  {
   "cell_type": "code",
   "execution_count": 101,
   "id": "8ef39c48-215d-4ec7-a281-fa294586a9b5",
   "metadata": {},
   "outputs": [],
   "source": [
    "import pandas as pd\n",
    "import numpy as np"
   ]
  },
  {
   "cell_type": "code",
   "execution_count": 5,
   "id": "613b8215-c7ab-493b-8d2a-657dc30678d3",
   "metadata": {},
   "outputs": [],
   "source": [
    "from plotly import __version__"
   ]
  },
  {
   "cell_type": "code",
   "execution_count": 7,
   "id": "9799cdb4-175d-4e25-85f1-f49b73ccaed9",
   "metadata": {},
   "outputs": [
    {
     "name": "stdout",
     "output_type": "stream",
     "text": [
      "5.9.0\n"
     ]
    }
   ],
   "source": [
    "c"
   ]
  },
  {
   "cell_type": "code",
   "execution_count": 13,
   "id": "886a4165-65c6-46ae-9f3e-d2240b54f5ab",
   "metadata": {},
   "outputs": [],
   "source": [
    "import cufflinks as cf"
   ]
  },
  {
   "cell_type": "code",
   "execution_count": 15,
   "id": "9d3acdc7-eb39-4e9b-aa61-a17015e0c5eb",
   "metadata": {},
   "outputs": [],
   "source": [
    "from plotly.offline import download_plotlyjs,init_notebook_mode,plot,iplot"
   ]
  },
  {
   "cell_type": "code",
   "execution_count": 17,
   "id": "3d261279-ad86-4425-a955-201bf893898f",
   "metadata": {},
   "outputs": [
    {
     "data": {
      "text/html": [
       "        <script type=\"text/javascript\">\n",
       "        window.PlotlyConfig = {MathJaxConfig: 'local'};\n",
       "        if (window.MathJax && window.MathJax.Hub && window.MathJax.Hub.Config) {window.MathJax.Hub.Config({SVG: {font: \"STIX-Web\"}});}\n",
       "        if (typeof require !== 'undefined') {\n",
       "        require.undef(\"plotly\");\n",
       "        requirejs.config({\n",
       "            paths: {\n",
       "                'plotly': ['https://cdn.plot.ly/plotly-2.12.1.min']\n",
       "            }\n",
       "        });\n",
       "        require(['plotly'], function(Plotly) {\n",
       "            window._Plotly = Plotly;\n",
       "        });\n",
       "        }\n",
       "        </script>\n",
       "        "
      ]
     },
     "metadata": {},
     "output_type": "display_data"
    }
   ],
   "source": [
    "init_notebook_mode(connected=True)"
   ]
  },
  {
   "cell_type": "code",
   "execution_count": 19,
   "id": "afaaf9be-baff-45aa-91ce-90a9a2b597df",
   "metadata": {},
   "outputs": [
    {
     "data": {
      "text/html": [
       "        <script type=\"text/javascript\">\n",
       "        window.PlotlyConfig = {MathJaxConfig: 'local'};\n",
       "        if (window.MathJax && window.MathJax.Hub && window.MathJax.Hub.Config) {window.MathJax.Hub.Config({SVG: {font: \"STIX-Web\"}});}\n",
       "        if (typeof require !== 'undefined') {\n",
       "        require.undef(\"plotly\");\n",
       "        requirejs.config({\n",
       "            paths: {\n",
       "                'plotly': ['https://cdn.plot.ly/plotly-2.12.1.min']\n",
       "            }\n",
       "        });\n",
       "        require(['plotly'], function(Plotly) {\n",
       "            window._Plotly = Plotly;\n",
       "        });\n",
       "        }\n",
       "        </script>\n",
       "        "
      ]
     },
     "metadata": {},
     "output_type": "display_data"
    }
   ],
   "source": [
    "cf.go_offline()"
   ]
  },
  {
   "cell_type": "code",
   "execution_count": 27,
   "id": "1467c499-342b-4fba-af08-bdadd8919207",
   "metadata": {},
   "outputs": [],
   "source": [
    "#DATA\n",
    "df = pd.DataFrame(np.random.randn(100,4),columns='A B C D'.split())"
   ]
  },
  {
   "cell_type": "code",
   "execution_count": 29,
   "id": "5bd40e45-33ab-4c3c-b4e9-887814764a3e",
   "metadata": {},
   "outputs": [
    {
     "data": {
      "text/html": [
       "<div>\n",
       "<style scoped>\n",
       "    .dataframe tbody tr th:only-of-type {\n",
       "        vertical-align: middle;\n",
       "    }\n",
       "\n",
       "    .dataframe tbody tr th {\n",
       "        vertical-align: top;\n",
       "    }\n",
       "\n",
       "    .dataframe thead th {\n",
       "        text-align: right;\n",
       "    }\n",
       "</style>\n",
       "<table border=\"1\" class=\"dataframe\">\n",
       "  <thead>\n",
       "    <tr style=\"text-align: right;\">\n",
       "      <th></th>\n",
       "      <th>A</th>\n",
       "      <th>B</th>\n",
       "      <th>C</th>\n",
       "      <th>D</th>\n",
       "    </tr>\n",
       "  </thead>\n",
       "  <tbody>\n",
       "    <tr>\n",
       "      <th>0</th>\n",
       "      <td>0.352125</td>\n",
       "      <td>-0.367240</td>\n",
       "      <td>0.040951</td>\n",
       "      <td>-1.337511</td>\n",
       "    </tr>\n",
       "    <tr>\n",
       "      <th>1</th>\n",
       "      <td>0.374379</td>\n",
       "      <td>1.172303</td>\n",
       "      <td>0.916373</td>\n",
       "      <td>0.081086</td>\n",
       "    </tr>\n",
       "    <tr>\n",
       "      <th>2</th>\n",
       "      <td>-0.868128</td>\n",
       "      <td>0.422921</td>\n",
       "      <td>0.247315</td>\n",
       "      <td>-0.460342</td>\n",
       "    </tr>\n",
       "    <tr>\n",
       "      <th>3</th>\n",
       "      <td>-1.527571</td>\n",
       "      <td>-1.535619</td>\n",
       "      <td>0.635579</td>\n",
       "      <td>1.608785</td>\n",
       "    </tr>\n",
       "    <tr>\n",
       "      <th>4</th>\n",
       "      <td>-1.390007</td>\n",
       "      <td>0.292580</td>\n",
       "      <td>2.056123</td>\n",
       "      <td>-1.135822</td>\n",
       "    </tr>\n",
       "  </tbody>\n",
       "</table>\n",
       "</div>"
      ],
      "text/plain": [
       "          A         B         C         D\n",
       "0  0.352125 -0.367240  0.040951 -1.337511\n",
       "1  0.374379  1.172303  0.916373  0.081086\n",
       "2 -0.868128  0.422921  0.247315 -0.460342\n",
       "3 -1.527571 -1.535619  0.635579  1.608785\n",
       "4 -1.390007  0.292580  2.056123 -1.135822"
      ]
     },
     "execution_count": 29,
     "metadata": {},
     "output_type": "execute_result"
    }
   ],
   "source": [
    "df.head()"
   ]
  },
  {
   "cell_type": "code",
   "execution_count": 31,
   "id": "097e2e69-c73c-4db3-b3b3-75c12afe5d63",
   "metadata": {},
   "outputs": [],
   "source": [
    "df2 =pd.DataFrame({'Category':['A','B','C'],'Values':[32,43,50]})"
   ]
  },
  {
   "cell_type": "code",
   "execution_count": 33,
   "id": "f8cc61b8-ac24-4a6b-a911-4f04466937aa",
   "metadata": {},
   "outputs": [
    {
     "data": {
      "text/html": [
       "<div>\n",
       "<style scoped>\n",
       "    .dataframe tbody tr th:only-of-type {\n",
       "        vertical-align: middle;\n",
       "    }\n",
       "\n",
       "    .dataframe tbody tr th {\n",
       "        vertical-align: top;\n",
       "    }\n",
       "\n",
       "    .dataframe thead th {\n",
       "        text-align: right;\n",
       "    }\n",
       "</style>\n",
       "<table border=\"1\" class=\"dataframe\">\n",
       "  <thead>\n",
       "    <tr style=\"text-align: right;\">\n",
       "      <th></th>\n",
       "      <th>Category</th>\n",
       "      <th>Values</th>\n",
       "    </tr>\n",
       "  </thead>\n",
       "  <tbody>\n",
       "    <tr>\n",
       "      <th>0</th>\n",
       "      <td>A</td>\n",
       "      <td>32</td>\n",
       "    </tr>\n",
       "    <tr>\n",
       "      <th>1</th>\n",
       "      <td>B</td>\n",
       "      <td>43</td>\n",
       "    </tr>\n",
       "    <tr>\n",
       "      <th>2</th>\n",
       "      <td>C</td>\n",
       "      <td>50</td>\n",
       "    </tr>\n",
       "  </tbody>\n",
       "</table>\n",
       "</div>"
      ],
      "text/plain": [
       "  Category  Values\n",
       "0        A      32\n",
       "1        B      43\n",
       "2        C      50"
      ]
     },
     "execution_count": 33,
     "metadata": {},
     "output_type": "execute_result"
    }
   ],
   "source": [
    "df2"
   ]
  },
  {
   "cell_type": "code",
   "execution_count": 41,
   "id": "3fce1939-bc82-491f-8553-a3622c18be75",
   "metadata": {},
   "outputs": [
    {
     "data": {
      "application/vnd.plotly.v1+json": {
       "config": {
        "linkText": "Export to plot.ly",
        "plotlyServerURL": "https://plot.ly",
        "showLink": true
       },
       "data": [
        {
         "line": {
          "color": "rgba(255, 153, 51, 1.0)",
          "dash": "solid",
          "shape": "linear",
          "width": 1.3
         },
         "mode": "lines",
         "name": "A",
         "text": "",
         "type": "scatter",
         "x": [
          0,
          1,
          2,
          3,
          4,
          5,
          6,
          7,
          8,
          9,
          10,
          11,
          12,
          13,
          14,
          15,
          16,
          17,
          18,
          19,
          20,
          21,
          22,
          23,
          24,
          25,
          26,
          27,
          28,
          29,
          30,
          31,
          32,
          33,
          34,
          35,
          36,
          37,
          38,
          39,
          40,
          41,
          42,
          43,
          44,
          45,
          46,
          47,
          48,
          49,
          50,
          51,
          52,
          53,
          54,
          55,
          56,
          57,
          58,
          59,
          60,
          61,
          62,
          63,
          64,
          65,
          66,
          67,
          68,
          69,
          70,
          71,
          72,
          73,
          74,
          75,
          76,
          77,
          78,
          79,
          80,
          81,
          82,
          83,
          84,
          85,
          86,
          87,
          88,
          89,
          90,
          91,
          92,
          93,
          94,
          95,
          96,
          97,
          98,
          99
         ],
         "y": [
          0.3521248991125683,
          0.374378549462778,
          -0.8681275486234619,
          -1.527571333758755,
          -1.3900068126518048,
          -0.4114054920269361,
          0.15520020133584866,
          0.7384591641252498,
          -0.09712690742829033,
          -0.26819560829719846,
          1.1338755445610074,
          -1.4874831675677571,
          0.7051312012337357,
          -1.2024530037012553,
          -0.29809729403226287,
          0.23420816692031013,
          -1.1907221135276438,
          -0.19985732553043734,
          -0.6100052380320969,
          0.9797152589484669,
          0.5532180003133247,
          -1.2390461467516192,
          1.4175055278440405,
          -0.7828444487559498,
          1.2938009572926183,
          -0.8046173586032122,
          -0.9341045740226017,
          -2.1172419964169795,
          -0.015246331294103573,
          -0.4317235418042056,
          -0.490255626621109,
          -0.10495849562550795,
          0.4895473879909302,
          0.9230452012023029,
          -0.9019954565808412,
          -1.311884135102693,
          2.1622266360844407,
          -0.9981760527494739,
          -1.1669136579693293,
          -0.3878438473642099,
          -1.4062878330424886,
          0.9025854927347297,
          1.0662128436949465,
          1.2952217490953246,
          0.26758105507076246,
          -0.23889838423038862,
          -0.43765284660587417,
          -0.15293874988146516,
          0.8457208972983651,
          -0.12651619208777903,
          -0.12830107703185067,
          0.1905151734851748,
          -0.41358010360527675,
          -0.044092658442423424,
          1.40019571716128,
          -0.48424606902779,
          1.3956807833235683,
          0.2687615836341957,
          1.5571707452070334,
          -0.6360986721910912,
          0.626440960714626,
          -1.5397412105578578,
          -0.8981119577862499,
          1.0610658409579183,
          0.8903605943553875,
          0.17073795280636891,
          0.4268772526295468,
          -0.22528647908761543,
          1.2451042431352326,
          0.16225753274666233,
          -0.8591418566134634,
          -0.9830915946369014,
          0.7391052150205726,
          -0.22235452886232096,
          0.36892299213007546,
          -0.41247121129127323,
          -1.134272171255948,
          0.4167587262034833,
          -0.07488677434197762,
          0.3863115228816906,
          -1.4541697028834588,
          -0.3416988673071571,
          -0.8558369938099291,
          0.7881715368230318,
          0.24315956283911963,
          -0.4890587435401381,
          -1.0192033454977736,
          0.8480397711023916,
          0.7591556284639237,
          -1.8384101909642117,
          0.07412638124788648,
          0.42968941865360294,
          0.6402117041777811,
          0.9430575520543083,
          0.6506280986774639,
          0.21082036382305874,
          0.36483477797329544,
          -1.055874549469489,
          -0.7137286648445479,
          0.9370985982210176
         ]
        },
        {
         "line": {
          "color": "rgba(55, 128, 191, 1.0)",
          "dash": "solid",
          "shape": "linear",
          "width": 1.3
         },
         "mode": "lines",
         "name": "B",
         "text": "",
         "type": "scatter",
         "x": [
          0,
          1,
          2,
          3,
          4,
          5,
          6,
          7,
          8,
          9,
          10,
          11,
          12,
          13,
          14,
          15,
          16,
          17,
          18,
          19,
          20,
          21,
          22,
          23,
          24,
          25,
          26,
          27,
          28,
          29,
          30,
          31,
          32,
          33,
          34,
          35,
          36,
          37,
          38,
          39,
          40,
          41,
          42,
          43,
          44,
          45,
          46,
          47,
          48,
          49,
          50,
          51,
          52,
          53,
          54,
          55,
          56,
          57,
          58,
          59,
          60,
          61,
          62,
          63,
          64,
          65,
          66,
          67,
          68,
          69,
          70,
          71,
          72,
          73,
          74,
          75,
          76,
          77,
          78,
          79,
          80,
          81,
          82,
          83,
          84,
          85,
          86,
          87,
          88,
          89,
          90,
          91,
          92,
          93,
          94,
          95,
          96,
          97,
          98,
          99
         ],
         "y": [
          -0.3672400660188171,
          1.1723030793263862,
          0.4229211143763501,
          -1.5356190599328485,
          0.29258044314440335,
          -2.077842158921335,
          0.28512491387525263,
          -0.37926165771701653,
          0.29908568497608157,
          0.9443018696549622,
          -1.5967889033942413,
          -1.3887672722735456,
          -0.6641416375654052,
          -0.0639470087730585,
          -0.46663721396131613,
          -0.6295335086197471,
          0.5897981776073271,
          -1.7655390053108517,
          -0.060237541740192926,
          1.4702381311634727,
          -0.579730434241401,
          -0.6002929782656196,
          1.9181218447873463,
          -0.07074094133169188,
          0.1554365837641563,
          0.7018919084379145,
          -0.6418528714390223,
          -0.07787505719096816,
          0.8561862739788918,
          -0.04757433442450353,
          0.937486539183576,
          1.7446059049126703,
          -0.5779297950685147,
          -2.6904740459574996,
          -0.3263343249047711,
          0.5155591540762269,
          0.3498287948955922,
          0.28221116405487856,
          -0.766191809161088,
          -0.5213477645381658,
          0.708880192738116,
          2.0539874746295013,
          -1.2473316263033876,
          0.9476199776636521,
          0.8296837728135735,
          0.2582333472604082,
          -0.7780087626419847,
          -0.2812605671675329,
          1.7583789451772844,
          0.5612996509403224,
          0.014262775164241561,
          -0.023906427686685182,
          -1.6391439824939231,
          1.170887485480817,
          0.5950341792071205,
          -0.6608344171032432,
          0.6288046045099865,
          0.3841721295386118,
          1.5401405371003682,
          -1.8171836596773712,
          -0.7777492347930118,
          0.8959467876452509,
          -0.39984688974564636,
          -1.146909822561759,
          2.24056639133713,
          -0.5676541986251326,
          -0.4629548656750362,
          1.3889964902978318,
          -1.2245992643146717,
          -0.10367449206740265,
          0.9059640174215866,
          0.6786534543107289,
          -0.5540066332650183,
          -0.12598739875013132,
          1.3483800477887116,
          1.2078134648275922,
          0.35034451020220486,
          0.40338079190074544,
          0.06883393428501268,
          -1.253355144433232,
          -1.0346073711363797,
          -1.572317268003851,
          0.8314858329161572,
          0.24454223001424086,
          -0.6227120484695982,
          -0.3559554015358584,
          0.2143436464681599,
          0.9637507906816873,
          3.303530045792439,
          -1.5897202496106333,
          -0.6320262369164329,
          -0.07242936475366742,
          -0.9198386634299148,
          -0.5504794102299363,
          -1.7324629922232109,
          -0.946431143453696,
          0.4470946952370082,
          -1.0733428737514066,
          0.7032246421977343,
          -1.4584740632012463
         ]
        },
        {
         "line": {
          "color": "rgba(50, 171, 96, 1.0)",
          "dash": "solid",
          "shape": "linear",
          "width": 1.3
         },
         "mode": "lines",
         "name": "C",
         "text": "",
         "type": "scatter",
         "x": [
          0,
          1,
          2,
          3,
          4,
          5,
          6,
          7,
          8,
          9,
          10,
          11,
          12,
          13,
          14,
          15,
          16,
          17,
          18,
          19,
          20,
          21,
          22,
          23,
          24,
          25,
          26,
          27,
          28,
          29,
          30,
          31,
          32,
          33,
          34,
          35,
          36,
          37,
          38,
          39,
          40,
          41,
          42,
          43,
          44,
          45,
          46,
          47,
          48,
          49,
          50,
          51,
          52,
          53,
          54,
          55,
          56,
          57,
          58,
          59,
          60,
          61,
          62,
          63,
          64,
          65,
          66,
          67,
          68,
          69,
          70,
          71,
          72,
          73,
          74,
          75,
          76,
          77,
          78,
          79,
          80,
          81,
          82,
          83,
          84,
          85,
          86,
          87,
          88,
          89,
          90,
          91,
          92,
          93,
          94,
          95,
          96,
          97,
          98,
          99
         ],
         "y": [
          0.040951349719290576,
          0.9163731498508584,
          0.2473149246675704,
          0.6355789757395596,
          2.0561229303330215,
          -0.8426823150555216,
          0.551260330683669,
          0.03323504120915285,
          -1.2432396486650872,
          -0.6618349008001423,
          0.5217832084147521,
          1.5288418411500666,
          -2.4120830093812837,
          2.8143447205123606,
          -0.257933073781562,
          -0.3572661675178952,
          0.20190338856217502,
          0.9320991029283576,
          -0.2191998538030043,
          2.0719083446892474,
          -2.8485964024490373,
          0.014927423043469038,
          -0.5154646455689982,
          0.4382000391317424,
          -0.4219851166708127,
          -0.6598109185667879,
          -0.5266671295882587,
          2.222491682052409,
          -0.5267075167322591,
          -1.9881988811905362,
          1.8201702033224445,
          2.175163917116367,
          -1.2906075345231638,
          -2.3006061256171084,
          0.3066738920361006,
          0.8559774613699227,
          0.6688883975257423,
          -0.6823697222688537,
          -1.243973226793776,
          0.7583084242632002,
          -1.2414551237252491,
          2.3820652209218296,
          0.9243572868285478,
          1.0052558535898974,
          -0.2961920718199432,
          0.5608432569750889,
          -2.357222093876263,
          1.817388783384015,
          -0.7744521478969061,
          1.0763933510113877,
          -1.2561328071536118,
          -0.638686345881965,
          0.4865256193015979,
          -2.456392803221965,
          -0.6518818470075926,
          0.6257325664820154,
          1.7694428509391302,
          -0.43793671439613535,
          0.29422842599998283,
          -1.1336705708733945,
          -0.02435874048759034,
          -0.9603568369902041,
          1.1487228327794106,
          -0.7861995441361292,
          -0.8447379256723088,
          1.1371711411743168,
          -0.19395465149512472,
          1.526465804209432,
          0.40676357821989756,
          0.5287900098042159,
          0.6608365859778821,
          -0.744901530184483,
          -0.9566989059482564,
          -1.3051061700884141,
          -0.7095434773568681,
          -0.14194679507734942,
          1.0204705452747858,
          -0.47132490477492744,
          -0.5095810769276805,
          -0.13974241072861765,
          1.889069821123595,
          -0.6154788796132468,
          1.3842997701151845,
          -0.153335675502912,
          -0.18154950908872736,
          -0.3369429086014936,
          -0.9140504632574861,
          -0.18505754850539075,
          -0.318009985650538,
          -1.7416551710462669,
          0.49525622789157114,
          -0.9959438615052109,
          1.1649297931196383,
          0.18734503740419692,
          1.6901446812195635,
          -0.6235055022821053,
          1.9786160133931159,
          -1.9407740026576976,
          0.42998530248150685,
          -1.9364366519135416
         ]
        },
        {
         "line": {
          "color": "rgba(128, 0, 128, 1.0)",
          "dash": "solid",
          "shape": "linear",
          "width": 1.3
         },
         "mode": "lines",
         "name": "D",
         "text": "",
         "type": "scatter",
         "x": [
          0,
          1,
          2,
          3,
          4,
          5,
          6,
          7,
          8,
          9,
          10,
          11,
          12,
          13,
          14,
          15,
          16,
          17,
          18,
          19,
          20,
          21,
          22,
          23,
          24,
          25,
          26,
          27,
          28,
          29,
          30,
          31,
          32,
          33,
          34,
          35,
          36,
          37,
          38,
          39,
          40,
          41,
          42,
          43,
          44,
          45,
          46,
          47,
          48,
          49,
          50,
          51,
          52,
          53,
          54,
          55,
          56,
          57,
          58,
          59,
          60,
          61,
          62,
          63,
          64,
          65,
          66,
          67,
          68,
          69,
          70,
          71,
          72,
          73,
          74,
          75,
          76,
          77,
          78,
          79,
          80,
          81,
          82,
          83,
          84,
          85,
          86,
          87,
          88,
          89,
          90,
          91,
          92,
          93,
          94,
          95,
          96,
          97,
          98,
          99
         ],
         "y": [
          -1.3375111200422654,
          0.08108573619786534,
          -0.4603419445564614,
          1.6087850830260433,
          -1.1358219279044866,
          -1.3402739069075462,
          -0.8883954210116366,
          -2.333576558962384,
          2.256222344488282,
          -1.518276134540346,
          -0.5493494918608621,
          1.0888175415569215,
          -1.1555295255722635,
          -0.5663726095451217,
          0.8195642561425789,
          -0.6555111443554326,
          1.5823033687248254,
          0.448344094281049,
          -1.534848204837367,
          -0.7738955545996372,
          -1.2526498083817412,
          0.6069527188929812,
          0.24313875205510352,
          0.9113343981619622,
          1.0897636277906508,
          -0.23886310103044037,
          -0.36243249262063915,
          0.8054873468624355,
          -0.8311895423156016,
          0.36411268083828713,
          0.15287411039096088,
          0.30253942960984925,
          1.0902893872100399,
          -0.7108338092133447,
          2.0768094028590327,
          0.051691069444641746,
          -0.10991256892414793,
          0.7959080246152197,
          0.4057141102482014,
          -0.7086479402378677,
          -1.5163725358414726,
          -0.4387446795954376,
          0.10599681909410427,
          1.2581067321286046,
          -0.23448306331222418,
          -0.43196872710173995,
          -0.13422166623444162,
          -0.916134253624078,
          -0.28070162474793886,
          0.9520456681139606,
          -0.2839508570594622,
          -1.605523474096741,
          -1.0863518252056914,
          0.025308097274283906,
          0.06448363327448572,
          -0.761557429698844,
          0.10329503270324489,
          0.4122547806086187,
          -1.199652516293543,
          0.8959886138160285,
          -0.4977888239267104,
          0.01348762881186117,
          0.48002483050913747,
          1.7292547102720466,
          0.3652142333994519,
          1.5914138134642886,
          -0.05457538970538982,
          0.7492853215006533,
          1.7142499472823864,
          -0.9850415204347099,
          0.6388438927953487,
          0.4138487334186722,
          -0.8905539048608643,
          -1.0279145122359281,
          0.9414427655613998,
          0.25918463510371625,
          -0.19729832180784007,
          -0.390909039372285,
          -0.7835258859704143,
          -1.4253341321155104,
          0.04927046360645166,
          0.2651329981190324,
          1.6619499989545055,
          0.4802126318651488,
          2.5923259691026233,
          -0.42748881665069555,
          0.290167317223398,
          0.5103695762182319,
          1.2582990267796612,
          1.3556684561143955,
          -1.2007802646175456,
          0.3295112813582968,
          0.555959784639183,
          -0.11942895049017666,
          -0.16790176725326109,
          1.5091104754329279,
          -1.2444322169182427,
          0.8543033955585018,
          0.3555174210748361,
          0.4288090890373574
         ]
        }
       ],
       "layout": {
        "autosize": true,
        "legend": {
         "bgcolor": "#F5F6F9",
         "font": {
          "color": "#4D5663"
         }
        },
        "paper_bgcolor": "#F5F6F9",
        "plot_bgcolor": "#F5F6F9",
        "template": {
         "data": {
          "bar": [
           {
            "error_x": {
             "color": "#2a3f5f"
            },
            "error_y": {
             "color": "#2a3f5f"
            },
            "marker": {
             "line": {
              "color": "#E5ECF6",
              "width": 0.5
             },
             "pattern": {
              "fillmode": "overlay",
              "size": 10,
              "solidity": 0.2
             }
            },
            "type": "bar"
           }
          ],
          "barpolar": [
           {
            "marker": {
             "line": {
              "color": "#E5ECF6",
              "width": 0.5
             },
             "pattern": {
              "fillmode": "overlay",
              "size": 10,
              "solidity": 0.2
             }
            },
            "type": "barpolar"
           }
          ],
          "carpet": [
           {
            "aaxis": {
             "endlinecolor": "#2a3f5f",
             "gridcolor": "white",
             "linecolor": "white",
             "minorgridcolor": "white",
             "startlinecolor": "#2a3f5f"
            },
            "baxis": {
             "endlinecolor": "#2a3f5f",
             "gridcolor": "white",
             "linecolor": "white",
             "minorgridcolor": "white",
             "startlinecolor": "#2a3f5f"
            },
            "type": "carpet"
           }
          ],
          "choropleth": [
           {
            "colorbar": {
             "outlinewidth": 0,
             "ticks": ""
            },
            "type": "choropleth"
           }
          ],
          "contour": [
           {
            "colorbar": {
             "outlinewidth": 0,
             "ticks": ""
            },
            "colorscale": [
             [
              0,
              "#0d0887"
             ],
             [
              0.1111111111111111,
              "#46039f"
             ],
             [
              0.2222222222222222,
              "#7201a8"
             ],
             [
              0.3333333333333333,
              "#9c179e"
             ],
             [
              0.4444444444444444,
              "#bd3786"
             ],
             [
              0.5555555555555556,
              "#d8576b"
             ],
             [
              0.6666666666666666,
              "#ed7953"
             ],
             [
              0.7777777777777778,
              "#fb9f3a"
             ],
             [
              0.8888888888888888,
              "#fdca26"
             ],
             [
              1,
              "#f0f921"
             ]
            ],
            "type": "contour"
           }
          ],
          "contourcarpet": [
           {
            "colorbar": {
             "outlinewidth": 0,
             "ticks": ""
            },
            "type": "contourcarpet"
           }
          ],
          "heatmap": [
           {
            "colorbar": {
             "outlinewidth": 0,
             "ticks": ""
            },
            "colorscale": [
             [
              0,
              "#0d0887"
             ],
             [
              0.1111111111111111,
              "#46039f"
             ],
             [
              0.2222222222222222,
              "#7201a8"
             ],
             [
              0.3333333333333333,
              "#9c179e"
             ],
             [
              0.4444444444444444,
              "#bd3786"
             ],
             [
              0.5555555555555556,
              "#d8576b"
             ],
             [
              0.6666666666666666,
              "#ed7953"
             ],
             [
              0.7777777777777778,
              "#fb9f3a"
             ],
             [
              0.8888888888888888,
              "#fdca26"
             ],
             [
              1,
              "#f0f921"
             ]
            ],
            "type": "heatmap"
           }
          ],
          "heatmapgl": [
           {
            "colorbar": {
             "outlinewidth": 0,
             "ticks": ""
            },
            "colorscale": [
             [
              0,
              "#0d0887"
             ],
             [
              0.1111111111111111,
              "#46039f"
             ],
             [
              0.2222222222222222,
              "#7201a8"
             ],
             [
              0.3333333333333333,
              "#9c179e"
             ],
             [
              0.4444444444444444,
              "#bd3786"
             ],
             [
              0.5555555555555556,
              "#d8576b"
             ],
             [
              0.6666666666666666,
              "#ed7953"
             ],
             [
              0.7777777777777778,
              "#fb9f3a"
             ],
             [
              0.8888888888888888,
              "#fdca26"
             ],
             [
              1,
              "#f0f921"
             ]
            ],
            "type": "heatmapgl"
           }
          ],
          "histogram": [
           {
            "marker": {
             "pattern": {
              "fillmode": "overlay",
              "size": 10,
              "solidity": 0.2
             }
            },
            "type": "histogram"
           }
          ],
          "histogram2d": [
           {
            "colorbar": {
             "outlinewidth": 0,
             "ticks": ""
            },
            "colorscale": [
             [
              0,
              "#0d0887"
             ],
             [
              0.1111111111111111,
              "#46039f"
             ],
             [
              0.2222222222222222,
              "#7201a8"
             ],
             [
              0.3333333333333333,
              "#9c179e"
             ],
             [
              0.4444444444444444,
              "#bd3786"
             ],
             [
              0.5555555555555556,
              "#d8576b"
             ],
             [
              0.6666666666666666,
              "#ed7953"
             ],
             [
              0.7777777777777778,
              "#fb9f3a"
             ],
             [
              0.8888888888888888,
              "#fdca26"
             ],
             [
              1,
              "#f0f921"
             ]
            ],
            "type": "histogram2d"
           }
          ],
          "histogram2dcontour": [
           {
            "colorbar": {
             "outlinewidth": 0,
             "ticks": ""
            },
            "colorscale": [
             [
              0,
              "#0d0887"
             ],
             [
              0.1111111111111111,
              "#46039f"
             ],
             [
              0.2222222222222222,
              "#7201a8"
             ],
             [
              0.3333333333333333,
              "#9c179e"
             ],
             [
              0.4444444444444444,
              "#bd3786"
             ],
             [
              0.5555555555555556,
              "#d8576b"
             ],
             [
              0.6666666666666666,
              "#ed7953"
             ],
             [
              0.7777777777777778,
              "#fb9f3a"
             ],
             [
              0.8888888888888888,
              "#fdca26"
             ],
             [
              1,
              "#f0f921"
             ]
            ],
            "type": "histogram2dcontour"
           }
          ],
          "mesh3d": [
           {
            "colorbar": {
             "outlinewidth": 0,
             "ticks": ""
            },
            "type": "mesh3d"
           }
          ],
          "parcoords": [
           {
            "line": {
             "colorbar": {
              "outlinewidth": 0,
              "ticks": ""
             }
            },
            "type": "parcoords"
           }
          ],
          "pie": [
           {
            "automargin": true,
            "type": "pie"
           }
          ],
          "scatter": [
           {
            "fillpattern": {
             "fillmode": "overlay",
             "size": 10,
             "solidity": 0.2
            },
            "type": "scatter"
           }
          ],
          "scatter3d": [
           {
            "line": {
             "colorbar": {
              "outlinewidth": 0,
              "ticks": ""
             }
            },
            "marker": {
             "colorbar": {
              "outlinewidth": 0,
              "ticks": ""
             }
            },
            "type": "scatter3d"
           }
          ],
          "scattercarpet": [
           {
            "marker": {
             "colorbar": {
              "outlinewidth": 0,
              "ticks": ""
             }
            },
            "type": "scattercarpet"
           }
          ],
          "scattergeo": [
           {
            "marker": {
             "colorbar": {
              "outlinewidth": 0,
              "ticks": ""
             }
            },
            "type": "scattergeo"
           }
          ],
          "scattergl": [
           {
            "marker": {
             "colorbar": {
              "outlinewidth": 0,
              "ticks": ""
             }
            },
            "type": "scattergl"
           }
          ],
          "scattermapbox": [
           {
            "marker": {
             "colorbar": {
              "outlinewidth": 0,
              "ticks": ""
             }
            },
            "type": "scattermapbox"
           }
          ],
          "scatterpolar": [
           {
            "marker": {
             "colorbar": {
              "outlinewidth": 0,
              "ticks": ""
             }
            },
            "type": "scatterpolar"
           }
          ],
          "scatterpolargl": [
           {
            "marker": {
             "colorbar": {
              "outlinewidth": 0,
              "ticks": ""
             }
            },
            "type": "scatterpolargl"
           }
          ],
          "scatterternary": [
           {
            "marker": {
             "colorbar": {
              "outlinewidth": 0,
              "ticks": ""
             }
            },
            "type": "scatterternary"
           }
          ],
          "surface": [
           {
            "colorbar": {
             "outlinewidth": 0,
             "ticks": ""
            },
            "colorscale": [
             [
              0,
              "#0d0887"
             ],
             [
              0.1111111111111111,
              "#46039f"
             ],
             [
              0.2222222222222222,
              "#7201a8"
             ],
             [
              0.3333333333333333,
              "#9c179e"
             ],
             [
              0.4444444444444444,
              "#bd3786"
             ],
             [
              0.5555555555555556,
              "#d8576b"
             ],
             [
              0.6666666666666666,
              "#ed7953"
             ],
             [
              0.7777777777777778,
              "#fb9f3a"
             ],
             [
              0.8888888888888888,
              "#fdca26"
             ],
             [
              1,
              "#f0f921"
             ]
            ],
            "type": "surface"
           }
          ],
          "table": [
           {
            "cells": {
             "fill": {
              "color": "#EBF0F8"
             },
             "line": {
              "color": "white"
             }
            },
            "header": {
             "fill": {
              "color": "#C8D4E3"
             },
             "line": {
              "color": "white"
             }
            },
            "type": "table"
           }
          ]
         },
         "layout": {
          "annotationdefaults": {
           "arrowcolor": "#2a3f5f",
           "arrowhead": 0,
           "arrowwidth": 1
          },
          "autotypenumbers": "strict",
          "coloraxis": {
           "colorbar": {
            "outlinewidth": 0,
            "ticks": ""
           }
          },
          "colorscale": {
           "diverging": [
            [
             0,
             "#8e0152"
            ],
            [
             0.1,
             "#c51b7d"
            ],
            [
             0.2,
             "#de77ae"
            ],
            [
             0.3,
             "#f1b6da"
            ],
            [
             0.4,
             "#fde0ef"
            ],
            [
             0.5,
             "#f7f7f7"
            ],
            [
             0.6,
             "#e6f5d0"
            ],
            [
             0.7,
             "#b8e186"
            ],
            [
             0.8,
             "#7fbc41"
            ],
            [
             0.9,
             "#4d9221"
            ],
            [
             1,
             "#276419"
            ]
           ],
           "sequential": [
            [
             0,
             "#0d0887"
            ],
            [
             0.1111111111111111,
             "#46039f"
            ],
            [
             0.2222222222222222,
             "#7201a8"
            ],
            [
             0.3333333333333333,
             "#9c179e"
            ],
            [
             0.4444444444444444,
             "#bd3786"
            ],
            [
             0.5555555555555556,
             "#d8576b"
            ],
            [
             0.6666666666666666,
             "#ed7953"
            ],
            [
             0.7777777777777778,
             "#fb9f3a"
            ],
            [
             0.8888888888888888,
             "#fdca26"
            ],
            [
             1,
             "#f0f921"
            ]
           ],
           "sequentialminus": [
            [
             0,
             "#0d0887"
            ],
            [
             0.1111111111111111,
             "#46039f"
            ],
            [
             0.2222222222222222,
             "#7201a8"
            ],
            [
             0.3333333333333333,
             "#9c179e"
            ],
            [
             0.4444444444444444,
             "#bd3786"
            ],
            [
             0.5555555555555556,
             "#d8576b"
            ],
            [
             0.6666666666666666,
             "#ed7953"
            ],
            [
             0.7777777777777778,
             "#fb9f3a"
            ],
            [
             0.8888888888888888,
             "#fdca26"
            ],
            [
             1,
             "#f0f921"
            ]
           ]
          },
          "colorway": [
           "#636efa",
           "#EF553B",
           "#00cc96",
           "#ab63fa",
           "#FFA15A",
           "#19d3f3",
           "#FF6692",
           "#B6E880",
           "#FF97FF",
           "#FECB52"
          ],
          "font": {
           "color": "#2a3f5f"
          },
          "geo": {
           "bgcolor": "white",
           "lakecolor": "white",
           "landcolor": "#E5ECF6",
           "showlakes": true,
           "showland": true,
           "subunitcolor": "white"
          },
          "hoverlabel": {
           "align": "left"
          },
          "hovermode": "closest",
          "mapbox": {
           "style": "light"
          },
          "paper_bgcolor": "white",
          "plot_bgcolor": "#E5ECF6",
          "polar": {
           "angularaxis": {
            "gridcolor": "white",
            "linecolor": "white",
            "ticks": ""
           },
           "bgcolor": "#E5ECF6",
           "radialaxis": {
            "gridcolor": "white",
            "linecolor": "white",
            "ticks": ""
           }
          },
          "scene": {
           "xaxis": {
            "backgroundcolor": "#E5ECF6",
            "gridcolor": "white",
            "gridwidth": 2,
            "linecolor": "white",
            "showbackground": true,
            "ticks": "",
            "zerolinecolor": "white"
           },
           "yaxis": {
            "backgroundcolor": "#E5ECF6",
            "gridcolor": "white",
            "gridwidth": 2,
            "linecolor": "white",
            "showbackground": true,
            "ticks": "",
            "zerolinecolor": "white"
           },
           "zaxis": {
            "backgroundcolor": "#E5ECF6",
            "gridcolor": "white",
            "gridwidth": 2,
            "linecolor": "white",
            "showbackground": true,
            "ticks": "",
            "zerolinecolor": "white"
           }
          },
          "shapedefaults": {
           "line": {
            "color": "#2a3f5f"
           }
          },
          "ternary": {
           "aaxis": {
            "gridcolor": "white",
            "linecolor": "white",
            "ticks": ""
           },
           "baxis": {
            "gridcolor": "white",
            "linecolor": "white",
            "ticks": ""
           },
           "bgcolor": "#E5ECF6",
           "caxis": {
            "gridcolor": "white",
            "linecolor": "white",
            "ticks": ""
           }
          },
          "title": {
           "x": 0.05
          },
          "xaxis": {
           "automargin": true,
           "gridcolor": "white",
           "linecolor": "white",
           "ticks": "",
           "title": {
            "standoff": 15
           },
           "zerolinecolor": "white",
           "zerolinewidth": 2
          },
          "yaxis": {
           "automargin": true,
           "gridcolor": "white",
           "linecolor": "white",
           "ticks": "",
           "title": {
            "standoff": 15
           },
           "zerolinecolor": "white",
           "zerolinewidth": 2
          }
         }
        },
        "title": {
         "font": {
          "color": "#4D5663"
         }
        },
        "xaxis": {
         "autorange": true,
         "gridcolor": "#E1E5ED",
         "range": [
          0,
          99
         ],
         "showgrid": true,
         "tickfont": {
          "color": "#4D5663"
         },
         "title": {
          "font": {
           "color": "#4D5663"
          },
          "text": ""
         },
         "type": "linear",
         "zerolinecolor": "#E1E5ED"
        },
        "yaxis": {
         "autorange": true,
         "gridcolor": "#E1E5ED",
         "range": [
          -3.1903812051291194,
          3.645314848472521
         ],
         "showgrid": true,
         "tickfont": {
          "color": "#4D5663"
         },
         "title": {
          "font": {
           "color": "#4D5663"
          },
          "text": ""
         },
         "type": "linear",
         "zerolinecolor": "#E1E5ED"
        }
       }
      },
      "image/png": "[encoded data removed]",
      "text/html": [
       "<div>                            <div id=\"8bc615c6-3c74-49ee-94a8-cc28cf5dc74b\" class=\"plotly-graph-div\" style=\"height:525px; width:100%;\"></div>            <script type=\"text/javascript\">                require([\"plotly\"], function(Plotly) {                    window.PLOTLYENV=window.PLOTLYENV || {};\n",
       "                    window.PLOTLYENV.BASE_URL='https://plot.ly';                                    if (document.getElementById(\"8bc615c6-3c74-49ee-94a8-cc28cf5dc74b\")) {                    Plotly.newPlot(                        \"8bc615c6-3c74-49ee-94a8-cc28cf5dc74b\",                        [{\"line\":{\"color\":\"rgba(255, 153, 51, 1.0)\",\"dash\":\"solid\",\"shape\":\"linear\",\"width\":1.3},\"mode\":\"lines\",\"name\":\"A\",\"text\":\"\",\"x\":[0,1,2,3,4,5,6,7,8,9,10,11,12,13,14,15,16,17,18,19,20,21,22,23,24,25,26,27,28,29,30,31,32,33,34,35,36,37,38,39,40,41,42,43,44,45,46,47,48,49,50,51,52,53,54,55,56,57,58,59,60,61,62,63,64,65,66,67,68,69,70,71,72,73,74,75,76,77,78,79,80,81,82,83,84,85,86,87,88,89,90,91,92,93,94,95,96,97,98,99],\"y\":[0.3521248991125683,0.374378549462778,-0.8681275486234619,-1.527571333758755,-1.3900068126518048,-0.4114054920269361,0.15520020133584866,0.7384591641252498,-0.09712690742829033,-0.26819560829719846,1.1338755445610074,-1.4874831675677571,0.7051312012337357,-1.2024530037012553,-0.29809729403226287,0.23420816692031013,-1.1907221135276438,-0.19985732553043734,-0.6100052380320969,0.9797152589484669,0.5532180003133247,-1.2390461467516192,1.4175055278440405,-0.7828444487559498,1.2938009572926183,-0.8046173586032122,-0.9341045740226017,-2.1172419964169795,-0.015246331294103573,-0.4317235418042056,-0.490255626621109,-0.10495849562550795,0.4895473879909302,0.9230452012023029,-0.9019954565808412,-1.311884135102693,2.1622266360844407,-0.9981760527494739,-1.1669136579693293,-0.3878438473642099,-1.4062878330424886,0.9025854927347297,1.0662128436949465,1.2952217490953246,0.26758105507076246,-0.23889838423038862,-0.43765284660587417,-0.15293874988146516,0.8457208972983651,-0.12651619208777903,-0.12830107703185067,0.1905151734851748,-0.41358010360527675,-0.044092658442423424,1.40019571716128,-0.48424606902779,1.3956807833235683,0.2687615836341957,1.5571707452070334,-0.6360986721910912,0.626440960714626,-1.5397412105578578,-0.8981119577862499,1.0610658409579183,0.8903605943553875,0.17073795280636891,0.4268772526295468,-0.22528647908761543,1.2451042431352326,0.16225753274666233,-0.8591418566134634,-0.9830915946369014,0.7391052150205726,-0.22235452886232096,0.36892299213007546,-0.41247121129127323,-1.134272171255948,0.4167587262034833,-0.07488677434197762,0.3863115228816906,-1.4541697028834588,-0.3416988673071571,-0.8558369938099291,0.7881715368230318,0.24315956283911963,-0.4890587435401381,-1.0192033454977736,0.8480397711023916,0.7591556284639237,-1.8384101909642117,0.07412638124788648,0.42968941865360294,0.6402117041777811,0.9430575520543083,0.6506280986774639,0.21082036382305874,0.36483477797329544,-1.055874549469489,-0.7137286648445479,0.9370985982210176],\"type\":\"scatter\"},{\"line\":{\"color\":\"rgba(55, 128, 191, 1.0)\",\"dash\":\"solid\",\"shape\":\"linear\",\"width\":1.3},\"mode\":\"lines\",\"name\":\"B\",\"text\":\"\",\"x\":[0,1,2,3,4,5,6,7,8,9,10,11,12,13,14,15,16,17,18,19,20,21,22,23,24,25,26,27,28,29,30,31,32,33,34,35,36,37,38,39,40,41,42,43,44,45,46,47,48,49,50,51,52,53,54,55,56,57,58,59,60,61,62,63,64,65,66,67,68,69,70,71,72,73,74,75,76,77,78,79,80,81,82,83,84,85,86,87,88,89,90,91,92,93,94,95,96,97,98,99],\"y\":[-0.3672400660188171,1.1723030793263862,0.4229211143763501,-1.5356190599328485,0.29258044314440335,-2.077842158921335,0.28512491387525263,-0.37926165771701653,0.29908568497608157,0.9443018696549622,-1.5967889033942413,-1.3887672722735456,-0.6641416375654052,-0.0639470087730585,-0.46663721396131613,-0.6295335086197471,0.5897981776073271,-1.7655390053108517,-0.060237541740192926,1.4702381311634727,-0.579730434241401,-0.6002929782656196,1.9181218447873463,-0.07074094133169188,0.1554365837641563,0.7018919084379145,-0.6418528714390223,-0.07787505719096816,0.8561862739788918,-0.04757433442450353,0.937486539183576,1.7446059049126703,-0.5779297950685147,-2.6904740459574996,-0.3263343249047711,0.5155591540762269,0.3498287948955922,0.28221116405487856,-0.766191809161088,-0.5213477645381658,0.708880192738116,2.0539874746295013,-1.2473316263033876,0.9476199776636521,0.8296837728135735,0.2582333472604082,-0.7780087626419847,-0.2812605671675329,1.7583789451772844,0.5612996509403224,0.014262775164241561,-0.023906427686685182,-1.6391439824939231,1.170887485480817,0.5950341792071205,-0.6608344171032432,0.6288046045099865,0.3841721295386118,1.5401405371003682,-1.8171836596773712,-0.7777492347930118,0.8959467876452509,-0.39984688974564636,-1.146909822561759,2.24056639133713,-0.5676541986251326,-0.4629548656750362,1.3889964902978318,-1.2245992643146717,-0.10367449206740265,0.9059640174215866,0.6786534543107289,-0.5540066332650183,-0.12598739875013132,1.3483800477887116,1.2078134648275922,0.35034451020220486,0.40338079190074544,0.06883393428501268,-1.253355144433232,-1.0346073711363797,-1.572317268003851,0.8314858329161572,0.24454223001424086,-0.6227120484695982,-0.3559554015358584,0.2143436464681599,0.9637507906816873,3.303530045792439,-1.5897202496106333,-0.6320262369164329,-0.07242936475366742,-0.9198386634299148,-0.5504794102299363,-1.7324629922232109,-0.946431143453696,0.4470946952370082,-1.0733428737514066,0.7032246421977343,-1.4584740632012463],\"type\":\"scatter\"},{\"line\":{\"color\":\"rgba(50, 171, 96, 1.0)\",\"dash\":\"solid\",\"shape\":\"linear\",\"width\":1.3},\"mode\":\"lines\",\"name\":\"C\",\"text\":\"\",\"x\":[0,1,2,3,4,5,6,7,8,9,10,11,12,13,14,15,16,17,18,19,20,21,22,23,24,25,26,27,28,29,30,31,32,33,34,35,36,37,38,39,40,41,42,43,44,45,46,47,48,49,50,51,52,53,54,55,56,57,58,59,60,61,62,63,64,65,66,67,68,69,70,71,72,73,74,75,76,77,78,79,80,81,82,83,84,85,86,87,88,89,90,91,92,93,94,95,96,97,98,99],\"y\":[0.040951349719290576,0.9163731498508584,0.2473149246675704,0.6355789757395596,2.0561229303330215,-0.8426823150555216,0.551260330683669,0.03323504120915285,-1.2432396486650872,-0.6618349008001423,0.5217832084147521,1.5288418411500666,-2.4120830093812837,2.8143447205123606,-0.257933073781562,-0.3572661675178952,0.20190338856217502,0.9320991029283576,-0.2191998538030043,2.0719083446892474,-2.8485964024490373,0.014927423043469038,-0.5154646455689982,0.4382000391317424,-0.4219851166708127,-0.6598109185667879,-0.5266671295882587,2.222491682052409,-0.5267075167322591,-1.9881988811905362,1.8201702033224445,2.175163917116367,-1.2906075345231638,-2.3006061256171084,0.3066738920361006,0.8559774613699227,0.6688883975257423,-0.6823697222688537,-1.243973226793776,0.7583084242632002,-1.2414551237252491,2.3820652209218296,0.9243572868285478,1.0052558535898974,-0.2961920718199432,0.5608432569750889,-2.357222093876263,1.817388783384015,-0.7744521478969061,1.0763933510113877,-1.2561328071536118,-0.638686345881965,0.4865256193015979,-2.456392803221965,-0.6518818470075926,0.6257325664820154,1.7694428509391302,-0.43793671439613535,0.29422842599998283,-1.1336705708733945,-0.02435874048759034,-0.9603568369902041,1.1487228327794106,-0.7861995441361292,-0.8447379256723088,1.1371711411743168,-0.19395465149512472,1.526465804209432,0.40676357821989756,0.5287900098042159,0.6608365859778821,-0.744901530184483,-0.9566989059482564,-1.3051061700884141,-0.7095434773568681,-0.14194679507734942,1.0204705452747858,-0.47132490477492744,-0.5095810769276805,-0.13974241072861765,1.889069821123595,-0.6154788796132468,1.3842997701151845,-0.153335675502912,-0.18154950908872736,-0.3369429086014936,-0.9140504632574861,-0.18505754850539075,-0.318009985650538,-1.7416551710462669,0.49525622789157114,-0.9959438615052109,1.1649297931196383,0.18734503740419692,1.6901446812195635,-0.6235055022821053,1.9786160133931159,-1.9407740026576976,0.42998530248150685,-1.9364366519135416],\"type\":\"scatter\"},{\"line\":{\"color\":\"rgba(128, 0, 128, 1.0)\",\"dash\":\"solid\",\"shape\":\"linear\",\"width\":1.3},\"mode\":\"lines\",\"name\":\"D\",\"text\":\"\",\"x\":[0,1,2,3,4,5,6,7,8,9,10,11,12,13,14,15,16,17,18,19,20,21,22,23,24,25,26,27,28,29,30,31,32,33,34,35,36,37,38,39,40,41,42,43,44,45,46,47,48,49,50,51,52,53,54,55,56,57,58,59,60,61,62,63,64,65,66,67,68,69,70,71,72,73,74,75,76,77,78,79,80,81,82,83,84,85,86,87,88,89,90,91,92,93,94,95,96,97,98,99],\"y\":[-1.3375111200422654,0.08108573619786534,-0.4603419445564614,1.6087850830260433,-1.1358219279044866,-1.3402739069075462,-0.8883954210116366,-2.333576558962384,2.256222344488282,-1.518276134540346,-0.5493494918608621,1.0888175415569215,-1.1555295255722635,-0.5663726095451217,0.8195642561425789,-0.6555111443554326,1.5823033687248254,0.448344094281049,-1.534848204837367,-0.7738955545996372,-1.2526498083817412,0.6069527188929812,0.24313875205510352,0.9113343981619622,1.0897636277906508,-0.23886310103044037,-0.36243249262063915,0.8054873468624355,-0.8311895423156016,0.36411268083828713,0.15287411039096088,0.30253942960984925,1.0902893872100399,-0.7108338092133447,2.0768094028590327,0.051691069444641746,-0.10991256892414793,0.7959080246152197,0.4057141102482014,-0.7086479402378677,-1.5163725358414726,-0.4387446795954376,0.10599681909410427,1.2581067321286046,-0.23448306331222418,-0.43196872710173995,-0.13422166623444162,-0.916134253624078,-0.28070162474793886,0.9520456681139606,-0.2839508570594622,-1.605523474096741,-1.0863518252056914,0.025308097274283906,0.06448363327448572,-0.761557429698844,0.10329503270324489,0.4122547806086187,-1.199652516293543,0.8959886138160285,-0.4977888239267104,0.01348762881186117,0.48002483050913747,1.7292547102720466,0.3652142333994519,1.5914138134642886,-0.05457538970538982,0.7492853215006533,1.7142499472823864,-0.9850415204347099,0.6388438927953487,0.4138487334186722,-0.8905539048608643,-1.0279145122359281,0.9414427655613998,0.25918463510371625,-0.19729832180784007,-0.390909039372285,-0.7835258859704143,-1.4253341321155104,0.04927046360645166,0.2651329981190324,1.6619499989545055,0.4802126318651488,2.5923259691026233,-0.42748881665069555,0.290167317223398,0.5103695762182319,1.2582990267796612,1.3556684561143955,-1.2007802646175456,0.3295112813582968,0.555959784639183,-0.11942895049017666,-0.16790176725326109,1.5091104754329279,-1.2444322169182427,0.8543033955585018,0.3555174210748361,0.4288090890373574],\"type\":\"scatter\"}],                        {\"legend\":{\"bgcolor\":\"#F5F6F9\",\"font\":{\"color\":\"#4D5663\"}},\"paper_bgcolor\":\"#F5F6F9\",\"plot_bgcolor\":\"#F5F6F9\",\"template\":{\"data\":{\"barpolar\":[{\"marker\":{\"line\":{\"color\":\"#E5ECF6\",\"width\":0.5},\"pattern\":{\"fillmode\":\"overlay\",\"size\":10,\"solidity\":0.2}},\"type\":\"barpolar\"}],\"bar\":[{\"error_x\":{\"color\":\"#2a3f5f\"},\"error_y\":{\"color\":\"#2a3f5f\"},\"marker\":{\"line\":{\"color\":\"#E5ECF6\",\"width\":0.5},\"pattern\":{\"fillmode\":\"overlay\",\"size\":10,\"solidity\":0.2}},\"type\":\"bar\"}],\"carpet\":[{\"aaxis\":{\"endlinecolor\":\"#2a3f5f\",\"gridcolor\":\"white\",\"linecolor\":\"white\",\"minorgridcolor\":\"white\",\"startlinecolor\":\"#2a3f5f\"},\"baxis\":{\"endlinecolor\":\"#2a3f5f\",\"gridcolor\":\"white\",\"linecolor\":\"white\",\"minorgridcolor\":\"white\",\"startlinecolor\":\"#2a3f5f\"},\"type\":\"carpet\"}],\"choropleth\":[{\"colorbar\":{\"outlinewidth\":0,\"ticks\":\"\"},\"type\":\"choropleth\"}],\"contourcarpet\":[{\"colorbar\":{\"outlinewidth\":0,\"ticks\":\"\"},\"type\":\"contourcarpet\"}],\"contour\":[{\"colorbar\":{\"outlinewidth\":0,\"ticks\":\"\"},\"colorscale\":[[0.0,\"#0d0887\"],[0.1111111111111111,\"#46039f\"],[0.2222222222222222,\"#7201a8\"],[0.3333333333333333,\"#9c179e\"],[0.4444444444444444,\"#bd3786\"],[0.5555555555555556,\"#d8576b\"],[0.6666666666666666,\"#ed7953\"],[0.7777777777777778,\"#fb9f3a\"],[0.8888888888888888,\"#fdca26\"],[1.0,\"#f0f921\"]],\"type\":\"contour\"}],\"heatmapgl\":[{\"colorbar\":{\"outlinewidth\":0,\"ticks\":\"\"},\"colorscale\":[[0.0,\"#0d0887\"],[0.1111111111111111,\"#46039f\"],[0.2222222222222222,\"#7201a8\"],[0.3333333333333333,\"#9c179e\"],[0.4444444444444444,\"#bd3786\"],[0.5555555555555556,\"#d8576b\"],[0.6666666666666666,\"#ed7953\"],[0.7777777777777778,\"#fb9f3a\"],[0.8888888888888888,\"#fdca26\"],[1.0,\"#f0f921\"]],\"type\":\"heatmapgl\"}],\"heatmap\":[{\"colorbar\":{\"outlinewidth\":0,\"ticks\":\"\"},\"colorscale\":[[0.0,\"#0d0887\"],[0.1111111111111111,\"#46039f\"],[0.2222222222222222,\"#7201a8\"],[0.3333333333333333,\"#9c179e\"],[0.4444444444444444,\"#bd3786\"],[0.5555555555555556,\"#d8576b\"],[0.6666666666666666,\"#ed7953\"],[0.7777777777777778,\"#fb9f3a\"],[0.8888888888888888,\"#fdca26\"],[1.0,\"#f0f921\"]],\"type\":\"heatmap\"}],\"histogram2dcontour\":[{\"colorbar\":{\"outlinewidth\":0,\"ticks\":\"\"},\"colorscale\":[[0.0,\"#0d0887\"],[0.1111111111111111,\"#46039f\"],[0.2222222222222222,\"#7201a8\"],[0.3333333333333333,\"#9c179e\"],[0.4444444444444444,\"#bd3786\"],[0.5555555555555556,\"#d8576b\"],[0.6666666666666666,\"#ed7953\"],[0.7777777777777778,\"#fb9f3a\"],[0.8888888888888888,\"#fdca26\"],[1.0,\"#f0f921\"]],\"type\":\"histogram2dcontour\"}],\"histogram2d\":[{\"colorbar\":{\"outlinewidth\":0,\"ticks\":\"\"},\"colorscale\":[[0.0,\"#0d0887\"],[0.1111111111111111,\"#46039f\"],[0.2222222222222222,\"#7201a8\"],[0.3333333333333333,\"#9c179e\"],[0.4444444444444444,\"#bd3786\"],[0.5555555555555556,\"#d8576b\"],[0.6666666666666666,\"#ed7953\"],[0.7777777777777778,\"#fb9f3a\"],[0.8888888888888888,\"#fdca26\"],[1.0,\"#f0f921\"]],\"type\":\"histogram2d\"}],\"histogram\":[{\"marker\":{\"pattern\":{\"fillmode\":\"overlay\",\"size\":10,\"solidity\":0.2}},\"type\":\"histogram\"}],\"mesh3d\":[{\"colorbar\":{\"outlinewidth\":0,\"ticks\":\"\"},\"type\":\"mesh3d\"}],\"parcoords\":[{\"line\":{\"colorbar\":{\"outlinewidth\":0,\"ticks\":\"\"}},\"type\":\"parcoords\"}],\"pie\":[{\"automargin\":true,\"type\":\"pie\"}],\"scatter3d\":[{\"line\":{\"colorbar\":{\"outlinewidth\":0,\"ticks\":\"\"}},\"marker\":{\"colorbar\":{\"outlinewidth\":0,\"ticks\":\"\"}},\"type\":\"scatter3d\"}],\"scattercarpet\":[{\"marker\":{\"colorbar\":{\"outlinewidth\":0,\"ticks\":\"\"}},\"type\":\"scattercarpet\"}],\"scattergeo\":[{\"marker\":{\"colorbar\":{\"outlinewidth\":0,\"ticks\":\"\"}},\"type\":\"scattergeo\"}],\"scattergl\":[{\"marker\":{\"colorbar\":{\"outlinewidth\":0,\"ticks\":\"\"}},\"type\":\"scattergl\"}],\"scattermapbox\":[{\"marker\":{\"colorbar\":{\"outlinewidth\":0,\"ticks\":\"\"}},\"type\":\"scattermapbox\"}],\"scatterpolargl\":[{\"marker\":{\"colorbar\":{\"outlinewidth\":0,\"ticks\":\"\"}},\"type\":\"scatterpolargl\"}],\"scatterpolar\":[{\"marker\":{\"colorbar\":{\"outlinewidth\":0,\"ticks\":\"\"}},\"type\":\"scatterpolar\"}],\"scatter\":[{\"fillpattern\":{\"fillmode\":\"overlay\",\"size\":10,\"solidity\":0.2},\"type\":\"scatter\"}],\"scatterternary\":[{\"marker\":{\"colorbar\":{\"outlinewidth\":0,\"ticks\":\"\"}},\"type\":\"scatterternary\"}],\"surface\":[{\"colorbar\":{\"outlinewidth\":0,\"ticks\":\"\"},\"colorscale\":[[0.0,\"#0d0887\"],[0.1111111111111111,\"#46039f\"],[0.2222222222222222,\"#7201a8\"],[0.3333333333333333,\"#9c179e\"],[0.4444444444444444,\"#bd3786\"],[0.5555555555555556,\"#d8576b\"],[0.6666666666666666,\"#ed7953\"],[0.7777777777777778,\"#fb9f3a\"],[0.8888888888888888,\"#fdca26\"],[1.0,\"#f0f921\"]],\"type\":\"surface\"}],\"table\":[{\"cells\":{\"fill\":{\"color\":\"#EBF0F8\"},\"line\":{\"color\":\"white\"}},\"header\":{\"fill\":{\"color\":\"#C8D4E3\"},\"line\":{\"color\":\"white\"}},\"type\":\"table\"}]},\"layout\":{\"annotationdefaults\":{\"arrowcolor\":\"#2a3f5f\",\"arrowhead\":0,\"arrowwidth\":1},\"autotypenumbers\":\"strict\",\"coloraxis\":{\"colorbar\":{\"outlinewidth\":0,\"ticks\":\"\"}},\"colorscale\":{\"diverging\":[[0,\"#8e0152\"],[0.1,\"#c51b7d\"],[0.2,\"#de77ae\"],[0.3,\"#f1b6da\"],[0.4,\"#fde0ef\"],[0.5,\"#f7f7f7\"],[0.6,\"#e6f5d0\"],[0.7,\"#b8e186\"],[0.8,\"#7fbc41\"],[0.9,\"#4d9221\"],[1,\"#276419\"]],\"sequential\":[[0.0,\"#0d0887\"],[0.1111111111111111,\"#46039f\"],[0.2222222222222222,\"#7201a8\"],[0.3333333333333333,\"#9c179e\"],[0.4444444444444444,\"#bd3786\"],[0.5555555555555556,\"#d8576b\"],[0.6666666666666666,\"#ed7953\"],[0.7777777777777778,\"#fb9f3a\"],[0.8888888888888888,\"#fdca26\"],[1.0,\"#f0f921\"]],\"sequentialminus\":[[0.0,\"#0d0887\"],[0.1111111111111111,\"#46039f\"],[0.2222222222222222,\"#7201a8\"],[0.3333333333333333,\"#9c179e\"],[0.4444444444444444,\"#bd3786\"],[0.5555555555555556,\"#d8576b\"],[0.6666666666666666,\"#ed7953\"],[0.7777777777777778,\"#fb9f3a\"],[0.8888888888888888,\"#fdca26\"],[1.0,\"#f0f921\"]]},\"colorway\":[\"#636efa\",\"#EF553B\",\"#00cc96\",\"#ab63fa\",\"#FFA15A\",\"#19d3f3\",\"#FF6692\",\"#B6E880\",\"#FF97FF\",\"#FECB52\"],\"font\":{\"color\":\"#2a3f5f\"},\"geo\":{\"bgcolor\":\"white\",\"lakecolor\":\"white\",\"landcolor\":\"#E5ECF6\",\"showlakes\":true,\"showland\":true,\"subunitcolor\":\"white\"},\"hoverlabel\":{\"align\":\"left\"},\"hovermode\":\"closest\",\"mapbox\":{\"style\":\"light\"},\"paper_bgcolor\":\"white\",\"plot_bgcolor\":\"#E5ECF6\",\"polar\":{\"angularaxis\":{\"gridcolor\":\"white\",\"linecolor\":\"white\",\"ticks\":\"\"},\"bgcolor\":\"#E5ECF6\",\"radialaxis\":{\"gridcolor\":\"white\",\"linecolor\":\"white\",\"ticks\":\"\"}},\"scene\":{\"xaxis\":{\"backgroundcolor\":\"#E5ECF6\",\"gridcolor\":\"white\",\"gridwidth\":2,\"linecolor\":\"white\",\"showbackground\":true,\"ticks\":\"\",\"zerolinecolor\":\"white\"},\"yaxis\":{\"backgroundcolor\":\"#E5ECF6\",\"gridcolor\":\"white\",\"gridwidth\":2,\"linecolor\":\"white\",\"showbackground\":true,\"ticks\":\"\",\"zerolinecolor\":\"white\"},\"zaxis\":{\"backgroundcolor\":\"#E5ECF6\",\"gridcolor\":\"white\",\"gridwidth\":2,\"linecolor\":\"white\",\"showbackground\":true,\"ticks\":\"\",\"zerolinecolor\":\"white\"}},\"shapedefaults\":{\"line\":{\"color\":\"#2a3f5f\"}},\"ternary\":{\"aaxis\":{\"gridcolor\":\"white\",\"linecolor\":\"white\",\"ticks\":\"\"},\"baxis\":{\"gridcolor\":\"white\",\"linecolor\":\"white\",\"ticks\":\"\"},\"bgcolor\":\"#E5ECF6\",\"caxis\":{\"gridcolor\":\"white\",\"linecolor\":\"white\",\"ticks\":\"\"}},\"title\":{\"x\":0.05},\"xaxis\":{\"automargin\":true,\"gridcolor\":\"white\",\"linecolor\":\"white\",\"ticks\":\"\",\"title\":{\"standoff\":15},\"zerolinecolor\":\"white\",\"zerolinewidth\":2},\"yaxis\":{\"automargin\":true,\"gridcolor\":\"white\",\"linecolor\":\"white\",\"ticks\":\"\",\"title\":{\"standoff\":15},\"zerolinecolor\":\"white\",\"zerolinewidth\":2}}},\"title\":{\"font\":{\"color\":\"#4D5663\"}},\"xaxis\":{\"gridcolor\":\"#E1E5ED\",\"showgrid\":true,\"tickfont\":{\"color\":\"#4D5663\"},\"title\":{\"font\":{\"color\":\"#4D5663\"},\"text\":\"\"},\"zerolinecolor\":\"#E1E5ED\"},\"yaxis\":{\"gridcolor\":\"#E1E5ED\",\"showgrid\":true,\"tickfont\":{\"color\":\"#4D5663\"},\"title\":{\"font\":{\"color\":\"#4D5663\"},\"text\":\"\"},\"zerolinecolor\":\"#E1E5ED\"}},                        {\"showLink\": true, \"linkText\": \"Export to plot.ly\", \"plotlyServerURL\": \"https://plot.ly\", \"responsive\": true}                    ).then(function(){\n",
       "                            \n",
       "var gd = document.getElementById('8bc615c6-3c74-49ee-94a8-cc28cf5dc74b');\n",
       "var x = new MutationObserver(function (mutations, observer) {{\n",
       "        var display = window.getComputedStyle(gd).display;\n",
       "        if (!display || display === 'none') {{\n",
       "            console.log([gd, 'removed!']);\n",
       "            Plotly.purge(gd);\n",
       "            observer.disconnect();\n",
       "        }}\n",
       "}});\n",
       "\n",
       "// Listen for the removal of the full notebook cells\n",
       "var notebookContainer = gd.closest('#notebook-container');\n",
       "if (notebookContainer) {{\n",
       "    x.observe(notebookContainer, {childList: true});\n",
       "}}\n",
       "\n",
       "// Listen for the clearing of the current output cell\n",
       "var outputEl = gd.closest('.output');\n",
       "if (outputEl) {{\n",
       "    x.observe(outputEl, {childList: true});\n",
       "}}\n",
       "\n",
       "                        })                };                });            </script>        </div>"
      ]
     },
     "metadata": {},
     "output_type": "display_data"
    }
   ],
   "source": [
    "df.iplot()"
   ]
  },
  {
   "cell_type": "code",
   "execution_count": 47,
   "id": "56f69a25-2107-4fdf-a681-aa39a9ef5ea4",
   "metadata": {},
   "outputs": [
    {
     "data": {
      "application/vnd.plotly.v1+json": {
       "config": {
        "linkText": "Export to plot.ly",
        "plotlyServerURL": "https://plot.ly",
        "showLink": true
       },
       "data": [
        {
         "line": {
          "color": "rgba(255, 153, 51, 1.0)",
          "dash": "solid",
          "shape": "linear",
          "width": 1.3
         },
         "marker": {
          "size": 12,
          "symbol": "circle"
         },
         "mode": "markers",
         "name": "B",
         "text": "",
         "type": "scatter",
         "x": [
          0.3521248991125683,
          0.374378549462778,
          -0.8681275486234619,
          -1.527571333758755,
          -1.3900068126518048,
          -0.4114054920269361,
          0.15520020133584866,
          0.7384591641252498,
          -0.09712690742829033,
          -0.26819560829719846,
          1.1338755445610074,
          -1.4874831675677571,
          0.7051312012337357,
          -1.2024530037012553,
          -0.29809729403226287,
          0.23420816692031013,
          -1.1907221135276438,
          -0.19985732553043734,
          -0.6100052380320969,
          0.9797152589484669,
          0.5532180003133247,
          -1.2390461467516192,
          1.4175055278440405,
          -0.7828444487559498,
          1.2938009572926183,
          -0.8046173586032122,
          -0.9341045740226017,
          -2.1172419964169795,
          -0.015246331294103573,
          -0.4317235418042056,
          -0.490255626621109,
          -0.10495849562550795,
          0.4895473879909302,
          0.9230452012023029,
          -0.9019954565808412,
          -1.311884135102693,
          2.1622266360844407,
          -0.9981760527494739,
          -1.1669136579693293,
          -0.3878438473642099,
          -1.4062878330424886,
          0.9025854927347297,
          1.0662128436949465,
          1.2952217490953246,
          0.26758105507076246,
          -0.23889838423038862,
          -0.43765284660587417,
          -0.15293874988146516,
          0.8457208972983651,
          -0.12651619208777903,
          -0.12830107703185067,
          0.1905151734851748,
          -0.41358010360527675,
          -0.044092658442423424,
          1.40019571716128,
          -0.48424606902779,
          1.3956807833235683,
          0.2687615836341957,
          1.5571707452070334,
          -0.6360986721910912,
          0.626440960714626,
          -1.5397412105578578,
          -0.8981119577862499,
          1.0610658409579183,
          0.8903605943553875,
          0.17073795280636891,
          0.4268772526295468,
          -0.22528647908761543,
          1.2451042431352326,
          0.16225753274666233,
          -0.8591418566134634,
          -0.9830915946369014,
          0.7391052150205726,
          -0.22235452886232096,
          0.36892299213007546,
          -0.41247121129127323,
          -1.134272171255948,
          0.4167587262034833,
          -0.07488677434197762,
          0.3863115228816906,
          -1.4541697028834588,
          -0.3416988673071571,
          -0.8558369938099291,
          0.7881715368230318,
          0.24315956283911963,
          -0.4890587435401381,
          -1.0192033454977736,
          0.8480397711023916,
          0.7591556284639237,
          -1.8384101909642117,
          0.07412638124788648,
          0.42968941865360294,
          0.6402117041777811,
          0.9430575520543083,
          0.6506280986774639,
          0.21082036382305874,
          0.36483477797329544,
          -1.055874549469489,
          -0.7137286648445479,
          0.9370985982210176
         ],
         "y": [
          -0.3672400660188171,
          1.1723030793263862,
          0.4229211143763501,
          -1.5356190599328485,
          0.29258044314440335,
          -2.077842158921335,
          0.28512491387525263,
          -0.37926165771701653,
          0.29908568497608157,
          0.9443018696549622,
          -1.5967889033942413,
          -1.3887672722735456,
          -0.6641416375654052,
          -0.0639470087730585,
          -0.46663721396131613,
          -0.6295335086197471,
          0.5897981776073271,
          -1.7655390053108517,
          -0.060237541740192926,
          1.4702381311634727,
          -0.579730434241401,
          -0.6002929782656196,
          1.9181218447873463,
          -0.07074094133169188,
          0.1554365837641563,
          0.7018919084379145,
          -0.6418528714390223,
          -0.07787505719096816,
          0.8561862739788918,
          -0.04757433442450353,
          0.937486539183576,
          1.7446059049126703,
          -0.5779297950685147,
          -2.6904740459574996,
          -0.3263343249047711,
          0.5155591540762269,
          0.3498287948955922,
          0.28221116405487856,
          -0.766191809161088,
          -0.5213477645381658,
          0.708880192738116,
          2.0539874746295013,
          -1.2473316263033876,
          0.9476199776636521,
          0.8296837728135735,
          0.2582333472604082,
          -0.7780087626419847,
          -0.2812605671675329,
          1.7583789451772844,
          0.5612996509403224,
          0.014262775164241561,
          -0.023906427686685182,
          -1.6391439824939231,
          1.170887485480817,
          0.5950341792071205,
          -0.6608344171032432,
          0.6288046045099865,
          0.3841721295386118,
          1.5401405371003682,
          -1.8171836596773712,
          -0.7777492347930118,
          0.8959467876452509,
          -0.39984688974564636,
          -1.146909822561759,
          2.24056639133713,
          -0.5676541986251326,
          -0.4629548656750362,
          1.3889964902978318,
          -1.2245992643146717,
          -0.10367449206740265,
          0.9059640174215866,
          0.6786534543107289,
          -0.5540066332650183,
          -0.12598739875013132,
          1.3483800477887116,
          1.2078134648275922,
          0.35034451020220486,
          0.40338079190074544,
          0.06883393428501268,
          -1.253355144433232,
          -1.0346073711363797,
          -1.572317268003851,
          0.8314858329161572,
          0.24454223001424086,
          -0.6227120484695982,
          -0.3559554015358584,
          0.2143436464681599,
          0.9637507906816873,
          3.303530045792439,
          -1.5897202496106333,
          -0.6320262369164329,
          -0.07242936475366742,
          -0.9198386634299148,
          -0.5504794102299363,
          -1.7324629922232109,
          -0.946431143453696,
          0.4470946952370082,
          -1.0733428737514066,
          0.7032246421977343,
          -1.4584740632012463
         ]
        }
       ],
       "layout": {
        "autosize": true,
        "legend": {
         "bgcolor": "#F5F6F9",
         "font": {
          "color": "#4D5663"
         }
        },
        "paper_bgcolor": "#F5F6F9",
        "plot_bgcolor": "#F5F6F9",
        "template": {
         "data": {
          "bar": [
           {
            "error_x": {
             "color": "#2a3f5f"
            },
            "error_y": {
             "color": "#2a3f5f"
            },
            "marker": {
             "line": {
              "color": "#E5ECF6",
              "width": 0.5
             },
             "pattern": {
              "fillmode": "overlay",
              "size": 10,
              "solidity": 0.2
             }
            },
            "type": "bar"
           }
          ],
          "barpolar": [
           {
            "marker": {
             "line": {
              "color": "#E5ECF6",
              "width": 0.5
             },
             "pattern": {
              "fillmode": "overlay",
              "size": 10,
              "solidity": 0.2
             }
            },
            "type": "barpolar"
           }
          ],
          "carpet": [
           {
            "aaxis": {
             "endlinecolor": "#2a3f5f",
             "gridcolor": "white",
             "linecolor": "white",
             "minorgridcolor": "white",
             "startlinecolor": "#2a3f5f"
            },
            "baxis": {
             "endlinecolor": "#2a3f5f",
             "gridcolor": "white",
             "linecolor": "white",
             "minorgridcolor": "white",
             "startlinecolor": "#2a3f5f"
            },
            "type": "carpet"
           }
          ],
          "choropleth": [
           {
            "colorbar": {
             "outlinewidth": 0,
             "ticks": ""
            },
            "type": "choropleth"
           }
          ],
          "contour": [
           {
            "colorbar": {
             "outlinewidth": 0,
             "ticks": ""
            },
            "colorscale": [
             [
              0,
              "#0d0887"
             ],
             [
              0.1111111111111111,
              "#46039f"
             ],
             [
              0.2222222222222222,
              "#7201a8"
             ],
             [
              0.3333333333333333,
              "#9c179e"
             ],
             [
              0.4444444444444444,
              "#bd3786"
             ],
             [
              0.5555555555555556,
              "#d8576b"
             ],
             [
              0.6666666666666666,
              "#ed7953"
             ],
             [
              0.7777777777777778,
              "#fb9f3a"
             ],
             [
              0.8888888888888888,
              "#fdca26"
             ],
             [
              1,
              "#f0f921"
             ]
            ],
            "type": "contour"
           }
          ],
          "contourcarpet": [
           {
            "colorbar": {
             "outlinewidth": 0,
             "ticks": ""
            },
            "type": "contourcarpet"
           }
          ],
          "heatmap": [
           {
            "colorbar": {
             "outlinewidth": 0,
             "ticks": ""
            },
            "colorscale": [
             [
              0,
              "#0d0887"
             ],
             [
              0.1111111111111111,
              "#46039f"
             ],
             [
              0.2222222222222222,
              "#7201a8"
             ],
             [
              0.3333333333333333,
              "#9c179e"
             ],
             [
              0.4444444444444444,
              "#bd3786"
             ],
             [
              0.5555555555555556,
              "#d8576b"
             ],
             [
              0.6666666666666666,
              "#ed7953"
             ],
             [
              0.7777777777777778,
              "#fb9f3a"
             ],
             [
              0.8888888888888888,
              "#fdca26"
             ],
             [
              1,
              "#f0f921"
             ]
            ],
            "type": "heatmap"
           }
          ],
          "heatmapgl": [
           {
            "colorbar": {
             "outlinewidth": 0,
             "ticks": ""
            },
            "colorscale": [
             [
              0,
              "#0d0887"
             ],
             [
              0.1111111111111111,
              "#46039f"
             ],
             [
              0.2222222222222222,
              "#7201a8"
             ],
             [
              0.3333333333333333,
              "#9c179e"
             ],
             [
              0.4444444444444444,
              "#bd3786"
             ],
             [
              0.5555555555555556,
              "#d8576b"
             ],
             [
              0.6666666666666666,
              "#ed7953"
             ],
             [
              0.7777777777777778,
              "#fb9f3a"
             ],
             [
              0.8888888888888888,
              "#fdca26"
             ],
             [
              1,
              "#f0f921"
             ]
            ],
            "type": "heatmapgl"
           }
          ],
          "histogram": [
           {
            "marker": {
             "pattern": {
              "fillmode": "overlay",
              "size": 10,
              "solidity": 0.2
             }
            },
            "type": "histogram"
           }
          ],
          "histogram2d": [
           {
            "colorbar": {
             "outlinewidth": 0,
             "ticks": ""
            },
            "colorscale": [
             [
              0,
              "#0d0887"
             ],
             [
              0.1111111111111111,
              "#46039f"
             ],
             [
              0.2222222222222222,
              "#7201a8"
             ],
             [
              0.3333333333333333,
              "#9c179e"
             ],
             [
              0.4444444444444444,
              "#bd3786"
             ],
             [
              0.5555555555555556,
              "#d8576b"
             ],
             [
              0.6666666666666666,
              "#ed7953"
             ],
             [
              0.7777777777777778,
              "#fb9f3a"
             ],
             [
              0.8888888888888888,
              "#fdca26"
             ],
             [
              1,
              "#f0f921"
             ]
            ],
            "type": "histogram2d"
           }
          ],
          "histogram2dcontour": [
           {
            "colorbar": {
             "outlinewidth": 0,
             "ticks": ""
            },
            "colorscale": [
             [
              0,
              "#0d0887"
             ],
             [
              0.1111111111111111,
              "#46039f"
             ],
             [
              0.2222222222222222,
              "#7201a8"
             ],
             [
              0.3333333333333333,
              "#9c179e"
             ],
             [
              0.4444444444444444,
              "#bd3786"
             ],
             [
              0.5555555555555556,
              "#d8576b"
             ],
             [
              0.6666666666666666,
              "#ed7953"
             ],
             [
              0.7777777777777778,
              "#fb9f3a"
             ],
             [
              0.8888888888888888,
              "#fdca26"
             ],
             [
              1,
              "#f0f921"
             ]
            ],
            "type": "histogram2dcontour"
           }
          ],
          "mesh3d": [
           {
            "colorbar": {
             "outlinewidth": 0,
             "ticks": ""
            },
            "type": "mesh3d"
           }
          ],
          "parcoords": [
           {
            "line": {
             "colorbar": {
              "outlinewidth": 0,
              "ticks": ""
             }
            },
            "type": "parcoords"
           }
          ],
          "pie": [
           {
            "automargin": true,
            "type": "pie"
           }
          ],
          "scatter": [
           {
            "fillpattern": {
             "fillmode": "overlay",
             "size": 10,
             "solidity": 0.2
            },
            "type": "scatter"
           }
          ],
          "scatter3d": [
           {
            "line": {
             "colorbar": {
              "outlinewidth": 0,
              "ticks": ""
             }
            },
            "marker": {
             "colorbar": {
              "outlinewidth": 0,
              "ticks": ""
             }
            },
            "type": "scatter3d"
           }
          ],
          "scattercarpet": [
           {
            "marker": {
             "colorbar": {
              "outlinewidth": 0,
              "ticks": ""
             }
            },
            "type": "scattercarpet"
           }
          ],
          "scattergeo": [
           {
            "marker": {
             "colorbar": {
              "outlinewidth": 0,
              "ticks": ""
             }
            },
            "type": "scattergeo"
           }
          ],
          "scattergl": [
           {
            "marker": {
             "colorbar": {
              "outlinewidth": 0,
              "ticks": ""
             }
            },
            "type": "scattergl"
           }
          ],
          "scattermapbox": [
           {
            "marker": {
             "colorbar": {
              "outlinewidth": 0,
              "ticks": ""
             }
            },
            "type": "scattermapbox"
           }
          ],
          "scatterpolar": [
           {
            "marker": {
             "colorbar": {
              "outlinewidth": 0,
              "ticks": ""
             }
            },
            "type": "scatterpolar"
           }
          ],
          "scatterpolargl": [
           {
            "marker": {
             "colorbar": {
              "outlinewidth": 0,
              "ticks": ""
             }
            },
            "type": "scatterpolargl"
           }
          ],
          "scatterternary": [
           {
            "marker": {
             "colorbar": {
              "outlinewidth": 0,
              "ticks": ""
             }
            },
            "type": "scatterternary"
           }
          ],
          "surface": [
           {
            "colorbar": {
             "outlinewidth": 0,
             "ticks": ""
            },
            "colorscale": [
             [
              0,
              "#0d0887"
             ],
             [
              0.1111111111111111,
              "#46039f"
             ],
             [
              0.2222222222222222,
              "#7201a8"
             ],
             [
              0.3333333333333333,
              "#9c179e"
             ],
             [
              0.4444444444444444,
              "#bd3786"
             ],
             [
              0.5555555555555556,
              "#d8576b"
             ],
             [
              0.6666666666666666,
              "#ed7953"
             ],
             [
              0.7777777777777778,
              "#fb9f3a"
             ],
             [
              0.8888888888888888,
              "#fdca26"
             ],
             [
              1,
              "#f0f921"
             ]
            ],
            "type": "surface"
           }
          ],
          "table": [
           {
            "cells": {
             "fill": {
              "color": "#EBF0F8"
             },
             "line": {
              "color": "white"
             }
            },
            "header": {
             "fill": {
              "color": "#C8D4E3"
             },
             "line": {
              "color": "white"
             }
            },
            "type": "table"
           }
          ]
         },
         "layout": {
          "annotationdefaults": {
           "arrowcolor": "#2a3f5f",
           "arrowhead": 0,
           "arrowwidth": 1
          },
          "autotypenumbers": "strict",
          "coloraxis": {
           "colorbar": {
            "outlinewidth": 0,
            "ticks": ""
           }
          },
          "colorscale": {
           "diverging": [
            [
             0,
             "#8e0152"
            ],
            [
             0.1,
             "#c51b7d"
            ],
            [
             0.2,
             "#de77ae"
            ],
            [
             0.3,
             "#f1b6da"
            ],
            [
             0.4,
             "#fde0ef"
            ],
            [
             0.5,
             "#f7f7f7"
            ],
            [
             0.6,
             "#e6f5d0"
            ],
            [
             0.7,
             "#b8e186"
            ],
            [
             0.8,
             "#7fbc41"
            ],
            [
             0.9,
             "#4d9221"
            ],
            [
             1,
             "#276419"
            ]
           ],
           "sequential": [
            [
             0,
             "#0d0887"
            ],
            [
             0.1111111111111111,
             "#46039f"
            ],
            [
             0.2222222222222222,
             "#7201a8"
            ],
            [
             0.3333333333333333,
             "#9c179e"
            ],
            [
             0.4444444444444444,
             "#bd3786"
            ],
            [
             0.5555555555555556,
             "#d8576b"
            ],
            [
             0.6666666666666666,
             "#ed7953"
            ],
            [
             0.7777777777777778,
             "#fb9f3a"
            ],
            [
             0.8888888888888888,
             "#fdca26"
            ],
            [
             1,
             "#f0f921"
            ]
           ],
           "sequentialminus": [
            [
             0,
             "#0d0887"
            ],
            [
             0.1111111111111111,
             "#46039f"
            ],
            [
             0.2222222222222222,
             "#7201a8"
            ],
            [
             0.3333333333333333,
             "#9c179e"
            ],
            [
             0.4444444444444444,
             "#bd3786"
            ],
            [
             0.5555555555555556,
             "#d8576b"
            ],
            [
             0.6666666666666666,
             "#ed7953"
            ],
            [
             0.7777777777777778,
             "#fb9f3a"
            ],
            [
             0.8888888888888888,
             "#fdca26"
            ],
            [
             1,
             "#f0f921"
            ]
           ]
          },
          "colorway": [
           "#636efa",
           "#EF553B",
           "#00cc96",
           "#ab63fa",
           "#FFA15A",
           "#19d3f3",
           "#FF6692",
           "#B6E880",
           "#FF97FF",
           "#FECB52"
          ],
          "font": {
           "color": "#2a3f5f"
          },
          "geo": {
           "bgcolor": "white",
           "lakecolor": "white",
           "landcolor": "#E5ECF6",
           "showlakes": true,
           "showland": true,
           "subunitcolor": "white"
          },
          "hoverlabel": {
           "align": "left"
          },
          "hovermode": "closest",
          "mapbox": {
           "style": "light"
          },
          "paper_bgcolor": "white",
          "plot_bgcolor": "#E5ECF6",
          "polar": {
           "angularaxis": {
            "gridcolor": "white",
            "linecolor": "white",
            "ticks": ""
           },
           "bgcolor": "#E5ECF6",
           "radialaxis": {
            "gridcolor": "white",
            "linecolor": "white",
            "ticks": ""
           }
          },
          "scene": {
           "xaxis": {
            "backgroundcolor": "#E5ECF6",
            "gridcolor": "white",
            "gridwidth": 2,
            "linecolor": "white",
            "showbackground": true,
            "ticks": "",
            "zerolinecolor": "white"
           },
           "yaxis": {
            "backgroundcolor": "#E5ECF6",
            "gridcolor": "white",
            "gridwidth": 2,
            "linecolor": "white",
            "showbackground": true,
            "ticks": "",
            "zerolinecolor": "white"
           },
           "zaxis": {
            "backgroundcolor": "#E5ECF6",
            "gridcolor": "white",
            "gridwidth": 2,
            "linecolor": "white",
            "showbackground": true,
            "ticks": "",
            "zerolinecolor": "white"
           }
          },
          "shapedefaults": {
           "line": {
            "color": "#2a3f5f"
           }
          },
          "ternary": {
           "aaxis": {
            "gridcolor": "white",
            "linecolor": "white",
            "ticks": ""
           },
           "baxis": {
            "gridcolor": "white",
            "linecolor": "white",
            "ticks": ""
           },
           "bgcolor": "#E5ECF6",
           "caxis": {
            "gridcolor": "white",
            "linecolor": "white",
            "ticks": ""
           }
          },
          "title": {
           "x": 0.05
          },
          "xaxis": {
           "automargin": true,
           "gridcolor": "white",
           "linecolor": "white",
           "ticks": "",
           "title": {
            "standoff": 15
           },
           "zerolinecolor": "white",
           "zerolinewidth": 2
          },
          "yaxis": {
           "automargin": true,
           "gridcolor": "white",
           "linecolor": "white",
           "ticks": "",
           "title": {
            "standoff": 15
           },
           "zerolinecolor": "white",
           "zerolinewidth": 2
          }
         }
        },
        "title": {
         "font": {
          "color": "#4D5663"
         }
        },
        "xaxis": {
         "autorange": true,
         "gridcolor": "#E1E5ED",
         "range": [
          -2.437829367841302,
          2.482814007508763
         ],
         "showgrid": true,
         "tickfont": {
          "color": "#4D5663"
         },
         "title": {
          "font": {
           "color": "#4D5663"
          },
          "text": ""
         },
         "type": "linear",
         "zerolinecolor": "#E1E5ED"
        },
        "yaxis": {
         "autorange": true,
         "gridcolor": "#E1E5ED",
         "range": [
          -3.363270423602901,
          3.9763264234378406
         ],
         "showgrid": true,
         "tickfont": {
          "color": "#4D5663"
         },
         "title": {
          "font": {
           "color": "#4D5663"
          },
          "text": ""
         },
         "type": "linear",
         "zerolinecolor": "#E1E5ED"
        }
       }
      },
      "image/png": "[encoded data removed]",
      "text/html": [
       "<div>                            <div id=\"9028f001-28c8-4693-99bd-e1ec1f2d7774\" class=\"plotly-graph-div\" style=\"height:525px; width:100%;\"></div>            <script type=\"text/javascript\">                require([\"plotly\"], function(Plotly) {                    window.PLOTLYENV=window.PLOTLYENV || {};\n",
       "                    window.PLOTLYENV.BASE_URL='https://plot.ly';                                    if (document.getElementById(\"9028f001-28c8-4693-99bd-e1ec1f2d7774\")) {                    Plotly.newPlot(                        \"9028f001-28c8-4693-99bd-e1ec1f2d7774\",                        [{\"line\":{\"color\":\"rgba(255, 153, 51, 1.0)\",\"dash\":\"solid\",\"shape\":\"linear\",\"width\":1.3},\"marker\":{\"size\":12,\"symbol\":\"circle\"},\"mode\":\"markers\",\"name\":\"B\",\"text\":\"\",\"x\":[0.3521248991125683,0.374378549462778,-0.8681275486234619,-1.527571333758755,-1.3900068126518048,-0.4114054920269361,0.15520020133584866,0.7384591641252498,-0.09712690742829033,-0.26819560829719846,1.1338755445610074,-1.4874831675677571,0.7051312012337357,-1.2024530037012553,-0.29809729403226287,0.23420816692031013,-1.1907221135276438,-0.19985732553043734,-0.6100052380320969,0.9797152589484669,0.5532180003133247,-1.2390461467516192,1.4175055278440405,-0.7828444487559498,1.2938009572926183,-0.8046173586032122,-0.9341045740226017,-2.1172419964169795,-0.015246331294103573,-0.4317235418042056,-0.490255626621109,-0.10495849562550795,0.4895473879909302,0.9230452012023029,-0.9019954565808412,-1.311884135102693,2.1622266360844407,-0.9981760527494739,-1.1669136579693293,-0.3878438473642099,-1.4062878330424886,0.9025854927347297,1.0662128436949465,1.2952217490953246,0.26758105507076246,-0.23889838423038862,-0.43765284660587417,-0.15293874988146516,0.8457208972983651,-0.12651619208777903,-0.12830107703185067,0.1905151734851748,-0.41358010360527675,-0.044092658442423424,1.40019571716128,-0.48424606902779,1.3956807833235683,0.2687615836341957,1.5571707452070334,-0.6360986721910912,0.626440960714626,-1.5397412105578578,-0.8981119577862499,1.0610658409579183,0.8903605943553875,0.17073795280636891,0.4268772526295468,-0.22528647908761543,1.2451042431352326,0.16225753274666233,-0.8591418566134634,-0.9830915946369014,0.7391052150205726,-0.22235452886232096,0.36892299213007546,-0.41247121129127323,-1.134272171255948,0.4167587262034833,-0.07488677434197762,0.3863115228816906,-1.4541697028834588,-0.3416988673071571,-0.8558369938099291,0.7881715368230318,0.24315956283911963,-0.4890587435401381,-1.0192033454977736,0.8480397711023916,0.7591556284639237,-1.8384101909642117,0.07412638124788648,0.42968941865360294,0.6402117041777811,0.9430575520543083,0.6506280986774639,0.21082036382305874,0.36483477797329544,-1.055874549469489,-0.7137286648445479,0.9370985982210176],\"y\":[-0.3672400660188171,1.1723030793263862,0.4229211143763501,-1.5356190599328485,0.29258044314440335,-2.077842158921335,0.28512491387525263,-0.37926165771701653,0.29908568497608157,0.9443018696549622,-1.5967889033942413,-1.3887672722735456,-0.6641416375654052,-0.0639470087730585,-0.46663721396131613,-0.6295335086197471,0.5897981776073271,-1.7655390053108517,-0.060237541740192926,1.4702381311634727,-0.579730434241401,-0.6002929782656196,1.9181218447873463,-0.07074094133169188,0.1554365837641563,0.7018919084379145,-0.6418528714390223,-0.07787505719096816,0.8561862739788918,-0.04757433442450353,0.937486539183576,1.7446059049126703,-0.5779297950685147,-2.6904740459574996,-0.3263343249047711,0.5155591540762269,0.3498287948955922,0.28221116405487856,-0.766191809161088,-0.5213477645381658,0.708880192738116,2.0539874746295013,-1.2473316263033876,0.9476199776636521,0.8296837728135735,0.2582333472604082,-0.7780087626419847,-0.2812605671675329,1.7583789451772844,0.5612996509403224,0.014262775164241561,-0.023906427686685182,-1.6391439824939231,1.170887485480817,0.5950341792071205,-0.6608344171032432,0.6288046045099865,0.3841721295386118,1.5401405371003682,-1.8171836596773712,-0.7777492347930118,0.8959467876452509,-0.39984688974564636,-1.146909822561759,2.24056639133713,-0.5676541986251326,-0.4629548656750362,1.3889964902978318,-1.2245992643146717,-0.10367449206740265,0.9059640174215866,0.6786534543107289,-0.5540066332650183,-0.12598739875013132,1.3483800477887116,1.2078134648275922,0.35034451020220486,0.40338079190074544,0.06883393428501268,-1.253355144433232,-1.0346073711363797,-1.572317268003851,0.8314858329161572,0.24454223001424086,-0.6227120484695982,-0.3559554015358584,0.2143436464681599,0.9637507906816873,3.303530045792439,-1.5897202496106333,-0.6320262369164329,-0.07242936475366742,-0.9198386634299148,-0.5504794102299363,-1.7324629922232109,-0.946431143453696,0.4470946952370082,-1.0733428737514066,0.7032246421977343,-1.4584740632012463],\"type\":\"scatter\"}],                        {\"legend\":{\"bgcolor\":\"#F5F6F9\",\"font\":{\"color\":\"#4D5663\"}},\"paper_bgcolor\":\"#F5F6F9\",\"plot_bgcolor\":\"#F5F6F9\",\"template\":{\"data\":{\"barpolar\":[{\"marker\":{\"line\":{\"color\":\"#E5ECF6\",\"width\":0.5},\"pattern\":{\"fillmode\":\"overlay\",\"size\":10,\"solidity\":0.2}},\"type\":\"barpolar\"}],\"bar\":[{\"error_x\":{\"color\":\"#2a3f5f\"},\"error_y\":{\"color\":\"#2a3f5f\"},\"marker\":{\"line\":{\"color\":\"#E5ECF6\",\"width\":0.5},\"pattern\":{\"fillmode\":\"overlay\",\"size\":10,\"solidity\":0.2}},\"type\":\"bar\"}],\"carpet\":[{\"aaxis\":{\"endlinecolor\":\"#2a3f5f\",\"gridcolor\":\"white\",\"linecolor\":\"white\",\"minorgridcolor\":\"white\",\"startlinecolor\":\"#2a3f5f\"},\"baxis\":{\"endlinecolor\":\"#2a3f5f\",\"gridcolor\":\"white\",\"linecolor\":\"white\",\"minorgridcolor\":\"white\",\"startlinecolor\":\"#2a3f5f\"},\"type\":\"carpet\"}],\"choropleth\":[{\"colorbar\":{\"outlinewidth\":0,\"ticks\":\"\"},\"type\":\"choropleth\"}],\"contourcarpet\":[{\"colorbar\":{\"outlinewidth\":0,\"ticks\":\"\"},\"type\":\"contourcarpet\"}],\"contour\":[{\"colorbar\":{\"outlinewidth\":0,\"ticks\":\"\"},\"colorscale\":[[0.0,\"#0d0887\"],[0.1111111111111111,\"#46039f\"],[0.2222222222222222,\"#7201a8\"],[0.3333333333333333,\"#9c179e\"],[0.4444444444444444,\"#bd3786\"],[0.5555555555555556,\"#d8576b\"],[0.6666666666666666,\"#ed7953\"],[0.7777777777777778,\"#fb9f3a\"],[0.8888888888888888,\"#fdca26\"],[1.0,\"#f0f921\"]],\"type\":\"contour\"}],\"heatmapgl\":[{\"colorbar\":{\"outlinewidth\":0,\"ticks\":\"\"},\"colorscale\":[[0.0,\"#0d0887\"],[0.1111111111111111,\"#46039f\"],[0.2222222222222222,\"#7201a8\"],[0.3333333333333333,\"#9c179e\"],[0.4444444444444444,\"#bd3786\"],[0.5555555555555556,\"#d8576b\"],[0.6666666666666666,\"#ed7953\"],[0.7777777777777778,\"#fb9f3a\"],[0.8888888888888888,\"#fdca26\"],[1.0,\"#f0f921\"]],\"type\":\"heatmapgl\"}],\"heatmap\":[{\"colorbar\":{\"outlinewidth\":0,\"ticks\":\"\"},\"colorscale\":[[0.0,\"#0d0887\"],[0.1111111111111111,\"#46039f\"],[0.2222222222222222,\"#7201a8\"],[0.3333333333333333,\"#9c179e\"],[0.4444444444444444,\"#bd3786\"],[0.5555555555555556,\"#d8576b\"],[0.6666666666666666,\"#ed7953\"],[0.7777777777777778,\"#fb9f3a\"],[0.8888888888888888,\"#fdca26\"],[1.0,\"#f0f921\"]],\"type\":\"heatmap\"}],\"histogram2dcontour\":[{\"colorbar\":{\"outlinewidth\":0,\"ticks\":\"\"},\"colorscale\":[[0.0,\"#0d0887\"],[0.1111111111111111,\"#46039f\"],[0.2222222222222222,\"#7201a8\"],[0.3333333333333333,\"#9c179e\"],[0.4444444444444444,\"#bd3786\"],[0.5555555555555556,\"#d8576b\"],[0.6666666666666666,\"#ed7953\"],[0.7777777777777778,\"#fb9f3a\"],[0.8888888888888888,\"#fdca26\"],[1.0,\"#f0f921\"]],\"type\":\"histogram2dcontour\"}],\"histogram2d\":[{\"colorbar\":{\"outlinewidth\":0,\"ticks\":\"\"},\"colorscale\":[[0.0,\"#0d0887\"],[0.1111111111111111,\"#46039f\"],[0.2222222222222222,\"#7201a8\"],[0.3333333333333333,\"#9c179e\"],[0.4444444444444444,\"#bd3786\"],[0.5555555555555556,\"#d8576b\"],[0.6666666666666666,\"#ed7953\"],[0.7777777777777778,\"#fb9f3a\"],[0.8888888888888888,\"#fdca26\"],[1.0,\"#f0f921\"]],\"type\":\"histogram2d\"}],\"histogram\":[{\"marker\":{\"pattern\":{\"fillmode\":\"overlay\",\"size\":10,\"solidity\":0.2}},\"type\":\"histogram\"}],\"mesh3d\":[{\"colorbar\":{\"outlinewidth\":0,\"ticks\":\"\"},\"type\":\"mesh3d\"}],\"parcoords\":[{\"line\":{\"colorbar\":{\"outlinewidth\":0,\"ticks\":\"\"}},\"type\":\"parcoords\"}],\"pie\":[{\"automargin\":true,\"type\":\"pie\"}],\"scatter3d\":[{\"line\":{\"colorbar\":{\"outlinewidth\":0,\"ticks\":\"\"}},\"marker\":{\"colorbar\":{\"outlinewidth\":0,\"ticks\":\"\"}},\"type\":\"scatter3d\"}],\"scattercarpet\":[{\"marker\":{\"colorbar\":{\"outlinewidth\":0,\"ticks\":\"\"}},\"type\":\"scattercarpet\"}],\"scattergeo\":[{\"marker\":{\"colorbar\":{\"outlinewidth\":0,\"ticks\":\"\"}},\"type\":\"scattergeo\"}],\"scattergl\":[{\"marker\":{\"colorbar\":{\"outlinewidth\":0,\"ticks\":\"\"}},\"type\":\"scattergl\"}],\"scattermapbox\":[{\"marker\":{\"colorbar\":{\"outlinewidth\":0,\"ticks\":\"\"}},\"type\":\"scattermapbox\"}],\"scatterpolargl\":[{\"marker\":{\"colorbar\":{\"outlinewidth\":0,\"ticks\":\"\"}},\"type\":\"scatterpolargl\"}],\"scatterpolar\":[{\"marker\":{\"colorbar\":{\"outlinewidth\":0,\"ticks\":\"\"}},\"type\":\"scatterpolar\"}],\"scatter\":[{\"fillpattern\":{\"fillmode\":\"overlay\",\"size\":10,\"solidity\":0.2},\"type\":\"scatter\"}],\"scatterternary\":[{\"marker\":{\"colorbar\":{\"outlinewidth\":0,\"ticks\":\"\"}},\"type\":\"scatterternary\"}],\"surface\":[{\"colorbar\":{\"outlinewidth\":0,\"ticks\":\"\"},\"colorscale\":[[0.0,\"#0d0887\"],[0.1111111111111111,\"#46039f\"],[0.2222222222222222,\"#7201a8\"],[0.3333333333333333,\"#9c179e\"],[0.4444444444444444,\"#bd3786\"],[0.5555555555555556,\"#d8576b\"],[0.6666666666666666,\"#ed7953\"],[0.7777777777777778,\"#fb9f3a\"],[0.8888888888888888,\"#fdca26\"],[1.0,\"#f0f921\"]],\"type\":\"surface\"}],\"table\":[{\"cells\":{\"fill\":{\"color\":\"#EBF0F8\"},\"line\":{\"color\":\"white\"}},\"header\":{\"fill\":{\"color\":\"#C8D4E3\"},\"line\":{\"color\":\"white\"}},\"type\":\"table\"}]},\"layout\":{\"annotationdefaults\":{\"arrowcolor\":\"#2a3f5f\",\"arrowhead\":0,\"arrowwidth\":1},\"autotypenumbers\":\"strict\",\"coloraxis\":{\"colorbar\":{\"outlinewidth\":0,\"ticks\":\"\"}},\"colorscale\":{\"diverging\":[[0,\"#8e0152\"],[0.1,\"#c51b7d\"],[0.2,\"#de77ae\"],[0.3,\"#f1b6da\"],[0.4,\"#fde0ef\"],[0.5,\"#f7f7f7\"],[0.6,\"#e6f5d0\"],[0.7,\"#b8e186\"],[0.8,\"#7fbc41\"],[0.9,\"#4d9221\"],[1,\"#276419\"]],\"sequential\":[[0.0,\"#0d0887\"],[0.1111111111111111,\"#46039f\"],[0.2222222222222222,\"#7201a8\"],[0.3333333333333333,\"#9c179e\"],[0.4444444444444444,\"#bd3786\"],[0.5555555555555556,\"#d8576b\"],[0.6666666666666666,\"#ed7953\"],[0.7777777777777778,\"#fb9f3a\"],[0.8888888888888888,\"#fdca26\"],[1.0,\"#f0f921\"]],\"sequentialminus\":[[0.0,\"#0d0887\"],[0.1111111111111111,\"#46039f\"],[0.2222222222222222,\"#7201a8\"],[0.3333333333333333,\"#9c179e\"],[0.4444444444444444,\"#bd3786\"],[0.5555555555555556,\"#d8576b\"],[0.6666666666666666,\"#ed7953\"],[0.7777777777777778,\"#fb9f3a\"],[0.8888888888888888,\"#fdca26\"],[1.0,\"#f0f921\"]]},\"colorway\":[\"#636efa\",\"#EF553B\",\"#00cc96\",\"#ab63fa\",\"#FFA15A\",\"#19d3f3\",\"#FF6692\",\"#B6E880\",\"#FF97FF\",\"#FECB52\"],\"font\":{\"color\":\"#2a3f5f\"},\"geo\":{\"bgcolor\":\"white\",\"lakecolor\":\"white\",\"landcolor\":\"#E5ECF6\",\"showlakes\":true,\"showland\":true,\"subunitcolor\":\"white\"},\"hoverlabel\":{\"align\":\"left\"},\"hovermode\":\"closest\",\"mapbox\":{\"style\":\"light\"},\"paper_bgcolor\":\"white\",\"plot_bgcolor\":\"#E5ECF6\",\"polar\":{\"angularaxis\":{\"gridcolor\":\"white\",\"linecolor\":\"white\",\"ticks\":\"\"},\"bgcolor\":\"#E5ECF6\",\"radialaxis\":{\"gridcolor\":\"white\",\"linecolor\":\"white\",\"ticks\":\"\"}},\"scene\":{\"xaxis\":{\"backgroundcolor\":\"#E5ECF6\",\"gridcolor\":\"white\",\"gridwidth\":2,\"linecolor\":\"white\",\"showbackground\":true,\"ticks\":\"\",\"zerolinecolor\":\"white\"},\"yaxis\":{\"backgroundcolor\":\"#E5ECF6\",\"gridcolor\":\"white\",\"gridwidth\":2,\"linecolor\":\"white\",\"showbackground\":true,\"ticks\":\"\",\"zerolinecolor\":\"white\"},\"zaxis\":{\"backgroundcolor\":\"#E5ECF6\",\"gridcolor\":\"white\",\"gridwidth\":2,\"linecolor\":\"white\",\"showbackground\":true,\"ticks\":\"\",\"zerolinecolor\":\"white\"}},\"shapedefaults\":{\"line\":{\"color\":\"#2a3f5f\"}},\"ternary\":{\"aaxis\":{\"gridcolor\":\"white\",\"linecolor\":\"white\",\"ticks\":\"\"},\"baxis\":{\"gridcolor\":\"white\",\"linecolor\":\"white\",\"ticks\":\"\"},\"bgcolor\":\"#E5ECF6\",\"caxis\":{\"gridcolor\":\"white\",\"linecolor\":\"white\",\"ticks\":\"\"}},\"title\":{\"x\":0.05},\"xaxis\":{\"automargin\":true,\"gridcolor\":\"white\",\"linecolor\":\"white\",\"ticks\":\"\",\"title\":{\"standoff\":15},\"zerolinecolor\":\"white\",\"zerolinewidth\":2},\"yaxis\":{\"automargin\":true,\"gridcolor\":\"white\",\"linecolor\":\"white\",\"ticks\":\"\",\"title\":{\"standoff\":15},\"zerolinecolor\":\"white\",\"zerolinewidth\":2}}},\"title\":{\"font\":{\"color\":\"#4D5663\"}},\"xaxis\":{\"gridcolor\":\"#E1E5ED\",\"showgrid\":true,\"tickfont\":{\"color\":\"#4D5663\"},\"title\":{\"font\":{\"color\":\"#4D5663\"},\"text\":\"\"},\"zerolinecolor\":\"#E1E5ED\"},\"yaxis\":{\"gridcolor\":\"#E1E5ED\",\"showgrid\":true,\"tickfont\":{\"color\":\"#4D5663\"},\"title\":{\"font\":{\"color\":\"#4D5663\"},\"text\":\"\"},\"zerolinecolor\":\"#E1E5ED\"}},                        {\"showLink\": true, \"linkText\": \"Export to plot.ly\", \"plotlyServerURL\": \"https://plot.ly\", \"responsive\": true}                    ).then(function(){\n",
       "                            \n",
       "var gd = document.getElementById('9028f001-28c8-4693-99bd-e1ec1f2d7774');\n",
       "var x = new MutationObserver(function (mutations, observer) {{\n",
       "        var display = window.getComputedStyle(gd).display;\n",
       "        if (!display || display === 'none') {{\n",
       "            console.log([gd, 'removed!']);\n",
       "            Plotly.purge(gd);\n",
       "            observer.disconnect();\n",
       "        }}\n",
       "}});\n",
       "\n",
       "// Listen for the removal of the full notebook cells\n",
       "var notebookContainer = gd.closest('#notebook-container');\n",
       "if (notebookContainer) {{\n",
       "    x.observe(notebookContainer, {childList: true});\n",
       "}}\n",
       "\n",
       "// Listen for the clearing of the current output cell\n",
       "var outputEl = gd.closest('.output');\n",
       "if (outputEl) {{\n",
       "    x.observe(outputEl, {childList: true});\n",
       "}}\n",
       "\n",
       "                        })                };                });            </script>        </div>"
      ]
     },
     "metadata": {},
     "output_type": "display_data"
    }
   ],
   "source": [
    "df.iplot(kind='scatter',x='A',y='B',mode='markers')"
   ]
  },
  {
   "cell_type": "code",
   "execution_count": 57,
   "id": "dcea09a1-1185-4cc7-84fa-c4f1771016b7",
   "metadata": {},
   "outputs": [
    {
     "data": {
      "application/vnd.plotly.v1+json": {
       "config": {
        "linkText": "Export to plot.ly",
        "plotlyServerURL": "https://plot.ly",
        "showLink": true
       },
       "data": [
        {
         "marker": {
          "color": "rgba(255, 153, 51, 0.6)",
          "line": {
           "color": "rgba(255, 153, 51, 1.0)",
           "width": 1
          }
         },
         "name": "Values",
         "orientation": "v",
         "text": "",
         "type": "bar",
         "x": [
          "A",
          "B",
          "C"
         ],
         "y": [
          32,
          43,
          50
         ]
        }
       ],
       "layout": {
        "autosize": true,
        "legend": {
         "bgcolor": "#F5F6F9",
         "font": {
          "color": "#4D5663"
         }
        },
        "paper_bgcolor": "#F5F6F9",
        "plot_bgcolor": "#F5F6F9",
        "template": {
         "data": {
          "bar": [
           {
            "error_x": {
             "color": "#2a3f5f"
            },
            "error_y": {
             "color": "#2a3f5f"
            },
            "marker": {
             "line": {
              "color": "#E5ECF6",
              "width": 0.5
             },
             "pattern": {
              "fillmode": "overlay",
              "size": 10,
              "solidity": 0.2
             }
            },
            "type": "bar"
           }
          ],
          "barpolar": [
           {
            "marker": {
             "line": {
              "color": "#E5ECF6",
              "width": 0.5
             },
             "pattern": {
              "fillmode": "overlay",
              "size": 10,
              "solidity": 0.2
             }
            },
            "type": "barpolar"
           }
          ],
          "carpet": [
           {
            "aaxis": {
             "endlinecolor": "#2a3f5f",
             "gridcolor": "white",
             "linecolor": "white",
             "minorgridcolor": "white",
             "startlinecolor": "#2a3f5f"
            },
            "baxis": {
             "endlinecolor": "#2a3f5f",
             "gridcolor": "white",
             "linecolor": "white",
             "minorgridcolor": "white",
             "startlinecolor": "#2a3f5f"
            },
            "type": "carpet"
           }
          ],
          "choropleth": [
           {
            "colorbar": {
             "outlinewidth": 0,
             "ticks": ""
            },
            "type": "choropleth"
           }
          ],
          "contour": [
           {
            "colorbar": {
             "outlinewidth": 0,
             "ticks": ""
            },
            "colorscale": [
             [
              0,
              "#0d0887"
             ],
             [
              0.1111111111111111,
              "#46039f"
             ],
             [
              0.2222222222222222,
              "#7201a8"
             ],
             [
              0.3333333333333333,
              "#9c179e"
             ],
             [
              0.4444444444444444,
              "#bd3786"
             ],
             [
              0.5555555555555556,
              "#d8576b"
             ],
             [
              0.6666666666666666,
              "#ed7953"
             ],
             [
              0.7777777777777778,
              "#fb9f3a"
             ],
             [
              0.8888888888888888,
              "#fdca26"
             ],
             [
              1,
              "#f0f921"
             ]
            ],
            "type": "contour"
           }
          ],
          "contourcarpet": [
           {
            "colorbar": {
             "outlinewidth": 0,
             "ticks": ""
            },
            "type": "contourcarpet"
           }
          ],
          "heatmap": [
           {
            "colorbar": {
             "outlinewidth": 0,
             "ticks": ""
            },
            "colorscale": [
             [
              0,
              "#0d0887"
             ],
             [
              0.1111111111111111,
              "#46039f"
             ],
             [
              0.2222222222222222,
              "#7201a8"
             ],
             [
              0.3333333333333333,
              "#9c179e"
             ],
             [
              0.4444444444444444,
              "#bd3786"
             ],
             [
              0.5555555555555556,
              "#d8576b"
             ],
             [
              0.6666666666666666,
              "#ed7953"
             ],
             [
              0.7777777777777778,
              "#fb9f3a"
             ],
             [
              0.8888888888888888,
              "#fdca26"
             ],
             [
              1,
              "#f0f921"
             ]
            ],
            "type": "heatmap"
           }
          ],
          "heatmapgl": [
           {
            "colorbar": {
             "outlinewidth": 0,
             "ticks": ""
            },
            "colorscale": [
             [
              0,
              "#0d0887"
             ],
             [
              0.1111111111111111,
              "#46039f"
             ],
             [
              0.2222222222222222,
              "#7201a8"
             ],
             [
              0.3333333333333333,
              "#9c179e"
             ],
             [
              0.4444444444444444,
              "#bd3786"
             ],
             [
              0.5555555555555556,
              "#d8576b"
             ],
             [
              0.6666666666666666,
              "#ed7953"
             ],
             [
              0.7777777777777778,
              "#fb9f3a"
             ],
             [
              0.8888888888888888,
              "#fdca26"
             ],
             [
              1,
              "#f0f921"
             ]
            ],
            "type": "heatmapgl"
           }
          ],
          "histogram": [
           {
            "marker": {
             "pattern": {
              "fillmode": "overlay",
              "size": 10,
              "solidity": 0.2
             }
            },
            "type": "histogram"
           }
          ],
          "histogram2d": [
           {
            "colorbar": {
             "outlinewidth": 0,
             "ticks": ""
            },
            "colorscale": [
             [
              0,
              "#0d0887"
             ],
             [
              0.1111111111111111,
              "#46039f"
             ],
             [
              0.2222222222222222,
              "#7201a8"
             ],
             [
              0.3333333333333333,
              "#9c179e"
             ],
             [
              0.4444444444444444,
              "#bd3786"
             ],
             [
              0.5555555555555556,
              "#d8576b"
             ],
             [
              0.6666666666666666,
              "#ed7953"
             ],
             [
              0.7777777777777778,
              "#fb9f3a"
             ],
             [
              0.8888888888888888,
              "#fdca26"
             ],
             [
              1,
              "#f0f921"
             ]
            ],
            "type": "histogram2d"
           }
          ],
          "histogram2dcontour": [
           {
            "colorbar": {
             "outlinewidth": 0,
             "ticks": ""
            },
            "colorscale": [
             [
              0,
              "#0d0887"
             ],
             [
              0.1111111111111111,
              "#46039f"
             ],
             [
              0.2222222222222222,
              "#7201a8"
             ],
             [
              0.3333333333333333,
              "#9c179e"
             ],
             [
              0.4444444444444444,
              "#bd3786"
             ],
             [
              0.5555555555555556,
              "#d8576b"
             ],
             [
              0.6666666666666666,
              "#ed7953"
             ],
             [
              0.7777777777777778,
              "#fb9f3a"
             ],
             [
              0.8888888888888888,
              "#fdca26"
             ],
             [
              1,
              "#f0f921"
             ]
            ],
            "type": "histogram2dcontour"
           }
          ],
          "mesh3d": [
           {
            "colorbar": {
             "outlinewidth": 0,
             "ticks": ""
            },
            "type": "mesh3d"
           }
          ],
          "parcoords": [
           {
            "line": {
             "colorbar": {
              "outlinewidth": 0,
              "ticks": ""
             }
            },
            "type": "parcoords"
           }
          ],
          "pie": [
           {
            "automargin": true,
            "type": "pie"
           }
          ],
          "scatter": [
           {
            "fillpattern": {
             "fillmode": "overlay",
             "size": 10,
             "solidity": 0.2
            },
            "type": "scatter"
           }
          ],
          "scatter3d": [
           {
            "line": {
             "colorbar": {
              "outlinewidth": 0,
              "ticks": ""
             }
            },
            "marker": {
             "colorbar": {
              "outlinewidth": 0,
              "ticks": ""
             }
            },
            "type": "scatter3d"
           }
          ],
          "scattercarpet": [
           {
            "marker": {
             "colorbar": {
              "outlinewidth": 0,
              "ticks": ""
             }
            },
            "type": "scattercarpet"
           }
          ],
          "scattergeo": [
           {
            "marker": {
             "colorbar": {
              "outlinewidth": 0,
              "ticks": ""
             }
            },
            "type": "scattergeo"
           }
          ],
          "scattergl": [
           {
            "marker": {
             "colorbar": {
              "outlinewidth": 0,
              "ticks": ""
             }
            },
            "type": "scattergl"
           }
          ],
          "scattermapbox": [
           {
            "marker": {
             "colorbar": {
              "outlinewidth": 0,
              "ticks": ""
             }
            },
            "type": "scattermapbox"
           }
          ],
          "scatterpolar": [
           {
            "marker": {
             "colorbar": {
              "outlinewidth": 0,
              "ticks": ""
             }
            },
            "type": "scatterpolar"
           }
          ],
          "scatterpolargl": [
           {
            "marker": {
             "colorbar": {
              "outlinewidth": 0,
              "ticks": ""
             }
            },
            "type": "scatterpolargl"
           }
          ],
          "scatterternary": [
           {
            "marker": {
             "colorbar": {
              "outlinewidth": 0,
              "ticks": ""
             }
            },
            "type": "scatterternary"
           }
          ],
          "surface": [
           {
            "colorbar": {
             "outlinewidth": 0,
             "ticks": ""
            },
            "colorscale": [
             [
              0,
              "#0d0887"
             ],
             [
              0.1111111111111111,
              "#46039f"
             ],
             [
              0.2222222222222222,
              "#7201a8"
             ],
             [
              0.3333333333333333,
              "#9c179e"
             ],
             [
              0.4444444444444444,
              "#bd3786"
             ],
             [
              0.5555555555555556,
              "#d8576b"
             ],
             [
              0.6666666666666666,
              "#ed7953"
             ],
             [
              0.7777777777777778,
              "#fb9f3a"
             ],
             [
              0.8888888888888888,
              "#fdca26"
             ],
             [
              1,
              "#f0f921"
             ]
            ],
            "type": "surface"
           }
          ],
          "table": [
           {
            "cells": {
             "fill": {
              "color": "#EBF0F8"
             },
             "line": {
              "color": "white"
             }
            },
            "header": {
             "fill": {
              "color": "#C8D4E3"
             },
             "line": {
              "color": "white"
             }
            },
            "type": "table"
           }
          ]
         },
         "layout": {
          "annotationdefaults": {
           "arrowcolor": "#2a3f5f",
           "arrowhead": 0,
           "arrowwidth": 1
          },
          "autotypenumbers": "strict",
          "coloraxis": {
           "colorbar": {
            "outlinewidth": 0,
            "ticks": ""
           }
          },
          "colorscale": {
           "diverging": [
            [
             0,
             "#8e0152"
            ],
            [
             0.1,
             "#c51b7d"
            ],
            [
             0.2,
             "#de77ae"
            ],
            [
             0.3,
             "#f1b6da"
            ],
            [
             0.4,
             "#fde0ef"
            ],
            [
             0.5,
             "#f7f7f7"
            ],
            [
             0.6,
             "#e6f5d0"
            ],
            [
             0.7,
             "#b8e186"
            ],
            [
             0.8,
             "#7fbc41"
            ],
            [
             0.9,
             "#4d9221"
            ],
            [
             1,
             "#276419"
            ]
           ],
           "sequential": [
            [
             0,
             "#0d0887"
            ],
            [
             0.1111111111111111,
             "#46039f"
            ],
            [
             0.2222222222222222,
             "#7201a8"
            ],
            [
             0.3333333333333333,
             "#9c179e"
            ],
            [
             0.4444444444444444,
             "#bd3786"
            ],
            [
             0.5555555555555556,
             "#d8576b"
            ],
            [
             0.6666666666666666,
             "#ed7953"
            ],
            [
             0.7777777777777778,
             "#fb9f3a"
            ],
            [
             0.8888888888888888,
             "#fdca26"
            ],
            [
             1,
             "#f0f921"
            ]
           ],
           "sequentialminus": [
            [
             0,
             "#0d0887"
            ],
            [
             0.1111111111111111,
             "#46039f"
            ],
            [
             0.2222222222222222,
             "#7201a8"
            ],
            [
             0.3333333333333333,
             "#9c179e"
            ],
            [
             0.4444444444444444,
             "#bd3786"
            ],
            [
             0.5555555555555556,
             "#d8576b"
            ],
            [
             0.6666666666666666,
             "#ed7953"
            ],
            [
             0.7777777777777778,
             "#fb9f3a"
            ],
            [
             0.8888888888888888,
             "#fdca26"
            ],
            [
             1,
             "#f0f921"
            ]
           ]
          },
          "colorway": [
           "#636efa",
           "#EF553B",
           "#00cc96",
           "#ab63fa",
           "#FFA15A",
           "#19d3f3",
           "#FF6692",
           "#B6E880",
           "#FF97FF",
           "#FECB52"
          ],
          "font": {
           "color": "#2a3f5f"
          },
          "geo": {
           "bgcolor": "white",
           "lakecolor": "white",
           "landcolor": "#E5ECF6",
           "showlakes": true,
           "showland": true,
           "subunitcolor": "white"
          },
          "hoverlabel": {
           "align": "left"
          },
          "hovermode": "closest",
          "mapbox": {
           "style": "light"
          },
          "paper_bgcolor": "white",
          "plot_bgcolor": "#E5ECF6",
          "polar": {
           "angularaxis": {
            "gridcolor": "white",
            "linecolor": "white",
            "ticks": ""
           },
           "bgcolor": "#E5ECF6",
           "radialaxis": {
            "gridcolor": "white",
            "linecolor": "white",
            "ticks": ""
           }
          },
          "scene": {
           "xaxis": {
            "backgroundcolor": "#E5ECF6",
            "gridcolor": "white",
            "gridwidth": 2,
            "linecolor": "white",
            "showbackground": true,
            "ticks": "",
            "zerolinecolor": "white"
           },
           "yaxis": {
            "backgroundcolor": "#E5ECF6",
            "gridcolor": "white",
            "gridwidth": 2,
            "linecolor": "white",
            "showbackground": true,
            "ticks": "",
            "zerolinecolor": "white"
           },
           "zaxis": {
            "backgroundcolor": "#E5ECF6",
            "gridcolor": "white",
            "gridwidth": 2,
            "linecolor": "white",
            "showbackground": true,
            "ticks": "",
            "zerolinecolor": "white"
           }
          },
          "shapedefaults": {
           "line": {
            "color": "#2a3f5f"
           }
          },
          "ternary": {
           "aaxis": {
            "gridcolor": "white",
            "linecolor": "white",
            "ticks": ""
           },
           "baxis": {
            "gridcolor": "white",
            "linecolor": "white",
            "ticks": ""
           },
           "bgcolor": "#E5ECF6",
           "caxis": {
            "gridcolor": "white",
            "linecolor": "white",
            "ticks": ""
           }
          },
          "title": {
           "x": 0.05
          },
          "xaxis": {
           "automargin": true,
           "gridcolor": "white",
           "linecolor": "white",
           "ticks": "",
           "title": {
            "standoff": 15
           },
           "zerolinecolor": "white",
           "zerolinewidth": 2
          },
          "yaxis": {
           "automargin": true,
           "gridcolor": "white",
           "linecolor": "white",
           "ticks": "",
           "title": {
            "standoff": 15
           },
           "zerolinecolor": "white",
           "zerolinewidth": 2
          }
         }
        },
        "title": {
         "font": {
          "color": "#4D5663"
         }
        },
        "xaxis": {
         "autorange": true,
         "gridcolor": "#E1E5ED",
         "range": [
          -0.5,
          2.5
         ],
         "showgrid": true,
         "tickfont": {
          "color": "#4D5663"
         },
         "title": {
          "font": {
           "color": "#4D5663"
          },
          "text": ""
         },
         "type": "category",
         "zerolinecolor": "#E1E5ED"
        },
        "yaxis": {
         "autorange": true,
         "gridcolor": "#E1E5ED",
         "range": [
          0,
          52.63157894736842
         ],
         "showgrid": true,
         "tickfont": {
          "color": "#4D5663"
         },
         "title": {
          "font": {
           "color": "#4D5663"
          },
          "text": ""
         },
         "type": "linear",
         "zerolinecolor": "#E1E5ED"
        }
       }
      },
      "image/png": "[encoded data removed]",
      "text/html": [
       "<div>                            <div id=\"3d810921-2d89-4cdf-93bd-9098d0d93911\" class=\"plotly-graph-div\" style=\"height:525px; width:100%;\"></div>            <script type=\"text/javascript\">                require([\"plotly\"], function(Plotly) {                    window.PLOTLYENV=window.PLOTLYENV || {};\n",
       "                    window.PLOTLYENV.BASE_URL='https://plot.ly';                                    if (document.getElementById(\"3d810921-2d89-4cdf-93bd-9098d0d93911\")) {                    Plotly.newPlot(                        \"3d810921-2d89-4cdf-93bd-9098d0d93911\",                        [{\"marker\":{\"color\":\"rgba(255, 153, 51, 0.6)\",\"line\":{\"color\":\"rgba(255, 153, 51, 1.0)\",\"width\":1}},\"name\":\"Values\",\"orientation\":\"v\",\"text\":\"\",\"x\":[\"A\",\"B\",\"C\"],\"y\":[32,43,50],\"type\":\"bar\"}],                        {\"legend\":{\"bgcolor\":\"#F5F6F9\",\"font\":{\"color\":\"#4D5663\"}},\"paper_bgcolor\":\"#F5F6F9\",\"plot_bgcolor\":\"#F5F6F9\",\"template\":{\"data\":{\"barpolar\":[{\"marker\":{\"line\":{\"color\":\"#E5ECF6\",\"width\":0.5},\"pattern\":{\"fillmode\":\"overlay\",\"size\":10,\"solidity\":0.2}},\"type\":\"barpolar\"}],\"bar\":[{\"error_x\":{\"color\":\"#2a3f5f\"},\"error_y\":{\"color\":\"#2a3f5f\"},\"marker\":{\"line\":{\"color\":\"#E5ECF6\",\"width\":0.5},\"pattern\":{\"fillmode\":\"overlay\",\"size\":10,\"solidity\":0.2}},\"type\":\"bar\"}],\"carpet\":[{\"aaxis\":{\"endlinecolor\":\"#2a3f5f\",\"gridcolor\":\"white\",\"linecolor\":\"white\",\"minorgridcolor\":\"white\",\"startlinecolor\":\"#2a3f5f\"},\"baxis\":{\"endlinecolor\":\"#2a3f5f\",\"gridcolor\":\"white\",\"linecolor\":\"white\",\"minorgridcolor\":\"white\",\"startlinecolor\":\"#2a3f5f\"},\"type\":\"carpet\"}],\"choropleth\":[{\"colorbar\":{\"outlinewidth\":0,\"ticks\":\"\"},\"type\":\"choropleth\"}],\"contourcarpet\":[{\"colorbar\":{\"outlinewidth\":0,\"ticks\":\"\"},\"type\":\"contourcarpet\"}],\"contour\":[{\"colorbar\":{\"outlinewidth\":0,\"ticks\":\"\"},\"colorscale\":[[0.0,\"#0d0887\"],[0.1111111111111111,\"#46039f\"],[0.2222222222222222,\"#7201a8\"],[0.3333333333333333,\"#9c179e\"],[0.4444444444444444,\"#bd3786\"],[0.5555555555555556,\"#d8576b\"],[0.6666666666666666,\"#ed7953\"],[0.7777777777777778,\"#fb9f3a\"],[0.8888888888888888,\"#fdca26\"],[1.0,\"#f0f921\"]],\"type\":\"contour\"}],\"heatmapgl\":[{\"colorbar\":{\"outlinewidth\":0,\"ticks\":\"\"},\"colorscale\":[[0.0,\"#0d0887\"],[0.1111111111111111,\"#46039f\"],[0.2222222222222222,\"#7201a8\"],[0.3333333333333333,\"#9c179e\"],[0.4444444444444444,\"#bd3786\"],[0.5555555555555556,\"#d8576b\"],[0.6666666666666666,\"#ed7953\"],[0.7777777777777778,\"#fb9f3a\"],[0.8888888888888888,\"#fdca26\"],[1.0,\"#f0f921\"]],\"type\":\"heatmapgl\"}],\"heatmap\":[{\"colorbar\":{\"outlinewidth\":0,\"ticks\":\"\"},\"colorscale\":[[0.0,\"#0d0887\"],[0.1111111111111111,\"#46039f\"],[0.2222222222222222,\"#7201a8\"],[0.3333333333333333,\"#9c179e\"],[0.4444444444444444,\"#bd3786\"],[0.5555555555555556,\"#d8576b\"],[0.6666666666666666,\"#ed7953\"],[0.7777777777777778,\"#fb9f3a\"],[0.8888888888888888,\"#fdca26\"],[1.0,\"#f0f921\"]],\"type\":\"heatmap\"}],\"histogram2dcontour\":[{\"colorbar\":{\"outlinewidth\":0,\"ticks\":\"\"},\"colorscale\":[[0.0,\"#0d0887\"],[0.1111111111111111,\"#46039f\"],[0.2222222222222222,\"#7201a8\"],[0.3333333333333333,\"#9c179e\"],[0.4444444444444444,\"#bd3786\"],[0.5555555555555556,\"#d8576b\"],[0.6666666666666666,\"#ed7953\"],[0.7777777777777778,\"#fb9f3a\"],[0.8888888888888888,\"#fdca26\"],[1.0,\"#f0f921\"]],\"type\":\"histogram2dcontour\"}],\"histogram2d\":[{\"colorbar\":{\"outlinewidth\":0,\"ticks\":\"\"},\"colorscale\":[[0.0,\"#0d0887\"],[0.1111111111111111,\"#46039f\"],[0.2222222222222222,\"#7201a8\"],[0.3333333333333333,\"#9c179e\"],[0.4444444444444444,\"#bd3786\"],[0.5555555555555556,\"#d8576b\"],[0.6666666666666666,\"#ed7953\"],[0.7777777777777778,\"#fb9f3a\"],[0.8888888888888888,\"#fdca26\"],[1.0,\"#f0f921\"]],\"type\":\"histogram2d\"}],\"histogram\":[{\"marker\":{\"pattern\":{\"fillmode\":\"overlay\",\"size\":10,\"solidity\":0.2}},\"type\":\"histogram\"}],\"mesh3d\":[{\"colorbar\":{\"outlinewidth\":0,\"ticks\":\"\"},\"type\":\"mesh3d\"}],\"parcoords\":[{\"line\":{\"colorbar\":{\"outlinewidth\":0,\"ticks\":\"\"}},\"type\":\"parcoords\"}],\"pie\":[{\"automargin\":true,\"type\":\"pie\"}],\"scatter3d\":[{\"line\":{\"colorbar\":{\"outlinewidth\":0,\"ticks\":\"\"}},\"marker\":{\"colorbar\":{\"outlinewidth\":0,\"ticks\":\"\"}},\"type\":\"scatter3d\"}],\"scattercarpet\":[{\"marker\":{\"colorbar\":{\"outlinewidth\":0,\"ticks\":\"\"}},\"type\":\"scattercarpet\"}],\"scattergeo\":[{\"marker\":{\"colorbar\":{\"outlinewidth\":0,\"ticks\":\"\"}},\"type\":\"scattergeo\"}],\"scattergl\":[{\"marker\":{\"colorbar\":{\"outlinewidth\":0,\"ticks\":\"\"}},\"type\":\"scattergl\"}],\"scattermapbox\":[{\"marker\":{\"colorbar\":{\"outlinewidth\":0,\"ticks\":\"\"}},\"type\":\"scattermapbox\"}],\"scatterpolargl\":[{\"marker\":{\"colorbar\":{\"outlinewidth\":0,\"ticks\":\"\"}},\"type\":\"scatterpolargl\"}],\"scatterpolar\":[{\"marker\":{\"colorbar\":{\"outlinewidth\":0,\"ticks\":\"\"}},\"type\":\"scatterpolar\"}],\"scatter\":[{\"fillpattern\":{\"fillmode\":\"overlay\",\"size\":10,\"solidity\":0.2},\"type\":\"scatter\"}],\"scatterternary\":[{\"marker\":{\"colorbar\":{\"outlinewidth\":0,\"ticks\":\"\"}},\"type\":\"scatterternary\"}],\"surface\":[{\"colorbar\":{\"outlinewidth\":0,\"ticks\":\"\"},\"colorscale\":[[0.0,\"#0d0887\"],[0.1111111111111111,\"#46039f\"],[0.2222222222222222,\"#7201a8\"],[0.3333333333333333,\"#9c179e\"],[0.4444444444444444,\"#bd3786\"],[0.5555555555555556,\"#d8576b\"],[0.6666666666666666,\"#ed7953\"],[0.7777777777777778,\"#fb9f3a\"],[0.8888888888888888,\"#fdca26\"],[1.0,\"#f0f921\"]],\"type\":\"surface\"}],\"table\":[{\"cells\":{\"fill\":{\"color\":\"#EBF0F8\"},\"line\":{\"color\":\"white\"}},\"header\":{\"fill\":{\"color\":\"#C8D4E3\"},\"line\":{\"color\":\"white\"}},\"type\":\"table\"}]},\"layout\":{\"annotationdefaults\":{\"arrowcolor\":\"#2a3f5f\",\"arrowhead\":0,\"arrowwidth\":1},\"autotypenumbers\":\"strict\",\"coloraxis\":{\"colorbar\":{\"outlinewidth\":0,\"ticks\":\"\"}},\"colorscale\":{\"diverging\":[[0,\"#8e0152\"],[0.1,\"#c51b7d\"],[0.2,\"#de77ae\"],[0.3,\"#f1b6da\"],[0.4,\"#fde0ef\"],[0.5,\"#f7f7f7\"],[0.6,\"#e6f5d0\"],[0.7,\"#b8e186\"],[0.8,\"#7fbc41\"],[0.9,\"#4d9221\"],[1,\"#276419\"]],\"sequential\":[[0.0,\"#0d0887\"],[0.1111111111111111,\"#46039f\"],[0.2222222222222222,\"#7201a8\"],[0.3333333333333333,\"#9c179e\"],[0.4444444444444444,\"#bd3786\"],[0.5555555555555556,\"#d8576b\"],[0.6666666666666666,\"#ed7953\"],[0.7777777777777778,\"#fb9f3a\"],[0.8888888888888888,\"#fdca26\"],[1.0,\"#f0f921\"]],\"sequentialminus\":[[0.0,\"#0d0887\"],[0.1111111111111111,\"#46039f\"],[0.2222222222222222,\"#7201a8\"],[0.3333333333333333,\"#9c179e\"],[0.4444444444444444,\"#bd3786\"],[0.5555555555555556,\"#d8576b\"],[0.6666666666666666,\"#ed7953\"],[0.7777777777777778,\"#fb9f3a\"],[0.8888888888888888,\"#fdca26\"],[1.0,\"#f0f921\"]]},\"colorway\":[\"#636efa\",\"#EF553B\",\"#00cc96\",\"#ab63fa\",\"#FFA15A\",\"#19d3f3\",\"#FF6692\",\"#B6E880\",\"#FF97FF\",\"#FECB52\"],\"font\":{\"color\":\"#2a3f5f\"},\"geo\":{\"bgcolor\":\"white\",\"lakecolor\":\"white\",\"landcolor\":\"#E5ECF6\",\"showlakes\":true,\"showland\":true,\"subunitcolor\":\"white\"},\"hoverlabel\":{\"align\":\"left\"},\"hovermode\":\"closest\",\"mapbox\":{\"style\":\"light\"},\"paper_bgcolor\":\"white\",\"plot_bgcolor\":\"#E5ECF6\",\"polar\":{\"angularaxis\":{\"gridcolor\":\"white\",\"linecolor\":\"white\",\"ticks\":\"\"},\"bgcolor\":\"#E5ECF6\",\"radialaxis\":{\"gridcolor\":\"white\",\"linecolor\":\"white\",\"ticks\":\"\"}},\"scene\":{\"xaxis\":{\"backgroundcolor\":\"#E5ECF6\",\"gridcolor\":\"white\",\"gridwidth\":2,\"linecolor\":\"white\",\"showbackground\":true,\"ticks\":\"\",\"zerolinecolor\":\"white\"},\"yaxis\":{\"backgroundcolor\":\"#E5ECF6\",\"gridcolor\":\"white\",\"gridwidth\":2,\"linecolor\":\"white\",\"showbackground\":true,\"ticks\":\"\",\"zerolinecolor\":\"white\"},\"zaxis\":{\"backgroundcolor\":\"#E5ECF6\",\"gridcolor\":\"white\",\"gridwidth\":2,\"linecolor\":\"white\",\"showbackground\":true,\"ticks\":\"\",\"zerolinecolor\":\"white\"}},\"shapedefaults\":{\"line\":{\"color\":\"#2a3f5f\"}},\"ternary\":{\"aaxis\":{\"gridcolor\":\"white\",\"linecolor\":\"white\",\"ticks\":\"\"},\"baxis\":{\"gridcolor\":\"white\",\"linecolor\":\"white\",\"ticks\":\"\"},\"bgcolor\":\"#E5ECF6\",\"caxis\":{\"gridcolor\":\"white\",\"linecolor\":\"white\",\"ticks\":\"\"}},\"title\":{\"x\":0.05},\"xaxis\":{\"automargin\":true,\"gridcolor\":\"white\",\"linecolor\":\"white\",\"ticks\":\"\",\"title\":{\"standoff\":15},\"zerolinecolor\":\"white\",\"zerolinewidth\":2},\"yaxis\":{\"automargin\":true,\"gridcolor\":\"white\",\"linecolor\":\"white\",\"ticks\":\"\",\"title\":{\"standoff\":15},\"zerolinecolor\":\"white\",\"zerolinewidth\":2}}},\"title\":{\"font\":{\"color\":\"#4D5663\"}},\"xaxis\":{\"gridcolor\":\"#E1E5ED\",\"showgrid\":true,\"tickfont\":{\"color\":\"#4D5663\"},\"title\":{\"font\":{\"color\":\"#4D5663\"},\"text\":\"\"},\"zerolinecolor\":\"#E1E5ED\"},\"yaxis\":{\"gridcolor\":\"#E1E5ED\",\"showgrid\":true,\"tickfont\":{\"color\":\"#4D5663\"},\"title\":{\"font\":{\"color\":\"#4D5663\"},\"text\":\"\"},\"zerolinecolor\":\"#E1E5ED\"}},                        {\"showLink\": true, \"linkText\": \"Export to plot.ly\", \"plotlyServerURL\": \"https://plot.ly\", \"responsive\": true}                    ).then(function(){\n",
       "                            \n",
       "var gd = document.getElementById('3d810921-2d89-4cdf-93bd-9098d0d93911');\n",
       "var x = new MutationObserver(function (mutations, observer) {{\n",
       "        var display = window.getComputedStyle(gd).display;\n",
       "        if (!display || display === 'none') {{\n",
       "            console.log([gd, 'removed!']);\n",
       "            Plotly.purge(gd);\n",
       "            observer.disconnect();\n",
       "        }}\n",
       "}});\n",
       "\n",
       "// Listen for the removal of the full notebook cells\n",
       "var notebookContainer = gd.closest('#notebook-container');\n",
       "if (notebookContainer) {{\n",
       "    x.observe(notebookContainer, {childList: true});\n",
       "}}\n",
       "\n",
       "// Listen for the clearing of the current output cell\n",
       "var outputEl = gd.closest('.output');\n",
       "if (outputEl) {{\n",
       "    x.observe(outputEl, {childList: true});\n",
       "}}\n",
       "\n",
       "                        })                };                });            </script>        </div>"
      ]
     },
     "metadata": {},
     "output_type": "display_data"
    }
   ],
   "source": [
    "df2.iplot(kind='bar',x='Category',y='Values')"
   ]
  },
  {
   "cell_type": "code",
   "execution_count": 63,
   "id": "61916da3-a7d7-4bd1-998b-35a175e241cc",
   "metadata": {},
   "outputs": [
    {
     "data": {
      "application/vnd.plotly.v1+json": {
       "config": {
        "linkText": "Export to plot.ly",
        "plotlyServerURL": "https://plot.ly",
        "showLink": true
       },
       "data": [
        {
         "marker": {
          "color": "rgba(255, 153, 51, 0.6)",
          "line": {
           "color": "rgba(255, 153, 51, 1.0)",
           "width": 1
          }
         },
         "name": "None",
         "orientation": "v",
         "text": "",
         "type": "bar",
         "x": [
          "A",
          "B",
          "C",
          "D"
         ],
         "y": [
          -5.338835978965029,
          -2.935185437008908,
          0.4291772636235993,
          5.225206251022995
         ]
        }
       ],
       "layout": {
        "autosize": true,
        "legend": {
         "bgcolor": "#F5F6F9",
         "font": {
          "color": "#4D5663"
         }
        },
        "paper_bgcolor": "#F5F6F9",
        "plot_bgcolor": "#F5F6F9",
        "template": {
         "data": {
          "bar": [
           {
            "error_x": {
             "color": "#2a3f5f"
            },
            "error_y": {
             "color": "#2a3f5f"
            },
            "marker": {
             "line": {
              "color": "#E5ECF6",
              "width": 0.5
             },
             "pattern": {
              "fillmode": "overlay",
              "size": 10,
              "solidity": 0.2
             }
            },
            "type": "bar"
           }
          ],
          "barpolar": [
           {
            "marker": {
             "line": {
              "color": "#E5ECF6",
              "width": 0.5
             },
             "pattern": {
              "fillmode": "overlay",
              "size": 10,
              "solidity": 0.2
             }
            },
            "type": "barpolar"
           }
          ],
          "carpet": [
           {
            "aaxis": {
             "endlinecolor": "#2a3f5f",
             "gridcolor": "white",
             "linecolor": "white",
             "minorgridcolor": "white",
             "startlinecolor": "#2a3f5f"
            },
            "baxis": {
             "endlinecolor": "#2a3f5f",
             "gridcolor": "white",
             "linecolor": "white",
             "minorgridcolor": "white",
             "startlinecolor": "#2a3f5f"
            },
            "type": "carpet"
           }
          ],
          "choropleth": [
           {
            "colorbar": {
             "outlinewidth": 0,
             "ticks": ""
            },
            "type": "choropleth"
           }
          ],
          "contour": [
           {
            "colorbar": {
             "outlinewidth": 0,
             "ticks": ""
            },
            "colorscale": [
             [
              0,
              "#0d0887"
             ],
             [
              0.1111111111111111,
              "#46039f"
             ],
             [
              0.2222222222222222,
              "#7201a8"
             ],
             [
              0.3333333333333333,
              "#9c179e"
             ],
             [
              0.4444444444444444,
              "#bd3786"
             ],
             [
              0.5555555555555556,
              "#d8576b"
             ],
             [
              0.6666666666666666,
              "#ed7953"
             ],
             [
              0.7777777777777778,
              "#fb9f3a"
             ],
             [
              0.8888888888888888,
              "#fdca26"
             ],
             [
              1,
              "#f0f921"
             ]
            ],
            "type": "contour"
           }
          ],
          "contourcarpet": [
           {
            "colorbar": {
             "outlinewidth": 0,
             "ticks": ""
            },
            "type": "contourcarpet"
           }
          ],
          "heatmap": [
           {
            "colorbar": {
             "outlinewidth": 0,
             "ticks": ""
            },
            "colorscale": [
             [
              0,
              "#0d0887"
             ],
             [
              0.1111111111111111,
              "#46039f"
             ],
             [
              0.2222222222222222,
              "#7201a8"
             ],
             [
              0.3333333333333333,
              "#9c179e"
             ],
             [
              0.4444444444444444,
              "#bd3786"
             ],
             [
              0.5555555555555556,
              "#d8576b"
             ],
             [
              0.6666666666666666,
              "#ed7953"
             ],
             [
              0.7777777777777778,
              "#fb9f3a"
             ],
             [
              0.8888888888888888,
              "#fdca26"
             ],
             [
              1,
              "#f0f921"
             ]
            ],
            "type": "heatmap"
           }
          ],
          "heatmapgl": [
           {
            "colorbar": {
             "outlinewidth": 0,
             "ticks": ""
            },
            "colorscale": [
             [
              0,
              "#0d0887"
             ],
             [
              0.1111111111111111,
              "#46039f"
             ],
             [
              0.2222222222222222,
              "#7201a8"
             ],
             [
              0.3333333333333333,
              "#9c179e"
             ],
             [
              0.4444444444444444,
              "#bd3786"
             ],
             [
              0.5555555555555556,
              "#d8576b"
             ],
             [
              0.6666666666666666,
              "#ed7953"
             ],
             [
              0.7777777777777778,
              "#fb9f3a"
             ],
             [
              0.8888888888888888,
              "#fdca26"
             ],
             [
              1,
              "#f0f921"
             ]
            ],
            "type": "heatmapgl"
           }
          ],
          "histogram": [
           {
            "marker": {
             "pattern": {
              "fillmode": "overlay",
              "size": 10,
              "solidity": 0.2
             }
            },
            "type": "histogram"
           }
          ],
          "histogram2d": [
           {
            "colorbar": {
             "outlinewidth": 0,
             "ticks": ""
            },
            "colorscale": [
             [
              0,
              "#0d0887"
             ],
             [
              0.1111111111111111,
              "#46039f"
             ],
             [
              0.2222222222222222,
              "#7201a8"
             ],
             [
              0.3333333333333333,
              "#9c179e"
             ],
             [
              0.4444444444444444,
              "#bd3786"
             ],
             [
              0.5555555555555556,
              "#d8576b"
             ],
             [
              0.6666666666666666,
              "#ed7953"
             ],
             [
              0.7777777777777778,
              "#fb9f3a"
             ],
             [
              0.8888888888888888,
              "#fdca26"
             ],
             [
              1,
              "#f0f921"
             ]
            ],
            "type": "histogram2d"
           }
          ],
          "histogram2dcontour": [
           {
            "colorbar": {
             "outlinewidth": 0,
             "ticks": ""
            },
            "colorscale": [
             [
              0,
              "#0d0887"
             ],
             [
              0.1111111111111111,
              "#46039f"
             ],
             [
              0.2222222222222222,
              "#7201a8"
             ],
             [
              0.3333333333333333,
              "#9c179e"
             ],
             [
              0.4444444444444444,
              "#bd3786"
             ],
             [
              0.5555555555555556,
              "#d8576b"
             ],
             [
              0.6666666666666666,
              "#ed7953"
             ],
             [
              0.7777777777777778,
              "#fb9f3a"
             ],
             [
              0.8888888888888888,
              "#fdca26"
             ],
             [
              1,
              "#f0f921"
             ]
            ],
            "type": "histogram2dcontour"
           }
          ],
          "mesh3d": [
           {
            "colorbar": {
             "outlinewidth": 0,
             "ticks": ""
            },
            "type": "mesh3d"
           }
          ],
          "parcoords": [
           {
            "line": {
             "colorbar": {
              "outlinewidth": 0,
              "ticks": ""
             }
            },
            "type": "parcoords"
           }
          ],
          "pie": [
           {
            "automargin": true,
            "type": "pie"
           }
          ],
          "scatter": [
           {
            "fillpattern": {
             "fillmode": "overlay",
             "size": 10,
             "solidity": 0.2
            },
            "type": "scatter"
           }
          ],
          "scatter3d": [
           {
            "line": {
             "colorbar": {
              "outlinewidth": 0,
              "ticks": ""
             }
            },
            "marker": {
             "colorbar": {
              "outlinewidth": 0,
              "ticks": ""
             }
            },
            "type": "scatter3d"
           }
          ],
          "scattercarpet": [
           {
            "marker": {
             "colorbar": {
              "outlinewidth": 0,
              "ticks": ""
             }
            },
            "type": "scattercarpet"
           }
          ],
          "scattergeo": [
           {
            "marker": {
             "colorbar": {
              "outlinewidth": 0,
              "ticks": ""
             }
            },
            "type": "scattergeo"
           }
          ],
          "scattergl": [
           {
            "marker": {
             "colorbar": {
              "outlinewidth": 0,
              "ticks": ""
             }
            },
            "type": "scattergl"
           }
          ],
          "scattermapbox": [
           {
            "marker": {
             "colorbar": {
              "outlinewidth": 0,
              "ticks": ""
             }
            },
            "type": "scattermapbox"
           }
          ],
          "scatterpolar": [
           {
            "marker": {
             "colorbar": {
              "outlinewidth": 0,
              "ticks": ""
             }
            },
            "type": "scatterpolar"
           }
          ],
          "scatterpolargl": [
           {
            "marker": {
             "colorbar": {
              "outlinewidth": 0,
              "ticks": ""
             }
            },
            "type": "scatterpolargl"
           }
          ],
          "scatterternary": [
           {
            "marker": {
             "colorbar": {
              "outlinewidth": 0,
              "ticks": ""
             }
            },
            "type": "scatterternary"
           }
          ],
          "surface": [
           {
            "colorbar": {
             "outlinewidth": 0,
             "ticks": ""
            },
            "colorscale": [
             [
              0,
              "#0d0887"
             ],
             [
              0.1111111111111111,
              "#46039f"
             ],
             [
              0.2222222222222222,
              "#7201a8"
             ],
             [
              0.3333333333333333,
              "#9c179e"
             ],
             [
              0.4444444444444444,
              "#bd3786"
             ],
             [
              0.5555555555555556,
              "#d8576b"
             ],
             [
              0.6666666666666666,
              "#ed7953"
             ],
             [
              0.7777777777777778,
              "#fb9f3a"
             ],
             [
              0.8888888888888888,
              "#fdca26"
             ],
             [
              1,
              "#f0f921"
             ]
            ],
            "type": "surface"
           }
          ],
          "table": [
           {
            "cells": {
             "fill": {
              "color": "#EBF0F8"
             },
             "line": {
              "color": "white"
             }
            },
            "header": {
             "fill": {
              "color": "#C8D4E3"
             },
             "line": {
              "color": "white"
             }
            },
            "type": "table"
           }
          ]
         },
         "layout": {
          "annotationdefaults": {
           "arrowcolor": "#2a3f5f",
           "arrowhead": 0,
           "arrowwidth": 1
          },
          "autotypenumbers": "strict",
          "coloraxis": {
           "colorbar": {
            "outlinewidth": 0,
            "ticks": ""
           }
          },
          "colorscale": {
           "diverging": [
            [
             0,
             "#8e0152"
            ],
            [
             0.1,
             "#c51b7d"
            ],
            [
             0.2,
             "#de77ae"
            ],
            [
             0.3,
             "#f1b6da"
            ],
            [
             0.4,
             "#fde0ef"
            ],
            [
             0.5,
             "#f7f7f7"
            ],
            [
             0.6,
             "#e6f5d0"
            ],
            [
             0.7,
             "#b8e186"
            ],
            [
             0.8,
             "#7fbc41"
            ],
            [
             0.9,
             "#4d9221"
            ],
            [
             1,
             "#276419"
            ]
           ],
           "sequential": [
            [
             0,
             "#0d0887"
            ],
            [
             0.1111111111111111,
             "#46039f"
            ],
            [
             0.2222222222222222,
             "#7201a8"
            ],
            [
             0.3333333333333333,
             "#9c179e"
            ],
            [
             0.4444444444444444,
             "#bd3786"
            ],
            [
             0.5555555555555556,
             "#d8576b"
            ],
            [
             0.6666666666666666,
             "#ed7953"
            ],
            [
             0.7777777777777778,
             "#fb9f3a"
            ],
            [
             0.8888888888888888,
             "#fdca26"
            ],
            [
             1,
             "#f0f921"
            ]
           ],
           "sequentialminus": [
            [
             0,
             "#0d0887"
            ],
            [
             0.1111111111111111,
             "#46039f"
            ],
            [
             0.2222222222222222,
             "#7201a8"
            ],
            [
             0.3333333333333333,
             "#9c179e"
            ],
            [
             0.4444444444444444,
             "#bd3786"
            ],
            [
             0.5555555555555556,
             "#d8576b"
            ],
            [
             0.6666666666666666,
             "#ed7953"
            ],
            [
             0.7777777777777778,
             "#fb9f3a"
            ],
            [
             0.8888888888888888,
             "#fdca26"
            ],
            [
             1,
             "#f0f921"
            ]
           ]
          },
          "colorway": [
           "#636efa",
           "#EF553B",
           "#00cc96",
           "#ab63fa",
           "#FFA15A",
           "#19d3f3",
           "#FF6692",
           "#B6E880",
           "#FF97FF",
           "#FECB52"
          ],
          "font": {
           "color": "#2a3f5f"
          },
          "geo": {
           "bgcolor": "white",
           "lakecolor": "white",
           "landcolor": "#E5ECF6",
           "showlakes": true,
           "showland": true,
           "subunitcolor": "white"
          },
          "hoverlabel": {
           "align": "left"
          },
          "hovermode": "closest",
          "mapbox": {
           "style": "light"
          },
          "paper_bgcolor": "white",
          "plot_bgcolor": "#E5ECF6",
          "polar": {
           "angularaxis": {
            "gridcolor": "white",
            "linecolor": "white",
            "ticks": ""
           },
           "bgcolor": "#E5ECF6",
           "radialaxis": {
            "gridcolor": "white",
            "linecolor": "white",
            "ticks": ""
           }
          },
          "scene": {
           "xaxis": {
            "backgroundcolor": "#E5ECF6",
            "gridcolor": "white",
            "gridwidth": 2,
            "linecolor": "white",
            "showbackground": true,
            "ticks": "",
            "zerolinecolor": "white"
           },
           "yaxis": {
            "backgroundcolor": "#E5ECF6",
            "gridcolor": "white",
            "gridwidth": 2,
            "linecolor": "white",
            "showbackground": true,
            "ticks": "",
            "zerolinecolor": "white"
           },
           "zaxis": {
            "backgroundcolor": "#E5ECF6",
            "gridcolor": "white",
            "gridwidth": 2,
            "linecolor": "white",
            "showbackground": true,
            "ticks": "",
            "zerolinecolor": "white"
           }
          },
          "shapedefaults": {
           "line": {
            "color": "#2a3f5f"
           }
          },
          "ternary": {
           "aaxis": {
            "gridcolor": "white",
            "linecolor": "white",
            "ticks": ""
           },
           "baxis": {
            "gridcolor": "white",
            "linecolor": "white",
            "ticks": ""
           },
           "bgcolor": "#E5ECF6",
           "caxis": {
            "gridcolor": "white",
            "linecolor": "white",
            "ticks": ""
           }
          },
          "title": {
           "x": 0.05
          },
          "xaxis": {
           "automargin": true,
           "gridcolor": "white",
           "linecolor": "white",
           "ticks": "",
           "title": {
            "standoff": 15
           },
           "zerolinecolor": "white",
           "zerolinewidth": 2
          },
          "yaxis": {
           "automargin": true,
           "gridcolor": "white",
           "linecolor": "white",
           "ticks": "",
           "title": {
            "standoff": 15
           },
           "zerolinecolor": "white",
           "zerolinewidth": 2
          }
         }
        },
        "title": {
         "font": {
          "color": "#4D5663"
         }
        },
        "xaxis": {
         "autorange": true,
         "gridcolor": "#E1E5ED",
         "range": [
          -0.5,
          3.5
         ],
         "showgrid": true,
         "tickfont": {
          "color": "#4D5663"
         },
         "title": {
          "font": {
           "color": "#4D5663"
          },
          "text": ""
         },
         "type": "category",
         "zerolinecolor": "#E1E5ED"
        },
        "yaxis": {
         "autorange": true,
         "gridcolor": "#E1E5ED",
         "range": [
          -5.925727213964363,
          5.81209748602233
         ],
         "showgrid": true,
         "tickfont": {
          "color": "#4D5663"
         },
         "title": {
          "font": {
           "color": "#4D5663"
          },
          "text": ""
         },
         "type": "linear",
         "zerolinecolor": "#E1E5ED"
        }
       }
      },
      "image/png": "[encoded data removed]",
      "text/html": [
       "<div>                            <div id=\"e1db1816-1dbe-4bc6-8c25-de3330c89deb\" class=\"plotly-graph-div\" style=\"height:525px; width:100%;\"></div>            <script type=\"text/javascript\">                require([\"plotly\"], function(Plotly) {                    window.PLOTLYENV=window.PLOTLYENV || {};\n",
       "                    window.PLOTLYENV.BASE_URL='https://plot.ly';                                    if (document.getElementById(\"e1db1816-1dbe-4bc6-8c25-de3330c89deb\")) {                    Plotly.newPlot(                        \"e1db1816-1dbe-4bc6-8c25-de3330c89deb\",                        [{\"marker\":{\"color\":\"rgba(255, 153, 51, 0.6)\",\"line\":{\"color\":\"rgba(255, 153, 51, 1.0)\",\"width\":1}},\"name\":\"None\",\"orientation\":\"v\",\"text\":\"\",\"x\":[\"A\",\"B\",\"C\",\"D\"],\"y\":[-5.338835978965029,-2.935185437008908,0.4291772636235993,5.225206251022995],\"type\":\"bar\"}],                        {\"legend\":{\"bgcolor\":\"#F5F6F9\",\"font\":{\"color\":\"#4D5663\"}},\"paper_bgcolor\":\"#F5F6F9\",\"plot_bgcolor\":\"#F5F6F9\",\"template\":{\"data\":{\"barpolar\":[{\"marker\":{\"line\":{\"color\":\"#E5ECF6\",\"width\":0.5},\"pattern\":{\"fillmode\":\"overlay\",\"size\":10,\"solidity\":0.2}},\"type\":\"barpolar\"}],\"bar\":[{\"error_x\":{\"color\":\"#2a3f5f\"},\"error_y\":{\"color\":\"#2a3f5f\"},\"marker\":{\"line\":{\"color\":\"#E5ECF6\",\"width\":0.5},\"pattern\":{\"fillmode\":\"overlay\",\"size\":10,\"solidity\":0.2}},\"type\":\"bar\"}],\"carpet\":[{\"aaxis\":{\"endlinecolor\":\"#2a3f5f\",\"gridcolor\":\"white\",\"linecolor\":\"white\",\"minorgridcolor\":\"white\",\"startlinecolor\":\"#2a3f5f\"},\"baxis\":{\"endlinecolor\":\"#2a3f5f\",\"gridcolor\":\"white\",\"linecolor\":\"white\",\"minorgridcolor\":\"white\",\"startlinecolor\":\"#2a3f5f\"},\"type\":\"carpet\"}],\"choropleth\":[{\"colorbar\":{\"outlinewidth\":0,\"ticks\":\"\"},\"type\":\"choropleth\"}],\"contourcarpet\":[{\"colorbar\":{\"outlinewidth\":0,\"ticks\":\"\"},\"type\":\"contourcarpet\"}],\"contour\":[{\"colorbar\":{\"outlinewidth\":0,\"ticks\":\"\"},\"colorscale\":[[0.0,\"#0d0887\"],[0.1111111111111111,\"#46039f\"],[0.2222222222222222,\"#7201a8\"],[0.3333333333333333,\"#9c179e\"],[0.4444444444444444,\"#bd3786\"],[0.5555555555555556,\"#d8576b\"],[0.6666666666666666,\"#ed7953\"],[0.7777777777777778,\"#fb9f3a\"],[0.8888888888888888,\"#fdca26\"],[1.0,\"#f0f921\"]],\"type\":\"contour\"}],\"heatmapgl\":[{\"colorbar\":{\"outlinewidth\":0,\"ticks\":\"\"},\"colorscale\":[[0.0,\"#0d0887\"],[0.1111111111111111,\"#46039f\"],[0.2222222222222222,\"#7201a8\"],[0.3333333333333333,\"#9c179e\"],[0.4444444444444444,\"#bd3786\"],[0.5555555555555556,\"#d8576b\"],[0.6666666666666666,\"#ed7953\"],[0.7777777777777778,\"#fb9f3a\"],[0.8888888888888888,\"#fdca26\"],[1.0,\"#f0f921\"]],\"type\":\"heatmapgl\"}],\"heatmap\":[{\"colorbar\":{\"outlinewidth\":0,\"ticks\":\"\"},\"colorscale\":[[0.0,\"#0d0887\"],[0.1111111111111111,\"#46039f\"],[0.2222222222222222,\"#7201a8\"],[0.3333333333333333,\"#9c179e\"],[0.4444444444444444,\"#bd3786\"],[0.5555555555555556,\"#d8576b\"],[0.6666666666666666,\"#ed7953\"],[0.7777777777777778,\"#fb9f3a\"],[0.8888888888888888,\"#fdca26\"],[1.0,\"#f0f921\"]],\"type\":\"heatmap\"}],\"histogram2dcontour\":[{\"colorbar\":{\"outlinewidth\":0,\"ticks\":\"\"},\"colorscale\":[[0.0,\"#0d0887\"],[0.1111111111111111,\"#46039f\"],[0.2222222222222222,\"#7201a8\"],[0.3333333333333333,\"#9c179e\"],[0.4444444444444444,\"#bd3786\"],[0.5555555555555556,\"#d8576b\"],[0.6666666666666666,\"#ed7953\"],[0.7777777777777778,\"#fb9f3a\"],[0.8888888888888888,\"#fdca26\"],[1.0,\"#f0f921\"]],\"type\":\"histogram2dcontour\"}],\"histogram2d\":[{\"colorbar\":{\"outlinewidth\":0,\"ticks\":\"\"},\"colorscale\":[[0.0,\"#0d0887\"],[0.1111111111111111,\"#46039f\"],[0.2222222222222222,\"#7201a8\"],[0.3333333333333333,\"#9c179e\"],[0.4444444444444444,\"#bd3786\"],[0.5555555555555556,\"#d8576b\"],[0.6666666666666666,\"#ed7953\"],[0.7777777777777778,\"#fb9f3a\"],[0.8888888888888888,\"#fdca26\"],[1.0,\"#f0f921\"]],\"type\":\"histogram2d\"}],\"histogram\":[{\"marker\":{\"pattern\":{\"fillmode\":\"overlay\",\"size\":10,\"solidity\":0.2}},\"type\":\"histogram\"}],\"mesh3d\":[{\"colorbar\":{\"outlinewidth\":0,\"ticks\":\"\"},\"type\":\"mesh3d\"}],\"parcoords\":[{\"line\":{\"colorbar\":{\"outlinewidth\":0,\"ticks\":\"\"}},\"type\":\"parcoords\"}],\"pie\":[{\"automargin\":true,\"type\":\"pie\"}],\"scatter3d\":[{\"line\":{\"colorbar\":{\"outlinewidth\":0,\"ticks\":\"\"}},\"marker\":{\"colorbar\":{\"outlinewidth\":0,\"ticks\":\"\"}},\"type\":\"scatter3d\"}],\"scattercarpet\":[{\"marker\":{\"colorbar\":{\"outlinewidth\":0,\"ticks\":\"\"}},\"type\":\"scattercarpet\"}],\"scattergeo\":[{\"marker\":{\"colorbar\":{\"outlinewidth\":0,\"ticks\":\"\"}},\"type\":\"scattergeo\"}],\"scattergl\":[{\"marker\":{\"colorbar\":{\"outlinewidth\":0,\"ticks\":\"\"}},\"type\":\"scattergl\"}],\"scattermapbox\":[{\"marker\":{\"colorbar\":{\"outlinewidth\":0,\"ticks\":\"\"}},\"type\":\"scattermapbox\"}],\"scatterpolargl\":[{\"marker\":{\"colorbar\":{\"outlinewidth\":0,\"ticks\":\"\"}},\"type\":\"scatterpolargl\"}],\"scatterpolar\":[{\"marker\":{\"colorbar\":{\"outlinewidth\":0,\"ticks\":\"\"}},\"type\":\"scatterpolar\"}],\"scatter\":[{\"fillpattern\":{\"fillmode\":\"overlay\",\"size\":10,\"solidity\":0.2},\"type\":\"scatter\"}],\"scatterternary\":[{\"marker\":{\"colorbar\":{\"outlinewidth\":0,\"ticks\":\"\"}},\"type\":\"scatterternary\"}],\"surface\":[{\"colorbar\":{\"outlinewidth\":0,\"ticks\":\"\"},\"colorscale\":[[0.0,\"#0d0887\"],[0.1111111111111111,\"#46039f\"],[0.2222222222222222,\"#7201a8\"],[0.3333333333333333,\"#9c179e\"],[0.4444444444444444,\"#bd3786\"],[0.5555555555555556,\"#d8576b\"],[0.6666666666666666,\"#ed7953\"],[0.7777777777777778,\"#fb9f3a\"],[0.8888888888888888,\"#fdca26\"],[1.0,\"#f0f921\"]],\"type\":\"surface\"}],\"table\":[{\"cells\":{\"fill\":{\"color\":\"#EBF0F8\"},\"line\":{\"color\":\"white\"}},\"header\":{\"fill\":{\"color\":\"#C8D4E3\"},\"line\":{\"color\":\"white\"}},\"type\":\"table\"}]},\"layout\":{\"annotationdefaults\":{\"arrowcolor\":\"#2a3f5f\",\"arrowhead\":0,\"arrowwidth\":1},\"autotypenumbers\":\"strict\",\"coloraxis\":{\"colorbar\":{\"outlinewidth\":0,\"ticks\":\"\"}},\"colorscale\":{\"diverging\":[[0,\"#8e0152\"],[0.1,\"#c51b7d\"],[0.2,\"#de77ae\"],[0.3,\"#f1b6da\"],[0.4,\"#fde0ef\"],[0.5,\"#f7f7f7\"],[0.6,\"#e6f5d0\"],[0.7,\"#b8e186\"],[0.8,\"#7fbc41\"],[0.9,\"#4d9221\"],[1,\"#276419\"]],\"sequential\":[[0.0,\"#0d0887\"],[0.1111111111111111,\"#46039f\"],[0.2222222222222222,\"#7201a8\"],[0.3333333333333333,\"#9c179e\"],[0.4444444444444444,\"#bd3786\"],[0.5555555555555556,\"#d8576b\"],[0.6666666666666666,\"#ed7953\"],[0.7777777777777778,\"#fb9f3a\"],[0.8888888888888888,\"#fdca26\"],[1.0,\"#f0f921\"]],\"sequentialminus\":[[0.0,\"#0d0887\"],[0.1111111111111111,\"#46039f\"],[0.2222222222222222,\"#7201a8\"],[0.3333333333333333,\"#9c179e\"],[0.4444444444444444,\"#bd3786\"],[0.5555555555555556,\"#d8576b\"],[0.6666666666666666,\"#ed7953\"],[0.7777777777777778,\"#fb9f3a\"],[0.8888888888888888,\"#fdca26\"],[1.0,\"#f0f921\"]]},\"colorway\":[\"#636efa\",\"#EF553B\",\"#00cc96\",\"#ab63fa\",\"#FFA15A\",\"#19d3f3\",\"#FF6692\",\"#B6E880\",\"#FF97FF\",\"#FECB52\"],\"font\":{\"color\":\"#2a3f5f\"},\"geo\":{\"bgcolor\":\"white\",\"lakecolor\":\"white\",\"landcolor\":\"#E5ECF6\",\"showlakes\":true,\"showland\":true,\"subunitcolor\":\"white\"},\"hoverlabel\":{\"align\":\"left\"},\"hovermode\":\"closest\",\"mapbox\":{\"style\":\"light\"},\"paper_bgcolor\":\"white\",\"plot_bgcolor\":\"#E5ECF6\",\"polar\":{\"angularaxis\":{\"gridcolor\":\"white\",\"linecolor\":\"white\",\"ticks\":\"\"},\"bgcolor\":\"#E5ECF6\",\"radialaxis\":{\"gridcolor\":\"white\",\"linecolor\":\"white\",\"ticks\":\"\"}},\"scene\":{\"xaxis\":{\"backgroundcolor\":\"#E5ECF6\",\"gridcolor\":\"white\",\"gridwidth\":2,\"linecolor\":\"white\",\"showbackground\":true,\"ticks\":\"\",\"zerolinecolor\":\"white\"},\"yaxis\":{\"backgroundcolor\":\"#E5ECF6\",\"gridcolor\":\"white\",\"gridwidth\":2,\"linecolor\":\"white\",\"showbackground\":true,\"ticks\":\"\",\"zerolinecolor\":\"white\"},\"zaxis\":{\"backgroundcolor\":\"#E5ECF6\",\"gridcolor\":\"white\",\"gridwidth\":2,\"linecolor\":\"white\",\"showbackground\":true,\"ticks\":\"\",\"zerolinecolor\":\"white\"}},\"shapedefaults\":{\"line\":{\"color\":\"#2a3f5f\"}},\"ternary\":{\"aaxis\":{\"gridcolor\":\"white\",\"linecolor\":\"white\",\"ticks\":\"\"},\"baxis\":{\"gridcolor\":\"white\",\"linecolor\":\"white\",\"ticks\":\"\"},\"bgcolor\":\"#E5ECF6\",\"caxis\":{\"gridcolor\":\"white\",\"linecolor\":\"white\",\"ticks\":\"\"}},\"title\":{\"x\":0.05},\"xaxis\":{\"automargin\":true,\"gridcolor\":\"white\",\"linecolor\":\"white\",\"ticks\":\"\",\"title\":{\"standoff\":15},\"zerolinecolor\":\"white\",\"zerolinewidth\":2},\"yaxis\":{\"automargin\":true,\"gridcolor\":\"white\",\"linecolor\":\"white\",\"ticks\":\"\",\"title\":{\"standoff\":15},\"zerolinecolor\":\"white\",\"zerolinewidth\":2}}},\"title\":{\"font\":{\"color\":\"#4D5663\"}},\"xaxis\":{\"gridcolor\":\"#E1E5ED\",\"showgrid\":true,\"tickfont\":{\"color\":\"#4D5663\"},\"title\":{\"font\":{\"color\":\"#4D5663\"},\"text\":\"\"},\"zerolinecolor\":\"#E1E5ED\"},\"yaxis\":{\"gridcolor\":\"#E1E5ED\",\"showgrid\":true,\"tickfont\":{\"color\":\"#4D5663\"},\"title\":{\"font\":{\"color\":\"#4D5663\"},\"text\":\"\"},\"zerolinecolor\":\"#E1E5ED\"}},                        {\"showLink\": true, \"linkText\": \"Export to plot.ly\", \"plotlyServerURL\": \"https://plot.ly\", \"responsive\": true}                    ).then(function(){\n",
       "                            \n",
       "var gd = document.getElementById('e1db1816-1dbe-4bc6-8c25-de3330c89deb');\n",
       "var x = new MutationObserver(function (mutations, observer) {{\n",
       "        var display = window.getComputedStyle(gd).display;\n",
       "        if (!display || display === 'none') {{\n",
       "            console.log([gd, 'removed!']);\n",
       "            Plotly.purge(gd);\n",
       "            observer.disconnect();\n",
       "        }}\n",
       "}});\n",
       "\n",
       "// Listen for the removal of the full notebook cells\n",
       "var notebookContainer = gd.closest('#notebook-container');\n",
       "if (notebookContainer) {{\n",
       "    x.observe(notebookContainer, {childList: true});\n",
       "}}\n",
       "\n",
       "// Listen for the clearing of the current output cell\n",
       "var outputEl = gd.closest('.output');\n",
       "if (outputEl) {{\n",
       "    x.observe(outputEl, {childList: true});\n",
       "}}\n",
       "\n",
       "                        })                };                });            </script>        </div>"
      ]
     },
     "metadata": {},
     "output_type": "display_data"
    }
   ],
   "source": [
    "df.sum().iplot(kind='bar')"
   ]
  },
  {
   "cell_type": "code",
   "execution_count": 65,
   "id": "f779333c-4ad3-40fa-801d-642e86833b07",
   "metadata": {},
   "outputs": [
    {
     "data": {
      "application/vnd.plotly.v1+json": {
       "config": {
        "linkText": "Export to plot.ly",
        "plotlyServerURL": "https://plot.ly",
        "showLink": true
       },
       "data": [
        {
         "boxpoints": false,
         "line": {
          "width": 1.3
         },
         "marker": {
          "color": "rgba(255, 153, 51, 1.0)"
         },
         "name": "A",
         "orientation": "v",
         "type": "box",
         "visible": true,
         "y": [
          0.3521248991125683,
          0.374378549462778,
          -0.8681275486234619,
          -1.527571333758755,
          -1.3900068126518048,
          -0.4114054920269361,
          0.15520020133584866,
          0.7384591641252498,
          -0.09712690742829033,
          -0.26819560829719846,
          1.1338755445610074,
          -1.4874831675677571,
          0.7051312012337357,
          -1.2024530037012553,
          -0.29809729403226287,
          0.23420816692031013,
          -1.1907221135276438,
          -0.19985732553043734,
          -0.6100052380320969,
          0.9797152589484669,
          0.5532180003133247,
          -1.2390461467516192,
          1.4175055278440405,
          -0.7828444487559498,
          1.2938009572926183,
          -0.8046173586032122,
          -0.9341045740226017,
          -2.1172419964169795,
          -0.015246331294103573,
          -0.4317235418042056,
          -0.490255626621109,
          -0.10495849562550795,
          0.4895473879909302,
          0.9230452012023029,
          -0.9019954565808412,
          -1.311884135102693,
          2.1622266360844407,
          -0.9981760527494739,
          -1.1669136579693293,
          -0.3878438473642099,
          -1.4062878330424886,
          0.9025854927347297,
          1.0662128436949465,
          1.2952217490953246,
          0.26758105507076246,
          -0.23889838423038862,
          -0.43765284660587417,
          -0.15293874988146516,
          0.8457208972983651,
          -0.12651619208777903,
          -0.12830107703185067,
          0.1905151734851748,
          -0.41358010360527675,
          -0.044092658442423424,
          1.40019571716128,
          -0.48424606902779,
          1.3956807833235683,
          0.2687615836341957,
          1.5571707452070334,
          -0.6360986721910912,
          0.626440960714626,
          -1.5397412105578578,
          -0.8981119577862499,
          1.0610658409579183,
          0.8903605943553875,
          0.17073795280636891,
          0.4268772526295468,
          -0.22528647908761543,
          1.2451042431352326,
          0.16225753274666233,
          -0.8591418566134634,
          -0.9830915946369014,
          0.7391052150205726,
          -0.22235452886232096,
          0.36892299213007546,
          -0.41247121129127323,
          -1.134272171255948,
          0.4167587262034833,
          -0.07488677434197762,
          0.3863115228816906,
          -1.4541697028834588,
          -0.3416988673071571,
          -0.8558369938099291,
          0.7881715368230318,
          0.24315956283911963,
          -0.4890587435401381,
          -1.0192033454977736,
          0.8480397711023916,
          0.7591556284639237,
          -1.8384101909642117,
          0.07412638124788648,
          0.42968941865360294,
          0.6402117041777811,
          0.9430575520543083,
          0.6506280986774639,
          0.21082036382305874,
          0.36483477797329544,
          -1.055874549469489,
          -0.7137286648445479,
          0.9370985982210176
         ]
        },
        {
         "boxpoints": false,
         "line": {
          "width": 1.3
         },
         "marker": {
          "color": "rgba(55, 128, 191, 1.0)"
         },
         "name": "B",
         "orientation": "v",
         "type": "box",
         "y": [
          -0.3672400660188171,
          1.1723030793263862,
          0.4229211143763501,
          -1.5356190599328485,
          0.29258044314440335,
          -2.077842158921335,
          0.28512491387525263,
          -0.37926165771701653,
          0.29908568497608157,
          0.9443018696549622,
          -1.5967889033942413,
          -1.3887672722735456,
          -0.6641416375654052,
          -0.0639470087730585,
          -0.46663721396131613,
          -0.6295335086197471,
          0.5897981776073271,
          -1.7655390053108517,
          -0.060237541740192926,
          1.4702381311634727,
          -0.579730434241401,
          -0.6002929782656196,
          1.9181218447873463,
          -0.07074094133169188,
          0.1554365837641563,
          0.7018919084379145,
          -0.6418528714390223,
          -0.07787505719096816,
          0.8561862739788918,
          -0.04757433442450353,
          0.937486539183576,
          1.7446059049126703,
          -0.5779297950685147,
          -2.6904740459574996,
          -0.3263343249047711,
          0.5155591540762269,
          0.3498287948955922,
          0.28221116405487856,
          -0.766191809161088,
          -0.5213477645381658,
          0.708880192738116,
          2.0539874746295013,
          -1.2473316263033876,
          0.9476199776636521,
          0.8296837728135735,
          0.2582333472604082,
          -0.7780087626419847,
          -0.2812605671675329,
          1.7583789451772844,
          0.5612996509403224,
          0.014262775164241561,
          -0.023906427686685182,
          -1.6391439824939231,
          1.170887485480817,
          0.5950341792071205,
          -0.6608344171032432,
          0.6288046045099865,
          0.3841721295386118,
          1.5401405371003682,
          -1.8171836596773712,
          -0.7777492347930118,
          0.8959467876452509,
          -0.39984688974564636,
          -1.146909822561759,
          2.24056639133713,
          -0.5676541986251326,
          -0.4629548656750362,
          1.3889964902978318,
          -1.2245992643146717,
          -0.10367449206740265,
          0.9059640174215866,
          0.6786534543107289,
          -0.5540066332650183,
          -0.12598739875013132,
          1.3483800477887116,
          1.2078134648275922,
          0.35034451020220486,
          0.40338079190074544,
          0.06883393428501268,
          -1.253355144433232,
          -1.0346073711363797,
          -1.572317268003851,
          0.8314858329161572,
          0.24454223001424086,
          -0.6227120484695982,
          -0.3559554015358584,
          0.2143436464681599,
          0.9637507906816873,
          3.303530045792439,
          -1.5897202496106333,
          -0.6320262369164329,
          -0.07242936475366742,
          -0.9198386634299148,
          -0.5504794102299363,
          -1.7324629922232109,
          -0.946431143453696,
          0.4470946952370082,
          -1.0733428737514066,
          0.7032246421977343,
          -1.4584740632012463
         ]
        },
        {
         "boxpoints": false,
         "line": {
          "width": 1.3
         },
         "marker": {
          "color": "rgba(50, 171, 96, 1.0)"
         },
         "name": "C",
         "orientation": "v",
         "type": "box",
         "visible": true,
         "y": [
          0.040951349719290576,
          0.9163731498508584,
          0.2473149246675704,
          0.6355789757395596,
          2.0561229303330215,
          -0.8426823150555216,
          0.551260330683669,
          0.03323504120915285,
          -1.2432396486650872,
          -0.6618349008001423,
          0.5217832084147521,
          1.5288418411500666,
          -2.4120830093812837,
          2.8143447205123606,
          -0.257933073781562,
          -0.3572661675178952,
          0.20190338856217502,
          0.9320991029283576,
          -0.2191998538030043,
          2.0719083446892474,
          -2.8485964024490373,
          0.014927423043469038,
          -0.5154646455689982,
          0.4382000391317424,
          -0.4219851166708127,
          -0.6598109185667879,
          -0.5266671295882587,
          2.222491682052409,
          -0.5267075167322591,
          -1.9881988811905362,
          1.8201702033224445,
          2.175163917116367,
          -1.2906075345231638,
          -2.3006061256171084,
          0.3066738920361006,
          0.8559774613699227,
          0.6688883975257423,
          -0.6823697222688537,
          -1.243973226793776,
          0.7583084242632002,
          -1.2414551237252491,
          2.3820652209218296,
          0.9243572868285478,
          1.0052558535898974,
          -0.2961920718199432,
          0.5608432569750889,
          -2.357222093876263,
          1.817388783384015,
          -0.7744521478969061,
          1.0763933510113877,
          -1.2561328071536118,
          -0.638686345881965,
          0.4865256193015979,
          -2.456392803221965,
          -0.6518818470075926,
          0.6257325664820154,
          1.7694428509391302,
          -0.43793671439613535,
          0.29422842599998283,
          -1.1336705708733945,
          -0.02435874048759034,
          -0.9603568369902041,
          1.1487228327794106,
          -0.7861995441361292,
          -0.8447379256723088,
          1.1371711411743168,
          -0.19395465149512472,
          1.526465804209432,
          0.40676357821989756,
          0.5287900098042159,
          0.6608365859778821,
          -0.744901530184483,
          -0.9566989059482564,
          -1.3051061700884141,
          -0.7095434773568681,
          -0.14194679507734942,
          1.0204705452747858,
          -0.47132490477492744,
          -0.5095810769276805,
          -0.13974241072861765,
          1.889069821123595,
          -0.6154788796132468,
          1.3842997701151845,
          -0.153335675502912,
          -0.18154950908872736,
          -0.3369429086014936,
          -0.9140504632574861,
          -0.18505754850539075,
          -0.318009985650538,
          -1.7416551710462669,
          0.49525622789157114,
          -0.9959438615052109,
          1.1649297931196383,
          0.18734503740419692,
          1.6901446812195635,
          -0.6235055022821053,
          1.9786160133931159,
          -1.9407740026576976,
          0.42998530248150685,
          -1.9364366519135416
         ]
        },
        {
         "boxpoints": false,
         "line": {
          "width": 1.3
         },
         "marker": {
          "color": "rgba(128, 0, 128, 1.0)"
         },
         "name": "D",
         "orientation": "v",
         "type": "box",
         "visible": true,
         "y": [
          -1.3375111200422654,
          0.08108573619786534,
          -0.4603419445564614,
          1.6087850830260433,
          -1.1358219279044866,
          -1.3402739069075462,
          -0.8883954210116366,
          -2.333576558962384,
          2.256222344488282,
          -1.518276134540346,
          -0.5493494918608621,
          1.0888175415569215,
          -1.1555295255722635,
          -0.5663726095451217,
          0.8195642561425789,
          -0.6555111443554326,
          1.5823033687248254,
          0.448344094281049,
          -1.534848204837367,
          -0.7738955545996372,
          -1.2526498083817412,
          0.6069527188929812,
          0.24313875205510352,
          0.9113343981619622,
          1.0897636277906508,
          -0.23886310103044037,
          -0.36243249262063915,
          0.8054873468624355,
          -0.8311895423156016,
          0.36411268083828713,
          0.15287411039096088,
          0.30253942960984925,
          1.0902893872100399,
          -0.7108338092133447,
          2.0768094028590327,
          0.051691069444641746,
          -0.10991256892414793,
          0.7959080246152197,
          0.4057141102482014,
          -0.7086479402378677,
          -1.5163725358414726,
          -0.4387446795954376,
          0.10599681909410427,
          1.2581067321286046,
          -0.23448306331222418,
          -0.43196872710173995,
          -0.13422166623444162,
          -0.916134253624078,
          -0.28070162474793886,
          0.9520456681139606,
          -0.2839508570594622,
          -1.605523474096741,
          -1.0863518252056914,
          0.025308097274283906,
          0.06448363327448572,
          -0.761557429698844,
          0.10329503270324489,
          0.4122547806086187,
          -1.199652516293543,
          0.8959886138160285,
          -0.4977888239267104,
          0.01348762881186117,
          0.48002483050913747,
          1.7292547102720466,
          0.3652142333994519,
          1.5914138134642886,
          -0.05457538970538982,
          0.7492853215006533,
          1.7142499472823864,
          -0.9850415204347099,
          0.6388438927953487,
          0.4138487334186722,
          -0.8905539048608643,
          -1.0279145122359281,
          0.9414427655613998,
          0.25918463510371625,
          -0.19729832180784007,
          -0.390909039372285,
          -0.7835258859704143,
          -1.4253341321155104,
          0.04927046360645166,
          0.2651329981190324,
          1.6619499989545055,
          0.4802126318651488,
          2.5923259691026233,
          -0.42748881665069555,
          0.290167317223398,
          0.5103695762182319,
          1.2582990267796612,
          1.3556684561143955,
          -1.2007802646175456,
          0.3295112813582968,
          0.555959784639183,
          -0.11942895049017666,
          -0.16790176725326109,
          1.5091104754329279,
          -1.2444322169182427,
          0.8543033955585018,
          0.3555174210748361,
          0.4288090890373574
         ]
        }
       ],
       "layout": {
        "autosize": true,
        "legend": {
         "bgcolor": "#F5F6F9",
         "font": {
          "color": "#4D5663"
         }
        },
        "paper_bgcolor": "#F5F6F9",
        "plot_bgcolor": "#F5F6F9",
        "template": {
         "data": {
          "bar": [
           {
            "error_x": {
             "color": "#2a3f5f"
            },
            "error_y": {
             "color": "#2a3f5f"
            },
            "marker": {
             "line": {
              "color": "#E5ECF6",
              "width": 0.5
             },
             "pattern": {
              "fillmode": "overlay",
              "size": 10,
              "solidity": 0.2
             }
            },
            "type": "bar"
           }
          ],
          "barpolar": [
           {
            "marker": {
             "line": {
              "color": "#E5ECF6",
              "width": 0.5
             },
             "pattern": {
              "fillmode": "overlay",
              "size": 10,
              "solidity": 0.2
             }
            },
            "type": "barpolar"
           }
          ],
          "carpet": [
           {
            "aaxis": {
             "endlinecolor": "#2a3f5f",
             "gridcolor": "white",
             "linecolor": "white",
             "minorgridcolor": "white",
             "startlinecolor": "#2a3f5f"
            },
            "baxis": {
             "endlinecolor": "#2a3f5f",
             "gridcolor": "white",
             "linecolor": "white",
             "minorgridcolor": "white",
             "startlinecolor": "#2a3f5f"
            },
            "type": "carpet"
           }
          ],
          "choropleth": [
           {
            "colorbar": {
             "outlinewidth": 0,
             "ticks": ""
            },
            "type": "choropleth"
           }
          ],
          "contour": [
           {
            "colorbar": {
             "outlinewidth": 0,
             "ticks": ""
            },
            "colorscale": [
             [
              0,
              "#0d0887"
             ],
             [
              0.1111111111111111,
              "#46039f"
             ],
             [
              0.2222222222222222,
              "#7201a8"
             ],
             [
              0.3333333333333333,
              "#9c179e"
             ],
             [
              0.4444444444444444,
              "#bd3786"
             ],
             [
              0.5555555555555556,
              "#d8576b"
             ],
             [
              0.6666666666666666,
              "#ed7953"
             ],
             [
              0.7777777777777778,
              "#fb9f3a"
             ],
             [
              0.8888888888888888,
              "#fdca26"
             ],
             [
              1,
              "#f0f921"
             ]
            ],
            "type": "contour"
           }
          ],
          "contourcarpet": [
           {
            "colorbar": {
             "outlinewidth": 0,
             "ticks": ""
            },
            "type": "contourcarpet"
           }
          ],
          "heatmap": [
           {
            "colorbar": {
             "outlinewidth": 0,
             "ticks": ""
            },
            "colorscale": [
             [
              0,
              "#0d0887"
             ],
             [
              0.1111111111111111,
              "#46039f"
             ],
             [
              0.2222222222222222,
              "#7201a8"
             ],
             [
              0.3333333333333333,
              "#9c179e"
             ],
             [
              0.4444444444444444,
              "#bd3786"
             ],
             [
              0.5555555555555556,
              "#d8576b"
             ],
             [
              0.6666666666666666,
              "#ed7953"
             ],
             [
              0.7777777777777778,
              "#fb9f3a"
             ],
             [
              0.8888888888888888,
              "#fdca26"
             ],
             [
              1,
              "#f0f921"
             ]
            ],
            "type": "heatmap"
           }
          ],
          "heatmapgl": [
           {
            "colorbar": {
             "outlinewidth": 0,
             "ticks": ""
            },
            "colorscale": [
             [
              0,
              "#0d0887"
             ],
             [
              0.1111111111111111,
              "#46039f"
             ],
             [
              0.2222222222222222,
              "#7201a8"
             ],
             [
              0.3333333333333333,
              "#9c179e"
             ],
             [
              0.4444444444444444,
              "#bd3786"
             ],
             [
              0.5555555555555556,
              "#d8576b"
             ],
             [
              0.6666666666666666,
              "#ed7953"
             ],
             [
              0.7777777777777778,
              "#fb9f3a"
             ],
             [
              0.8888888888888888,
              "#fdca26"
             ],
             [
              1,
              "#f0f921"
             ]
            ],
            "type": "heatmapgl"
           }
          ],
          "histogram": [
           {
            "marker": {
             "pattern": {
              "fillmode": "overlay",
              "size": 10,
              "solidity": 0.2
             }
            },
            "type": "histogram"
           }
          ],
          "histogram2d": [
           {
            "colorbar": {
             "outlinewidth": 0,
             "ticks": ""
            },
            "colorscale": [
             [
              0,
              "#0d0887"
             ],
             [
              0.1111111111111111,
              "#46039f"
             ],
             [
              0.2222222222222222,
              "#7201a8"
             ],
             [
              0.3333333333333333,
              "#9c179e"
             ],
             [
              0.4444444444444444,
              "#bd3786"
             ],
             [
              0.5555555555555556,
              "#d8576b"
             ],
             [
              0.6666666666666666,
              "#ed7953"
             ],
             [
              0.7777777777777778,
              "#fb9f3a"
             ],
             [
              0.8888888888888888,
              "#fdca26"
             ],
             [
              1,
              "#f0f921"
             ]
            ],
            "type": "histogram2d"
           }
          ],
          "histogram2dcontour": [
           {
            "colorbar": {
             "outlinewidth": 0,
             "ticks": ""
            },
            "colorscale": [
             [
              0,
              "#0d0887"
             ],
             [
              0.1111111111111111,
              "#46039f"
             ],
             [
              0.2222222222222222,
              "#7201a8"
             ],
             [
              0.3333333333333333,
              "#9c179e"
             ],
             [
              0.4444444444444444,
              "#bd3786"
             ],
             [
              0.5555555555555556,
              "#d8576b"
             ],
             [
              0.6666666666666666,
              "#ed7953"
             ],
             [
              0.7777777777777778,
              "#fb9f3a"
             ],
             [
              0.8888888888888888,
              "#fdca26"
             ],
             [
              1,
              "#f0f921"
             ]
            ],
            "type": "histogram2dcontour"
           }
          ],
          "mesh3d": [
           {
            "colorbar": {
             "outlinewidth": 0,
             "ticks": ""
            },
            "type": "mesh3d"
           }
          ],
          "parcoords": [
           {
            "line": {
             "colorbar": {
              "outlinewidth": 0,
              "ticks": ""
             }
            },
            "type": "parcoords"
           }
          ],
          "pie": [
           {
            "automargin": true,
            "type": "pie"
           }
          ],
          "scatter": [
           {
            "fillpattern": {
             "fillmode": "overlay",
             "size": 10,
             "solidity": 0.2
            },
            "type": "scatter"
           }
          ],
          "scatter3d": [
           {
            "line": {
             "colorbar": {
              "outlinewidth": 0,
              "ticks": ""
             }
            },
            "marker": {
             "colorbar": {
              "outlinewidth": 0,
              "ticks": ""
             }
            },
            "type": "scatter3d"
           }
          ],
          "scattercarpet": [
           {
            "marker": {
             "colorbar": {
              "outlinewidth": 0,
              "ticks": ""
             }
            },
            "type": "scattercarpet"
           }
          ],
          "scattergeo": [
           {
            "marker": {
             "colorbar": {
              "outlinewidth": 0,
              "ticks": ""
             }
            },
            "type": "scattergeo"
           }
          ],
          "scattergl": [
           {
            "marker": {
             "colorbar": {
              "outlinewidth": 0,
              "ticks": ""
             }
            },
            "type": "scattergl"
           }
          ],
          "scattermapbox": [
           {
            "marker": {
             "colorbar": {
              "outlinewidth": 0,
              "ticks": ""
             }
            },
            "type": "scattermapbox"
           }
          ],
          "scatterpolar": [
           {
            "marker": {
             "colorbar": {
              "outlinewidth": 0,
              "ticks": ""
             }
            },
            "type": "scatterpolar"
           }
          ],
          "scatterpolargl": [
           {
            "marker": {
             "colorbar": {
              "outlinewidth": 0,
              "ticks": ""
             }
            },
            "type": "scatterpolargl"
           }
          ],
          "scatterternary": [
           {
            "marker": {
             "colorbar": {
              "outlinewidth": 0,
              "ticks": ""
             }
            },
            "type": "scatterternary"
           }
          ],
          "surface": [
           {
            "colorbar": {
             "outlinewidth": 0,
             "ticks": ""
            },
            "colorscale": [
             [
              0,
              "#0d0887"
             ],
             [
              0.1111111111111111,
              "#46039f"
             ],
             [
              0.2222222222222222,
              "#7201a8"
             ],
             [
              0.3333333333333333,
              "#9c179e"
             ],
             [
              0.4444444444444444,
              "#bd3786"
             ],
             [
              0.5555555555555556,
              "#d8576b"
             ],
             [
              0.6666666666666666,
              "#ed7953"
             ],
             [
              0.7777777777777778,
              "#fb9f3a"
             ],
             [
              0.8888888888888888,
              "#fdca26"
             ],
             [
              1,
              "#f0f921"
             ]
            ],
            "type": "surface"
           }
          ],
          "table": [
           {
            "cells": {
             "fill": {
              "color": "#EBF0F8"
             },
             "line": {
              "color": "white"
             }
            },
            "header": {
             "fill": {
              "color": "#C8D4E3"
             },
             "line": {
              "color": "white"
             }
            },
            "type": "table"
           }
          ]
         },
         "layout": {
          "annotationdefaults": {
           "arrowcolor": "#2a3f5f",
           "arrowhead": 0,
           "arrowwidth": 1
          },
          "autotypenumbers": "strict",
          "coloraxis": {
           "colorbar": {
            "outlinewidth": 0,
            "ticks": ""
           }
          },
          "colorscale": {
           "diverging": [
            [
             0,
             "#8e0152"
            ],
            [
             0.1,
             "#c51b7d"
            ],
            [
             0.2,
             "#de77ae"
            ],
            [
             0.3,
             "#f1b6da"
            ],
            [
             0.4,
             "#fde0ef"
            ],
            [
             0.5,
             "#f7f7f7"
            ],
            [
             0.6,
             "#e6f5d0"
            ],
            [
             0.7,
             "#b8e186"
            ],
            [
             0.8,
             "#7fbc41"
            ],
            [
             0.9,
             "#4d9221"
            ],
            [
             1,
             "#276419"
            ]
           ],
           "sequential": [
            [
             0,
             "#0d0887"
            ],
            [
             0.1111111111111111,
             "#46039f"
            ],
            [
             0.2222222222222222,
             "#7201a8"
            ],
            [
             0.3333333333333333,
             "#9c179e"
            ],
            [
             0.4444444444444444,
             "#bd3786"
            ],
            [
             0.5555555555555556,
             "#d8576b"
            ],
            [
             0.6666666666666666,
             "#ed7953"
            ],
            [
             0.7777777777777778,
             "#fb9f3a"
            ],
            [
             0.8888888888888888,
             "#fdca26"
            ],
            [
             1,
             "#f0f921"
            ]
           ],
           "sequentialminus": [
            [
             0,
             "#0d0887"
            ],
            [
             0.1111111111111111,
             "#46039f"
            ],
            [
             0.2222222222222222,
             "#7201a8"
            ],
            [
             0.3333333333333333,
             "#9c179e"
            ],
            [
             0.4444444444444444,
             "#bd3786"
            ],
            [
             0.5555555555555556,
             "#d8576b"
            ],
            [
             0.6666666666666666,
             "#ed7953"
            ],
            [
             0.7777777777777778,
             "#fb9f3a"
            ],
            [
             0.8888888888888888,
             "#fdca26"
            ],
            [
             1,
             "#f0f921"
            ]
           ]
          },
          "colorway": [
           "#636efa",
           "#EF553B",
           "#00cc96",
           "#ab63fa",
           "#FFA15A",
           "#19d3f3",
           "#FF6692",
           "#B6E880",
           "#FF97FF",
           "#FECB52"
          ],
          "font": {
           "color": "#2a3f5f"
          },
          "geo": {
           "bgcolor": "white",
           "lakecolor": "white",
           "landcolor": "#E5ECF6",
           "showlakes": true,
           "showland": true,
           "subunitcolor": "white"
          },
          "hoverlabel": {
           "align": "left"
          },
          "hovermode": "closest",
          "mapbox": {
           "style": "light"
          },
          "paper_bgcolor": "white",
          "plot_bgcolor": "#E5ECF6",
          "polar": {
           "angularaxis": {
            "gridcolor": "white",
            "linecolor": "white",
            "ticks": ""
           },
           "bgcolor": "#E5ECF6",
           "radialaxis": {
            "gridcolor": "white",
            "linecolor": "white",
            "ticks": ""
           }
          },
          "scene": {
           "xaxis": {
            "backgroundcolor": "#E5ECF6",
            "gridcolor": "white",
            "gridwidth": 2,
            "linecolor": "white",
            "showbackground": true,
            "ticks": "",
            "zerolinecolor": "white"
           },
           "yaxis": {
            "backgroundcolor": "#E5ECF6",
            "gridcolor": "white",
            "gridwidth": 2,
            "linecolor": "white",
            "showbackground": true,
            "ticks": "",
            "zerolinecolor": "white"
           },
           "zaxis": {
            "backgroundcolor": "#E5ECF6",
            "gridcolor": "white",
            "gridwidth": 2,
            "linecolor": "white",
            "showbackground": true,
            "ticks": "",
            "zerolinecolor": "white"
           }
          },
          "shapedefaults": {
           "line": {
            "color": "#2a3f5f"
           }
          },
          "ternary": {
           "aaxis": {
            "gridcolor": "white",
            "linecolor": "white",
            "ticks": ""
           },
           "baxis": {
            "gridcolor": "white",
            "linecolor": "white",
            "ticks": ""
           },
           "bgcolor": "#E5ECF6",
           "caxis": {
            "gridcolor": "white",
            "linecolor": "white",
            "ticks": ""
           }
          },
          "title": {
           "x": 0.05
          },
          "xaxis": {
           "automargin": true,
           "gridcolor": "white",
           "linecolor": "white",
           "ticks": "",
           "title": {
            "standoff": 15
           },
           "zerolinecolor": "white",
           "zerolinewidth": 2
          },
          "yaxis": {
           "automargin": true,
           "gridcolor": "white",
           "linecolor": "white",
           "ticks": "",
           "title": {
            "standoff": 15
           },
           "zerolinecolor": "white",
           "zerolinewidth": 2
          }
         }
        },
        "title": {
         "font": {
          "color": "#4D5663"
         }
        },
        "xaxis": {
         "autorange": true,
         "gridcolor": "#E1E5ED",
         "range": [
          -0.5,
          3.5
         ],
         "showgrid": true,
         "tickfont": {
          "color": "#4D5663"
         },
         "title": {
          "font": {
           "color": "#4D5663"
          },
          "text": ""
         },
         "type": "category",
         "zerolinecolor": "#E1E5ED"
        },
        "yaxis": {
         "autorange": true,
         "gridcolor": "#E1E5ED",
         "range": [
          -3.1903812051291194,
          3.645314848472521
         ],
         "showgrid": true,
         "tickfont": {
          "color": "#4D5663"
         },
         "title": {
          "font": {
           "color": "#4D5663"
          },
          "text": ""
         },
         "type": "linear",
         "zerolinecolor": "#E1E5ED"
        }
       }
      },
      "image/png": "[encoded data removed]",
      "text/html": [
       "<div>                            <div id=\"9543e01e-7a68-4006-a21f-f07c4cedb68e\" class=\"plotly-graph-div\" style=\"height:525px; width:100%;\"></div>            <script type=\"text/javascript\">                require([\"plotly\"], function(Plotly) {                    window.PLOTLYENV=window.PLOTLYENV || {};\n",
       "                    window.PLOTLYENV.BASE_URL='https://plot.ly';                                    if (document.getElementById(\"9543e01e-7a68-4006-a21f-f07c4cedb68e\")) {                    Plotly.newPlot(                        \"9543e01e-7a68-4006-a21f-f07c4cedb68e\",                        [{\"boxpoints\":false,\"line\":{\"width\":1.3},\"marker\":{\"color\":\"rgba(255, 153, 51, 1.0)\"},\"name\":\"A\",\"orientation\":\"v\",\"y\":[0.3521248991125683,0.374378549462778,-0.8681275486234619,-1.527571333758755,-1.3900068126518048,-0.4114054920269361,0.15520020133584866,0.7384591641252498,-0.09712690742829033,-0.26819560829719846,1.1338755445610074,-1.4874831675677571,0.7051312012337357,-1.2024530037012553,-0.29809729403226287,0.23420816692031013,-1.1907221135276438,-0.19985732553043734,-0.6100052380320969,0.9797152589484669,0.5532180003133247,-1.2390461467516192,1.4175055278440405,-0.7828444487559498,1.2938009572926183,-0.8046173586032122,-0.9341045740226017,-2.1172419964169795,-0.015246331294103573,-0.4317235418042056,-0.490255626621109,-0.10495849562550795,0.4895473879909302,0.9230452012023029,-0.9019954565808412,-1.311884135102693,2.1622266360844407,-0.9981760527494739,-1.1669136579693293,-0.3878438473642099,-1.4062878330424886,0.9025854927347297,1.0662128436949465,1.2952217490953246,0.26758105507076246,-0.23889838423038862,-0.43765284660587417,-0.15293874988146516,0.8457208972983651,-0.12651619208777903,-0.12830107703185067,0.1905151734851748,-0.41358010360527675,-0.044092658442423424,1.40019571716128,-0.48424606902779,1.3956807833235683,0.2687615836341957,1.5571707452070334,-0.6360986721910912,0.626440960714626,-1.5397412105578578,-0.8981119577862499,1.0610658409579183,0.8903605943553875,0.17073795280636891,0.4268772526295468,-0.22528647908761543,1.2451042431352326,0.16225753274666233,-0.8591418566134634,-0.9830915946369014,0.7391052150205726,-0.22235452886232096,0.36892299213007546,-0.41247121129127323,-1.134272171255948,0.4167587262034833,-0.07488677434197762,0.3863115228816906,-1.4541697028834588,-0.3416988673071571,-0.8558369938099291,0.7881715368230318,0.24315956283911963,-0.4890587435401381,-1.0192033454977736,0.8480397711023916,0.7591556284639237,-1.8384101909642117,0.07412638124788648,0.42968941865360294,0.6402117041777811,0.9430575520543083,0.6506280986774639,0.21082036382305874,0.36483477797329544,-1.055874549469489,-0.7137286648445479,0.9370985982210176],\"type\":\"box\"},{\"boxpoints\":false,\"line\":{\"width\":1.3},\"marker\":{\"color\":\"rgba(55, 128, 191, 1.0)\"},\"name\":\"B\",\"orientation\":\"v\",\"y\":[-0.3672400660188171,1.1723030793263862,0.4229211143763501,-1.5356190599328485,0.29258044314440335,-2.077842158921335,0.28512491387525263,-0.37926165771701653,0.29908568497608157,0.9443018696549622,-1.5967889033942413,-1.3887672722735456,-0.6641416375654052,-0.0639470087730585,-0.46663721396131613,-0.6295335086197471,0.5897981776073271,-1.7655390053108517,-0.060237541740192926,1.4702381311634727,-0.579730434241401,-0.6002929782656196,1.9181218447873463,-0.07074094133169188,0.1554365837641563,0.7018919084379145,-0.6418528714390223,-0.07787505719096816,0.8561862739788918,-0.04757433442450353,0.937486539183576,1.7446059049126703,-0.5779297950685147,-2.6904740459574996,-0.3263343249047711,0.5155591540762269,0.3498287948955922,0.28221116405487856,-0.766191809161088,-0.5213477645381658,0.708880192738116,2.0539874746295013,-1.2473316263033876,0.9476199776636521,0.8296837728135735,0.2582333472604082,-0.7780087626419847,-0.2812605671675329,1.7583789451772844,0.5612996509403224,0.014262775164241561,-0.023906427686685182,-1.6391439824939231,1.170887485480817,0.5950341792071205,-0.6608344171032432,0.6288046045099865,0.3841721295386118,1.5401405371003682,-1.8171836596773712,-0.7777492347930118,0.8959467876452509,-0.39984688974564636,-1.146909822561759,2.24056639133713,-0.5676541986251326,-0.4629548656750362,1.3889964902978318,-1.2245992643146717,-0.10367449206740265,0.9059640174215866,0.6786534543107289,-0.5540066332650183,-0.12598739875013132,1.3483800477887116,1.2078134648275922,0.35034451020220486,0.40338079190074544,0.06883393428501268,-1.253355144433232,-1.0346073711363797,-1.572317268003851,0.8314858329161572,0.24454223001424086,-0.6227120484695982,-0.3559554015358584,0.2143436464681599,0.9637507906816873,3.303530045792439,-1.5897202496106333,-0.6320262369164329,-0.07242936475366742,-0.9198386634299148,-0.5504794102299363,-1.7324629922232109,-0.946431143453696,0.4470946952370082,-1.0733428737514066,0.7032246421977343,-1.4584740632012463],\"type\":\"box\"},{\"boxpoints\":false,\"line\":{\"width\":1.3},\"marker\":{\"color\":\"rgba(50, 171, 96, 1.0)\"},\"name\":\"C\",\"orientation\":\"v\",\"y\":[0.040951349719290576,0.9163731498508584,0.2473149246675704,0.6355789757395596,2.0561229303330215,-0.8426823150555216,0.551260330683669,0.03323504120915285,-1.2432396486650872,-0.6618349008001423,0.5217832084147521,1.5288418411500666,-2.4120830093812837,2.8143447205123606,-0.257933073781562,-0.3572661675178952,0.20190338856217502,0.9320991029283576,-0.2191998538030043,2.0719083446892474,-2.8485964024490373,0.014927423043469038,-0.5154646455689982,0.4382000391317424,-0.4219851166708127,-0.6598109185667879,-0.5266671295882587,2.222491682052409,-0.5267075167322591,-1.9881988811905362,1.8201702033224445,2.175163917116367,-1.2906075345231638,-2.3006061256171084,0.3066738920361006,0.8559774613699227,0.6688883975257423,-0.6823697222688537,-1.243973226793776,0.7583084242632002,-1.2414551237252491,2.3820652209218296,0.9243572868285478,1.0052558535898974,-0.2961920718199432,0.5608432569750889,-2.357222093876263,1.817388783384015,-0.7744521478969061,1.0763933510113877,-1.2561328071536118,-0.638686345881965,0.4865256193015979,-2.456392803221965,-0.6518818470075926,0.6257325664820154,1.7694428509391302,-0.43793671439613535,0.29422842599998283,-1.1336705708733945,-0.02435874048759034,-0.9603568369902041,1.1487228327794106,-0.7861995441361292,-0.8447379256723088,1.1371711411743168,-0.19395465149512472,1.526465804209432,0.40676357821989756,0.5287900098042159,0.6608365859778821,-0.744901530184483,-0.9566989059482564,-1.3051061700884141,-0.7095434773568681,-0.14194679507734942,1.0204705452747858,-0.47132490477492744,-0.5095810769276805,-0.13974241072861765,1.889069821123595,-0.6154788796132468,1.3842997701151845,-0.153335675502912,-0.18154950908872736,-0.3369429086014936,-0.9140504632574861,-0.18505754850539075,-0.318009985650538,-1.7416551710462669,0.49525622789157114,-0.9959438615052109,1.1649297931196383,0.18734503740419692,1.6901446812195635,-0.6235055022821053,1.9786160133931159,-1.9407740026576976,0.42998530248150685,-1.9364366519135416],\"type\":\"box\"},{\"boxpoints\":false,\"line\":{\"width\":1.3},\"marker\":{\"color\":\"rgba(128, 0, 128, 1.0)\"},\"name\":\"D\",\"orientation\":\"v\",\"y\":[-1.3375111200422654,0.08108573619786534,-0.4603419445564614,1.6087850830260433,-1.1358219279044866,-1.3402739069075462,-0.8883954210116366,-2.333576558962384,2.256222344488282,-1.518276134540346,-0.5493494918608621,1.0888175415569215,-1.1555295255722635,-0.5663726095451217,0.8195642561425789,-0.6555111443554326,1.5823033687248254,0.448344094281049,-1.534848204837367,-0.7738955545996372,-1.2526498083817412,0.6069527188929812,0.24313875205510352,0.9113343981619622,1.0897636277906508,-0.23886310103044037,-0.36243249262063915,0.8054873468624355,-0.8311895423156016,0.36411268083828713,0.15287411039096088,0.30253942960984925,1.0902893872100399,-0.7108338092133447,2.0768094028590327,0.051691069444641746,-0.10991256892414793,0.7959080246152197,0.4057141102482014,-0.7086479402378677,-1.5163725358414726,-0.4387446795954376,0.10599681909410427,1.2581067321286046,-0.23448306331222418,-0.43196872710173995,-0.13422166623444162,-0.916134253624078,-0.28070162474793886,0.9520456681139606,-0.2839508570594622,-1.605523474096741,-1.0863518252056914,0.025308097274283906,0.06448363327448572,-0.761557429698844,0.10329503270324489,0.4122547806086187,-1.199652516293543,0.8959886138160285,-0.4977888239267104,0.01348762881186117,0.48002483050913747,1.7292547102720466,0.3652142333994519,1.5914138134642886,-0.05457538970538982,0.7492853215006533,1.7142499472823864,-0.9850415204347099,0.6388438927953487,0.4138487334186722,-0.8905539048608643,-1.0279145122359281,0.9414427655613998,0.25918463510371625,-0.19729832180784007,-0.390909039372285,-0.7835258859704143,-1.4253341321155104,0.04927046360645166,0.2651329981190324,1.6619499989545055,0.4802126318651488,2.5923259691026233,-0.42748881665069555,0.290167317223398,0.5103695762182319,1.2582990267796612,1.3556684561143955,-1.2007802646175456,0.3295112813582968,0.555959784639183,-0.11942895049017666,-0.16790176725326109,1.5091104754329279,-1.2444322169182427,0.8543033955585018,0.3555174210748361,0.4288090890373574],\"type\":\"box\"}],                        {\"legend\":{\"bgcolor\":\"#F5F6F9\",\"font\":{\"color\":\"#4D5663\"}},\"paper_bgcolor\":\"#F5F6F9\",\"plot_bgcolor\":\"#F5F6F9\",\"template\":{\"data\":{\"barpolar\":[{\"marker\":{\"line\":{\"color\":\"#E5ECF6\",\"width\":0.5},\"pattern\":{\"fillmode\":\"overlay\",\"size\":10,\"solidity\":0.2}},\"type\":\"barpolar\"}],\"bar\":[{\"error_x\":{\"color\":\"#2a3f5f\"},\"error_y\":{\"color\":\"#2a3f5f\"},\"marker\":{\"line\":{\"color\":\"#E5ECF6\",\"width\":0.5},\"pattern\":{\"fillmode\":\"overlay\",\"size\":10,\"solidity\":0.2}},\"type\":\"bar\"}],\"carpet\":[{\"aaxis\":{\"endlinecolor\":\"#2a3f5f\",\"gridcolor\":\"white\",\"linecolor\":\"white\",\"minorgridcolor\":\"white\",\"startlinecolor\":\"#2a3f5f\"},\"baxis\":{\"endlinecolor\":\"#2a3f5f\",\"gridcolor\":\"white\",\"linecolor\":\"white\",\"minorgridcolor\":\"white\",\"startlinecolor\":\"#2a3f5f\"},\"type\":\"carpet\"}],\"choropleth\":[{\"colorbar\":{\"outlinewidth\":0,\"ticks\":\"\"},\"type\":\"choropleth\"}],\"contourcarpet\":[{\"colorbar\":{\"outlinewidth\":0,\"ticks\":\"\"},\"type\":\"contourcarpet\"}],\"contour\":[{\"colorbar\":{\"outlinewidth\":0,\"ticks\":\"\"},\"colorscale\":[[0.0,\"#0d0887\"],[0.1111111111111111,\"#46039f\"],[0.2222222222222222,\"#7201a8\"],[0.3333333333333333,\"#9c179e\"],[0.4444444444444444,\"#bd3786\"],[0.5555555555555556,\"#d8576b\"],[0.6666666666666666,\"#ed7953\"],[0.7777777777777778,\"#fb9f3a\"],[0.8888888888888888,\"#fdca26\"],[1.0,\"#f0f921\"]],\"type\":\"contour\"}],\"heatmapgl\":[{\"colorbar\":{\"outlinewidth\":0,\"ticks\":\"\"},\"colorscale\":[[0.0,\"#0d0887\"],[0.1111111111111111,\"#46039f\"],[0.2222222222222222,\"#7201a8\"],[0.3333333333333333,\"#9c179e\"],[0.4444444444444444,\"#bd3786\"],[0.5555555555555556,\"#d8576b\"],[0.6666666666666666,\"#ed7953\"],[0.7777777777777778,\"#fb9f3a\"],[0.8888888888888888,\"#fdca26\"],[1.0,\"#f0f921\"]],\"type\":\"heatmapgl\"}],\"heatmap\":[{\"colorbar\":{\"outlinewidth\":0,\"ticks\":\"\"},\"colorscale\":[[0.0,\"#0d0887\"],[0.1111111111111111,\"#46039f\"],[0.2222222222222222,\"#7201a8\"],[0.3333333333333333,\"#9c179e\"],[0.4444444444444444,\"#bd3786\"],[0.5555555555555556,\"#d8576b\"],[0.6666666666666666,\"#ed7953\"],[0.7777777777777778,\"#fb9f3a\"],[0.8888888888888888,\"#fdca26\"],[1.0,\"#f0f921\"]],\"type\":\"heatmap\"}],\"histogram2dcontour\":[{\"colorbar\":{\"outlinewidth\":0,\"ticks\":\"\"},\"colorscale\":[[0.0,\"#0d0887\"],[0.1111111111111111,\"#46039f\"],[0.2222222222222222,\"#7201a8\"],[0.3333333333333333,\"#9c179e\"],[0.4444444444444444,\"#bd3786\"],[0.5555555555555556,\"#d8576b\"],[0.6666666666666666,\"#ed7953\"],[0.7777777777777778,\"#fb9f3a\"],[0.8888888888888888,\"#fdca26\"],[1.0,\"#f0f921\"]],\"type\":\"histogram2dcontour\"}],\"histogram2d\":[{\"colorbar\":{\"outlinewidth\":0,\"ticks\":\"\"},\"colorscale\":[[0.0,\"#0d0887\"],[0.1111111111111111,\"#46039f\"],[0.2222222222222222,\"#7201a8\"],[0.3333333333333333,\"#9c179e\"],[0.4444444444444444,\"#bd3786\"],[0.5555555555555556,\"#d8576b\"],[0.6666666666666666,\"#ed7953\"],[0.7777777777777778,\"#fb9f3a\"],[0.8888888888888888,\"#fdca26\"],[1.0,\"#f0f921\"]],\"type\":\"histogram2d\"}],\"histogram\":[{\"marker\":{\"pattern\":{\"fillmode\":\"overlay\",\"size\":10,\"solidity\":0.2}},\"type\":\"histogram\"}],\"mesh3d\":[{\"colorbar\":{\"outlinewidth\":0,\"ticks\":\"\"},\"type\":\"mesh3d\"}],\"parcoords\":[{\"line\":{\"colorbar\":{\"outlinewidth\":0,\"ticks\":\"\"}},\"type\":\"parcoords\"}],\"pie\":[{\"automargin\":true,\"type\":\"pie\"}],\"scatter3d\":[{\"line\":{\"colorbar\":{\"outlinewidth\":0,\"ticks\":\"\"}},\"marker\":{\"colorbar\":{\"outlinewidth\":0,\"ticks\":\"\"}},\"type\":\"scatter3d\"}],\"scattercarpet\":[{\"marker\":{\"colorbar\":{\"outlinewidth\":0,\"ticks\":\"\"}},\"type\":\"scattercarpet\"}],\"scattergeo\":[{\"marker\":{\"colorbar\":{\"outlinewidth\":0,\"ticks\":\"\"}},\"type\":\"scattergeo\"}],\"scattergl\":[{\"marker\":{\"colorbar\":{\"outlinewidth\":0,\"ticks\":\"\"}},\"type\":\"scattergl\"}],\"scattermapbox\":[{\"marker\":{\"colorbar\":{\"outlinewidth\":0,\"ticks\":\"\"}},\"type\":\"scattermapbox\"}],\"scatterpolargl\":[{\"marker\":{\"colorbar\":{\"outlinewidth\":0,\"ticks\":\"\"}},\"type\":\"scatterpolargl\"}],\"scatterpolar\":[{\"marker\":{\"colorbar\":{\"outlinewidth\":0,\"ticks\":\"\"}},\"type\":\"scatterpolar\"}],\"scatter\":[{\"fillpattern\":{\"fillmode\":\"overlay\",\"size\":10,\"solidity\":0.2},\"type\":\"scatter\"}],\"scatterternary\":[{\"marker\":{\"colorbar\":{\"outlinewidth\":0,\"ticks\":\"\"}},\"type\":\"scatterternary\"}],\"surface\":[{\"colorbar\":{\"outlinewidth\":0,\"ticks\":\"\"},\"colorscale\":[[0.0,\"#0d0887\"],[0.1111111111111111,\"#46039f\"],[0.2222222222222222,\"#7201a8\"],[0.3333333333333333,\"#9c179e\"],[0.4444444444444444,\"#bd3786\"],[0.5555555555555556,\"#d8576b\"],[0.6666666666666666,\"#ed7953\"],[0.7777777777777778,\"#fb9f3a\"],[0.8888888888888888,\"#fdca26\"],[1.0,\"#f0f921\"]],\"type\":\"surface\"}],\"table\":[{\"cells\":{\"fill\":{\"color\":\"#EBF0F8\"},\"line\":{\"color\":\"white\"}},\"header\":{\"fill\":{\"color\":\"#C8D4E3\"},\"line\":{\"color\":\"white\"}},\"type\":\"table\"}]},\"layout\":{\"annotationdefaults\":{\"arrowcolor\":\"#2a3f5f\",\"arrowhead\":0,\"arrowwidth\":1},\"autotypenumbers\":\"strict\",\"coloraxis\":{\"colorbar\":{\"outlinewidth\":0,\"ticks\":\"\"}},\"colorscale\":{\"diverging\":[[0,\"#8e0152\"],[0.1,\"#c51b7d\"],[0.2,\"#de77ae\"],[0.3,\"#f1b6da\"],[0.4,\"#fde0ef\"],[0.5,\"#f7f7f7\"],[0.6,\"#e6f5d0\"],[0.7,\"#b8e186\"],[0.8,\"#7fbc41\"],[0.9,\"#4d9221\"],[1,\"#276419\"]],\"sequential\":[[0.0,\"#0d0887\"],[0.1111111111111111,\"#46039f\"],[0.2222222222222222,\"#7201a8\"],[0.3333333333333333,\"#9c179e\"],[0.4444444444444444,\"#bd3786\"],[0.5555555555555556,\"#d8576b\"],[0.6666666666666666,\"#ed7953\"],[0.7777777777777778,\"#fb9f3a\"],[0.8888888888888888,\"#fdca26\"],[1.0,\"#f0f921\"]],\"sequentialminus\":[[0.0,\"#0d0887\"],[0.1111111111111111,\"#46039f\"],[0.2222222222222222,\"#7201a8\"],[0.3333333333333333,\"#9c179e\"],[0.4444444444444444,\"#bd3786\"],[0.5555555555555556,\"#d8576b\"],[0.6666666666666666,\"#ed7953\"],[0.7777777777777778,\"#fb9f3a\"],[0.8888888888888888,\"#fdca26\"],[1.0,\"#f0f921\"]]},\"colorway\":[\"#636efa\",\"#EF553B\",\"#00cc96\",\"#ab63fa\",\"#FFA15A\",\"#19d3f3\",\"#FF6692\",\"#B6E880\",\"#FF97FF\",\"#FECB52\"],\"font\":{\"color\":\"#2a3f5f\"},\"geo\":{\"bgcolor\":\"white\",\"lakecolor\":\"white\",\"landcolor\":\"#E5ECF6\",\"showlakes\":true,\"showland\":true,\"subunitcolor\":\"white\"},\"hoverlabel\":{\"align\":\"left\"},\"hovermode\":\"closest\",\"mapbox\":{\"style\":\"light\"},\"paper_bgcolor\":\"white\",\"plot_bgcolor\":\"#E5ECF6\",\"polar\":{\"angularaxis\":{\"gridcolor\":\"white\",\"linecolor\":\"white\",\"ticks\":\"\"},\"bgcolor\":\"#E5ECF6\",\"radialaxis\":{\"gridcolor\":\"white\",\"linecolor\":\"white\",\"ticks\":\"\"}},\"scene\":{\"xaxis\":{\"backgroundcolor\":\"#E5ECF6\",\"gridcolor\":\"white\",\"gridwidth\":2,\"linecolor\":\"white\",\"showbackground\":true,\"ticks\":\"\",\"zerolinecolor\":\"white\"},\"yaxis\":{\"backgroundcolor\":\"#E5ECF6\",\"gridcolor\":\"white\",\"gridwidth\":2,\"linecolor\":\"white\",\"showbackground\":true,\"ticks\":\"\",\"zerolinecolor\":\"white\"},\"zaxis\":{\"backgroundcolor\":\"#E5ECF6\",\"gridcolor\":\"white\",\"gridwidth\":2,\"linecolor\":\"white\",\"showbackground\":true,\"ticks\":\"\",\"zerolinecolor\":\"white\"}},\"shapedefaults\":{\"line\":{\"color\":\"#2a3f5f\"}},\"ternary\":{\"aaxis\":{\"gridcolor\":\"white\",\"linecolor\":\"white\",\"ticks\":\"\"},\"baxis\":{\"gridcolor\":\"white\",\"linecolor\":\"white\",\"ticks\":\"\"},\"bgcolor\":\"#E5ECF6\",\"caxis\":{\"gridcolor\":\"white\",\"linecolor\":\"white\",\"ticks\":\"\"}},\"title\":{\"x\":0.05},\"xaxis\":{\"automargin\":true,\"gridcolor\":\"white\",\"linecolor\":\"white\",\"ticks\":\"\",\"title\":{\"standoff\":15},\"zerolinecolor\":\"white\",\"zerolinewidth\":2},\"yaxis\":{\"automargin\":true,\"gridcolor\":\"white\",\"linecolor\":\"white\",\"ticks\":\"\",\"title\":{\"standoff\":15},\"zerolinecolor\":\"white\",\"zerolinewidth\":2}}},\"title\":{\"font\":{\"color\":\"#4D5663\"}},\"xaxis\":{\"gridcolor\":\"#E1E5ED\",\"showgrid\":true,\"tickfont\":{\"color\":\"#4D5663\"},\"title\":{\"font\":{\"color\":\"#4D5663\"},\"text\":\"\"},\"zerolinecolor\":\"#E1E5ED\"},\"yaxis\":{\"gridcolor\":\"#E1E5ED\",\"showgrid\":true,\"tickfont\":{\"color\":\"#4D5663\"},\"title\":{\"font\":{\"color\":\"#4D5663\"},\"text\":\"\"},\"zerolinecolor\":\"#E1E5ED\"}},                        {\"showLink\": true, \"linkText\": \"Export to plot.ly\", \"plotlyServerURL\": \"https://plot.ly\", \"responsive\": true}                    ).then(function(){\n",
       "                            \n",
       "var gd = document.getElementById('9543e01e-7a68-4006-a21f-f07c4cedb68e');\n",
       "var x = new MutationObserver(function (mutations, observer) {{\n",
       "        var display = window.getComputedStyle(gd).display;\n",
       "        if (!display || display === 'none') {{\n",
       "            console.log([gd, 'removed!']);\n",
       "            Plotly.purge(gd);\n",
       "            observer.disconnect();\n",
       "        }}\n",
       "}});\n",
       "\n",
       "// Listen for the removal of the full notebook cells\n",
       "var notebookContainer = gd.closest('#notebook-container');\n",
       "if (notebookContainer) {{\n",
       "    x.observe(notebookContainer, {childList: true});\n",
       "}}\n",
       "\n",
       "// Listen for the clearing of the current output cell\n",
       "var outputEl = gd.closest('.output');\n",
       "if (outputEl) {{\n",
       "    x.observe(outputEl, {childList: true});\n",
       "}}\n",
       "\n",
       "                        })                };                });            </script>        </div>"
      ]
     },
     "metadata": {},
     "output_type": "display_data"
    }
   ],
   "source": [
    "df.iplot(kind='box')"
   ]
  },
  {
   "cell_type": "code",
   "execution_count": 75,
   "id": "5493f369-5d53-47ee-ab1d-ba5009c6589d",
   "metadata": {},
   "outputs": [],
   "source": [
    "df3=pd.DataFrame({'x':[1,2,3,4,5],'y':[10,20,30,40,50],'z':[5,4,3,2,1]})"
   ]
  },
  {
   "cell_type": "code",
   "execution_count": 97,
   "id": "0d28e2f1-e806-45cb-9181-41195eb9d148",
   "metadata": {},
   "outputs": [
    {
     "data": {
      "application/vnd.plotly.v1+json": {
       "config": {
        "linkText": "Export to plot.ly",
        "plotlyServerURL": "https://plot.ly",
        "showLink": true
       },
       "data": [
        {
         "colorscale": [
          [
           0,
           "rgb(165,0,38)"
          ],
          [
           0.1,
           "rgb(215,48,39)"
          ],
          [
           0.2,
           "rgb(244,109,67)"
          ],
          [
           0.3,
           "rgb(253,174,97)"
          ],
          [
           0.4,
           "rgb(254,224,144)"
          ],
          [
           0.5,
           "rgb(255,255,191)"
          ],
          [
           0.6,
           "rgb(224,243,248)"
          ],
          [
           0.7,
           "rgb(171,217,233)"
          ],
          [
           0.8,
           "rgb(116,173,209)"
          ],
          [
           0.9,
           "rgb(69,117,180)"
          ],
          [
           1,
           "rgb(49,54,149)"
          ]
         ],
         "type": "surface",
         "x": [
          0,
          1,
          2,
          3,
          4
         ],
         "y": [
          "x",
          "y",
          "z"
         ],
         "z": [
          [
           1,
           2,
           3,
           4,
           5
          ],
          [
           10,
           20,
           30,
           40,
           50
          ],
          [
           5,
           4,
           3,
           2,
           1
          ]
         ]
        }
       ],
       "layout": {
        "autosize": true,
        "legend": {
         "bgcolor": "#F5F6F9",
         "font": {
          "color": "#4D5663"
         }
        },
        "paper_bgcolor": "#F5F6F9",
        "plot_bgcolor": "#F5F6F9",
        "scene": {
         "aspectmode": "auto",
         "aspectratio": {
          "x": 1,
          "y": 1,
          "z": 1
         },
         "camera": {
          "center": {
           "x": 0,
           "y": 0,
           "z": 0
          },
          "eye": {
           "x": 1.4971240228229927,
           "y": 1.4971240228229925,
           "z": 1.4971240228229927
          },
          "projection": {
           "type": "perspective"
          },
          "up": {
           "x": 0,
           "y": 0,
           "z": 1
          }
         }
        },
        "template": {
         "data": {
          "bar": [
           {
            "error_x": {
             "color": "#2a3f5f"
            },
            "error_y": {
             "color": "#2a3f5f"
            },
            "marker": {
             "line": {
              "color": "#E5ECF6",
              "width": 0.5
             },
             "pattern": {
              "fillmode": "overlay",
              "size": 10,
              "solidity": 0.2
             }
            },
            "type": "bar"
           }
          ],
          "barpolar": [
           {
            "marker": {
             "line": {
              "color": "#E5ECF6",
              "width": 0.5
             },
             "pattern": {
              "fillmode": "overlay",
              "size": 10,
              "solidity": 0.2
             }
            },
            "type": "barpolar"
           }
          ],
          "carpet": [
           {
            "aaxis": {
             "endlinecolor": "#2a3f5f",
             "gridcolor": "white",
             "linecolor": "white",
             "minorgridcolor": "white",
             "startlinecolor": "#2a3f5f"
            },
            "baxis": {
             "endlinecolor": "#2a3f5f",
             "gridcolor": "white",
             "linecolor": "white",
             "minorgridcolor": "white",
             "startlinecolor": "#2a3f5f"
            },
            "type": "carpet"
           }
          ],
          "choropleth": [
           {
            "colorbar": {
             "outlinewidth": 0,
             "ticks": ""
            },
            "type": "choropleth"
           }
          ],
          "contour": [
           {
            "colorbar": {
             "outlinewidth": 0,
             "ticks": ""
            },
            "colorscale": [
             [
              0,
              "#0d0887"
             ],
             [
              0.1111111111111111,
              "#46039f"
             ],
             [
              0.2222222222222222,
              "#7201a8"
             ],
             [
              0.3333333333333333,
              "#9c179e"
             ],
             [
              0.4444444444444444,
              "#bd3786"
             ],
             [
              0.5555555555555556,
              "#d8576b"
             ],
             [
              0.6666666666666666,
              "#ed7953"
             ],
             [
              0.7777777777777778,
              "#fb9f3a"
             ],
             [
              0.8888888888888888,
              "#fdca26"
             ],
             [
              1,
              "#f0f921"
             ]
            ],
            "type": "contour"
           }
          ],
          "contourcarpet": [
           {
            "colorbar": {
             "outlinewidth": 0,
             "ticks": ""
            },
            "type": "contourcarpet"
           }
          ],
          "heatmap": [
           {
            "colorbar": {
             "outlinewidth": 0,
             "ticks": ""
            },
            "colorscale": [
             [
              0,
              "#0d0887"
             ],
             [
              0.1111111111111111,
              "#46039f"
             ],
             [
              0.2222222222222222,
              "#7201a8"
             ],
             [
              0.3333333333333333,
              "#9c179e"
             ],
             [
              0.4444444444444444,
              "#bd3786"
             ],
             [
              0.5555555555555556,
              "#d8576b"
             ],
             [
              0.6666666666666666,
              "#ed7953"
             ],
             [
              0.7777777777777778,
              "#fb9f3a"
             ],
             [
              0.8888888888888888,
              "#fdca26"
             ],
             [
              1,
              "#f0f921"
             ]
            ],
            "type": "heatmap"
           }
          ],
          "heatmapgl": [
           {
            "colorbar": {
             "outlinewidth": 0,
             "ticks": ""
            },
            "colorscale": [
             [
              0,
              "#0d0887"
             ],
             [
              0.1111111111111111,
              "#46039f"
             ],
             [
              0.2222222222222222,
              "#7201a8"
             ],
             [
              0.3333333333333333,
              "#9c179e"
             ],
             [
              0.4444444444444444,
              "#bd3786"
             ],
             [
              0.5555555555555556,
              "#d8576b"
             ],
             [
              0.6666666666666666,
              "#ed7953"
             ],
             [
              0.7777777777777778,
              "#fb9f3a"
             ],
             [
              0.8888888888888888,
              "#fdca26"
             ],
             [
              1,
              "#f0f921"
             ]
            ],
            "type": "heatmapgl"
           }
          ],
          "histogram": [
           {
            "marker": {
             "pattern": {
              "fillmode": "overlay",
              "size": 10,
              "solidity": 0.2
             }
            },
            "type": "histogram"
           }
          ],
          "histogram2d": [
           {
            "colorbar": {
             "outlinewidth": 0,
             "ticks": ""
            },
            "colorscale": [
             [
              0,
              "#0d0887"
             ],
             [
              0.1111111111111111,
              "#46039f"
             ],
             [
              0.2222222222222222,
              "#7201a8"
             ],
             [
              0.3333333333333333,
              "#9c179e"
             ],
             [
              0.4444444444444444,
              "#bd3786"
             ],
             [
              0.5555555555555556,
              "#d8576b"
             ],
             [
              0.6666666666666666,
              "#ed7953"
             ],
             [
              0.7777777777777778,
              "#fb9f3a"
             ],
             [
              0.8888888888888888,
              "#fdca26"
             ],
             [
              1,
              "#f0f921"
             ]
            ],
            "type": "histogram2d"
           }
          ],
          "histogram2dcontour": [
           {
            "colorbar": {
             "outlinewidth": 0,
             "ticks": ""
            },
            "colorscale": [
             [
              0,
              "#0d0887"
             ],
             [
              0.1111111111111111,
              "#46039f"
             ],
             [
              0.2222222222222222,
              "#7201a8"
             ],
             [
              0.3333333333333333,
              "#9c179e"
             ],
             [
              0.4444444444444444,
              "#bd3786"
             ],
             [
              0.5555555555555556,
              "#d8576b"
             ],
             [
              0.6666666666666666,
              "#ed7953"
             ],
             [
              0.7777777777777778,
              "#fb9f3a"
             ],
             [
              0.8888888888888888,
              "#fdca26"
             ],
             [
              1,
              "#f0f921"
             ]
            ],
            "type": "histogram2dcontour"
           }
          ],
          "mesh3d": [
           {
            "colorbar": {
             "outlinewidth": 0,
             "ticks": ""
            },
            "type": "mesh3d"
           }
          ],
          "parcoords": [
           {
            "line": {
             "colorbar": {
              "outlinewidth": 0,
              "ticks": ""
             }
            },
            "type": "parcoords"
           }
          ],
          "pie": [
           {
            "automargin": true,
            "type": "pie"
           }
          ],
          "scatter": [
           {
            "fillpattern": {
             "fillmode": "overlay",
             "size": 10,
             "solidity": 0.2
            },
            "type": "scatter"
           }
          ],
          "scatter3d": [
           {
            "line": {
             "colorbar": {
              "outlinewidth": 0,
              "ticks": ""
             }
            },
            "marker": {
             "colorbar": {
              "outlinewidth": 0,
              "ticks": ""
             }
            },
            "type": "scatter3d"
           }
          ],
          "scattercarpet": [
           {
            "marker": {
             "colorbar": {
              "outlinewidth": 0,
              "ticks": ""
             }
            },
            "type": "scattercarpet"
           }
          ],
          "scattergeo": [
           {
            "marker": {
             "colorbar": {
              "outlinewidth": 0,
              "ticks": ""
             }
            },
            "type": "scattergeo"
           }
          ],
          "scattergl": [
           {
            "marker": {
             "colorbar": {
              "outlinewidth": 0,
              "ticks": ""
             }
            },
            "type": "scattergl"
           }
          ],
          "scattermapbox": [
           {
            "marker": {
             "colorbar": {
              "outlinewidth": 0,
              "ticks": ""
             }
            },
            "type": "scattermapbox"
           }
          ],
          "scatterpolar": [
           {
            "marker": {
             "colorbar": {
              "outlinewidth": 0,
              "ticks": ""
             }
            },
            "type": "scatterpolar"
           }
          ],
          "scatterpolargl": [
           {
            "marker": {
             "colorbar": {
              "outlinewidth": 0,
              "ticks": ""
             }
            },
            "type": "scatterpolargl"
           }
          ],
          "scatterternary": [
           {
            "marker": {
             "colorbar": {
              "outlinewidth": 0,
              "ticks": ""
             }
            },
            "type": "scatterternary"
           }
          ],
          "surface": [
           {
            "colorbar": {
             "outlinewidth": 0,
             "ticks": ""
            },
            "colorscale": [
             [
              0,
              "#0d0887"
             ],
             [
              0.1111111111111111,
              "#46039f"
             ],
             [
              0.2222222222222222,
              "#7201a8"
             ],
             [
              0.3333333333333333,
              "#9c179e"
             ],
             [
              0.4444444444444444,
              "#bd3786"
             ],
             [
              0.5555555555555556,
              "#d8576b"
             ],
             [
              0.6666666666666666,
              "#ed7953"
             ],
             [
              0.7777777777777778,
              "#fb9f3a"
             ],
             [
              0.8888888888888888,
              "#fdca26"
             ],
             [
              1,
              "#f0f921"
             ]
            ],
            "type": "surface"
           }
          ],
          "table": [
           {
            "cells": {
             "fill": {
              "color": "#EBF0F8"
             },
             "line": {
              "color": "white"
             }
            },
            "header": {
             "fill": {
              "color": "#C8D4E3"
             },
             "line": {
              "color": "white"
             }
            },
            "type": "table"
           }
          ]
         },
         "layout": {
          "annotationdefaults": {
           "arrowcolor": "#2a3f5f",
           "arrowhead": 0,
           "arrowwidth": 1
          },
          "autotypenumbers": "strict",
          "coloraxis": {
           "colorbar": {
            "outlinewidth": 0,
            "ticks": ""
           }
          },
          "colorscale": {
           "diverging": [
            [
             0,
             "#8e0152"
            ],
            [
             0.1,
             "#c51b7d"
            ],
            [
             0.2,
             "#de77ae"
            ],
            [
             0.3,
             "#f1b6da"
            ],
            [
             0.4,
             "#fde0ef"
            ],
            [
             0.5,
             "#f7f7f7"
            ],
            [
             0.6,
             "#e6f5d0"
            ],
            [
             0.7,
             "#b8e186"
            ],
            [
             0.8,
             "#7fbc41"
            ],
            [
             0.9,
             "#4d9221"
            ],
            [
             1,
             "#276419"
            ]
           ],
           "sequential": [
            [
             0,
             "#0d0887"
            ],
            [
             0.1111111111111111,
             "#46039f"
            ],
            [
             0.2222222222222222,
             "#7201a8"
            ],
            [
             0.3333333333333333,
             "#9c179e"
            ],
            [
             0.4444444444444444,
             "#bd3786"
            ],
            [
             0.5555555555555556,
             "#d8576b"
            ],
            [
             0.6666666666666666,
             "#ed7953"
            ],
            [
             0.7777777777777778,
             "#fb9f3a"
            ],
            [
             0.8888888888888888,
             "#fdca26"
            ],
            [
             1,
             "#f0f921"
            ]
           ],
           "sequentialminus": [
            [
             0,
             "#0d0887"
            ],
            [
             0.1111111111111111,
             "#46039f"
            ],
            [
             0.2222222222222222,
             "#7201a8"
            ],
            [
             0.3333333333333333,
             "#9c179e"
            ],
            [
             0.4444444444444444,
             "#bd3786"
            ],
            [
             0.5555555555555556,
             "#d8576b"
            ],
            [
             0.6666666666666666,
             "#ed7953"
            ],
            [
             0.7777777777777778,
             "#fb9f3a"
            ],
            [
             0.8888888888888888,
             "#fdca26"
            ],
            [
             1,
             "#f0f921"
            ]
           ]
          },
          "colorway": [
           "#636efa",
           "#EF553B",
           "#00cc96",
           "#ab63fa",
           "#FFA15A",
           "#19d3f3",
           "#FF6692",
           "#B6E880",
           "#FF97FF",
           "#FECB52"
          ],
          "font": {
           "color": "#2a3f5f"
          },
          "geo": {
           "bgcolor": "white",
           "lakecolor": "white",
           "landcolor": "#E5ECF6",
           "showlakes": true,
           "showland": true,
           "subunitcolor": "white"
          },
          "hoverlabel": {
           "align": "left"
          },
          "hovermode": "closest",
          "mapbox": {
           "style": "light"
          },
          "paper_bgcolor": "white",
          "plot_bgcolor": "#E5ECF6",
          "polar": {
           "angularaxis": {
            "gridcolor": "white",
            "linecolor": "white",
            "ticks": ""
           },
           "bgcolor": "#E5ECF6",
           "radialaxis": {
            "gridcolor": "white",
            "linecolor": "white",
            "ticks": ""
           }
          },
          "scene": {
           "xaxis": {
            "backgroundcolor": "#E5ECF6",
            "gridcolor": "white",
            "gridwidth": 2,
            "linecolor": "white",
            "showbackground": true,
            "ticks": "",
            "zerolinecolor": "white"
           },
           "yaxis": {
            "backgroundcolor": "#E5ECF6",
            "gridcolor": "white",
            "gridwidth": 2,
            "linecolor": "white",
            "showbackground": true,
            "ticks": "",
            "zerolinecolor": "white"
           },
           "zaxis": {
            "backgroundcolor": "#E5ECF6",
            "gridcolor": "white",
            "gridwidth": 2,
            "linecolor": "white",
            "showbackground": true,
            "ticks": "",
            "zerolinecolor": "white"
           }
          },
          "shapedefaults": {
           "line": {
            "color": "#2a3f5f"
           }
          },
          "ternary": {
           "aaxis": {
            "gridcolor": "white",
            "linecolor": "white",
            "ticks": ""
           },
           "baxis": {
            "gridcolor": "white",
            "linecolor": "white",
            "ticks": ""
           },
           "bgcolor": "#E5ECF6",
           "caxis": {
            "gridcolor": "white",
            "linecolor": "white",
            "ticks": ""
           }
          },
          "title": {
           "x": 0.05
          },
          "xaxis": {
           "automargin": true,
           "gridcolor": "white",
           "linecolor": "white",
           "ticks": "",
           "title": {
            "standoff": 15
           },
           "zerolinecolor": "white",
           "zerolinewidth": 2
          },
          "yaxis": {
           "automargin": true,
           "gridcolor": "white",
           "linecolor": "white",
           "ticks": "",
           "title": {
            "standoff": 15
           },
           "zerolinecolor": "white",
           "zerolinewidth": 2
          }
         }
        },
        "title": {
         "font": {
          "color": "#4D5663"
         }
        },
        "xaxis": {
         "gridcolor": "#E1E5ED",
         "showgrid": true,
         "tickfont": {
          "color": "#4D5663"
         },
         "title": {
          "font": {
           "color": "#4D5663"
          },
          "text": ""
         },
         "zerolinecolor": "#E1E5ED"
        },
        "yaxis": {
         "gridcolor": "#E1E5ED",
         "showgrid": true,
         "tickfont": {
          "color": "#4D5663"
         },
         "title": {
          "font": {
           "color": "#4D5663"
          },
          "text": ""
         },
         "zerolinecolor": "#E1E5ED"
        }
       }
      },
      "image/png": "[encoded data removed]",
      "text/html": [
       "<div>                            <div id=\"b1d6af23-025b-41f8-bd17-1a94ef332c26\" class=\"plotly-graph-div\" style=\"height:525px; width:100%;\"></div>            <script type=\"text/javascript\">                require([\"plotly\"], function(Plotly) {                    window.PLOTLYENV=window.PLOTLYENV || {};\n",
       "                    window.PLOTLYENV.BASE_URL='https://plot.ly';                                    if (document.getElementById(\"b1d6af23-025b-41f8-bd17-1a94ef332c26\")) {                    Plotly.newPlot(                        \"b1d6af23-025b-41f8-bd17-1a94ef332c26\",                        [{\"colorscale\":[[0.0,\"rgb(165,0,38)\"],[0.1,\"rgb(215,48,39)\"],[0.2,\"rgb(244,109,67)\"],[0.3,\"rgb(253,174,97)\"],[0.4,\"rgb(254,224,144)\"],[0.5,\"rgb(255,255,191)\"],[0.6,\"rgb(224,243,248)\"],[0.7,\"rgb(171,217,233)\"],[0.8,\"rgb(116,173,209)\"],[0.9,\"rgb(69,117,180)\"],[1.0,\"rgb(49,54,149)\"]],\"x\":[0,1,2,3,4],\"y\":[\"x\",\"y\",\"z\"],\"z\":[[1,2,3,4,5],[10,20,30,40,50],[5,4,3,2,1]],\"type\":\"surface\"}],                        {\"legend\":{\"bgcolor\":\"#F5F6F9\",\"font\":{\"color\":\"#4D5663\"}},\"paper_bgcolor\":\"#F5F6F9\",\"plot_bgcolor\":\"#F5F6F9\",\"template\":{\"data\":{\"barpolar\":[{\"marker\":{\"line\":{\"color\":\"#E5ECF6\",\"width\":0.5},\"pattern\":{\"fillmode\":\"overlay\",\"size\":10,\"solidity\":0.2}},\"type\":\"barpolar\"}],\"bar\":[{\"error_x\":{\"color\":\"#2a3f5f\"},\"error_y\":{\"color\":\"#2a3f5f\"},\"marker\":{\"line\":{\"color\":\"#E5ECF6\",\"width\":0.5},\"pattern\":{\"fillmode\":\"overlay\",\"size\":10,\"solidity\":0.2}},\"type\":\"bar\"}],\"carpet\":[{\"aaxis\":{\"endlinecolor\":\"#2a3f5f\",\"gridcolor\":\"white\",\"linecolor\":\"white\",\"minorgridcolor\":\"white\",\"startlinecolor\":\"#2a3f5f\"},\"baxis\":{\"endlinecolor\":\"#2a3f5f\",\"gridcolor\":\"white\",\"linecolor\":\"white\",\"minorgridcolor\":\"white\",\"startlinecolor\":\"#2a3f5f\"},\"type\":\"carpet\"}],\"choropleth\":[{\"colorbar\":{\"outlinewidth\":0,\"ticks\":\"\"},\"type\":\"choropleth\"}],\"contourcarpet\":[{\"colorbar\":{\"outlinewidth\":0,\"ticks\":\"\"},\"type\":\"contourcarpet\"}],\"contour\":[{\"colorbar\":{\"outlinewidth\":0,\"ticks\":\"\"},\"colorscale\":[[0.0,\"#0d0887\"],[0.1111111111111111,\"#46039f\"],[0.2222222222222222,\"#7201a8\"],[0.3333333333333333,\"#9c179e\"],[0.4444444444444444,\"#bd3786\"],[0.5555555555555556,\"#d8576b\"],[0.6666666666666666,\"#ed7953\"],[0.7777777777777778,\"#fb9f3a\"],[0.8888888888888888,\"#fdca26\"],[1.0,\"#f0f921\"]],\"type\":\"contour\"}],\"heatmapgl\":[{\"colorbar\":{\"outlinewidth\":0,\"ticks\":\"\"},\"colorscale\":[[0.0,\"#0d0887\"],[0.1111111111111111,\"#46039f\"],[0.2222222222222222,\"#7201a8\"],[0.3333333333333333,\"#9c179e\"],[0.4444444444444444,\"#bd3786\"],[0.5555555555555556,\"#d8576b\"],[0.6666666666666666,\"#ed7953\"],[0.7777777777777778,\"#fb9f3a\"],[0.8888888888888888,\"#fdca26\"],[1.0,\"#f0f921\"]],\"type\":\"heatmapgl\"}],\"heatmap\":[{\"colorbar\":{\"outlinewidth\":0,\"ticks\":\"\"},\"colorscale\":[[0.0,\"#0d0887\"],[0.1111111111111111,\"#46039f\"],[0.2222222222222222,\"#7201a8\"],[0.3333333333333333,\"#9c179e\"],[0.4444444444444444,\"#bd3786\"],[0.5555555555555556,\"#d8576b\"],[0.6666666666666666,\"#ed7953\"],[0.7777777777777778,\"#fb9f3a\"],[0.8888888888888888,\"#fdca26\"],[1.0,\"#f0f921\"]],\"type\":\"heatmap\"}],\"histogram2dcontour\":[{\"colorbar\":{\"outlinewidth\":0,\"ticks\":\"\"},\"colorscale\":[[0.0,\"#0d0887\"],[0.1111111111111111,\"#46039f\"],[0.2222222222222222,\"#7201a8\"],[0.3333333333333333,\"#9c179e\"],[0.4444444444444444,\"#bd3786\"],[0.5555555555555556,\"#d8576b\"],[0.6666666666666666,\"#ed7953\"],[0.7777777777777778,\"#fb9f3a\"],[0.8888888888888888,\"#fdca26\"],[1.0,\"#f0f921\"]],\"type\":\"histogram2dcontour\"}],\"histogram2d\":[{\"colorbar\":{\"outlinewidth\":0,\"ticks\":\"\"},\"colorscale\":[[0.0,\"#0d0887\"],[0.1111111111111111,\"#46039f\"],[0.2222222222222222,\"#7201a8\"],[0.3333333333333333,\"#9c179e\"],[0.4444444444444444,\"#bd3786\"],[0.5555555555555556,\"#d8576b\"],[0.6666666666666666,\"#ed7953\"],[0.7777777777777778,\"#fb9f3a\"],[0.8888888888888888,\"#fdca26\"],[1.0,\"#f0f921\"]],\"type\":\"histogram2d\"}],\"histogram\":[{\"marker\":{\"pattern\":{\"fillmode\":\"overlay\",\"size\":10,\"solidity\":0.2}},\"type\":\"histogram\"}],\"mesh3d\":[{\"colorbar\":{\"outlinewidth\":0,\"ticks\":\"\"},\"type\":\"mesh3d\"}],\"parcoords\":[{\"line\":{\"colorbar\":{\"outlinewidth\":0,\"ticks\":\"\"}},\"type\":\"parcoords\"}],\"pie\":[{\"automargin\":true,\"type\":\"pie\"}],\"scatter3d\":[{\"line\":{\"colorbar\":{\"outlinewidth\":0,\"ticks\":\"\"}},\"marker\":{\"colorbar\":{\"outlinewidth\":0,\"ticks\":\"\"}},\"type\":\"scatter3d\"}],\"scattercarpet\":[{\"marker\":{\"colorbar\":{\"outlinewidth\":0,\"ticks\":\"\"}},\"type\":\"scattercarpet\"}],\"scattergeo\":[{\"marker\":{\"colorbar\":{\"outlinewidth\":0,\"ticks\":\"\"}},\"type\":\"scattergeo\"}],\"scattergl\":[{\"marker\":{\"colorbar\":{\"outlinewidth\":0,\"ticks\":\"\"}},\"type\":\"scattergl\"}],\"scattermapbox\":[{\"marker\":{\"colorbar\":{\"outlinewidth\":0,\"ticks\":\"\"}},\"type\":\"scattermapbox\"}],\"scatterpolargl\":[{\"marker\":{\"colorbar\":{\"outlinewidth\":0,\"ticks\":\"\"}},\"type\":\"scatterpolargl\"}],\"scatterpolar\":[{\"marker\":{\"colorbar\":{\"outlinewidth\":0,\"ticks\":\"\"}},\"type\":\"scatterpolar\"}],\"scatter\":[{\"fillpattern\":{\"fillmode\":\"overlay\",\"size\":10,\"solidity\":0.2},\"type\":\"scatter\"}],\"scatterternary\":[{\"marker\":{\"colorbar\":{\"outlinewidth\":0,\"ticks\":\"\"}},\"type\":\"scatterternary\"}],\"surface\":[{\"colorbar\":{\"outlinewidth\":0,\"ticks\":\"\"},\"colorscale\":[[0.0,\"#0d0887\"],[0.1111111111111111,\"#46039f\"],[0.2222222222222222,\"#7201a8\"],[0.3333333333333333,\"#9c179e\"],[0.4444444444444444,\"#bd3786\"],[0.5555555555555556,\"#d8576b\"],[0.6666666666666666,\"#ed7953\"],[0.7777777777777778,\"#fb9f3a\"],[0.8888888888888888,\"#fdca26\"],[1.0,\"#f0f921\"]],\"type\":\"surface\"}],\"table\":[{\"cells\":{\"fill\":{\"color\":\"#EBF0F8\"},\"line\":{\"color\":\"white\"}},\"header\":{\"fill\":{\"color\":\"#C8D4E3\"},\"line\":{\"color\":\"white\"}},\"type\":\"table\"}]},\"layout\":{\"annotationdefaults\":{\"arrowcolor\":\"#2a3f5f\",\"arrowhead\":0,\"arrowwidth\":1},\"autotypenumbers\":\"strict\",\"coloraxis\":{\"colorbar\":{\"outlinewidth\":0,\"ticks\":\"\"}},\"colorscale\":{\"diverging\":[[0,\"#8e0152\"],[0.1,\"#c51b7d\"],[0.2,\"#de77ae\"],[0.3,\"#f1b6da\"],[0.4,\"#fde0ef\"],[0.5,\"#f7f7f7\"],[0.6,\"#e6f5d0\"],[0.7,\"#b8e186\"],[0.8,\"#7fbc41\"],[0.9,\"#4d9221\"],[1,\"#276419\"]],\"sequential\":[[0.0,\"#0d0887\"],[0.1111111111111111,\"#46039f\"],[0.2222222222222222,\"#7201a8\"],[0.3333333333333333,\"#9c179e\"],[0.4444444444444444,\"#bd3786\"],[0.5555555555555556,\"#d8576b\"],[0.6666666666666666,\"#ed7953\"],[0.7777777777777778,\"#fb9f3a\"],[0.8888888888888888,\"#fdca26\"],[1.0,\"#f0f921\"]],\"sequentialminus\":[[0.0,\"#0d0887\"],[0.1111111111111111,\"#46039f\"],[0.2222222222222222,\"#7201a8\"],[0.3333333333333333,\"#9c179e\"],[0.4444444444444444,\"#bd3786\"],[0.5555555555555556,\"#d8576b\"],[0.6666666666666666,\"#ed7953\"],[0.7777777777777778,\"#fb9f3a\"],[0.8888888888888888,\"#fdca26\"],[1.0,\"#f0f921\"]]},\"colorway\":[\"#636efa\",\"#EF553B\",\"#00cc96\",\"#ab63fa\",\"#FFA15A\",\"#19d3f3\",\"#FF6692\",\"#B6E880\",\"#FF97FF\",\"#FECB52\"],\"font\":{\"color\":\"#2a3f5f\"},\"geo\":{\"bgcolor\":\"white\",\"lakecolor\":\"white\",\"landcolor\":\"#E5ECF6\",\"showlakes\":true,\"showland\":true,\"subunitcolor\":\"white\"},\"hoverlabel\":{\"align\":\"left\"},\"hovermode\":\"closest\",\"mapbox\":{\"style\":\"light\"},\"paper_bgcolor\":\"white\",\"plot_bgcolor\":\"#E5ECF6\",\"polar\":{\"angularaxis\":{\"gridcolor\":\"white\",\"linecolor\":\"white\",\"ticks\":\"\"},\"bgcolor\":\"#E5ECF6\",\"radialaxis\":{\"gridcolor\":\"white\",\"linecolor\":\"white\",\"ticks\":\"\"}},\"scene\":{\"xaxis\":{\"backgroundcolor\":\"#E5ECF6\",\"gridcolor\":\"white\",\"gridwidth\":2,\"linecolor\":\"white\",\"showbackground\":true,\"ticks\":\"\",\"zerolinecolor\":\"white\"},\"yaxis\":{\"backgroundcolor\":\"#E5ECF6\",\"gridcolor\":\"white\",\"gridwidth\":2,\"linecolor\":\"white\",\"showbackground\":true,\"ticks\":\"\",\"zerolinecolor\":\"white\"},\"zaxis\":{\"backgroundcolor\":\"#E5ECF6\",\"gridcolor\":\"white\",\"gridwidth\":2,\"linecolor\":\"white\",\"showbackground\":true,\"ticks\":\"\",\"zerolinecolor\":\"white\"}},\"shapedefaults\":{\"line\":{\"color\":\"#2a3f5f\"}},\"ternary\":{\"aaxis\":{\"gridcolor\":\"white\",\"linecolor\":\"white\",\"ticks\":\"\"},\"baxis\":{\"gridcolor\":\"white\",\"linecolor\":\"white\",\"ticks\":\"\"},\"bgcolor\":\"#E5ECF6\",\"caxis\":{\"gridcolor\":\"white\",\"linecolor\":\"white\",\"ticks\":\"\"}},\"title\":{\"x\":0.05},\"xaxis\":{\"automargin\":true,\"gridcolor\":\"white\",\"linecolor\":\"white\",\"ticks\":\"\",\"title\":{\"standoff\":15},\"zerolinecolor\":\"white\",\"zerolinewidth\":2},\"yaxis\":{\"automargin\":true,\"gridcolor\":\"white\",\"linecolor\":\"white\",\"ticks\":\"\",\"title\":{\"standoff\":15},\"zerolinecolor\":\"white\",\"zerolinewidth\":2}}},\"title\":{\"font\":{\"color\":\"#4D5663\"}},\"xaxis\":{\"gridcolor\":\"#E1E5ED\",\"showgrid\":true,\"tickfont\":{\"color\":\"#4D5663\"},\"title\":{\"font\":{\"color\":\"#4D5663\"},\"text\":\"\"},\"zerolinecolor\":\"#E1E5ED\"},\"yaxis\":{\"gridcolor\":\"#E1E5ED\",\"showgrid\":true,\"tickfont\":{\"color\":\"#4D5663\"},\"title\":{\"font\":{\"color\":\"#4D5663\"},\"text\":\"\"},\"zerolinecolor\":\"#E1E5ED\"}},                        {\"showLink\": true, \"linkText\": \"Export to plot.ly\", \"plotlyServerURL\": \"https://plot.ly\", \"responsive\": true}                    ).then(function(){\n",
       "                            \n",
       "var gd = document.getElementById('b1d6af23-025b-41f8-bd17-1a94ef332c26');\n",
       "var x = new MutationObserver(function (mutations, observer) {{\n",
       "        var display = window.getComputedStyle(gd).display;\n",
       "        if (!display || display === 'none') {{\n",
       "            console.log([gd, 'removed!']);\n",
       "            Plotly.purge(gd);\n",
       "            observer.disconnect();\n",
       "        }}\n",
       "}});\n",
       "\n",
       "// Listen for the removal of the full notebook cells\n",
       "var notebookContainer = gd.closest('#notebook-container');\n",
       "if (notebookContainer) {{\n",
       "    x.observe(notebookContainer, {childList: true});\n",
       "}}\n",
       "\n",
       "// Listen for the clearing of the current output cell\n",
       "var outputEl = gd.closest('.output');\n",
       "if (outputEl) {{\n",
       "    x.observe(outputEl, {childList: true});\n",
       "}}\n",
       "\n",
       "                        })                };                });            </script>        </div>"
      ]
     },
     "metadata": {},
     "output_type": "display_data"
    }
   ],
   "source": [
    "df3.iplot(kind='surface',colorscale='rdylbu')"
   ]
  },
  {
   "cell_type": "code",
   "execution_count": 87,
   "id": "9c1a642d-800d-44ad-b947-629313dc079a",
   "metadata": {},
   "outputs": [
    {
     "data": {
      "application/vnd.plotly.v1+json": {
       "config": {
        "linkText": "Export to plot.ly",
        "plotlyServerURL": "https://plot.ly",
        "showLink": true
       },
       "data": [
        {
         "histfunc": "count",
         "histnorm": "",
         "marker": {
          "color": "rgba(255, 153, 51, 1.0)",
          "line": {
           "color": "#4D5663",
           "width": 1.3
          }
         },
         "name": "A",
         "nbinsx": 25,
         "opacity": 0.8,
         "orientation": "v",
         "type": "histogram",
         "x": [
          0.3521248991125683,
          0.374378549462778,
          -0.8681275486234619,
          -1.527571333758755,
          -1.3900068126518048,
          -0.4114054920269361,
          0.15520020133584866,
          0.7384591641252498,
          -0.09712690742829033,
          -0.26819560829719846,
          1.1338755445610074,
          -1.4874831675677571,
          0.7051312012337357,
          -1.2024530037012553,
          -0.29809729403226287,
          0.23420816692031013,
          -1.1907221135276438,
          -0.19985732553043734,
          -0.6100052380320969,
          0.9797152589484669,
          0.5532180003133247,
          -1.2390461467516192,
          1.4175055278440405,
          -0.7828444487559498,
          1.2938009572926183,
          -0.8046173586032122,
          -0.9341045740226017,
          -2.1172419964169795,
          -0.015246331294103573,
          -0.4317235418042056,
          -0.490255626621109,
          -0.10495849562550795,
          0.4895473879909302,
          0.9230452012023029,
          -0.9019954565808412,
          -1.311884135102693,
          2.1622266360844407,
          -0.9981760527494739,
          -1.1669136579693293,
          -0.3878438473642099,
          -1.4062878330424886,
          0.9025854927347297,
          1.0662128436949465,
          1.2952217490953246,
          0.26758105507076246,
          -0.23889838423038862,
          -0.43765284660587417,
          -0.15293874988146516,
          0.8457208972983651,
          -0.12651619208777903,
          -0.12830107703185067,
          0.1905151734851748,
          -0.41358010360527675,
          -0.044092658442423424,
          1.40019571716128,
          -0.48424606902779,
          1.3956807833235683,
          0.2687615836341957,
          1.5571707452070334,
          -0.6360986721910912,
          0.626440960714626,
          -1.5397412105578578,
          -0.8981119577862499,
          1.0610658409579183,
          0.8903605943553875,
          0.17073795280636891,
          0.4268772526295468,
          -0.22528647908761543,
          1.2451042431352326,
          0.16225753274666233,
          -0.8591418566134634,
          -0.9830915946369014,
          0.7391052150205726,
          -0.22235452886232096,
          0.36892299213007546,
          -0.41247121129127323,
          -1.134272171255948,
          0.4167587262034833,
          -0.07488677434197762,
          0.3863115228816906,
          -1.4541697028834588,
          -0.3416988673071571,
          -0.8558369938099291,
          0.7881715368230318,
          0.24315956283911963,
          -0.4890587435401381,
          -1.0192033454977736,
          0.8480397711023916,
          0.7591556284639237,
          -1.8384101909642117,
          0.07412638124788648,
          0.42968941865360294,
          0.6402117041777811,
          0.9430575520543083,
          0.6506280986774639,
          0.21082036382305874,
          0.36483477797329544,
          -1.055874549469489,
          -0.7137286648445479,
          0.9370985982210176
         ]
        },
        {
         "histfunc": "count",
         "histnorm": "",
         "marker": {
          "color": "rgba(55, 128, 191, 1.0)",
          "line": {
           "color": "#4D5663",
           "width": 1.3
          }
         },
         "name": "B",
         "nbinsx": 25,
         "opacity": 0.8,
         "orientation": "v",
         "type": "histogram",
         "visible": "legendonly",
         "x": [
          -0.3672400660188171,
          1.1723030793263862,
          0.4229211143763501,
          -1.5356190599328485,
          0.29258044314440335,
          -2.077842158921335,
          0.28512491387525263,
          -0.37926165771701653,
          0.29908568497608157,
          0.9443018696549622,
          -1.5967889033942413,
          -1.3887672722735456,
          -0.6641416375654052,
          -0.0639470087730585,
          -0.46663721396131613,
          -0.6295335086197471,
          0.5897981776073271,
          -1.7655390053108517,
          -0.060237541740192926,
          1.4702381311634727,
          -0.579730434241401,
          -0.6002929782656196,
          1.9181218447873463,
          -0.07074094133169188,
          0.1554365837641563,
          0.7018919084379145,
          -0.6418528714390223,
          -0.07787505719096816,
          0.8561862739788918,
          -0.04757433442450353,
          0.937486539183576,
          1.7446059049126703,
          -0.5779297950685147,
          -2.6904740459574996,
          -0.3263343249047711,
          0.5155591540762269,
          0.3498287948955922,
          0.28221116405487856,
          -0.766191809161088,
          -0.5213477645381658,
          0.708880192738116,
          2.0539874746295013,
          -1.2473316263033876,
          0.9476199776636521,
          0.8296837728135735,
          0.2582333472604082,
          -0.7780087626419847,
          -0.2812605671675329,
          1.7583789451772844,
          0.5612996509403224,
          0.014262775164241561,
          -0.023906427686685182,
          -1.6391439824939231,
          1.170887485480817,
          0.5950341792071205,
          -0.6608344171032432,
          0.6288046045099865,
          0.3841721295386118,
          1.5401405371003682,
          -1.8171836596773712,
          -0.7777492347930118,
          0.8959467876452509,
          -0.39984688974564636,
          -1.146909822561759,
          2.24056639133713,
          -0.5676541986251326,
          -0.4629548656750362,
          1.3889964902978318,
          -1.2245992643146717,
          -0.10367449206740265,
          0.9059640174215866,
          0.6786534543107289,
          -0.5540066332650183,
          -0.12598739875013132,
          1.3483800477887116,
          1.2078134648275922,
          0.35034451020220486,
          0.40338079190074544,
          0.06883393428501268,
          -1.253355144433232,
          -1.0346073711363797,
          -1.572317268003851,
          0.8314858329161572,
          0.24454223001424086,
          -0.6227120484695982,
          -0.3559554015358584,
          0.2143436464681599,
          0.9637507906816873,
          3.303530045792439,
          -1.5897202496106333,
          -0.6320262369164329,
          -0.07242936475366742,
          -0.9198386634299148,
          -0.5504794102299363,
          -1.7324629922232109,
          -0.946431143453696,
          0.4470946952370082,
          -1.0733428737514066,
          0.7032246421977343,
          -1.4584740632012463
         ]
        },
        {
         "histfunc": "count",
         "histnorm": "",
         "marker": {
          "color": "rgba(50, 171, 96, 1.0)",
          "line": {
           "color": "#4D5663",
           "width": 1.3
          }
         },
         "name": "C",
         "nbinsx": 25,
         "opacity": 0.8,
         "orientation": "v",
         "type": "histogram",
         "visible": "legendonly",
         "x": [
          0.040951349719290576,
          0.9163731498508584,
          0.2473149246675704,
          0.6355789757395596,
          2.0561229303330215,
          -0.8426823150555216,
          0.551260330683669,
          0.03323504120915285,
          -1.2432396486650872,
          -0.6618349008001423,
          0.5217832084147521,
          1.5288418411500666,
          -2.4120830093812837,
          2.8143447205123606,
          -0.257933073781562,
          -0.3572661675178952,
          0.20190338856217502,
          0.9320991029283576,
          -0.2191998538030043,
          2.0719083446892474,
          -2.8485964024490373,
          0.014927423043469038,
          -0.5154646455689982,
          0.4382000391317424,
          -0.4219851166708127,
          -0.6598109185667879,
          -0.5266671295882587,
          2.222491682052409,
          -0.5267075167322591,
          -1.9881988811905362,
          1.8201702033224445,
          2.175163917116367,
          -1.2906075345231638,
          -2.3006061256171084,
          0.3066738920361006,
          0.8559774613699227,
          0.6688883975257423,
          -0.6823697222688537,
          -1.243973226793776,
          0.7583084242632002,
          -1.2414551237252491,
          2.3820652209218296,
          0.9243572868285478,
          1.0052558535898974,
          -0.2961920718199432,
          0.5608432569750889,
          -2.357222093876263,
          1.817388783384015,
          -0.7744521478969061,
          1.0763933510113877,
          -1.2561328071536118,
          -0.638686345881965,
          0.4865256193015979,
          -2.456392803221965,
          -0.6518818470075926,
          0.6257325664820154,
          1.7694428509391302,
          -0.43793671439613535,
          0.29422842599998283,
          -1.1336705708733945,
          -0.02435874048759034,
          -0.9603568369902041,
          1.1487228327794106,
          -0.7861995441361292,
          -0.8447379256723088,
          1.1371711411743168,
          -0.19395465149512472,
          1.526465804209432,
          0.40676357821989756,
          0.5287900098042159,
          0.6608365859778821,
          -0.744901530184483,
          -0.9566989059482564,
          -1.3051061700884141,
          -0.7095434773568681,
          -0.14194679507734942,
          1.0204705452747858,
          -0.47132490477492744,
          -0.5095810769276805,
          -0.13974241072861765,
          1.889069821123595,
          -0.6154788796132468,
          1.3842997701151845,
          -0.153335675502912,
          -0.18154950908872736,
          -0.3369429086014936,
          -0.9140504632574861,
          -0.18505754850539075,
          -0.318009985650538,
          -1.7416551710462669,
          0.49525622789157114,
          -0.9959438615052109,
          1.1649297931196383,
          0.18734503740419692,
          1.6901446812195635,
          -0.6235055022821053,
          1.9786160133931159,
          -1.9407740026576976,
          0.42998530248150685,
          -1.9364366519135416
         ]
        },
        {
         "histfunc": "count",
         "histnorm": "",
         "marker": {
          "color": "rgba(128, 0, 128, 1.0)",
          "line": {
           "color": "#4D5663",
           "width": 1.3
          }
         },
         "name": "D",
         "nbinsx": 25,
         "opacity": 0.8,
         "orientation": "v",
         "type": "histogram",
         "visible": "legendonly",
         "x": [
          -1.3375111200422654,
          0.08108573619786534,
          -0.4603419445564614,
          1.6087850830260433,
          -1.1358219279044866,
          -1.3402739069075462,
          -0.8883954210116366,
          -2.333576558962384,
          2.256222344488282,
          -1.518276134540346,
          -0.5493494918608621,
          1.0888175415569215,
          -1.1555295255722635,
          -0.5663726095451217,
          0.8195642561425789,
          -0.6555111443554326,
          1.5823033687248254,
          0.448344094281049,
          -1.534848204837367,
          -0.7738955545996372,
          -1.2526498083817412,
          0.6069527188929812,
          0.24313875205510352,
          0.9113343981619622,
          1.0897636277906508,
          -0.23886310103044037,
          -0.36243249262063915,
          0.8054873468624355,
          -0.8311895423156016,
          0.36411268083828713,
          0.15287411039096088,
          0.30253942960984925,
          1.0902893872100399,
          -0.7108338092133447,
          2.0768094028590327,
          0.051691069444641746,
          -0.10991256892414793,
          0.7959080246152197,
          0.4057141102482014,
          -0.7086479402378677,
          -1.5163725358414726,
          -0.4387446795954376,
          0.10599681909410427,
          1.2581067321286046,
          -0.23448306331222418,
          -0.43196872710173995,
          -0.13422166623444162,
          -0.916134253624078,
          -0.28070162474793886,
          0.9520456681139606,
          -0.2839508570594622,
          -1.605523474096741,
          -1.0863518252056914,
          0.025308097274283906,
          0.06448363327448572,
          -0.761557429698844,
          0.10329503270324489,
          0.4122547806086187,
          -1.199652516293543,
          0.8959886138160285,
          -0.4977888239267104,
          0.01348762881186117,
          0.48002483050913747,
          1.7292547102720466,
          0.3652142333994519,
          1.5914138134642886,
          -0.05457538970538982,
          0.7492853215006533,
          1.7142499472823864,
          -0.9850415204347099,
          0.6388438927953487,
          0.4138487334186722,
          -0.8905539048608643,
          -1.0279145122359281,
          0.9414427655613998,
          0.25918463510371625,
          -0.19729832180784007,
          -0.390909039372285,
          -0.7835258859704143,
          -1.4253341321155104,
          0.04927046360645166,
          0.2651329981190324,
          1.6619499989545055,
          0.4802126318651488,
          2.5923259691026233,
          -0.42748881665069555,
          0.290167317223398,
          0.5103695762182319,
          1.2582990267796612,
          1.3556684561143955,
          -1.2007802646175456,
          0.3295112813582968,
          0.555959784639183,
          -0.11942895049017666,
          -0.16790176725326109,
          1.5091104754329279,
          -1.2444322169182427,
          0.8543033955585018,
          0.3555174210748361,
          0.4288090890373574
         ]
        }
       ],
       "layout": {
        "autosize": true,
        "barmode": "overlay",
        "legend": {
         "bgcolor": "#F5F6F9",
         "font": {
          "color": "#4D5663"
         }
        },
        "paper_bgcolor": "#F5F6F9",
        "plot_bgcolor": "#F5F6F9",
        "template": {
         "data": {
          "bar": [
           {
            "error_x": {
             "color": "#2a3f5f"
            },
            "error_y": {
             "color": "#2a3f5f"
            },
            "marker": {
             "line": {
              "color": "#E5ECF6",
              "width": 0.5
             },
             "pattern": {
              "fillmode": "overlay",
              "size": 10,
              "solidity": 0.2
             }
            },
            "type": "bar"
           }
          ],
          "barpolar": [
           {
            "marker": {
             "line": {
              "color": "#E5ECF6",
              "width": 0.5
             },
             "pattern": {
              "fillmode": "overlay",
              "size": 10,
              "solidity": 0.2
             }
            },
            "type": "barpolar"
           }
          ],
          "carpet": [
           {
            "aaxis": {
             "endlinecolor": "#2a3f5f",
             "gridcolor": "white",
             "linecolor": "white",
             "minorgridcolor": "white",
             "startlinecolor": "#2a3f5f"
            },
            "baxis": {
             "endlinecolor": "#2a3f5f",
             "gridcolor": "white",
             "linecolor": "white",
             "minorgridcolor": "white",
             "startlinecolor": "#2a3f5f"
            },
            "type": "carpet"
           }
          ],
          "choropleth": [
           {
            "colorbar": {
             "outlinewidth": 0,
             "ticks": ""
            },
            "type": "choropleth"
           }
          ],
          "contour": [
           {
            "colorbar": {
             "outlinewidth": 0,
             "ticks": ""
            },
            "colorscale": [
             [
              0,
              "#0d0887"
             ],
             [
              0.1111111111111111,
              "#46039f"
             ],
             [
              0.2222222222222222,
              "#7201a8"
             ],
             [
              0.3333333333333333,
              "#9c179e"
             ],
             [
              0.4444444444444444,
              "#bd3786"
             ],
             [
              0.5555555555555556,
              "#d8576b"
             ],
             [
              0.6666666666666666,
              "#ed7953"
             ],
             [
              0.7777777777777778,
              "#fb9f3a"
             ],
             [
              0.8888888888888888,
              "#fdca26"
             ],
             [
              1,
              "#f0f921"
             ]
            ],
            "type": "contour"
           }
          ],
          "contourcarpet": [
           {
            "colorbar": {
             "outlinewidth": 0,
             "ticks": ""
            },
            "type": "contourcarpet"
           }
          ],
          "heatmap": [
           {
            "colorbar": {
             "outlinewidth": 0,
             "ticks": ""
            },
            "colorscale": [
             [
              0,
              "#0d0887"
             ],
             [
              0.1111111111111111,
              "#46039f"
             ],
             [
              0.2222222222222222,
              "#7201a8"
             ],
             [
              0.3333333333333333,
              "#9c179e"
             ],
             [
              0.4444444444444444,
              "#bd3786"
             ],
             [
              0.5555555555555556,
              "#d8576b"
             ],
             [
              0.6666666666666666,
              "#ed7953"
             ],
             [
              0.7777777777777778,
              "#fb9f3a"
             ],
             [
              0.8888888888888888,
              "#fdca26"
             ],
             [
              1,
              "#f0f921"
             ]
            ],
            "type": "heatmap"
           }
          ],
          "heatmapgl": [
           {
            "colorbar": {
             "outlinewidth": 0,
             "ticks": ""
            },
            "colorscale": [
             [
              0,
              "#0d0887"
             ],
             [
              0.1111111111111111,
              "#46039f"
             ],
             [
              0.2222222222222222,
              "#7201a8"
             ],
             [
              0.3333333333333333,
              "#9c179e"
             ],
             [
              0.4444444444444444,
              "#bd3786"
             ],
             [
              0.5555555555555556,
              "#d8576b"
             ],
             [
              0.6666666666666666,
              "#ed7953"
             ],
             [
              0.7777777777777778,
              "#fb9f3a"
             ],
             [
              0.8888888888888888,
              "#fdca26"
             ],
             [
              1,
              "#f0f921"
             ]
            ],
            "type": "heatmapgl"
           }
          ],
          "histogram": [
           {
            "marker": {
             "pattern": {
              "fillmode": "overlay",
              "size": 10,
              "solidity": 0.2
             }
            },
            "type": "histogram"
           }
          ],
          "histogram2d": [
           {
            "colorbar": {
             "outlinewidth": 0,
             "ticks": ""
            },
            "colorscale": [
             [
              0,
              "#0d0887"
             ],
             [
              0.1111111111111111,
              "#46039f"
             ],
             [
              0.2222222222222222,
              "#7201a8"
             ],
             [
              0.3333333333333333,
              "#9c179e"
             ],
             [
              0.4444444444444444,
              "#bd3786"
             ],
             [
              0.5555555555555556,
              "#d8576b"
             ],
             [
              0.6666666666666666,
              "#ed7953"
             ],
             [
              0.7777777777777778,
              "#fb9f3a"
             ],
             [
              0.8888888888888888,
              "#fdca26"
             ],
             [
              1,
              "#f0f921"
             ]
            ],
            "type": "histogram2d"
           }
          ],
          "histogram2dcontour": [
           {
            "colorbar": {
             "outlinewidth": 0,
             "ticks": ""
            },
            "colorscale": [
             [
              0,
              "#0d0887"
             ],
             [
              0.1111111111111111,
              "#46039f"
             ],
             [
              0.2222222222222222,
              "#7201a8"
             ],
             [
              0.3333333333333333,
              "#9c179e"
             ],
             [
              0.4444444444444444,
              "#bd3786"
             ],
             [
              0.5555555555555556,
              "#d8576b"
             ],
             [
              0.6666666666666666,
              "#ed7953"
             ],
             [
              0.7777777777777778,
              "#fb9f3a"
             ],
             [
              0.8888888888888888,
              "#fdca26"
             ],
             [
              1,
              "#f0f921"
             ]
            ],
            "type": "histogram2dcontour"
           }
          ],
          "mesh3d": [
           {
            "colorbar": {
             "outlinewidth": 0,
             "ticks": ""
            },
            "type": "mesh3d"
           }
          ],
          "parcoords": [
           {
            "line": {
             "colorbar": {
              "outlinewidth": 0,
              "ticks": ""
             }
            },
            "type": "parcoords"
           }
          ],
          "pie": [
           {
            "automargin": true,
            "type": "pie"
           }
          ],
          "scatter": [
           {
            "fillpattern": {
             "fillmode": "overlay",
             "size": 10,
             "solidity": 0.2
            },
            "type": "scatter"
           }
          ],
          "scatter3d": [
           {
            "line": {
             "colorbar": {
              "outlinewidth": 0,
              "ticks": ""
             }
            },
            "marker": {
             "colorbar": {
              "outlinewidth": 0,
              "ticks": ""
             }
            },
            "type": "scatter3d"
           }
          ],
          "scattercarpet": [
           {
            "marker": {
             "colorbar": {
              "outlinewidth": 0,
              "ticks": ""
             }
            },
            "type": "scattercarpet"
           }
          ],
          "scattergeo": [
           {
            "marker": {
             "colorbar": {
              "outlinewidth": 0,
              "ticks": ""
             }
            },
            "type": "scattergeo"
           }
          ],
          "scattergl": [
           {
            "marker": {
             "colorbar": {
              "outlinewidth": 0,
              "ticks": ""
             }
            },
            "type": "scattergl"
           }
          ],
          "scattermapbox": [
           {
            "marker": {
             "colorbar": {
              "outlinewidth": 0,
              "ticks": ""
             }
            },
            "type": "scattermapbox"
           }
          ],
          "scatterpolar": [
           {
            "marker": {
             "colorbar": {
              "outlinewidth": 0,
              "ticks": ""
             }
            },
            "type": "scatterpolar"
           }
          ],
          "scatterpolargl": [
           {
            "marker": {
             "colorbar": {
              "outlinewidth": 0,
              "ticks": ""
             }
            },
            "type": "scatterpolargl"
           }
          ],
          "scatterternary": [
           {
            "marker": {
             "colorbar": {
              "outlinewidth": 0,
              "ticks": ""
             }
            },
            "type": "scatterternary"
           }
          ],
          "surface": [
           {
            "colorbar": {
             "outlinewidth": 0,
             "ticks": ""
            },
            "colorscale": [
             [
              0,
              "#0d0887"
             ],
             [
              0.1111111111111111,
              "#46039f"
             ],
             [
              0.2222222222222222,
              "#7201a8"
             ],
             [
              0.3333333333333333,
              "#9c179e"
             ],
             [
              0.4444444444444444,
              "#bd3786"
             ],
             [
              0.5555555555555556,
              "#d8576b"
             ],
             [
              0.6666666666666666,
              "#ed7953"
             ],
             [
              0.7777777777777778,
              "#fb9f3a"
             ],
             [
              0.8888888888888888,
              "#fdca26"
             ],
             [
              1,
              "#f0f921"
             ]
            ],
            "type": "surface"
           }
          ],
          "table": [
           {
            "cells": {
             "fill": {
              "color": "#EBF0F8"
             },
             "line": {
              "color": "white"
             }
            },
            "header": {
             "fill": {
              "color": "#C8D4E3"
             },
             "line": {
              "color": "white"
             }
            },
            "type": "table"
           }
          ]
         },
         "layout": {
          "annotationdefaults": {
           "arrowcolor": "#2a3f5f",
           "arrowhead": 0,
           "arrowwidth": 1
          },
          "autotypenumbers": "strict",
          "coloraxis": {
           "colorbar": {
            "outlinewidth": 0,
            "ticks": ""
           }
          },
          "colorscale": {
           "diverging": [
            [
             0,
             "#8e0152"
            ],
            [
             0.1,
             "#c51b7d"
            ],
            [
             0.2,
             "#de77ae"
            ],
            [
             0.3,
             "#f1b6da"
            ],
            [
             0.4,
             "#fde0ef"
            ],
            [
             0.5,
             "#f7f7f7"
            ],
            [
             0.6,
             "#e6f5d0"
            ],
            [
             0.7,
             "#b8e186"
            ],
            [
             0.8,
             "#7fbc41"
            ],
            [
             0.9,
             "#4d9221"
            ],
            [
             1,
             "#276419"
            ]
           ],
           "sequential": [
            [
             0,
             "#0d0887"
            ],
            [
             0.1111111111111111,
             "#46039f"
            ],
            [
             0.2222222222222222,
             "#7201a8"
            ],
            [
             0.3333333333333333,
             "#9c179e"
            ],
            [
             0.4444444444444444,
             "#bd3786"
            ],
            [
             0.5555555555555556,
             "#d8576b"
            ],
            [
             0.6666666666666666,
             "#ed7953"
            ],
            [
             0.7777777777777778,
             "#fb9f3a"
            ],
            [
             0.8888888888888888,
             "#fdca26"
            ],
            [
             1,
             "#f0f921"
            ]
           ],
           "sequentialminus": [
            [
             0,
             "#0d0887"
            ],
            [
             0.1111111111111111,
             "#46039f"
            ],
            [
             0.2222222222222222,
             "#7201a8"
            ],
            [
             0.3333333333333333,
             "#9c179e"
            ],
            [
             0.4444444444444444,
             "#bd3786"
            ],
            [
             0.5555555555555556,
             "#d8576b"
            ],
            [
             0.6666666666666666,
             "#ed7953"
            ],
            [
             0.7777777777777778,
             "#fb9f3a"
            ],
            [
             0.8888888888888888,
             "#fdca26"
            ],
            [
             1,
             "#f0f921"
            ]
           ]
          },
          "colorway": [
           "#636efa",
           "#EF553B",
           "#00cc96",
           "#ab63fa",
           "#FFA15A",
           "#19d3f3",
           "#FF6692",
           "#B6E880",
           "#FF97FF",
           "#FECB52"
          ],
          "font": {
           "color": "#2a3f5f"
          },
          "geo": {
           "bgcolor": "white",
           "lakecolor": "white",
           "landcolor": "#E5ECF6",
           "showlakes": true,
           "showland": true,
           "subunitcolor": "white"
          },
          "hoverlabel": {
           "align": "left"
          },
          "hovermode": "closest",
          "mapbox": {
           "style": "light"
          },
          "paper_bgcolor": "white",
          "plot_bgcolor": "#E5ECF6",
          "polar": {
           "angularaxis": {
            "gridcolor": "white",
            "linecolor": "white",
            "ticks": ""
           },
           "bgcolor": "#E5ECF6",
           "radialaxis": {
            "gridcolor": "white",
            "linecolor": "white",
            "ticks": ""
           }
          },
          "scene": {
           "xaxis": {
            "backgroundcolor": "#E5ECF6",
            "gridcolor": "white",
            "gridwidth": 2,
            "linecolor": "white",
            "showbackground": true,
            "ticks": "",
            "zerolinecolor": "white"
           },
           "yaxis": {
            "backgroundcolor": "#E5ECF6",
            "gridcolor": "white",
            "gridwidth": 2,
            "linecolor": "white",
            "showbackground": true,
            "ticks": "",
            "zerolinecolor": "white"
           },
           "zaxis": {
            "backgroundcolor": "#E5ECF6",
            "gridcolor": "white",
            "gridwidth": 2,
            "linecolor": "white",
            "showbackground": true,
            "ticks": "",
            "zerolinecolor": "white"
           }
          },
          "shapedefaults": {
           "line": {
            "color": "#2a3f5f"
           }
          },
          "ternary": {
           "aaxis": {
            "gridcolor": "white",
            "linecolor": "white",
            "ticks": ""
           },
           "baxis": {
            "gridcolor": "white",
            "linecolor": "white",
            "ticks": ""
           },
           "bgcolor": "#E5ECF6",
           "caxis": {
            "gridcolor": "white",
            "linecolor": "white",
            "ticks": ""
           }
          },
          "title": {
           "x": 0.05
          },
          "xaxis": {
           "automargin": true,
           "gridcolor": "white",
           "linecolor": "white",
           "ticks": "",
           "title": {
            "standoff": 15
           },
           "zerolinecolor": "white",
           "zerolinewidth": 2
          },
          "yaxis": {
           "automargin": true,
           "gridcolor": "white",
           "linecolor": "white",
           "ticks": "",
           "title": {
            "standoff": 15
           },
           "zerolinecolor": "white",
           "zerolinewidth": 2
          }
         }
        },
        "title": {
         "font": {
          "color": "#4D5663"
         }
        },
        "xaxis": {
         "autorange": true,
         "gridcolor": "#E1E5ED",
         "range": [
          -2.2,
          2.2
         ],
         "showgrid": true,
         "tickfont": {
          "color": "#4D5663"
         },
         "title": {
          "font": {
           "color": "#4D5663"
          },
          "text": ""
         },
         "type": "linear",
         "zerolinecolor": "#E1E5ED"
        },
        "yaxis": {
         "autorange": true,
         "gridcolor": "#E1E5ED",
         "range": [
          0,
          10.526315789473685
         ],
         "showgrid": true,
         "tickfont": {
          "color": "#4D5663"
         },
         "title": {
          "font": {
           "color": "#4D5663"
          },
          "text": ""
         },
         "zerolinecolor": "#E1E5ED"
        }
       }
      },
      "image/png": "[encoded data removed]",
      "text/html": [
       "<div>                            <div id=\"f126d551-a550-4dbd-b337-ffaab85db5ce\" class=\"plotly-graph-div\" style=\"height:525px; width:100%;\"></div>            <script type=\"text/javascript\">                require([\"plotly\"], function(Plotly) {                    window.PLOTLYENV=window.PLOTLYENV || {};\n",
       "                    window.PLOTLYENV.BASE_URL='https://plot.ly';                                    if (document.getElementById(\"f126d551-a550-4dbd-b337-ffaab85db5ce\")) {                    Plotly.newPlot(                        \"f126d551-a550-4dbd-b337-ffaab85db5ce\",                        [{\"histfunc\":\"count\",\"histnorm\":\"\",\"marker\":{\"color\":\"rgba(255, 153, 51, 1.0)\",\"line\":{\"color\":\"#4D5663\",\"width\":1.3}},\"name\":\"A\",\"nbinsx\":25,\"opacity\":0.8,\"orientation\":\"v\",\"x\":[0.3521248991125683,0.374378549462778,-0.8681275486234619,-1.527571333758755,-1.3900068126518048,-0.4114054920269361,0.15520020133584866,0.7384591641252498,-0.09712690742829033,-0.26819560829719846,1.1338755445610074,-1.4874831675677571,0.7051312012337357,-1.2024530037012553,-0.29809729403226287,0.23420816692031013,-1.1907221135276438,-0.19985732553043734,-0.6100052380320969,0.9797152589484669,0.5532180003133247,-1.2390461467516192,1.4175055278440405,-0.7828444487559498,1.2938009572926183,-0.8046173586032122,-0.9341045740226017,-2.1172419964169795,-0.015246331294103573,-0.4317235418042056,-0.490255626621109,-0.10495849562550795,0.4895473879909302,0.9230452012023029,-0.9019954565808412,-1.311884135102693,2.1622266360844407,-0.9981760527494739,-1.1669136579693293,-0.3878438473642099,-1.4062878330424886,0.9025854927347297,1.0662128436949465,1.2952217490953246,0.26758105507076246,-0.23889838423038862,-0.43765284660587417,-0.15293874988146516,0.8457208972983651,-0.12651619208777903,-0.12830107703185067,0.1905151734851748,-0.41358010360527675,-0.044092658442423424,1.40019571716128,-0.48424606902779,1.3956807833235683,0.2687615836341957,1.5571707452070334,-0.6360986721910912,0.626440960714626,-1.5397412105578578,-0.8981119577862499,1.0610658409579183,0.8903605943553875,0.17073795280636891,0.4268772526295468,-0.22528647908761543,1.2451042431352326,0.16225753274666233,-0.8591418566134634,-0.9830915946369014,0.7391052150205726,-0.22235452886232096,0.36892299213007546,-0.41247121129127323,-1.134272171255948,0.4167587262034833,-0.07488677434197762,0.3863115228816906,-1.4541697028834588,-0.3416988673071571,-0.8558369938099291,0.7881715368230318,0.24315956283911963,-0.4890587435401381,-1.0192033454977736,0.8480397711023916,0.7591556284639237,-1.8384101909642117,0.07412638124788648,0.42968941865360294,0.6402117041777811,0.9430575520543083,0.6506280986774639,0.21082036382305874,0.36483477797329544,-1.055874549469489,-0.7137286648445479,0.9370985982210176],\"type\":\"histogram\"},{\"histfunc\":\"count\",\"histnorm\":\"\",\"marker\":{\"color\":\"rgba(55, 128, 191, 1.0)\",\"line\":{\"color\":\"#4D5663\",\"width\":1.3}},\"name\":\"B\",\"nbinsx\":25,\"opacity\":0.8,\"orientation\":\"v\",\"x\":[-0.3672400660188171,1.1723030793263862,0.4229211143763501,-1.5356190599328485,0.29258044314440335,-2.077842158921335,0.28512491387525263,-0.37926165771701653,0.29908568497608157,0.9443018696549622,-1.5967889033942413,-1.3887672722735456,-0.6641416375654052,-0.0639470087730585,-0.46663721396131613,-0.6295335086197471,0.5897981776073271,-1.7655390053108517,-0.060237541740192926,1.4702381311634727,-0.579730434241401,-0.6002929782656196,1.9181218447873463,-0.07074094133169188,0.1554365837641563,0.7018919084379145,-0.6418528714390223,-0.07787505719096816,0.8561862739788918,-0.04757433442450353,0.937486539183576,1.7446059049126703,-0.5779297950685147,-2.6904740459574996,-0.3263343249047711,0.5155591540762269,0.3498287948955922,0.28221116405487856,-0.766191809161088,-0.5213477645381658,0.708880192738116,2.0539874746295013,-1.2473316263033876,0.9476199776636521,0.8296837728135735,0.2582333472604082,-0.7780087626419847,-0.2812605671675329,1.7583789451772844,0.5612996509403224,0.014262775164241561,-0.023906427686685182,-1.6391439824939231,1.170887485480817,0.5950341792071205,-0.6608344171032432,0.6288046045099865,0.3841721295386118,1.5401405371003682,-1.8171836596773712,-0.7777492347930118,0.8959467876452509,-0.39984688974564636,-1.146909822561759,2.24056639133713,-0.5676541986251326,-0.4629548656750362,1.3889964902978318,-1.2245992643146717,-0.10367449206740265,0.9059640174215866,0.6786534543107289,-0.5540066332650183,-0.12598739875013132,1.3483800477887116,1.2078134648275922,0.35034451020220486,0.40338079190074544,0.06883393428501268,-1.253355144433232,-1.0346073711363797,-1.572317268003851,0.8314858329161572,0.24454223001424086,-0.6227120484695982,-0.3559554015358584,0.2143436464681599,0.9637507906816873,3.303530045792439,-1.5897202496106333,-0.6320262369164329,-0.07242936475366742,-0.9198386634299148,-0.5504794102299363,-1.7324629922232109,-0.946431143453696,0.4470946952370082,-1.0733428737514066,0.7032246421977343,-1.4584740632012463],\"type\":\"histogram\"},{\"histfunc\":\"count\",\"histnorm\":\"\",\"marker\":{\"color\":\"rgba(50, 171, 96, 1.0)\",\"line\":{\"color\":\"#4D5663\",\"width\":1.3}},\"name\":\"C\",\"nbinsx\":25,\"opacity\":0.8,\"orientation\":\"v\",\"x\":[0.040951349719290576,0.9163731498508584,0.2473149246675704,0.6355789757395596,2.0561229303330215,-0.8426823150555216,0.551260330683669,0.03323504120915285,-1.2432396486650872,-0.6618349008001423,0.5217832084147521,1.5288418411500666,-2.4120830093812837,2.8143447205123606,-0.257933073781562,-0.3572661675178952,0.20190338856217502,0.9320991029283576,-0.2191998538030043,2.0719083446892474,-2.8485964024490373,0.014927423043469038,-0.5154646455689982,0.4382000391317424,-0.4219851166708127,-0.6598109185667879,-0.5266671295882587,2.222491682052409,-0.5267075167322591,-1.9881988811905362,1.8201702033224445,2.175163917116367,-1.2906075345231638,-2.3006061256171084,0.3066738920361006,0.8559774613699227,0.6688883975257423,-0.6823697222688537,-1.243973226793776,0.7583084242632002,-1.2414551237252491,2.3820652209218296,0.9243572868285478,1.0052558535898974,-0.2961920718199432,0.5608432569750889,-2.357222093876263,1.817388783384015,-0.7744521478969061,1.0763933510113877,-1.2561328071536118,-0.638686345881965,0.4865256193015979,-2.456392803221965,-0.6518818470075926,0.6257325664820154,1.7694428509391302,-0.43793671439613535,0.29422842599998283,-1.1336705708733945,-0.02435874048759034,-0.9603568369902041,1.1487228327794106,-0.7861995441361292,-0.8447379256723088,1.1371711411743168,-0.19395465149512472,1.526465804209432,0.40676357821989756,0.5287900098042159,0.6608365859778821,-0.744901530184483,-0.9566989059482564,-1.3051061700884141,-0.7095434773568681,-0.14194679507734942,1.0204705452747858,-0.47132490477492744,-0.5095810769276805,-0.13974241072861765,1.889069821123595,-0.6154788796132468,1.3842997701151845,-0.153335675502912,-0.18154950908872736,-0.3369429086014936,-0.9140504632574861,-0.18505754850539075,-0.318009985650538,-1.7416551710462669,0.49525622789157114,-0.9959438615052109,1.1649297931196383,0.18734503740419692,1.6901446812195635,-0.6235055022821053,1.9786160133931159,-1.9407740026576976,0.42998530248150685,-1.9364366519135416],\"type\":\"histogram\"},{\"histfunc\":\"count\",\"histnorm\":\"\",\"marker\":{\"color\":\"rgba(128, 0, 128, 1.0)\",\"line\":{\"color\":\"#4D5663\",\"width\":1.3}},\"name\":\"D\",\"nbinsx\":25,\"opacity\":0.8,\"orientation\":\"v\",\"x\":[-1.3375111200422654,0.08108573619786534,-0.4603419445564614,1.6087850830260433,-1.1358219279044866,-1.3402739069075462,-0.8883954210116366,-2.333576558962384,2.256222344488282,-1.518276134540346,-0.5493494918608621,1.0888175415569215,-1.1555295255722635,-0.5663726095451217,0.8195642561425789,-0.6555111443554326,1.5823033687248254,0.448344094281049,-1.534848204837367,-0.7738955545996372,-1.2526498083817412,0.6069527188929812,0.24313875205510352,0.9113343981619622,1.0897636277906508,-0.23886310103044037,-0.36243249262063915,0.8054873468624355,-0.8311895423156016,0.36411268083828713,0.15287411039096088,0.30253942960984925,1.0902893872100399,-0.7108338092133447,2.0768094028590327,0.051691069444641746,-0.10991256892414793,0.7959080246152197,0.4057141102482014,-0.7086479402378677,-1.5163725358414726,-0.4387446795954376,0.10599681909410427,1.2581067321286046,-0.23448306331222418,-0.43196872710173995,-0.13422166623444162,-0.916134253624078,-0.28070162474793886,0.9520456681139606,-0.2839508570594622,-1.605523474096741,-1.0863518252056914,0.025308097274283906,0.06448363327448572,-0.761557429698844,0.10329503270324489,0.4122547806086187,-1.199652516293543,0.8959886138160285,-0.4977888239267104,0.01348762881186117,0.48002483050913747,1.7292547102720466,0.3652142333994519,1.5914138134642886,-0.05457538970538982,0.7492853215006533,1.7142499472823864,-0.9850415204347099,0.6388438927953487,0.4138487334186722,-0.8905539048608643,-1.0279145122359281,0.9414427655613998,0.25918463510371625,-0.19729832180784007,-0.390909039372285,-0.7835258859704143,-1.4253341321155104,0.04927046360645166,0.2651329981190324,1.6619499989545055,0.4802126318651488,2.5923259691026233,-0.42748881665069555,0.290167317223398,0.5103695762182319,1.2582990267796612,1.3556684561143955,-1.2007802646175456,0.3295112813582968,0.555959784639183,-0.11942895049017666,-0.16790176725326109,1.5091104754329279,-1.2444322169182427,0.8543033955585018,0.3555174210748361,0.4288090890373574],\"type\":\"histogram\"}],                        {\"barmode\":\"overlay\",\"legend\":{\"bgcolor\":\"#F5F6F9\",\"font\":{\"color\":\"#4D5663\"}},\"paper_bgcolor\":\"#F5F6F9\",\"plot_bgcolor\":\"#F5F6F9\",\"template\":{\"data\":{\"barpolar\":[{\"marker\":{\"line\":{\"color\":\"#E5ECF6\",\"width\":0.5},\"pattern\":{\"fillmode\":\"overlay\",\"size\":10,\"solidity\":0.2}},\"type\":\"barpolar\"}],\"bar\":[{\"error_x\":{\"color\":\"#2a3f5f\"},\"error_y\":{\"color\":\"#2a3f5f\"},\"marker\":{\"line\":{\"color\":\"#E5ECF6\",\"width\":0.5},\"pattern\":{\"fillmode\":\"overlay\",\"size\":10,\"solidity\":0.2}},\"type\":\"bar\"}],\"carpet\":[{\"aaxis\":{\"endlinecolor\":\"#2a3f5f\",\"gridcolor\":\"white\",\"linecolor\":\"white\",\"minorgridcolor\":\"white\",\"startlinecolor\":\"#2a3f5f\"},\"baxis\":{\"endlinecolor\":\"#2a3f5f\",\"gridcolor\":\"white\",\"linecolor\":\"white\",\"minorgridcolor\":\"white\",\"startlinecolor\":\"#2a3f5f\"},\"type\":\"carpet\"}],\"choropleth\":[{\"colorbar\":{\"outlinewidth\":0,\"ticks\":\"\"},\"type\":\"choropleth\"}],\"contourcarpet\":[{\"colorbar\":{\"outlinewidth\":0,\"ticks\":\"\"},\"type\":\"contourcarpet\"}],\"contour\":[{\"colorbar\":{\"outlinewidth\":0,\"ticks\":\"\"},\"colorscale\":[[0.0,\"#0d0887\"],[0.1111111111111111,\"#46039f\"],[0.2222222222222222,\"#7201a8\"],[0.3333333333333333,\"#9c179e\"],[0.4444444444444444,\"#bd3786\"],[0.5555555555555556,\"#d8576b\"],[0.6666666666666666,\"#ed7953\"],[0.7777777777777778,\"#fb9f3a\"],[0.8888888888888888,\"#fdca26\"],[1.0,\"#f0f921\"]],\"type\":\"contour\"}],\"heatmapgl\":[{\"colorbar\":{\"outlinewidth\":0,\"ticks\":\"\"},\"colorscale\":[[0.0,\"#0d0887\"],[0.1111111111111111,\"#46039f\"],[0.2222222222222222,\"#7201a8\"],[0.3333333333333333,\"#9c179e\"],[0.4444444444444444,\"#bd3786\"],[0.5555555555555556,\"#d8576b\"],[0.6666666666666666,\"#ed7953\"],[0.7777777777777778,\"#fb9f3a\"],[0.8888888888888888,\"#fdca26\"],[1.0,\"#f0f921\"]],\"type\":\"heatmapgl\"}],\"heatmap\":[{\"colorbar\":{\"outlinewidth\":0,\"ticks\":\"\"},\"colorscale\":[[0.0,\"#0d0887\"],[0.1111111111111111,\"#46039f\"],[0.2222222222222222,\"#7201a8\"],[0.3333333333333333,\"#9c179e\"],[0.4444444444444444,\"#bd3786\"],[0.5555555555555556,\"#d8576b\"],[0.6666666666666666,\"#ed7953\"],[0.7777777777777778,\"#fb9f3a\"],[0.8888888888888888,\"#fdca26\"],[1.0,\"#f0f921\"]],\"type\":\"heatmap\"}],\"histogram2dcontour\":[{\"colorbar\":{\"outlinewidth\":0,\"ticks\":\"\"},\"colorscale\":[[0.0,\"#0d0887\"],[0.1111111111111111,\"#46039f\"],[0.2222222222222222,\"#7201a8\"],[0.3333333333333333,\"#9c179e\"],[0.4444444444444444,\"#bd3786\"],[0.5555555555555556,\"#d8576b\"],[0.6666666666666666,\"#ed7953\"],[0.7777777777777778,\"#fb9f3a\"],[0.8888888888888888,\"#fdca26\"],[1.0,\"#f0f921\"]],\"type\":\"histogram2dcontour\"}],\"histogram2d\":[{\"colorbar\":{\"outlinewidth\":0,\"ticks\":\"\"},\"colorscale\":[[0.0,\"#0d0887\"],[0.1111111111111111,\"#46039f\"],[0.2222222222222222,\"#7201a8\"],[0.3333333333333333,\"#9c179e\"],[0.4444444444444444,\"#bd3786\"],[0.5555555555555556,\"#d8576b\"],[0.6666666666666666,\"#ed7953\"],[0.7777777777777778,\"#fb9f3a\"],[0.8888888888888888,\"#fdca26\"],[1.0,\"#f0f921\"]],\"type\":\"histogram2d\"}],\"histogram\":[{\"marker\":{\"pattern\":{\"fillmode\":\"overlay\",\"size\":10,\"solidity\":0.2}},\"type\":\"histogram\"}],\"mesh3d\":[{\"colorbar\":{\"outlinewidth\":0,\"ticks\":\"\"},\"type\":\"mesh3d\"}],\"parcoords\":[{\"line\":{\"colorbar\":{\"outlinewidth\":0,\"ticks\":\"\"}},\"type\":\"parcoords\"}],\"pie\":[{\"automargin\":true,\"type\":\"pie\"}],\"scatter3d\":[{\"line\":{\"colorbar\":{\"outlinewidth\":0,\"ticks\":\"\"}},\"marker\":{\"colorbar\":{\"outlinewidth\":0,\"ticks\":\"\"}},\"type\":\"scatter3d\"}],\"scattercarpet\":[{\"marker\":{\"colorbar\":{\"outlinewidth\":0,\"ticks\":\"\"}},\"type\":\"scattercarpet\"}],\"scattergeo\":[{\"marker\":{\"colorbar\":{\"outlinewidth\":0,\"ticks\":\"\"}},\"type\":\"scattergeo\"}],\"scattergl\":[{\"marker\":{\"colorbar\":{\"outlinewidth\":0,\"ticks\":\"\"}},\"type\":\"scattergl\"}],\"scattermapbox\":[{\"marker\":{\"colorbar\":{\"outlinewidth\":0,\"ticks\":\"\"}},\"type\":\"scattermapbox\"}],\"scatterpolargl\":[{\"marker\":{\"colorbar\":{\"outlinewidth\":0,\"ticks\":\"\"}},\"type\":\"scatterpolargl\"}],\"scatterpolar\":[{\"marker\":{\"colorbar\":{\"outlinewidth\":0,\"ticks\":\"\"}},\"type\":\"scatterpolar\"}],\"scatter\":[{\"fillpattern\":{\"fillmode\":\"overlay\",\"size\":10,\"solidity\":0.2},\"type\":\"scatter\"}],\"scatterternary\":[{\"marker\":{\"colorbar\":{\"outlinewidth\":0,\"ticks\":\"\"}},\"type\":\"scatterternary\"}],\"surface\":[{\"colorbar\":{\"outlinewidth\":0,\"ticks\":\"\"},\"colorscale\":[[0.0,\"#0d0887\"],[0.1111111111111111,\"#46039f\"],[0.2222222222222222,\"#7201a8\"],[0.3333333333333333,\"#9c179e\"],[0.4444444444444444,\"#bd3786\"],[0.5555555555555556,\"#d8576b\"],[0.6666666666666666,\"#ed7953\"],[0.7777777777777778,\"#fb9f3a\"],[0.8888888888888888,\"#fdca26\"],[1.0,\"#f0f921\"]],\"type\":\"surface\"}],\"table\":[{\"cells\":{\"fill\":{\"color\":\"#EBF0F8\"},\"line\":{\"color\":\"white\"}},\"header\":{\"fill\":{\"color\":\"#C8D4E3\"},\"line\":{\"color\":\"white\"}},\"type\":\"table\"}]},\"layout\":{\"annotationdefaults\":{\"arrowcolor\":\"#2a3f5f\",\"arrowhead\":0,\"arrowwidth\":1},\"autotypenumbers\":\"strict\",\"coloraxis\":{\"colorbar\":{\"outlinewidth\":0,\"ticks\":\"\"}},\"colorscale\":{\"diverging\":[[0,\"#8e0152\"],[0.1,\"#c51b7d\"],[0.2,\"#de77ae\"],[0.3,\"#f1b6da\"],[0.4,\"#fde0ef\"],[0.5,\"#f7f7f7\"],[0.6,\"#e6f5d0\"],[0.7,\"#b8e186\"],[0.8,\"#7fbc41\"],[0.9,\"#4d9221\"],[1,\"#276419\"]],\"sequential\":[[0.0,\"#0d0887\"],[0.1111111111111111,\"#46039f\"],[0.2222222222222222,\"#7201a8\"],[0.3333333333333333,\"#9c179e\"],[0.4444444444444444,\"#bd3786\"],[0.5555555555555556,\"#d8576b\"],[0.6666666666666666,\"#ed7953\"],[0.7777777777777778,\"#fb9f3a\"],[0.8888888888888888,\"#fdca26\"],[1.0,\"#f0f921\"]],\"sequentialminus\":[[0.0,\"#0d0887\"],[0.1111111111111111,\"#46039f\"],[0.2222222222222222,\"#7201a8\"],[0.3333333333333333,\"#9c179e\"],[0.4444444444444444,\"#bd3786\"],[0.5555555555555556,\"#d8576b\"],[0.6666666666666666,\"#ed7953\"],[0.7777777777777778,\"#fb9f3a\"],[0.8888888888888888,\"#fdca26\"],[1.0,\"#f0f921\"]]},\"colorway\":[\"#636efa\",\"#EF553B\",\"#00cc96\",\"#ab63fa\",\"#FFA15A\",\"#19d3f3\",\"#FF6692\",\"#B6E880\",\"#FF97FF\",\"#FECB52\"],\"font\":{\"color\":\"#2a3f5f\"},\"geo\":{\"bgcolor\":\"white\",\"lakecolor\":\"white\",\"landcolor\":\"#E5ECF6\",\"showlakes\":true,\"showland\":true,\"subunitcolor\":\"white\"},\"hoverlabel\":{\"align\":\"left\"},\"hovermode\":\"closest\",\"mapbox\":{\"style\":\"light\"},\"paper_bgcolor\":\"white\",\"plot_bgcolor\":\"#E5ECF6\",\"polar\":{\"angularaxis\":{\"gridcolor\":\"white\",\"linecolor\":\"white\",\"ticks\":\"\"},\"bgcolor\":\"#E5ECF6\",\"radialaxis\":{\"gridcolor\":\"white\",\"linecolor\":\"white\",\"ticks\":\"\"}},\"scene\":{\"xaxis\":{\"backgroundcolor\":\"#E5ECF6\",\"gridcolor\":\"white\",\"gridwidth\":2,\"linecolor\":\"white\",\"showbackground\":true,\"ticks\":\"\",\"zerolinecolor\":\"white\"},\"yaxis\":{\"backgroundcolor\":\"#E5ECF6\",\"gridcolor\":\"white\",\"gridwidth\":2,\"linecolor\":\"white\",\"showbackground\":true,\"ticks\":\"\",\"zerolinecolor\":\"white\"},\"zaxis\":{\"backgroundcolor\":\"#E5ECF6\",\"gridcolor\":\"white\",\"gridwidth\":2,\"linecolor\":\"white\",\"showbackground\":true,\"ticks\":\"\",\"zerolinecolor\":\"white\"}},\"shapedefaults\":{\"line\":{\"color\":\"#2a3f5f\"}},\"ternary\":{\"aaxis\":{\"gridcolor\":\"white\",\"linecolor\":\"white\",\"ticks\":\"\"},\"baxis\":{\"gridcolor\":\"white\",\"linecolor\":\"white\",\"ticks\":\"\"},\"bgcolor\":\"#E5ECF6\",\"caxis\":{\"gridcolor\":\"white\",\"linecolor\":\"white\",\"ticks\":\"\"}},\"title\":{\"x\":0.05},\"xaxis\":{\"automargin\":true,\"gridcolor\":\"white\",\"linecolor\":\"white\",\"ticks\":\"\",\"title\":{\"standoff\":15},\"zerolinecolor\":\"white\",\"zerolinewidth\":2},\"yaxis\":{\"automargin\":true,\"gridcolor\":\"white\",\"linecolor\":\"white\",\"ticks\":\"\",\"title\":{\"standoff\":15},\"zerolinecolor\":\"white\",\"zerolinewidth\":2}}},\"title\":{\"font\":{\"color\":\"#4D5663\"}},\"xaxis\":{\"gridcolor\":\"#E1E5ED\",\"showgrid\":true,\"tickfont\":{\"color\":\"#4D5663\"},\"title\":{\"font\":{\"color\":\"#4D5663\"},\"text\":\"\"},\"zerolinecolor\":\"#E1E5ED\"},\"yaxis\":{\"gridcolor\":\"#E1E5ED\",\"showgrid\":true,\"tickfont\":{\"color\":\"#4D5663\"},\"title\":{\"font\":{\"color\":\"#4D5663\"},\"text\":\"\"},\"zerolinecolor\":\"#E1E5ED\"}},                        {\"showLink\": true, \"linkText\": \"Export to plot.ly\", \"plotlyServerURL\": \"https://plot.ly\", \"responsive\": true}                    ).then(function(){\n",
       "                            \n",
       "var gd = document.getElementById('f126d551-a550-4dbd-b337-ffaab85db5ce');\n",
       "var x = new MutationObserver(function (mutations, observer) {{\n",
       "        var display = window.getComputedStyle(gd).display;\n",
       "        if (!display || display === 'none') {{\n",
       "            console.log([gd, 'removed!']);\n",
       "            Plotly.purge(gd);\n",
       "            observer.disconnect();\n",
       "        }}\n",
       "}});\n",
       "\n",
       "// Listen for the removal of the full notebook cells\n",
       "var notebookContainer = gd.closest('#notebook-container');\n",
       "if (notebookContainer) {{\n",
       "    x.observe(notebookContainer, {childList: true});\n",
       "}}\n",
       "\n",
       "// Listen for the clearing of the current output cell\n",
       "var outputEl = gd.closest('.output');\n",
       "if (outputEl) {{\n",
       "    x.observe(outputEl, {childList: true});\n",
       "}}\n",
       "\n",
       "                        })                };                });            </script>        </div>"
      ]
     },
     "metadata": {},
     "output_type": "display_data"
    }
   ],
   "source": [
    "df.iplot(kind=\"hist\",bins=25)"
   ]
  },
  {
   "cell_type": "code",
   "execution_count": 109,
   "id": "6cc3065f-0d03-49d9-951c-77f29427b703",
   "metadata": {},
   "outputs": [
    {
     "name": "stderr",
     "output_type": "stream",
     "text": [
      "D:\\User\\a\\Lib\\site-packages\\cufflinks\\plotlytools.py:848: FutureWarning:\n",
      "\n",
      "Series.__getitem__ treating keys as positions is deprecated. In a future version, integer keys will always be treated as labels (consistent with DataFrame behavior). To access a value by position, use `ser.iloc[pos]`\n",
      "\n"
     ]
    },
    {
     "ename": "AttributeError",
     "evalue": "module 'pandas' has no attribute 'np'",
     "output_type": "error",
     "traceback": [
      "\u001b[1;31m---------------------------------------------------------------------------\u001b[0m",
      "\u001b[1;31mAttributeError\u001b[0m                            Traceback (most recent call last)",
      "Cell \u001b[1;32mIn[109], line 1\u001b[0m\n\u001b[1;32m----> 1\u001b[0m df[[\u001b[38;5;124m'\u001b[39m\u001b[38;5;124mA\u001b[39m\u001b[38;5;124m'\u001b[39m,\u001b[38;5;124m'\u001b[39m\u001b[38;5;124mB\u001b[39m\u001b[38;5;124m'\u001b[39m]]\u001b[38;5;241m.\u001b[39miplot(kind\u001b[38;5;241m=\u001b[39m\u001b[38;5;124m'\u001b[39m\u001b[38;5;124mspread\u001b[39m\u001b[38;5;124m'\u001b[39m)\n",
      "File \u001b[1;32mD:\\User\\a\\Lib\\site-packages\\cufflinks\\plotlytools.py:849\u001b[0m, in \u001b[0;36m_iplot\u001b[1;34m(self, kind, data, layout, filename, sharing, title, xTitle, yTitle, zTitle, theme, colors, colorscale, fill, width, dash, mode, interpolation, symbol, size, barmode, sortbars, bargap, bargroupgap, bins, histnorm, histfunc, orientation, boxpoints, annotations, keys, bestfit, bestfit_colors, mean, mean_colors, categories, x, y, z, text, gridcolor, zerolinecolor, margin, labels, values, secondary_y, secondary_y_title, subplots, shape, error_x, error_y, error_type, locations, lon, lat, asFrame, asDates, asFigure, asImage, dimensions, asPlot, asUrl, online, **kwargs)\u001b[0m\n\u001b[0;32m    847\u001b[0m \u001b[38;5;28;01mif\u001b[39;00m kind\u001b[38;5;241m==\u001b[39m\u001b[38;5;124m'\u001b[39m\u001b[38;5;124mspread\u001b[39m\u001b[38;5;124m'\u001b[39m:\n\u001b[0;32m    848\u001b[0m \ttrace\u001b[38;5;241m=\u001b[39m\u001b[38;5;28mself\u001b[39m\u001b[38;5;241m.\u001b[39mapply(\u001b[38;5;28;01mlambda\u001b[39;00m x:x[\u001b[38;5;241m0\u001b[39m]\u001b[38;5;241m-\u001b[39mx[\u001b[38;5;241m1\u001b[39m],axis\u001b[38;5;241m=\u001b[39m\u001b[38;5;241m1\u001b[39m)\n\u001b[1;32m--> 849\u001b[0m \tpositive\u001b[38;5;241m=\u001b[39mtrace\u001b[38;5;241m.\u001b[39mapply(\u001b[38;5;28;01mlambda\u001b[39;00m x:x \u001b[38;5;28;01mif\u001b[39;00m x\u001b[38;5;241m>\u001b[39m\u001b[38;5;241m=\u001b[39m\u001b[38;5;241m0\u001b[39m \u001b[38;5;28;01melse\u001b[39;00m pd\u001b[38;5;241m.\u001b[39mnp\u001b[38;5;241m.\u001b[39mnan)\n\u001b[0;32m    850\u001b[0m \tnegative\u001b[38;5;241m=\u001b[39mtrace\u001b[38;5;241m.\u001b[39mapply(\u001b[38;5;28;01mlambda\u001b[39;00m x:x \u001b[38;5;28;01mif\u001b[39;00m x\u001b[38;5;241m<\u001b[39m\u001b[38;5;241m0\u001b[39m \u001b[38;5;28;01melse\u001b[39;00m pd\u001b[38;5;241m.\u001b[39mnp\u001b[38;5;241m.\u001b[39mnan)\n\u001b[0;32m    851\u001b[0m \ttrace\u001b[38;5;241m=\u001b[39mpd\u001b[38;5;241m.\u001b[39mDataFrame({\u001b[38;5;124m'\u001b[39m\u001b[38;5;124mpositive\u001b[39m\u001b[38;5;124m'\u001b[39m:positive,\u001b[38;5;124m'\u001b[39m\u001b[38;5;124mnegative\u001b[39m\u001b[38;5;124m'\u001b[39m:negative})\n",
      "File \u001b[1;32mD:\\User\\a\\Lib\\site-packages\\pandas\\core\\series.py:4764\u001b[0m, in \u001b[0;36mSeries.apply\u001b[1;34m(self, func, convert_dtype, args, by_row, **kwargs)\u001b[0m\n\u001b[0;32m   4629\u001b[0m \u001b[38;5;28;01mdef\u001b[39;00m \u001b[38;5;21mapply\u001b[39m(\n\u001b[0;32m   4630\u001b[0m     \u001b[38;5;28mself\u001b[39m,\n\u001b[0;32m   4631\u001b[0m     func: AggFuncType,\n\u001b[1;32m   (...)\u001b[0m\n\u001b[0;32m   4636\u001b[0m     \u001b[38;5;241m*\u001b[39m\u001b[38;5;241m*\u001b[39mkwargs,\n\u001b[0;32m   4637\u001b[0m ) \u001b[38;5;241m-\u001b[39m\u001b[38;5;241m>\u001b[39m DataFrame \u001b[38;5;241m|\u001b[39m Series:\n\u001b[0;32m   4638\u001b[0m \u001b[38;5;250m    \u001b[39m\u001b[38;5;124;03m\"\"\"\u001b[39;00m\n\u001b[0;32m   4639\u001b[0m \u001b[38;5;124;03m    Invoke function on values of Series.\u001b[39;00m\n\u001b[0;32m   4640\u001b[0m \n\u001b[1;32m   (...)\u001b[0m\n\u001b[0;32m   4755\u001b[0m \u001b[38;5;124;03m    dtype: float64\u001b[39;00m\n\u001b[0;32m   4756\u001b[0m \u001b[38;5;124;03m    \"\"\"\u001b[39;00m\n\u001b[0;32m   4757\u001b[0m     \u001b[38;5;28;01mreturn\u001b[39;00m SeriesApply(\n\u001b[0;32m   4758\u001b[0m         \u001b[38;5;28mself\u001b[39m,\n\u001b[0;32m   4759\u001b[0m         func,\n\u001b[0;32m   4760\u001b[0m         convert_dtype\u001b[38;5;241m=\u001b[39mconvert_dtype,\n\u001b[0;32m   4761\u001b[0m         by_row\u001b[38;5;241m=\u001b[39mby_row,\n\u001b[0;32m   4762\u001b[0m         args\u001b[38;5;241m=\u001b[39margs,\n\u001b[0;32m   4763\u001b[0m         kwargs\u001b[38;5;241m=\u001b[39mkwargs,\n\u001b[1;32m-> 4764\u001b[0m     )\u001b[38;5;241m.\u001b[39mapply()\n",
      "File \u001b[1;32mD:\\User\\a\\Lib\\site-packages\\pandas\\core\\apply.py:1209\u001b[0m, in \u001b[0;36mSeriesApply.apply\u001b[1;34m(self)\u001b[0m\n\u001b[0;32m   1206\u001b[0m     \u001b[38;5;28;01mreturn\u001b[39;00m \u001b[38;5;28mself\u001b[39m\u001b[38;5;241m.\u001b[39mapply_compat()\n\u001b[0;32m   1208\u001b[0m \u001b[38;5;66;03m# self.func is Callable\u001b[39;00m\n\u001b[1;32m-> 1209\u001b[0m \u001b[38;5;28;01mreturn\u001b[39;00m \u001b[38;5;28mself\u001b[39m\u001b[38;5;241m.\u001b[39mapply_standard()\n",
      "File \u001b[1;32mD:\\User\\a\\Lib\\site-packages\\pandas\\core\\apply.py:1289\u001b[0m, in \u001b[0;36mSeriesApply.apply_standard\u001b[1;34m(self)\u001b[0m\n\u001b[0;32m   1283\u001b[0m \u001b[38;5;66;03m# row-wise access\u001b[39;00m\n\u001b[0;32m   1284\u001b[0m \u001b[38;5;66;03m# apply doesn't have a `na_action` keyword and for backward compat reasons\u001b[39;00m\n\u001b[0;32m   1285\u001b[0m \u001b[38;5;66;03m# we need to give `na_action=\"ignore\"` for categorical data.\u001b[39;00m\n\u001b[0;32m   1286\u001b[0m \u001b[38;5;66;03m# TODO: remove the `na_action=\"ignore\"` when that default has been changed in\u001b[39;00m\n\u001b[0;32m   1287\u001b[0m \u001b[38;5;66;03m#  Categorical (GH51645).\u001b[39;00m\n\u001b[0;32m   1288\u001b[0m action \u001b[38;5;241m=\u001b[39m \u001b[38;5;124m\"\u001b[39m\u001b[38;5;124mignore\u001b[39m\u001b[38;5;124m\"\u001b[39m \u001b[38;5;28;01mif\u001b[39;00m \u001b[38;5;28misinstance\u001b[39m(obj\u001b[38;5;241m.\u001b[39mdtype, CategoricalDtype) \u001b[38;5;28;01melse\u001b[39;00m \u001b[38;5;28;01mNone\u001b[39;00m\n\u001b[1;32m-> 1289\u001b[0m mapped \u001b[38;5;241m=\u001b[39m obj\u001b[38;5;241m.\u001b[39m_map_values(\n\u001b[0;32m   1290\u001b[0m     mapper\u001b[38;5;241m=\u001b[39mcurried, na_action\u001b[38;5;241m=\u001b[39maction, convert\u001b[38;5;241m=\u001b[39m\u001b[38;5;28mself\u001b[39m\u001b[38;5;241m.\u001b[39mconvert_dtype\n\u001b[0;32m   1291\u001b[0m )\n\u001b[0;32m   1293\u001b[0m \u001b[38;5;28;01mif\u001b[39;00m \u001b[38;5;28mlen\u001b[39m(mapped) \u001b[38;5;129;01mand\u001b[39;00m \u001b[38;5;28misinstance\u001b[39m(mapped[\u001b[38;5;241m0\u001b[39m], ABCSeries):\n\u001b[0;32m   1294\u001b[0m     \u001b[38;5;66;03m# GH#43986 Need to do list(mapped) in order to get treated as nested\u001b[39;00m\n\u001b[0;32m   1295\u001b[0m     \u001b[38;5;66;03m#  See also GH#25959 regarding EA support\u001b[39;00m\n\u001b[0;32m   1296\u001b[0m     \u001b[38;5;28;01mreturn\u001b[39;00m obj\u001b[38;5;241m.\u001b[39m_constructor_expanddim(\u001b[38;5;28mlist\u001b[39m(mapped), index\u001b[38;5;241m=\u001b[39mobj\u001b[38;5;241m.\u001b[39mindex)\n",
      "File \u001b[1;32mD:\\User\\a\\Lib\\site-packages\\pandas\\core\\base.py:921\u001b[0m, in \u001b[0;36mIndexOpsMixin._map_values\u001b[1;34m(self, mapper, na_action, convert)\u001b[0m\n\u001b[0;32m    918\u001b[0m \u001b[38;5;28;01mif\u001b[39;00m \u001b[38;5;28misinstance\u001b[39m(arr, ExtensionArray):\n\u001b[0;32m    919\u001b[0m     \u001b[38;5;28;01mreturn\u001b[39;00m arr\u001b[38;5;241m.\u001b[39mmap(mapper, na_action\u001b[38;5;241m=\u001b[39mna_action)\n\u001b[1;32m--> 921\u001b[0m \u001b[38;5;28;01mreturn\u001b[39;00m algorithms\u001b[38;5;241m.\u001b[39mmap_array(arr, mapper, na_action\u001b[38;5;241m=\u001b[39mna_action, convert\u001b[38;5;241m=\u001b[39mconvert)\n",
      "File \u001b[1;32mD:\\User\\a\\Lib\\site-packages\\pandas\\core\\algorithms.py:1814\u001b[0m, in \u001b[0;36mmap_array\u001b[1;34m(arr, mapper, na_action, convert)\u001b[0m\n\u001b[0;32m   1812\u001b[0m values \u001b[38;5;241m=\u001b[39m arr\u001b[38;5;241m.\u001b[39mastype(\u001b[38;5;28mobject\u001b[39m, copy\u001b[38;5;241m=\u001b[39m\u001b[38;5;28;01mFalse\u001b[39;00m)\n\u001b[0;32m   1813\u001b[0m \u001b[38;5;28;01mif\u001b[39;00m na_action \u001b[38;5;129;01mis\u001b[39;00m \u001b[38;5;28;01mNone\u001b[39;00m:\n\u001b[1;32m-> 1814\u001b[0m     \u001b[38;5;28;01mreturn\u001b[39;00m lib\u001b[38;5;241m.\u001b[39mmap_infer(values, mapper, convert\u001b[38;5;241m=\u001b[39mconvert)\n\u001b[0;32m   1815\u001b[0m \u001b[38;5;28;01melse\u001b[39;00m:\n\u001b[0;32m   1816\u001b[0m     \u001b[38;5;28;01mreturn\u001b[39;00m lib\u001b[38;5;241m.\u001b[39mmap_infer_mask(\n\u001b[0;32m   1817\u001b[0m         values, mapper, mask\u001b[38;5;241m=\u001b[39misna(values)\u001b[38;5;241m.\u001b[39mview(np\u001b[38;5;241m.\u001b[39muint8), convert\u001b[38;5;241m=\u001b[39mconvert\n\u001b[0;32m   1818\u001b[0m     )\n",
      "File \u001b[1;32mlib.pyx:2926\u001b[0m, in \u001b[0;36mpandas._libs.lib.map_infer\u001b[1;34m()\u001b[0m\n",
      "File \u001b[1;32mD:\\User\\a\\Lib\\site-packages\\cufflinks\\plotlytools.py:849\u001b[0m, in \u001b[0;36m_iplot.<locals>.<lambda>\u001b[1;34m(x)\u001b[0m\n\u001b[0;32m    847\u001b[0m \u001b[38;5;28;01mif\u001b[39;00m kind\u001b[38;5;241m==\u001b[39m\u001b[38;5;124m'\u001b[39m\u001b[38;5;124mspread\u001b[39m\u001b[38;5;124m'\u001b[39m:\n\u001b[0;32m    848\u001b[0m \ttrace\u001b[38;5;241m=\u001b[39m\u001b[38;5;28mself\u001b[39m\u001b[38;5;241m.\u001b[39mapply(\u001b[38;5;28;01mlambda\u001b[39;00m x:x[\u001b[38;5;241m0\u001b[39m]\u001b[38;5;241m-\u001b[39mx[\u001b[38;5;241m1\u001b[39m],axis\u001b[38;5;241m=\u001b[39m\u001b[38;5;241m1\u001b[39m)\n\u001b[1;32m--> 849\u001b[0m \tpositive\u001b[38;5;241m=\u001b[39mtrace\u001b[38;5;241m.\u001b[39mapply(\u001b[38;5;28;01mlambda\u001b[39;00m x:x \u001b[38;5;28;01mif\u001b[39;00m x\u001b[38;5;241m>\u001b[39m\u001b[38;5;241m=\u001b[39m\u001b[38;5;241m0\u001b[39m \u001b[38;5;28;01melse\u001b[39;00m pd\u001b[38;5;241m.\u001b[39mnp\u001b[38;5;241m.\u001b[39mnan)\n\u001b[0;32m    850\u001b[0m \tnegative\u001b[38;5;241m=\u001b[39mtrace\u001b[38;5;241m.\u001b[39mapply(\u001b[38;5;28;01mlambda\u001b[39;00m x:x \u001b[38;5;28;01mif\u001b[39;00m x\u001b[38;5;241m<\u001b[39m\u001b[38;5;241m0\u001b[39m \u001b[38;5;28;01melse\u001b[39;00m pd\u001b[38;5;241m.\u001b[39mnp\u001b[38;5;241m.\u001b[39mnan)\n\u001b[0;32m    851\u001b[0m \ttrace\u001b[38;5;241m=\u001b[39mpd\u001b[38;5;241m.\u001b[39mDataFrame({\u001b[38;5;124m'\u001b[39m\u001b[38;5;124mpositive\u001b[39m\u001b[38;5;124m'\u001b[39m:positive,\u001b[38;5;124m'\u001b[39m\u001b[38;5;124mnegative\u001b[39m\u001b[38;5;124m'\u001b[39m:negative})\n",
      "\u001b[1;31mAttributeError\u001b[0m: module 'pandas' has no attribute 'np'"
     ]
    }
   ],
   "source": [
    "df[['A','B']].iplot(kind='spread')"
   ]
  },
  {
   "cell_type": "code",
   "execution_count": 107,
   "id": "2c00c198-321e-419a-9460-c98ced2bfbbf",
   "metadata": {},
   "outputs": [
    {
     "data": {
      "application/vnd.plotly.v1+json": {
       "config": {
        "linkText": "Export to plot.ly",
        "plotlyServerURL": "https://plot.ly",
        "showLink": true
       },
       "data": [
        {
         "marker": {
          "color": [
           "rgb(255, 153, 51)",
           "rgb(55, 128, 191)",
           "rgb(50, 171, 96)",
           "rgb(128, 0, 128)",
           "rgb(219, 64, 82)",
           "rgb(0, 128, 128)",
           "rgb(255, 255, 51)",
           "rgb(128, 128, 0)",
           "rgb(251, 128, 114)",
           "rgb(128, 177, 211)"
          ],
          "line": {
           "width": 1.3
          },
          "size": [
           63,
           78,
           66,
           73,
           98,
           47,
           72,
           62,
           40,
           50,
           71,
           89,
           19,
           111,
           57,
           55,
           65,
           78,
           58,
           98,
           12,
           62,
           53,
           70,
           54,
           50,
           53,
           101,
           53,
           27,
           94,
           100,
           39,
           21,
           67,
           77,
           74,
           50,
           40,
           75,
           40,
           104,
           78,
           80,
           57,
           72,
           20,
           94,
           48,
           81,
           40,
           51,
           70,
           18,
           50,
           73,
           93,
           54,
           67,
           42,
           61,
           45,
           82,
           48,
           47,
           82,
           58,
           89,
           69,
           71,
           73,
           49,
           45,
           39,
           49,
           59,
           80,
           53,
           53,
           59,
           95,
           51,
           86,
           59,
           59,
           56,
           46,
           59,
           56,
           31,
           71,
           44,
           82,
           65,
           92,
           51,
           97,
           28,
           69,
           28
          ],
          "symbol": "circle"
         },
         "mode": "markers",
         "text": "",
         "type": "scatter",
         "x": [
          0.3521248991125683,
          0.374378549462778,
          -0.8681275486234619,
          -1.527571333758755,
          -1.3900068126518048,
          -0.4114054920269361,
          0.15520020133584866,
          0.7384591641252498,
          -0.09712690742829033,
          -0.26819560829719846,
          1.1338755445610074,
          -1.4874831675677571,
          0.7051312012337357,
          -1.2024530037012553,
          -0.29809729403226287,
          0.23420816692031013,
          -1.1907221135276438,
          -0.19985732553043734,
          -0.6100052380320969,
          0.9797152589484669,
          0.5532180003133247,
          -1.2390461467516192,
          1.4175055278440405,
          -0.7828444487559498,
          1.2938009572926183,
          -0.8046173586032122,
          -0.9341045740226017,
          -2.1172419964169795,
          -0.015246331294103573,
          -0.4317235418042056,
          -0.490255626621109,
          -0.10495849562550795,
          0.4895473879909302,
          0.9230452012023029,
          -0.9019954565808412,
          -1.311884135102693,
          2.1622266360844407,
          -0.9981760527494739,
          -1.1669136579693293,
          -0.3878438473642099,
          -1.4062878330424886,
          0.9025854927347297,
          1.0662128436949465,
          1.2952217490953246,
          0.26758105507076246,
          -0.23889838423038862,
          -0.43765284660587417,
          -0.15293874988146516,
          0.8457208972983651,
          -0.12651619208777903,
          -0.12830107703185067,
          0.1905151734851748,
          -0.41358010360527675,
          -0.044092658442423424,
          1.40019571716128,
          -0.48424606902779,
          1.3956807833235683,
          0.2687615836341957,
          1.5571707452070334,
          -0.6360986721910912,
          0.626440960714626,
          -1.5397412105578578,
          -0.8981119577862499,
          1.0610658409579183,
          0.8903605943553875,
          0.17073795280636891,
          0.4268772526295468,
          -0.22528647908761543,
          1.2451042431352326,
          0.16225753274666233,
          -0.8591418566134634,
          -0.9830915946369014,
          0.7391052150205726,
          -0.22235452886232096,
          0.36892299213007546,
          -0.41247121129127323,
          -1.134272171255948,
          0.4167587262034833,
          -0.07488677434197762,
          0.3863115228816906,
          -1.4541697028834588,
          -0.3416988673071571,
          -0.8558369938099291,
          0.7881715368230318,
          0.24315956283911963,
          -0.4890587435401381,
          -1.0192033454977736,
          0.8480397711023916,
          0.7591556284639237,
          -1.8384101909642117,
          0.07412638124788648,
          0.42968941865360294,
          0.6402117041777811,
          0.9430575520543083,
          0.6506280986774639,
          0.21082036382305874,
          0.36483477797329544,
          -1.055874549469489,
          -0.7137286648445479,
          0.9370985982210176
         ],
         "y": [
          -0.3672400660188171,
          1.1723030793263862,
          0.4229211143763501,
          -1.5356190599328485,
          0.29258044314440335,
          -2.077842158921335,
          0.28512491387525263,
          -0.37926165771701653,
          0.29908568497608157,
          0.9443018696549622,
          -1.5967889033942413,
          -1.3887672722735456,
          -0.6641416375654052,
          -0.0639470087730585,
          -0.46663721396131613,
          -0.6295335086197471,
          0.5897981776073271,
          -1.7655390053108517,
          -0.060237541740192926,
          1.4702381311634727,
          -0.579730434241401,
          -0.6002929782656196,
          1.9181218447873463,
          -0.07074094133169188,
          0.1554365837641563,
          0.7018919084379145,
          -0.6418528714390223,
          -0.07787505719096816,
          0.8561862739788918,
          -0.04757433442450353,
          0.937486539183576,
          1.7446059049126703,
          -0.5779297950685147,
          -2.6904740459574996,
          -0.3263343249047711,
          0.5155591540762269,
          0.3498287948955922,
          0.28221116405487856,
          -0.766191809161088,
          -0.5213477645381658,
          0.708880192738116,
          2.0539874746295013,
          -1.2473316263033876,
          0.9476199776636521,
          0.8296837728135735,
          0.2582333472604082,
          -0.7780087626419847,
          -0.2812605671675329,
          1.7583789451772844,
          0.5612996509403224,
          0.014262775164241561,
          -0.023906427686685182,
          -1.6391439824939231,
          1.170887485480817,
          0.5950341792071205,
          -0.6608344171032432,
          0.6288046045099865,
          0.3841721295386118,
          1.5401405371003682,
          -1.8171836596773712,
          -0.7777492347930118,
          0.8959467876452509,
          -0.39984688974564636,
          -1.146909822561759,
          2.24056639133713,
          -0.5676541986251326,
          -0.4629548656750362,
          1.3889964902978318,
          -1.2245992643146717,
          -0.10367449206740265,
          0.9059640174215866,
          0.6786534543107289,
          -0.5540066332650183,
          -0.12598739875013132,
          1.3483800477887116,
          1.2078134648275922,
          0.35034451020220486,
          0.40338079190074544,
          0.06883393428501268,
          -1.253355144433232,
          -1.0346073711363797,
          -1.572317268003851,
          0.8314858329161572,
          0.24454223001424086,
          -0.6227120484695982,
          -0.3559554015358584,
          0.2143436464681599,
          0.9637507906816873,
          3.303530045792439,
          -1.5897202496106333,
          -0.6320262369164329,
          -0.07242936475366742,
          -0.9198386634299148,
          -0.5504794102299363,
          -1.7324629922232109,
          -0.946431143453696,
          0.4470946952370082,
          -1.0733428737514066,
          0.7032246421977343,
          -1.4584740632012463
         ]
        }
       ],
       "layout": {
        "autosize": true,
        "legend": {
         "bgcolor": "#F5F6F9",
         "font": {
          "color": "#4D5663"
         }
        },
        "paper_bgcolor": "#F5F6F9",
        "plot_bgcolor": "#F5F6F9",
        "template": {
         "data": {
          "bar": [
           {
            "error_x": {
             "color": "#2a3f5f"
            },
            "error_y": {
             "color": "#2a3f5f"
            },
            "marker": {
             "line": {
              "color": "#E5ECF6",
              "width": 0.5
             },
             "pattern": {
              "fillmode": "overlay",
              "size": 10,
              "solidity": 0.2
             }
            },
            "type": "bar"
           }
          ],
          "barpolar": [
           {
            "marker": {
             "line": {
              "color": "#E5ECF6",
              "width": 0.5
             },
             "pattern": {
              "fillmode": "overlay",
              "size": 10,
              "solidity": 0.2
             }
            },
            "type": "barpolar"
           }
          ],
          "carpet": [
           {
            "aaxis": {
             "endlinecolor": "#2a3f5f",
             "gridcolor": "white",
             "linecolor": "white",
             "minorgridcolor": "white",
             "startlinecolor": "#2a3f5f"
            },
            "baxis": {
             "endlinecolor": "#2a3f5f",
             "gridcolor": "white",
             "linecolor": "white",
             "minorgridcolor": "white",
             "startlinecolor": "#2a3f5f"
            },
            "type": "carpet"
           }
          ],
          "choropleth": [
           {
            "colorbar": {
             "outlinewidth": 0,
             "ticks": ""
            },
            "type": "choropleth"
           }
          ],
          "contour": [
           {
            "colorbar": {
             "outlinewidth": 0,
             "ticks": ""
            },
            "colorscale": [
             [
              0,
              "#0d0887"
             ],
             [
              0.1111111111111111,
              "#46039f"
             ],
             [
              0.2222222222222222,
              "#7201a8"
             ],
             [
              0.3333333333333333,
              "#9c179e"
             ],
             [
              0.4444444444444444,
              "#bd3786"
             ],
             [
              0.5555555555555556,
              "#d8576b"
             ],
             [
              0.6666666666666666,
              "#ed7953"
             ],
             [
              0.7777777777777778,
              "#fb9f3a"
             ],
             [
              0.8888888888888888,
              "#fdca26"
             ],
             [
              1,
              "#f0f921"
             ]
            ],
            "type": "contour"
           }
          ],
          "contourcarpet": [
           {
            "colorbar": {
             "outlinewidth": 0,
             "ticks": ""
            },
            "type": "contourcarpet"
           }
          ],
          "heatmap": [
           {
            "colorbar": {
             "outlinewidth": 0,
             "ticks": ""
            },
            "colorscale": [
             [
              0,
              "#0d0887"
             ],
             [
              0.1111111111111111,
              "#46039f"
             ],
             [
              0.2222222222222222,
              "#7201a8"
             ],
             [
              0.3333333333333333,
              "#9c179e"
             ],
             [
              0.4444444444444444,
              "#bd3786"
             ],
             [
              0.5555555555555556,
              "#d8576b"
             ],
             [
              0.6666666666666666,
              "#ed7953"
             ],
             [
              0.7777777777777778,
              "#fb9f3a"
             ],
             [
              0.8888888888888888,
              "#fdca26"
             ],
             [
              1,
              "#f0f921"
             ]
            ],
            "type": "heatmap"
           }
          ],
          "heatmapgl": [
           {
            "colorbar": {
             "outlinewidth": 0,
             "ticks": ""
            },
            "colorscale": [
             [
              0,
              "#0d0887"
             ],
             [
              0.1111111111111111,
              "#46039f"
             ],
             [
              0.2222222222222222,
              "#7201a8"
             ],
             [
              0.3333333333333333,
              "#9c179e"
             ],
             [
              0.4444444444444444,
              "#bd3786"
             ],
             [
              0.5555555555555556,
              "#d8576b"
             ],
             [
              0.6666666666666666,
              "#ed7953"
             ],
             [
              0.7777777777777778,
              "#fb9f3a"
             ],
             [
              0.8888888888888888,
              "#fdca26"
             ],
             [
              1,
              "#f0f921"
             ]
            ],
            "type": "heatmapgl"
           }
          ],
          "histogram": [
           {
            "marker": {
             "pattern": {
              "fillmode": "overlay",
              "size": 10,
              "solidity": 0.2
             }
            },
            "type": "histogram"
           }
          ],
          "histogram2d": [
           {
            "colorbar": {
             "outlinewidth": 0,
             "ticks": ""
            },
            "colorscale": [
             [
              0,
              "#0d0887"
             ],
             [
              0.1111111111111111,
              "#46039f"
             ],
             [
              0.2222222222222222,
              "#7201a8"
             ],
             [
              0.3333333333333333,
              "#9c179e"
             ],
             [
              0.4444444444444444,
              "#bd3786"
             ],
             [
              0.5555555555555556,
              "#d8576b"
             ],
             [
              0.6666666666666666,
              "#ed7953"
             ],
             [
              0.7777777777777778,
              "#fb9f3a"
             ],
             [
              0.8888888888888888,
              "#fdca26"
             ],
             [
              1,
              "#f0f921"
             ]
            ],
            "type": "histogram2d"
           }
          ],
          "histogram2dcontour": [
           {
            "colorbar": {
             "outlinewidth": 0,
             "ticks": ""
            },
            "colorscale": [
             [
              0,
              "#0d0887"
             ],
             [
              0.1111111111111111,
              "#46039f"
             ],
             [
              0.2222222222222222,
              "#7201a8"
             ],
             [
              0.3333333333333333,
              "#9c179e"
             ],
             [
              0.4444444444444444,
              "#bd3786"
             ],
             [
              0.5555555555555556,
              "#d8576b"
             ],
             [
              0.6666666666666666,
              "#ed7953"
             ],
             [
              0.7777777777777778,
              "#fb9f3a"
             ],
             [
              0.8888888888888888,
              "#fdca26"
             ],
             [
              1,
              "#f0f921"
             ]
            ],
            "type": "histogram2dcontour"
           }
          ],
          "mesh3d": [
           {
            "colorbar": {
             "outlinewidth": 0,
             "ticks": ""
            },
            "type": "mesh3d"
           }
          ],
          "parcoords": [
           {
            "line": {
             "colorbar": {
              "outlinewidth": 0,
              "ticks": ""
             }
            },
            "type": "parcoords"
           }
          ],
          "pie": [
           {
            "automargin": true,
            "type": "pie"
           }
          ],
          "scatter": [
           {
            "fillpattern": {
             "fillmode": "overlay",
             "size": 10,
             "solidity": 0.2
            },
            "type": "scatter"
           }
          ],
          "scatter3d": [
           {
            "line": {
             "colorbar": {
              "outlinewidth": 0,
              "ticks": ""
             }
            },
            "marker": {
             "colorbar": {
              "outlinewidth": 0,
              "ticks": ""
             }
            },
            "type": "scatter3d"
           }
          ],
          "scattercarpet": [
           {
            "marker": {
             "colorbar": {
              "outlinewidth": 0,
              "ticks": ""
             }
            },
            "type": "scattercarpet"
           }
          ],
          "scattergeo": [
           {
            "marker": {
             "colorbar": {
              "outlinewidth": 0,
              "ticks": ""
             }
            },
            "type": "scattergeo"
           }
          ],
          "scattergl": [
           {
            "marker": {
             "colorbar": {
              "outlinewidth": 0,
              "ticks": ""
             }
            },
            "type": "scattergl"
           }
          ],
          "scattermapbox": [
           {
            "marker": {
             "colorbar": {
              "outlinewidth": 0,
              "ticks": ""
             }
            },
            "type": "scattermapbox"
           }
          ],
          "scatterpolar": [
           {
            "marker": {
             "colorbar": {
              "outlinewidth": 0,
              "ticks": ""
             }
            },
            "type": "scatterpolar"
           }
          ],
          "scatterpolargl": [
           {
            "marker": {
             "colorbar": {
              "outlinewidth": 0,
              "ticks": ""
             }
            },
            "type": "scatterpolargl"
           }
          ],
          "scatterternary": [
           {
            "marker": {
             "colorbar": {
              "outlinewidth": 0,
              "ticks": ""
             }
            },
            "type": "scatterternary"
           }
          ],
          "surface": [
           {
            "colorbar": {
             "outlinewidth": 0,
             "ticks": ""
            },
            "colorscale": [
             [
              0,
              "#0d0887"
             ],
             [
              0.1111111111111111,
              "#46039f"
             ],
             [
              0.2222222222222222,
              "#7201a8"
             ],
             [
              0.3333333333333333,
              "#9c179e"
             ],
             [
              0.4444444444444444,
              "#bd3786"
             ],
             [
              0.5555555555555556,
              "#d8576b"
             ],
             [
              0.6666666666666666,
              "#ed7953"
             ],
             [
              0.7777777777777778,
              "#fb9f3a"
             ],
             [
              0.8888888888888888,
              "#fdca26"
             ],
             [
              1,
              "#f0f921"
             ]
            ],
            "type": "surface"
           }
          ],
          "table": [
           {
            "cells": {
             "fill": {
              "color": "#EBF0F8"
             },
             "line": {
              "color": "white"
             }
            },
            "header": {
             "fill": {
              "color": "#C8D4E3"
             },
             "line": {
              "color": "white"
             }
            },
            "type": "table"
           }
          ]
         },
         "layout": {
          "annotationdefaults": {
           "arrowcolor": "#2a3f5f",
           "arrowhead": 0,
           "arrowwidth": 1
          },
          "autotypenumbers": "strict",
          "coloraxis": {
           "colorbar": {
            "outlinewidth": 0,
            "ticks": ""
           }
          },
          "colorscale": {
           "diverging": [
            [
             0,
             "#8e0152"
            ],
            [
             0.1,
             "#c51b7d"
            ],
            [
             0.2,
             "#de77ae"
            ],
            [
             0.3,
             "#f1b6da"
            ],
            [
             0.4,
             "#fde0ef"
            ],
            [
             0.5,
             "#f7f7f7"
            ],
            [
             0.6,
             "#e6f5d0"
            ],
            [
             0.7,
             "#b8e186"
            ],
            [
             0.8,
             "#7fbc41"
            ],
            [
             0.9,
             "#4d9221"
            ],
            [
             1,
             "#276419"
            ]
           ],
           "sequential": [
            [
             0,
             "#0d0887"
            ],
            [
             0.1111111111111111,
             "#46039f"
            ],
            [
             0.2222222222222222,
             "#7201a8"
            ],
            [
             0.3333333333333333,
             "#9c179e"
            ],
            [
             0.4444444444444444,
             "#bd3786"
            ],
            [
             0.5555555555555556,
             "#d8576b"
            ],
            [
             0.6666666666666666,
             "#ed7953"
            ],
            [
             0.7777777777777778,
             "#fb9f3a"
            ],
            [
             0.8888888888888888,
             "#fdca26"
            ],
            [
             1,
             "#f0f921"
            ]
           ],
           "sequentialminus": [
            [
             0,
             "#0d0887"
            ],
            [
             0.1111111111111111,
             "#46039f"
            ],
            [
             0.2222222222222222,
             "#7201a8"
            ],
            [
             0.3333333333333333,
             "#9c179e"
            ],
            [
             0.4444444444444444,
             "#bd3786"
            ],
            [
             0.5555555555555556,
             "#d8576b"
            ],
            [
             0.6666666666666666,
             "#ed7953"
            ],
            [
             0.7777777777777778,
             "#fb9f3a"
            ],
            [
             0.8888888888888888,
             "#fdca26"
            ],
            [
             1,
             "#f0f921"
            ]
           ]
          },
          "colorway": [
           "#636efa",
           "#EF553B",
           "#00cc96",
           "#ab63fa",
           "#FFA15A",
           "#19d3f3",
           "#FF6692",
           "#B6E880",
           "#FF97FF",
           "#FECB52"
          ],
          "font": {
           "color": "#2a3f5f"
          },
          "geo": {
           "bgcolor": "white",
           "lakecolor": "white",
           "landcolor": "#E5ECF6",
           "showlakes": true,
           "showland": true,
           "subunitcolor": "white"
          },
          "hoverlabel": {
           "align": "left"
          },
          "hovermode": "closest",
          "mapbox": {
           "style": "light"
          },
          "paper_bgcolor": "white",
          "plot_bgcolor": "#E5ECF6",
          "polar": {
           "angularaxis": {
            "gridcolor": "white",
            "linecolor": "white",
            "ticks": ""
           },
           "bgcolor": "#E5ECF6",
           "radialaxis": {
            "gridcolor": "white",
            "linecolor": "white",
            "ticks": ""
           }
          },
          "scene": {
           "xaxis": {
            "backgroundcolor": "#E5ECF6",
            "gridcolor": "white",
            "gridwidth": 2,
            "linecolor": "white",
            "showbackground": true,
            "ticks": "",
            "zerolinecolor": "white"
           },
           "yaxis": {
            "backgroundcolor": "#E5ECF6",
            "gridcolor": "white",
            "gridwidth": 2,
            "linecolor": "white",
            "showbackground": true,
            "ticks": "",
            "zerolinecolor": "white"
           },
           "zaxis": {
            "backgroundcolor": "#E5ECF6",
            "gridcolor": "white",
            "gridwidth": 2,
            "linecolor": "white",
            "showbackground": true,
            "ticks": "",
            "zerolinecolor": "white"
           }
          },
          "shapedefaults": {
           "line": {
            "color": "#2a3f5f"
           }
          },
          "ternary": {
           "aaxis": {
            "gridcolor": "white",
            "linecolor": "white",
            "ticks": ""
           },
           "baxis": {
            "gridcolor": "white",
            "linecolor": "white",
            "ticks": ""
           },
           "bgcolor": "#E5ECF6",
           "caxis": {
            "gridcolor": "white",
            "linecolor": "white",
            "ticks": ""
           }
          },
          "title": {
           "x": 0.05
          },
          "xaxis": {
           "automargin": true,
           "gridcolor": "white",
           "linecolor": "white",
           "ticks": "",
           "title": {
            "standoff": 15
           },
           "zerolinecolor": "white",
           "zerolinewidth": 2
          },
          "yaxis": {
           "automargin": true,
           "gridcolor": "white",
           "linecolor": "white",
           "ticks": "",
           "title": {
            "standoff": 15
           },
           "zerolinecolor": "white",
           "zerolinewidth": 2
          }
         }
        },
        "title": {
         "font": {
          "color": "#4D5663"
         }
        },
        "xaxis": {
         "autorange": true,
         "gridcolor": "#E1E5ED",
         "range": [
          -3.236046923396711,
          3.066182821752275
         ],
         "showgrid": true,
         "tickfont": {
          "color": "#4D5663"
         },
         "title": {
          "font": {
           "color": "#4D5663"
          },
          "text": ""
         },
         "type": "linear",
         "zerolinecolor": "#E1E5ED"
        },
        "yaxis": {
         "autorange": true,
         "gridcolor": "#E1E5ED",
         "range": [
          -8.10712010730436,
          9.147590880885215
         ],
         "showgrid": true,
         "tickfont": {
          "color": "#4D5663"
         },
         "title": {
          "font": {
           "color": "#4D5663"
          },
          "text": ""
         },
         "type": "linear",
         "zerolinecolor": "#E1E5ED"
        }
       }
      },
      "image/png": "[encoded data removed]",
      "text/html": [
       "<div>                            <div id=\"c829b8ae-cab5-4df5-a5e0-169414ef115c\" class=\"plotly-graph-div\" style=\"height:525px; width:100%;\"></div>            <script type=\"text/javascript\">                require([\"plotly\"], function(Plotly) {                    window.PLOTLYENV=window.PLOTLYENV || {};\n",
       "                    window.PLOTLYENV.BASE_URL='https://plot.ly';                                    if (document.getElementById(\"c829b8ae-cab5-4df5-a5e0-169414ef115c\")) {                    Plotly.newPlot(                        \"c829b8ae-cab5-4df5-a5e0-169414ef115c\",                        [{\"marker\":{\"color\":[\"rgb(255, 153, 51)\",\"rgb(55, 128, 191)\",\"rgb(50, 171, 96)\",\"rgb(128, 0, 128)\",\"rgb(219, 64, 82)\",\"rgb(0, 128, 128)\",\"rgb(255, 255, 51)\",\"rgb(128, 128, 0)\",\"rgb(251, 128, 114)\",\"rgb(128, 177, 211)\"],\"line\":{\"width\":1.3},\"size\":[63,78,66,73,98,47,72,62,40,50,71,89,19,111,57,55,65,78,58,98,12,62,53,70,54,50,53,101,53,27,94,100,39,21,67,77,74,50,40,75,40,104,78,80,57,72,20,94,48,81,40,51,70,18,50,73,93,54,67,42,61,45,82,48,47,82,58,89,69,71,73,49,45,39,49,59,80,53,53,59,95,51,86,59,59,56,46,59,56,31,71,44,82,65,92,51,97,28,69,28],\"symbol\":\"circle\"},\"mode\":\"markers\",\"text\":\"\",\"x\":[0.3521248991125683,0.374378549462778,-0.8681275486234619,-1.527571333758755,-1.3900068126518048,-0.4114054920269361,0.15520020133584866,0.7384591641252498,-0.09712690742829033,-0.26819560829719846,1.1338755445610074,-1.4874831675677571,0.7051312012337357,-1.2024530037012553,-0.29809729403226287,0.23420816692031013,-1.1907221135276438,-0.19985732553043734,-0.6100052380320969,0.9797152589484669,0.5532180003133247,-1.2390461467516192,1.4175055278440405,-0.7828444487559498,1.2938009572926183,-0.8046173586032122,-0.9341045740226017,-2.1172419964169795,-0.015246331294103573,-0.4317235418042056,-0.490255626621109,-0.10495849562550795,0.4895473879909302,0.9230452012023029,-0.9019954565808412,-1.311884135102693,2.1622266360844407,-0.9981760527494739,-1.1669136579693293,-0.3878438473642099,-1.4062878330424886,0.9025854927347297,1.0662128436949465,1.2952217490953246,0.26758105507076246,-0.23889838423038862,-0.43765284660587417,-0.15293874988146516,0.8457208972983651,-0.12651619208777903,-0.12830107703185067,0.1905151734851748,-0.41358010360527675,-0.044092658442423424,1.40019571716128,-0.48424606902779,1.3956807833235683,0.2687615836341957,1.5571707452070334,-0.6360986721910912,0.626440960714626,-1.5397412105578578,-0.8981119577862499,1.0610658409579183,0.8903605943553875,0.17073795280636891,0.4268772526295468,-0.22528647908761543,1.2451042431352326,0.16225753274666233,-0.8591418566134634,-0.9830915946369014,0.7391052150205726,-0.22235452886232096,0.36892299213007546,-0.41247121129127323,-1.134272171255948,0.4167587262034833,-0.07488677434197762,0.3863115228816906,-1.4541697028834588,-0.3416988673071571,-0.8558369938099291,0.7881715368230318,0.24315956283911963,-0.4890587435401381,-1.0192033454977736,0.8480397711023916,0.7591556284639237,-1.8384101909642117,0.07412638124788648,0.42968941865360294,0.6402117041777811,0.9430575520543083,0.6506280986774639,0.21082036382305874,0.36483477797329544,-1.055874549469489,-0.7137286648445479,0.9370985982210176],\"y\":[-0.3672400660188171,1.1723030793263862,0.4229211143763501,-1.5356190599328485,0.29258044314440335,-2.077842158921335,0.28512491387525263,-0.37926165771701653,0.29908568497608157,0.9443018696549622,-1.5967889033942413,-1.3887672722735456,-0.6641416375654052,-0.0639470087730585,-0.46663721396131613,-0.6295335086197471,0.5897981776073271,-1.7655390053108517,-0.060237541740192926,1.4702381311634727,-0.579730434241401,-0.6002929782656196,1.9181218447873463,-0.07074094133169188,0.1554365837641563,0.7018919084379145,-0.6418528714390223,-0.07787505719096816,0.8561862739788918,-0.04757433442450353,0.937486539183576,1.7446059049126703,-0.5779297950685147,-2.6904740459574996,-0.3263343249047711,0.5155591540762269,0.3498287948955922,0.28221116405487856,-0.766191809161088,-0.5213477645381658,0.708880192738116,2.0539874746295013,-1.2473316263033876,0.9476199776636521,0.8296837728135735,0.2582333472604082,-0.7780087626419847,-0.2812605671675329,1.7583789451772844,0.5612996509403224,0.014262775164241561,-0.023906427686685182,-1.6391439824939231,1.170887485480817,0.5950341792071205,-0.6608344171032432,0.6288046045099865,0.3841721295386118,1.5401405371003682,-1.8171836596773712,-0.7777492347930118,0.8959467876452509,-0.39984688974564636,-1.146909822561759,2.24056639133713,-0.5676541986251326,-0.4629548656750362,1.3889964902978318,-1.2245992643146717,-0.10367449206740265,0.9059640174215866,0.6786534543107289,-0.5540066332650183,-0.12598739875013132,1.3483800477887116,1.2078134648275922,0.35034451020220486,0.40338079190074544,0.06883393428501268,-1.253355144433232,-1.0346073711363797,-1.572317268003851,0.8314858329161572,0.24454223001424086,-0.6227120484695982,-0.3559554015358584,0.2143436464681599,0.9637507906816873,3.303530045792439,-1.5897202496106333,-0.6320262369164329,-0.07242936475366742,-0.9198386634299148,-0.5504794102299363,-1.7324629922232109,-0.946431143453696,0.4470946952370082,-1.0733428737514066,0.7032246421977343,-1.4584740632012463],\"type\":\"scatter\"}],                        {\"legend\":{\"bgcolor\":\"#F5F6F9\",\"font\":{\"color\":\"#4D5663\"}},\"paper_bgcolor\":\"#F5F6F9\",\"plot_bgcolor\":\"#F5F6F9\",\"template\":{\"data\":{\"barpolar\":[{\"marker\":{\"line\":{\"color\":\"#E5ECF6\",\"width\":0.5},\"pattern\":{\"fillmode\":\"overlay\",\"size\":10,\"solidity\":0.2}},\"type\":\"barpolar\"}],\"bar\":[{\"error_x\":{\"color\":\"#2a3f5f\"},\"error_y\":{\"color\":\"#2a3f5f\"},\"marker\":{\"line\":{\"color\":\"#E5ECF6\",\"width\":0.5},\"pattern\":{\"fillmode\":\"overlay\",\"size\":10,\"solidity\":0.2}},\"type\":\"bar\"}],\"carpet\":[{\"aaxis\":{\"endlinecolor\":\"#2a3f5f\",\"gridcolor\":\"white\",\"linecolor\":\"white\",\"minorgridcolor\":\"white\",\"startlinecolor\":\"#2a3f5f\"},\"baxis\":{\"endlinecolor\":\"#2a3f5f\",\"gridcolor\":\"white\",\"linecolor\":\"white\",\"minorgridcolor\":\"white\",\"startlinecolor\":\"#2a3f5f\"},\"type\":\"carpet\"}],\"choropleth\":[{\"colorbar\":{\"outlinewidth\":0,\"ticks\":\"\"},\"type\":\"choropleth\"}],\"contourcarpet\":[{\"colorbar\":{\"outlinewidth\":0,\"ticks\":\"\"},\"type\":\"contourcarpet\"}],\"contour\":[{\"colorbar\":{\"outlinewidth\":0,\"ticks\":\"\"},\"colorscale\":[[0.0,\"#0d0887\"],[0.1111111111111111,\"#46039f\"],[0.2222222222222222,\"#7201a8\"],[0.3333333333333333,\"#9c179e\"],[0.4444444444444444,\"#bd3786\"],[0.5555555555555556,\"#d8576b\"],[0.6666666666666666,\"#ed7953\"],[0.7777777777777778,\"#fb9f3a\"],[0.8888888888888888,\"#fdca26\"],[1.0,\"#f0f921\"]],\"type\":\"contour\"}],\"heatmapgl\":[{\"colorbar\":{\"outlinewidth\":0,\"ticks\":\"\"},\"colorscale\":[[0.0,\"#0d0887\"],[0.1111111111111111,\"#46039f\"],[0.2222222222222222,\"#7201a8\"],[0.3333333333333333,\"#9c179e\"],[0.4444444444444444,\"#bd3786\"],[0.5555555555555556,\"#d8576b\"],[0.6666666666666666,\"#ed7953\"],[0.7777777777777778,\"#fb9f3a\"],[0.8888888888888888,\"#fdca26\"],[1.0,\"#f0f921\"]],\"type\":\"heatmapgl\"}],\"heatmap\":[{\"colorbar\":{\"outlinewidth\":0,\"ticks\":\"\"},\"colorscale\":[[0.0,\"#0d0887\"],[0.1111111111111111,\"#46039f\"],[0.2222222222222222,\"#7201a8\"],[0.3333333333333333,\"#9c179e\"],[0.4444444444444444,\"#bd3786\"],[0.5555555555555556,\"#d8576b\"],[0.6666666666666666,\"#ed7953\"],[0.7777777777777778,\"#fb9f3a\"],[0.8888888888888888,\"#fdca26\"],[1.0,\"#f0f921\"]],\"type\":\"heatmap\"}],\"histogram2dcontour\":[{\"colorbar\":{\"outlinewidth\":0,\"ticks\":\"\"},\"colorscale\":[[0.0,\"#0d0887\"],[0.1111111111111111,\"#46039f\"],[0.2222222222222222,\"#7201a8\"],[0.3333333333333333,\"#9c179e\"],[0.4444444444444444,\"#bd3786\"],[0.5555555555555556,\"#d8576b\"],[0.6666666666666666,\"#ed7953\"],[0.7777777777777778,\"#fb9f3a\"],[0.8888888888888888,\"#fdca26\"],[1.0,\"#f0f921\"]],\"type\":\"histogram2dcontour\"}],\"histogram2d\":[{\"colorbar\":{\"outlinewidth\":0,\"ticks\":\"\"},\"colorscale\":[[0.0,\"#0d0887\"],[0.1111111111111111,\"#46039f\"],[0.2222222222222222,\"#7201a8\"],[0.3333333333333333,\"#9c179e\"],[0.4444444444444444,\"#bd3786\"],[0.5555555555555556,\"#d8576b\"],[0.6666666666666666,\"#ed7953\"],[0.7777777777777778,\"#fb9f3a\"],[0.8888888888888888,\"#fdca26\"],[1.0,\"#f0f921\"]],\"type\":\"histogram2d\"}],\"histogram\":[{\"marker\":{\"pattern\":{\"fillmode\":\"overlay\",\"size\":10,\"solidity\":0.2}},\"type\":\"histogram\"}],\"mesh3d\":[{\"colorbar\":{\"outlinewidth\":0,\"ticks\":\"\"},\"type\":\"mesh3d\"}],\"parcoords\":[{\"line\":{\"colorbar\":{\"outlinewidth\":0,\"ticks\":\"\"}},\"type\":\"parcoords\"}],\"pie\":[{\"automargin\":true,\"type\":\"pie\"}],\"scatter3d\":[{\"line\":{\"colorbar\":{\"outlinewidth\":0,\"ticks\":\"\"}},\"marker\":{\"colorbar\":{\"outlinewidth\":0,\"ticks\":\"\"}},\"type\":\"scatter3d\"}],\"scattercarpet\":[{\"marker\":{\"colorbar\":{\"outlinewidth\":0,\"ticks\":\"\"}},\"type\":\"scattercarpet\"}],\"scattergeo\":[{\"marker\":{\"colorbar\":{\"outlinewidth\":0,\"ticks\":\"\"}},\"type\":\"scattergeo\"}],\"scattergl\":[{\"marker\":{\"colorbar\":{\"outlinewidth\":0,\"ticks\":\"\"}},\"type\":\"scattergl\"}],\"scattermapbox\":[{\"marker\":{\"colorbar\":{\"outlinewidth\":0,\"ticks\":\"\"}},\"type\":\"scattermapbox\"}],\"scatterpolargl\":[{\"marker\":{\"colorbar\":{\"outlinewidth\":0,\"ticks\":\"\"}},\"type\":\"scatterpolargl\"}],\"scatterpolar\":[{\"marker\":{\"colorbar\":{\"outlinewidth\":0,\"ticks\":\"\"}},\"type\":\"scatterpolar\"}],\"scatter\":[{\"fillpattern\":{\"fillmode\":\"overlay\",\"size\":10,\"solidity\":0.2},\"type\":\"scatter\"}],\"scatterternary\":[{\"marker\":{\"colorbar\":{\"outlinewidth\":0,\"ticks\":\"\"}},\"type\":\"scatterternary\"}],\"surface\":[{\"colorbar\":{\"outlinewidth\":0,\"ticks\":\"\"},\"colorscale\":[[0.0,\"#0d0887\"],[0.1111111111111111,\"#46039f\"],[0.2222222222222222,\"#7201a8\"],[0.3333333333333333,\"#9c179e\"],[0.4444444444444444,\"#bd3786\"],[0.5555555555555556,\"#d8576b\"],[0.6666666666666666,\"#ed7953\"],[0.7777777777777778,\"#fb9f3a\"],[0.8888888888888888,\"#fdca26\"],[1.0,\"#f0f921\"]],\"type\":\"surface\"}],\"table\":[{\"cells\":{\"fill\":{\"color\":\"#EBF0F8\"},\"line\":{\"color\":\"white\"}},\"header\":{\"fill\":{\"color\":\"#C8D4E3\"},\"line\":{\"color\":\"white\"}},\"type\":\"table\"}]},\"layout\":{\"annotationdefaults\":{\"arrowcolor\":\"#2a3f5f\",\"arrowhead\":0,\"arrowwidth\":1},\"autotypenumbers\":\"strict\",\"coloraxis\":{\"colorbar\":{\"outlinewidth\":0,\"ticks\":\"\"}},\"colorscale\":{\"diverging\":[[0,\"#8e0152\"],[0.1,\"#c51b7d\"],[0.2,\"#de77ae\"],[0.3,\"#f1b6da\"],[0.4,\"#fde0ef\"],[0.5,\"#f7f7f7\"],[0.6,\"#e6f5d0\"],[0.7,\"#b8e186\"],[0.8,\"#7fbc41\"],[0.9,\"#4d9221\"],[1,\"#276419\"]],\"sequential\":[[0.0,\"#0d0887\"],[0.1111111111111111,\"#46039f\"],[0.2222222222222222,\"#7201a8\"],[0.3333333333333333,\"#9c179e\"],[0.4444444444444444,\"#bd3786\"],[0.5555555555555556,\"#d8576b\"],[0.6666666666666666,\"#ed7953\"],[0.7777777777777778,\"#fb9f3a\"],[0.8888888888888888,\"#fdca26\"],[1.0,\"#f0f921\"]],\"sequentialminus\":[[0.0,\"#0d0887\"],[0.1111111111111111,\"#46039f\"],[0.2222222222222222,\"#7201a8\"],[0.3333333333333333,\"#9c179e\"],[0.4444444444444444,\"#bd3786\"],[0.5555555555555556,\"#d8576b\"],[0.6666666666666666,\"#ed7953\"],[0.7777777777777778,\"#fb9f3a\"],[0.8888888888888888,\"#fdca26\"],[1.0,\"#f0f921\"]]},\"colorway\":[\"#636efa\",\"#EF553B\",\"#00cc96\",\"#ab63fa\",\"#FFA15A\",\"#19d3f3\",\"#FF6692\",\"#B6E880\",\"#FF97FF\",\"#FECB52\"],\"font\":{\"color\":\"#2a3f5f\"},\"geo\":{\"bgcolor\":\"white\",\"lakecolor\":\"white\",\"landcolor\":\"#E5ECF6\",\"showlakes\":true,\"showland\":true,\"subunitcolor\":\"white\"},\"hoverlabel\":{\"align\":\"left\"},\"hovermode\":\"closest\",\"mapbox\":{\"style\":\"light\"},\"paper_bgcolor\":\"white\",\"plot_bgcolor\":\"#E5ECF6\",\"polar\":{\"angularaxis\":{\"gridcolor\":\"white\",\"linecolor\":\"white\",\"ticks\":\"\"},\"bgcolor\":\"#E5ECF6\",\"radialaxis\":{\"gridcolor\":\"white\",\"linecolor\":\"white\",\"ticks\":\"\"}},\"scene\":{\"xaxis\":{\"backgroundcolor\":\"#E5ECF6\",\"gridcolor\":\"white\",\"gridwidth\":2,\"linecolor\":\"white\",\"showbackground\":true,\"ticks\":\"\",\"zerolinecolor\":\"white\"},\"yaxis\":{\"backgroundcolor\":\"#E5ECF6\",\"gridcolor\":\"white\",\"gridwidth\":2,\"linecolor\":\"white\",\"showbackground\":true,\"ticks\":\"\",\"zerolinecolor\":\"white\"},\"zaxis\":{\"backgroundcolor\":\"#E5ECF6\",\"gridcolor\":\"white\",\"gridwidth\":2,\"linecolor\":\"white\",\"showbackground\":true,\"ticks\":\"\",\"zerolinecolor\":\"white\"}},\"shapedefaults\":{\"line\":{\"color\":\"#2a3f5f\"}},\"ternary\":{\"aaxis\":{\"gridcolor\":\"white\",\"linecolor\":\"white\",\"ticks\":\"\"},\"baxis\":{\"gridcolor\":\"white\",\"linecolor\":\"white\",\"ticks\":\"\"},\"bgcolor\":\"#E5ECF6\",\"caxis\":{\"gridcolor\":\"white\",\"linecolor\":\"white\",\"ticks\":\"\"}},\"title\":{\"x\":0.05},\"xaxis\":{\"automargin\":true,\"gridcolor\":\"white\",\"linecolor\":\"white\",\"ticks\":\"\",\"title\":{\"standoff\":15},\"zerolinecolor\":\"white\",\"zerolinewidth\":2},\"yaxis\":{\"automargin\":true,\"gridcolor\":\"white\",\"linecolor\":\"white\",\"ticks\":\"\",\"title\":{\"standoff\":15},\"zerolinecolor\":\"white\",\"zerolinewidth\":2}}},\"title\":{\"font\":{\"color\":\"#4D5663\"}},\"xaxis\":{\"gridcolor\":\"#E1E5ED\",\"showgrid\":true,\"tickfont\":{\"color\":\"#4D5663\"},\"title\":{\"font\":{\"color\":\"#4D5663\"},\"text\":\"\"},\"zerolinecolor\":\"#E1E5ED\"},\"yaxis\":{\"gridcolor\":\"#E1E5ED\",\"showgrid\":true,\"tickfont\":{\"color\":\"#4D5663\"},\"title\":{\"font\":{\"color\":\"#4D5663\"},\"text\":\"\"},\"zerolinecolor\":\"#E1E5ED\"}},                        {\"showLink\": true, \"linkText\": \"Export to plot.ly\", \"plotlyServerURL\": \"https://plot.ly\", \"responsive\": true}                    ).then(function(){\n",
       "                            \n",
       "var gd = document.getElementById('c829b8ae-cab5-4df5-a5e0-169414ef115c');\n",
       "var x = new MutationObserver(function (mutations, observer) {{\n",
       "        var display = window.getComputedStyle(gd).display;\n",
       "        if (!display || display === 'none') {{\n",
       "            console.log([gd, 'removed!']);\n",
       "            Plotly.purge(gd);\n",
       "            observer.disconnect();\n",
       "        }}\n",
       "}});\n",
       "\n",
       "// Listen for the removal of the full notebook cells\n",
       "var notebookContainer = gd.closest('#notebook-container');\n",
       "if (notebookContainer) {{\n",
       "    x.observe(notebookContainer, {childList: true});\n",
       "}}\n",
       "\n",
       "// Listen for the clearing of the current output cell\n",
       "var outputEl = gd.closest('.output');\n",
       "if (outputEl) {{\n",
       "    x.observe(outputEl, {childList: true});\n",
       "}}\n",
       "\n",
       "                        })                };                });            </script>        </div>"
      ]
     },
     "metadata": {},
     "output_type": "display_data"
    }
   ],
   "source": [
    "df.iplot(kind='bubble',x='A',y='B',size='C')"
   ]
  },
  {
   "cell_type": "code",
   "execution_count": 111,
   "id": "1983b001-6af1-46f3-9085-367f62d39950",
   "metadata": {},
   "outputs": [
    {
     "data": {
      "application/vnd.plotly.v1+json": {
       "config": {
        "linkText": "Export to plot.ly",
        "plotlyServerURL": "https://plot.ly",
        "showLink": true
       },
       "data": [
        {
         "histfunc": "count",
         "histnorm": "",
         "marker": {
          "color": "rgba(255, 153, 51, 1.0)",
          "line": {
           "color": "#4D5663",
           "width": 1.3
          }
         },
         "name": "A",
         "nbinsx": 10,
         "opacity": 0.8,
         "orientation": "v",
         "type": "histogram",
         "x": [
          0.3521248991125683,
          0.374378549462778,
          -0.8681275486234619,
          -1.527571333758755,
          -1.3900068126518048,
          -0.4114054920269361,
          0.15520020133584866,
          0.7384591641252498,
          -0.09712690742829033,
          -0.26819560829719846,
          1.1338755445610074,
          -1.4874831675677571,
          0.7051312012337357,
          -1.2024530037012553,
          -0.29809729403226287,
          0.23420816692031013,
          -1.1907221135276438,
          -0.19985732553043734,
          -0.6100052380320969,
          0.9797152589484669,
          0.5532180003133247,
          -1.2390461467516192,
          1.4175055278440405,
          -0.7828444487559498,
          1.2938009572926183,
          -0.8046173586032122,
          -0.9341045740226017,
          -2.1172419964169795,
          -0.015246331294103573,
          -0.4317235418042056,
          -0.490255626621109,
          -0.10495849562550795,
          0.4895473879909302,
          0.9230452012023029,
          -0.9019954565808412,
          -1.311884135102693,
          2.1622266360844407,
          -0.9981760527494739,
          -1.1669136579693293,
          -0.3878438473642099,
          -1.4062878330424886,
          0.9025854927347297,
          1.0662128436949465,
          1.2952217490953246,
          0.26758105507076246,
          -0.23889838423038862,
          -0.43765284660587417,
          -0.15293874988146516,
          0.8457208972983651,
          -0.12651619208777903,
          -0.12830107703185067,
          0.1905151734851748,
          -0.41358010360527675,
          -0.044092658442423424,
          1.40019571716128,
          -0.48424606902779,
          1.3956807833235683,
          0.2687615836341957,
          1.5571707452070334,
          -0.6360986721910912,
          0.626440960714626,
          -1.5397412105578578,
          -0.8981119577862499,
          1.0610658409579183,
          0.8903605943553875,
          0.17073795280636891,
          0.4268772526295468,
          -0.22528647908761543,
          1.2451042431352326,
          0.16225753274666233,
          -0.8591418566134634,
          -0.9830915946369014,
          0.7391052150205726,
          -0.22235452886232096,
          0.36892299213007546,
          -0.41247121129127323,
          -1.134272171255948,
          0.4167587262034833,
          -0.07488677434197762,
          0.3863115228816906,
          -1.4541697028834588,
          -0.3416988673071571,
          -0.8558369938099291,
          0.7881715368230318,
          0.24315956283911963,
          -0.4890587435401381,
          -1.0192033454977736,
          0.8480397711023916,
          0.7591556284639237,
          -1.8384101909642117,
          0.07412638124788648,
          0.42968941865360294,
          0.6402117041777811,
          0.9430575520543083,
          0.6506280986774639,
          0.21082036382305874,
          0.36483477797329544,
          -1.055874549469489,
          -0.7137286648445479,
          0.9370985982210176
         ],
         "xaxis": "x",
         "yaxis": "y"
        },
        {
         "line": {
          "color": "rgba(128, 128, 128, 1.0)",
          "dash": "solid",
          "shape": "linear",
          "width": 1.3
         },
         "marker": {
          "size": 2,
          "symbol": "circle"
         },
         "mode": "markers",
         "name": "A",
         "text": "",
         "type": "scatter",
         "x": [
          -0.3672400660188171,
          1.1723030793263862,
          0.4229211143763501,
          -1.5356190599328485,
          0.29258044314440335,
          -2.077842158921335,
          0.28512491387525263,
          -0.37926165771701653,
          0.29908568497608157,
          0.9443018696549622,
          -1.5967889033942413,
          -1.3887672722735456,
          -0.6641416375654052,
          -0.0639470087730585,
          -0.46663721396131613,
          -0.6295335086197471,
          0.5897981776073271,
          -1.7655390053108517,
          -0.060237541740192926,
          1.4702381311634727,
          -0.579730434241401,
          -0.6002929782656196,
          1.9181218447873463,
          -0.07074094133169188,
          0.1554365837641563,
          0.7018919084379145,
          -0.6418528714390223,
          -0.07787505719096816,
          0.8561862739788918,
          -0.04757433442450353,
          0.937486539183576,
          1.7446059049126703,
          -0.5779297950685147,
          -2.6904740459574996,
          -0.3263343249047711,
          0.5155591540762269,
          0.3498287948955922,
          0.28221116405487856,
          -0.766191809161088,
          -0.5213477645381658,
          0.708880192738116,
          2.0539874746295013,
          -1.2473316263033876,
          0.9476199776636521,
          0.8296837728135735,
          0.2582333472604082,
          -0.7780087626419847,
          -0.2812605671675329,
          1.7583789451772844,
          0.5612996509403224,
          0.014262775164241561,
          -0.023906427686685182,
          -1.6391439824939231,
          1.170887485480817,
          0.5950341792071205,
          -0.6608344171032432,
          0.6288046045099865,
          0.3841721295386118,
          1.5401405371003682,
          -1.8171836596773712,
          -0.7777492347930118,
          0.8959467876452509,
          -0.39984688974564636,
          -1.146909822561759,
          2.24056639133713,
          -0.5676541986251326,
          -0.4629548656750362,
          1.3889964902978318,
          -1.2245992643146717,
          -0.10367449206740265,
          0.9059640174215866,
          0.6786534543107289,
          -0.5540066332650183,
          -0.12598739875013132,
          1.3483800477887116,
          1.2078134648275922,
          0.35034451020220486,
          0.40338079190074544,
          0.06883393428501268,
          -1.253355144433232,
          -1.0346073711363797,
          -1.572317268003851,
          0.8314858329161572,
          0.24454223001424086,
          -0.6227120484695982,
          -0.3559554015358584,
          0.2143436464681599,
          0.9637507906816873,
          3.303530045792439,
          -1.5897202496106333,
          -0.6320262369164329,
          -0.07242936475366742,
          -0.9198386634299148,
          -0.5504794102299363,
          -1.7324629922232109,
          -0.946431143453696,
          0.4470946952370082,
          -1.0733428737514066,
          0.7032246421977343,
          -1.4584740632012463
         ],
         "xaxis": "x2",
         "y": [
          0.3521248991125683,
          0.374378549462778,
          -0.8681275486234619,
          -1.527571333758755,
          -1.3900068126518048,
          -0.4114054920269361,
          0.15520020133584866,
          0.7384591641252498,
          -0.09712690742829033,
          -0.26819560829719846,
          1.1338755445610074,
          -1.4874831675677571,
          0.7051312012337357,
          -1.2024530037012553,
          -0.29809729403226287,
          0.23420816692031013,
          -1.1907221135276438,
          -0.19985732553043734,
          -0.6100052380320969,
          0.9797152589484669,
          0.5532180003133247,
          -1.2390461467516192,
          1.4175055278440405,
          -0.7828444487559498,
          1.2938009572926183,
          -0.8046173586032122,
          -0.9341045740226017,
          -2.1172419964169795,
          -0.015246331294103573,
          -0.4317235418042056,
          -0.490255626621109,
          -0.10495849562550795,
          0.4895473879909302,
          0.9230452012023029,
          -0.9019954565808412,
          -1.311884135102693,
          2.1622266360844407,
          -0.9981760527494739,
          -1.1669136579693293,
          -0.3878438473642099,
          -1.4062878330424886,
          0.9025854927347297,
          1.0662128436949465,
          1.2952217490953246,
          0.26758105507076246,
          -0.23889838423038862,
          -0.43765284660587417,
          -0.15293874988146516,
          0.8457208972983651,
          -0.12651619208777903,
          -0.12830107703185067,
          0.1905151734851748,
          -0.41358010360527675,
          -0.044092658442423424,
          1.40019571716128,
          -0.48424606902779,
          1.3956807833235683,
          0.2687615836341957,
          1.5571707452070334,
          -0.6360986721910912,
          0.626440960714626,
          -1.5397412105578578,
          -0.8981119577862499,
          1.0610658409579183,
          0.8903605943553875,
          0.17073795280636891,
          0.4268772526295468,
          -0.22528647908761543,
          1.2451042431352326,
          0.16225753274666233,
          -0.8591418566134634,
          -0.9830915946369014,
          0.7391052150205726,
          -0.22235452886232096,
          0.36892299213007546,
          -0.41247121129127323,
          -1.134272171255948,
          0.4167587262034833,
          -0.07488677434197762,
          0.3863115228816906,
          -1.4541697028834588,
          -0.3416988673071571,
          -0.8558369938099291,
          0.7881715368230318,
          0.24315956283911963,
          -0.4890587435401381,
          -1.0192033454977736,
          0.8480397711023916,
          0.7591556284639237,
          -1.8384101909642117,
          0.07412638124788648,
          0.42968941865360294,
          0.6402117041777811,
          0.9430575520543083,
          0.6506280986774639,
          0.21082036382305874,
          0.36483477797329544,
          -1.055874549469489,
          -0.7137286648445479,
          0.9370985982210176
         ],
         "yaxis": "y2"
        },
        {
         "line": {
          "color": "rgba(128, 128, 128, 1.0)",
          "dash": "solid",
          "shape": "linear",
          "width": 1.3
         },
         "marker": {
          "size": 2,
          "symbol": "circle"
         },
         "mode": "markers",
         "name": "A",
         "text": "",
         "type": "scatter",
         "x": [
          0.040951349719290576,
          0.9163731498508584,
          0.2473149246675704,
          0.6355789757395596,
          2.0561229303330215,
          -0.8426823150555216,
          0.551260330683669,
          0.03323504120915285,
          -1.2432396486650872,
          -0.6618349008001423,
          0.5217832084147521,
          1.5288418411500666,
          -2.4120830093812837,
          2.8143447205123606,
          -0.257933073781562,
          -0.3572661675178952,
          0.20190338856217502,
          0.9320991029283576,
          -0.2191998538030043,
          2.0719083446892474,
          -2.8485964024490373,
          0.014927423043469038,
          -0.5154646455689982,
          0.4382000391317424,
          -0.4219851166708127,
          -0.6598109185667879,
          -0.5266671295882587,
          2.222491682052409,
          -0.5267075167322591,
          -1.9881988811905362,
          1.8201702033224445,
          2.175163917116367,
          -1.2906075345231638,
          -2.3006061256171084,
          0.3066738920361006,
          0.8559774613699227,
          0.6688883975257423,
          -0.6823697222688537,
          -1.243973226793776,
          0.7583084242632002,
          -1.2414551237252491,
          2.3820652209218296,
          0.9243572868285478,
          1.0052558535898974,
          -0.2961920718199432,
          0.5608432569750889,
          -2.357222093876263,
          1.817388783384015,
          -0.7744521478969061,
          1.0763933510113877,
          -1.2561328071536118,
          -0.638686345881965,
          0.4865256193015979,
          -2.456392803221965,
          -0.6518818470075926,
          0.6257325664820154,
          1.7694428509391302,
          -0.43793671439613535,
          0.29422842599998283,
          -1.1336705708733945,
          -0.02435874048759034,
          -0.9603568369902041,
          1.1487228327794106,
          -0.7861995441361292,
          -0.8447379256723088,
          1.1371711411743168,
          -0.19395465149512472,
          1.526465804209432,
          0.40676357821989756,
          0.5287900098042159,
          0.6608365859778821,
          -0.744901530184483,
          -0.9566989059482564,
          -1.3051061700884141,
          -0.7095434773568681,
          -0.14194679507734942,
          1.0204705452747858,
          -0.47132490477492744,
          -0.5095810769276805,
          -0.13974241072861765,
          1.889069821123595,
          -0.6154788796132468,
          1.3842997701151845,
          -0.153335675502912,
          -0.18154950908872736,
          -0.3369429086014936,
          -0.9140504632574861,
          -0.18505754850539075,
          -0.318009985650538,
          -1.7416551710462669,
          0.49525622789157114,
          -0.9959438615052109,
          1.1649297931196383,
          0.18734503740419692,
          1.6901446812195635,
          -0.6235055022821053,
          1.9786160133931159,
          -1.9407740026576976,
          0.42998530248150685,
          -1.9364366519135416
         ],
         "xaxis": "x3",
         "y": [
          0.3521248991125683,
          0.374378549462778,
          -0.8681275486234619,
          -1.527571333758755,
          -1.3900068126518048,
          -0.4114054920269361,
          0.15520020133584866,
          0.7384591641252498,
          -0.09712690742829033,
          -0.26819560829719846,
          1.1338755445610074,
          -1.4874831675677571,
          0.7051312012337357,
          -1.2024530037012553,
          -0.29809729403226287,
          0.23420816692031013,
          -1.1907221135276438,
          -0.19985732553043734,
          -0.6100052380320969,
          0.9797152589484669,
          0.5532180003133247,
          -1.2390461467516192,
          1.4175055278440405,
          -0.7828444487559498,
          1.2938009572926183,
          -0.8046173586032122,
          -0.9341045740226017,
          -2.1172419964169795,
          -0.015246331294103573,
          -0.4317235418042056,
          -0.490255626621109,
          -0.10495849562550795,
          0.4895473879909302,
          0.9230452012023029,
          -0.9019954565808412,
          -1.311884135102693,
          2.1622266360844407,
          -0.9981760527494739,
          -1.1669136579693293,
          -0.3878438473642099,
          -1.4062878330424886,
          0.9025854927347297,
          1.0662128436949465,
          1.2952217490953246,
          0.26758105507076246,
          -0.23889838423038862,
          -0.43765284660587417,
          -0.15293874988146516,
          0.8457208972983651,
          -0.12651619208777903,
          -0.12830107703185067,
          0.1905151734851748,
          -0.41358010360527675,
          -0.044092658442423424,
          1.40019571716128,
          -0.48424606902779,
          1.3956807833235683,
          0.2687615836341957,
          1.5571707452070334,
          -0.6360986721910912,
          0.626440960714626,
          -1.5397412105578578,
          -0.8981119577862499,
          1.0610658409579183,
          0.8903605943553875,
          0.17073795280636891,
          0.4268772526295468,
          -0.22528647908761543,
          1.2451042431352326,
          0.16225753274666233,
          -0.8591418566134634,
          -0.9830915946369014,
          0.7391052150205726,
          -0.22235452886232096,
          0.36892299213007546,
          -0.41247121129127323,
          -1.134272171255948,
          0.4167587262034833,
          -0.07488677434197762,
          0.3863115228816906,
          -1.4541697028834588,
          -0.3416988673071571,
          -0.8558369938099291,
          0.7881715368230318,
          0.24315956283911963,
          -0.4890587435401381,
          -1.0192033454977736,
          0.8480397711023916,
          0.7591556284639237,
          -1.8384101909642117,
          0.07412638124788648,
          0.42968941865360294,
          0.6402117041777811,
          0.9430575520543083,
          0.6506280986774639,
          0.21082036382305874,
          0.36483477797329544,
          -1.055874549469489,
          -0.7137286648445479,
          0.9370985982210176
         ],
         "yaxis": "y3"
        },
        {
         "line": {
          "color": "rgba(128, 128, 128, 1.0)",
          "dash": "solid",
          "shape": "linear",
          "width": 1.3
         },
         "marker": {
          "size": 2,
          "symbol": "circle"
         },
         "mode": "markers",
         "name": "A",
         "text": "",
         "type": "scatter",
         "x": [
          -1.3375111200422654,
          0.08108573619786534,
          -0.4603419445564614,
          1.6087850830260433,
          -1.1358219279044866,
          -1.3402739069075462,
          -0.8883954210116366,
          -2.333576558962384,
          2.256222344488282,
          -1.518276134540346,
          -0.5493494918608621,
          1.0888175415569215,
          -1.1555295255722635,
          -0.5663726095451217,
          0.8195642561425789,
          -0.6555111443554326,
          1.5823033687248254,
          0.448344094281049,
          -1.534848204837367,
          -0.7738955545996372,
          -1.2526498083817412,
          0.6069527188929812,
          0.24313875205510352,
          0.9113343981619622,
          1.0897636277906508,
          -0.23886310103044037,
          -0.36243249262063915,
          0.8054873468624355,
          -0.8311895423156016,
          0.36411268083828713,
          0.15287411039096088,
          0.30253942960984925,
          1.0902893872100399,
          -0.7108338092133447,
          2.0768094028590327,
          0.051691069444641746,
          -0.10991256892414793,
          0.7959080246152197,
          0.4057141102482014,
          -0.7086479402378677,
          -1.5163725358414726,
          -0.4387446795954376,
          0.10599681909410427,
          1.2581067321286046,
          -0.23448306331222418,
          -0.43196872710173995,
          -0.13422166623444162,
          -0.916134253624078,
          -0.28070162474793886,
          0.9520456681139606,
          -0.2839508570594622,
          -1.605523474096741,
          -1.0863518252056914,
          0.025308097274283906,
          0.06448363327448572,
          -0.761557429698844,
          0.10329503270324489,
          0.4122547806086187,
          -1.199652516293543,
          0.8959886138160285,
          -0.4977888239267104,
          0.01348762881186117,
          0.48002483050913747,
          1.7292547102720466,
          0.3652142333994519,
          1.5914138134642886,
          -0.05457538970538982,
          0.7492853215006533,
          1.7142499472823864,
          -0.9850415204347099,
          0.6388438927953487,
          0.4138487334186722,
          -0.8905539048608643,
          -1.0279145122359281,
          0.9414427655613998,
          0.25918463510371625,
          -0.19729832180784007,
          -0.390909039372285,
          -0.7835258859704143,
          -1.4253341321155104,
          0.04927046360645166,
          0.2651329981190324,
          1.6619499989545055,
          0.4802126318651488,
          2.5923259691026233,
          -0.42748881665069555,
          0.290167317223398,
          0.5103695762182319,
          1.2582990267796612,
          1.3556684561143955,
          -1.2007802646175456,
          0.3295112813582968,
          0.555959784639183,
          -0.11942895049017666,
          -0.16790176725326109,
          1.5091104754329279,
          -1.2444322169182427,
          0.8543033955585018,
          0.3555174210748361,
          0.4288090890373574
         ],
         "xaxis": "x4",
         "y": [
          0.3521248991125683,
          0.374378549462778,
          -0.8681275486234619,
          -1.527571333758755,
          -1.3900068126518048,
          -0.4114054920269361,
          0.15520020133584866,
          0.7384591641252498,
          -0.09712690742829033,
          -0.26819560829719846,
          1.1338755445610074,
          -1.4874831675677571,
          0.7051312012337357,
          -1.2024530037012553,
          -0.29809729403226287,
          0.23420816692031013,
          -1.1907221135276438,
          -0.19985732553043734,
          -0.6100052380320969,
          0.9797152589484669,
          0.5532180003133247,
          -1.2390461467516192,
          1.4175055278440405,
          -0.7828444487559498,
          1.2938009572926183,
          -0.8046173586032122,
          -0.9341045740226017,
          -2.1172419964169795,
          -0.015246331294103573,
          -0.4317235418042056,
          -0.490255626621109,
          -0.10495849562550795,
          0.4895473879909302,
          0.9230452012023029,
          -0.9019954565808412,
          -1.311884135102693,
          2.1622266360844407,
          -0.9981760527494739,
          -1.1669136579693293,
          -0.3878438473642099,
          -1.4062878330424886,
          0.9025854927347297,
          1.0662128436949465,
          1.2952217490953246,
          0.26758105507076246,
          -0.23889838423038862,
          -0.43765284660587417,
          -0.15293874988146516,
          0.8457208972983651,
          -0.12651619208777903,
          -0.12830107703185067,
          0.1905151734851748,
          -0.41358010360527675,
          -0.044092658442423424,
          1.40019571716128,
          -0.48424606902779,
          1.3956807833235683,
          0.2687615836341957,
          1.5571707452070334,
          -0.6360986721910912,
          0.626440960714626,
          -1.5397412105578578,
          -0.8981119577862499,
          1.0610658409579183,
          0.8903605943553875,
          0.17073795280636891,
          0.4268772526295468,
          -0.22528647908761543,
          1.2451042431352326,
          0.16225753274666233,
          -0.8591418566134634,
          -0.9830915946369014,
          0.7391052150205726,
          -0.22235452886232096,
          0.36892299213007546,
          -0.41247121129127323,
          -1.134272171255948,
          0.4167587262034833,
          -0.07488677434197762,
          0.3863115228816906,
          -1.4541697028834588,
          -0.3416988673071571,
          -0.8558369938099291,
          0.7881715368230318,
          0.24315956283911963,
          -0.4890587435401381,
          -1.0192033454977736,
          0.8480397711023916,
          0.7591556284639237,
          -1.8384101909642117,
          0.07412638124788648,
          0.42968941865360294,
          0.6402117041777811,
          0.9430575520543083,
          0.6506280986774639,
          0.21082036382305874,
          0.36483477797329544,
          -1.055874549469489,
          -0.7137286648445479,
          0.9370985982210176
         ],
         "yaxis": "y4"
        },
        {
         "line": {
          "color": "rgba(128, 128, 128, 1.0)",
          "dash": "solid",
          "shape": "linear",
          "width": 1.3
         },
         "marker": {
          "size": 2,
          "symbol": "circle"
         },
         "mode": "markers",
         "name": "B",
         "text": "",
         "type": "scatter",
         "x": [
          0.3521248991125683,
          0.374378549462778,
          -0.8681275486234619,
          -1.527571333758755,
          -1.3900068126518048,
          -0.4114054920269361,
          0.15520020133584866,
          0.7384591641252498,
          -0.09712690742829033,
          -0.26819560829719846,
          1.1338755445610074,
          -1.4874831675677571,
          0.7051312012337357,
          -1.2024530037012553,
          -0.29809729403226287,
          0.23420816692031013,
          -1.1907221135276438,
          -0.19985732553043734,
          -0.6100052380320969,
          0.9797152589484669,
          0.5532180003133247,
          -1.2390461467516192,
          1.4175055278440405,
          -0.7828444487559498,
          1.2938009572926183,
          -0.8046173586032122,
          -0.9341045740226017,
          -2.1172419964169795,
          -0.015246331294103573,
          -0.4317235418042056,
          -0.490255626621109,
          -0.10495849562550795,
          0.4895473879909302,
          0.9230452012023029,
          -0.9019954565808412,
          -1.311884135102693,
          2.1622266360844407,
          -0.9981760527494739,
          -1.1669136579693293,
          -0.3878438473642099,
          -1.4062878330424886,
          0.9025854927347297,
          1.0662128436949465,
          1.2952217490953246,
          0.26758105507076246,
          -0.23889838423038862,
          -0.43765284660587417,
          -0.15293874988146516,
          0.8457208972983651,
          -0.12651619208777903,
          -0.12830107703185067,
          0.1905151734851748,
          -0.41358010360527675,
          -0.044092658442423424,
          1.40019571716128,
          -0.48424606902779,
          1.3956807833235683,
          0.2687615836341957,
          1.5571707452070334,
          -0.6360986721910912,
          0.626440960714626,
          -1.5397412105578578,
          -0.8981119577862499,
          1.0610658409579183,
          0.8903605943553875,
          0.17073795280636891,
          0.4268772526295468,
          -0.22528647908761543,
          1.2451042431352326,
          0.16225753274666233,
          -0.8591418566134634,
          -0.9830915946369014,
          0.7391052150205726,
          -0.22235452886232096,
          0.36892299213007546,
          -0.41247121129127323,
          -1.134272171255948,
          0.4167587262034833,
          -0.07488677434197762,
          0.3863115228816906,
          -1.4541697028834588,
          -0.3416988673071571,
          -0.8558369938099291,
          0.7881715368230318,
          0.24315956283911963,
          -0.4890587435401381,
          -1.0192033454977736,
          0.8480397711023916,
          0.7591556284639237,
          -1.8384101909642117,
          0.07412638124788648,
          0.42968941865360294,
          0.6402117041777811,
          0.9430575520543083,
          0.6506280986774639,
          0.21082036382305874,
          0.36483477797329544,
          -1.055874549469489,
          -0.7137286648445479,
          0.9370985982210176
         ],
         "xaxis": "x5",
         "y": [
          -0.3672400660188171,
          1.1723030793263862,
          0.4229211143763501,
          -1.5356190599328485,
          0.29258044314440335,
          -2.077842158921335,
          0.28512491387525263,
          -0.37926165771701653,
          0.29908568497608157,
          0.9443018696549622,
          -1.5967889033942413,
          -1.3887672722735456,
          -0.6641416375654052,
          -0.0639470087730585,
          -0.46663721396131613,
          -0.6295335086197471,
          0.5897981776073271,
          -1.7655390053108517,
          -0.060237541740192926,
          1.4702381311634727,
          -0.579730434241401,
          -0.6002929782656196,
          1.9181218447873463,
          -0.07074094133169188,
          0.1554365837641563,
          0.7018919084379145,
          -0.6418528714390223,
          -0.07787505719096816,
          0.8561862739788918,
          -0.04757433442450353,
          0.937486539183576,
          1.7446059049126703,
          -0.5779297950685147,
          -2.6904740459574996,
          -0.3263343249047711,
          0.5155591540762269,
          0.3498287948955922,
          0.28221116405487856,
          -0.766191809161088,
          -0.5213477645381658,
          0.708880192738116,
          2.0539874746295013,
          -1.2473316263033876,
          0.9476199776636521,
          0.8296837728135735,
          0.2582333472604082,
          -0.7780087626419847,
          -0.2812605671675329,
          1.7583789451772844,
          0.5612996509403224,
          0.014262775164241561,
          -0.023906427686685182,
          -1.6391439824939231,
          1.170887485480817,
          0.5950341792071205,
          -0.6608344171032432,
          0.6288046045099865,
          0.3841721295386118,
          1.5401405371003682,
          -1.8171836596773712,
          -0.7777492347930118,
          0.8959467876452509,
          -0.39984688974564636,
          -1.146909822561759,
          2.24056639133713,
          -0.5676541986251326,
          -0.4629548656750362,
          1.3889964902978318,
          -1.2245992643146717,
          -0.10367449206740265,
          0.9059640174215866,
          0.6786534543107289,
          -0.5540066332650183,
          -0.12598739875013132,
          1.3483800477887116,
          1.2078134648275922,
          0.35034451020220486,
          0.40338079190074544,
          0.06883393428501268,
          -1.253355144433232,
          -1.0346073711363797,
          -1.572317268003851,
          0.8314858329161572,
          0.24454223001424086,
          -0.6227120484695982,
          -0.3559554015358584,
          0.2143436464681599,
          0.9637507906816873,
          3.303530045792439,
          -1.5897202496106333,
          -0.6320262369164329,
          -0.07242936475366742,
          -0.9198386634299148,
          -0.5504794102299363,
          -1.7324629922232109,
          -0.946431143453696,
          0.4470946952370082,
          -1.0733428737514066,
          0.7032246421977343,
          -1.4584740632012463
         ],
         "yaxis": "y5"
        },
        {
         "histfunc": "count",
         "histnorm": "",
         "marker": {
          "color": "rgba(55, 128, 191, 1.0)",
          "line": {
           "color": "#4D5663",
           "width": 1.3
          }
         },
         "name": "B",
         "nbinsx": 10,
         "opacity": 0.8,
         "orientation": "v",
         "type": "histogram",
         "x": [
          -0.3672400660188171,
          1.1723030793263862,
          0.4229211143763501,
          -1.5356190599328485,
          0.29258044314440335,
          -2.077842158921335,
          0.28512491387525263,
          -0.37926165771701653,
          0.29908568497608157,
          0.9443018696549622,
          -1.5967889033942413,
          -1.3887672722735456,
          -0.6641416375654052,
          -0.0639470087730585,
          -0.46663721396131613,
          -0.6295335086197471,
          0.5897981776073271,
          -1.7655390053108517,
          -0.060237541740192926,
          1.4702381311634727,
          -0.579730434241401,
          -0.6002929782656196,
          1.9181218447873463,
          -0.07074094133169188,
          0.1554365837641563,
          0.7018919084379145,
          -0.6418528714390223,
          -0.07787505719096816,
          0.8561862739788918,
          -0.04757433442450353,
          0.937486539183576,
          1.7446059049126703,
          -0.5779297950685147,
          -2.6904740459574996,
          -0.3263343249047711,
          0.5155591540762269,
          0.3498287948955922,
          0.28221116405487856,
          -0.766191809161088,
          -0.5213477645381658,
          0.708880192738116,
          2.0539874746295013,
          -1.2473316263033876,
          0.9476199776636521,
          0.8296837728135735,
          0.2582333472604082,
          -0.7780087626419847,
          -0.2812605671675329,
          1.7583789451772844,
          0.5612996509403224,
          0.014262775164241561,
          -0.023906427686685182,
          -1.6391439824939231,
          1.170887485480817,
          0.5950341792071205,
          -0.6608344171032432,
          0.6288046045099865,
          0.3841721295386118,
          1.5401405371003682,
          -1.8171836596773712,
          -0.7777492347930118,
          0.8959467876452509,
          -0.39984688974564636,
          -1.146909822561759,
          2.24056639133713,
          -0.5676541986251326,
          -0.4629548656750362,
          1.3889964902978318,
          -1.2245992643146717,
          -0.10367449206740265,
          0.9059640174215866,
          0.6786534543107289,
          -0.5540066332650183,
          -0.12598739875013132,
          1.3483800477887116,
          1.2078134648275922,
          0.35034451020220486,
          0.40338079190074544,
          0.06883393428501268,
          -1.253355144433232,
          -1.0346073711363797,
          -1.572317268003851,
          0.8314858329161572,
          0.24454223001424086,
          -0.6227120484695982,
          -0.3559554015358584,
          0.2143436464681599,
          0.9637507906816873,
          3.303530045792439,
          -1.5897202496106333,
          -0.6320262369164329,
          -0.07242936475366742,
          -0.9198386634299148,
          -0.5504794102299363,
          -1.7324629922232109,
          -0.946431143453696,
          0.4470946952370082,
          -1.0733428737514066,
          0.7032246421977343,
          -1.4584740632012463
         ],
         "xaxis": "x6",
         "yaxis": "y6"
        },
        {
         "line": {
          "color": "rgba(128, 128, 128, 1.0)",
          "dash": "solid",
          "shape": "linear",
          "width": 1.3
         },
         "marker": {
          "size": 2,
          "symbol": "circle"
         },
         "mode": "markers",
         "name": "B",
         "text": "",
         "type": "scatter",
         "x": [
          0.040951349719290576,
          0.9163731498508584,
          0.2473149246675704,
          0.6355789757395596,
          2.0561229303330215,
          -0.8426823150555216,
          0.551260330683669,
          0.03323504120915285,
          -1.2432396486650872,
          -0.6618349008001423,
          0.5217832084147521,
          1.5288418411500666,
          -2.4120830093812837,
          2.8143447205123606,
          -0.257933073781562,
          -0.3572661675178952,
          0.20190338856217502,
          0.9320991029283576,
          -0.2191998538030043,
          2.0719083446892474,
          -2.8485964024490373,
          0.014927423043469038,
          -0.5154646455689982,
          0.4382000391317424,
          -0.4219851166708127,
          -0.6598109185667879,
          -0.5266671295882587,
          2.222491682052409,
          -0.5267075167322591,
          -1.9881988811905362,
          1.8201702033224445,
          2.175163917116367,
          -1.2906075345231638,
          -2.3006061256171084,
          0.3066738920361006,
          0.8559774613699227,
          0.6688883975257423,
          -0.6823697222688537,
          -1.243973226793776,
          0.7583084242632002,
          -1.2414551237252491,
          2.3820652209218296,
          0.9243572868285478,
          1.0052558535898974,
          -0.2961920718199432,
          0.5608432569750889,
          -2.357222093876263,
          1.817388783384015,
          -0.7744521478969061,
          1.0763933510113877,
          -1.2561328071536118,
          -0.638686345881965,
          0.4865256193015979,
          -2.456392803221965,
          -0.6518818470075926,
          0.6257325664820154,
          1.7694428509391302,
          -0.43793671439613535,
          0.29422842599998283,
          -1.1336705708733945,
          -0.02435874048759034,
          -0.9603568369902041,
          1.1487228327794106,
          -0.7861995441361292,
          -0.8447379256723088,
          1.1371711411743168,
          -0.19395465149512472,
          1.526465804209432,
          0.40676357821989756,
          0.5287900098042159,
          0.6608365859778821,
          -0.744901530184483,
          -0.9566989059482564,
          -1.3051061700884141,
          -0.7095434773568681,
          -0.14194679507734942,
          1.0204705452747858,
          -0.47132490477492744,
          -0.5095810769276805,
          -0.13974241072861765,
          1.889069821123595,
          -0.6154788796132468,
          1.3842997701151845,
          -0.153335675502912,
          -0.18154950908872736,
          -0.3369429086014936,
          -0.9140504632574861,
          -0.18505754850539075,
          -0.318009985650538,
          -1.7416551710462669,
          0.49525622789157114,
          -0.9959438615052109,
          1.1649297931196383,
          0.18734503740419692,
          1.6901446812195635,
          -0.6235055022821053,
          1.9786160133931159,
          -1.9407740026576976,
          0.42998530248150685,
          -1.9364366519135416
         ],
         "xaxis": "x7",
         "y": [
          -0.3672400660188171,
          1.1723030793263862,
          0.4229211143763501,
          -1.5356190599328485,
          0.29258044314440335,
          -2.077842158921335,
          0.28512491387525263,
          -0.37926165771701653,
          0.29908568497608157,
          0.9443018696549622,
          -1.5967889033942413,
          -1.3887672722735456,
          -0.6641416375654052,
          -0.0639470087730585,
          -0.46663721396131613,
          -0.6295335086197471,
          0.5897981776073271,
          -1.7655390053108517,
          -0.060237541740192926,
          1.4702381311634727,
          -0.579730434241401,
          -0.6002929782656196,
          1.9181218447873463,
          -0.07074094133169188,
          0.1554365837641563,
          0.7018919084379145,
          -0.6418528714390223,
          -0.07787505719096816,
          0.8561862739788918,
          -0.04757433442450353,
          0.937486539183576,
          1.7446059049126703,
          -0.5779297950685147,
          -2.6904740459574996,
          -0.3263343249047711,
          0.5155591540762269,
          0.3498287948955922,
          0.28221116405487856,
          -0.766191809161088,
          -0.5213477645381658,
          0.708880192738116,
          2.0539874746295013,
          -1.2473316263033876,
          0.9476199776636521,
          0.8296837728135735,
          0.2582333472604082,
          -0.7780087626419847,
          -0.2812605671675329,
          1.7583789451772844,
          0.5612996509403224,
          0.014262775164241561,
          -0.023906427686685182,
          -1.6391439824939231,
          1.170887485480817,
          0.5950341792071205,
          -0.6608344171032432,
          0.6288046045099865,
          0.3841721295386118,
          1.5401405371003682,
          -1.8171836596773712,
          -0.7777492347930118,
          0.8959467876452509,
          -0.39984688974564636,
          -1.146909822561759,
          2.24056639133713,
          -0.5676541986251326,
          -0.4629548656750362,
          1.3889964902978318,
          -1.2245992643146717,
          -0.10367449206740265,
          0.9059640174215866,
          0.6786534543107289,
          -0.5540066332650183,
          -0.12598739875013132,
          1.3483800477887116,
          1.2078134648275922,
          0.35034451020220486,
          0.40338079190074544,
          0.06883393428501268,
          -1.253355144433232,
          -1.0346073711363797,
          -1.572317268003851,
          0.8314858329161572,
          0.24454223001424086,
          -0.6227120484695982,
          -0.3559554015358584,
          0.2143436464681599,
          0.9637507906816873,
          3.303530045792439,
          -1.5897202496106333,
          -0.6320262369164329,
          -0.07242936475366742,
          -0.9198386634299148,
          -0.5504794102299363,
          -1.7324629922232109,
          -0.946431143453696,
          0.4470946952370082,
          -1.0733428737514066,
          0.7032246421977343,
          -1.4584740632012463
         ],
         "yaxis": "y7"
        },
        {
         "line": {
          "color": "rgba(128, 128, 128, 1.0)",
          "dash": "solid",
          "shape": "linear",
          "width": 1.3
         },
         "marker": {
          "size": 2,
          "symbol": "circle"
         },
         "mode": "markers",
         "name": "B",
         "text": "",
         "type": "scatter",
         "x": [
          -1.3375111200422654,
          0.08108573619786534,
          -0.4603419445564614,
          1.6087850830260433,
          -1.1358219279044866,
          -1.3402739069075462,
          -0.8883954210116366,
          -2.333576558962384,
          2.256222344488282,
          -1.518276134540346,
          -0.5493494918608621,
          1.0888175415569215,
          -1.1555295255722635,
          -0.5663726095451217,
          0.8195642561425789,
          -0.6555111443554326,
          1.5823033687248254,
          0.448344094281049,
          -1.534848204837367,
          -0.7738955545996372,
          -1.2526498083817412,
          0.6069527188929812,
          0.24313875205510352,
          0.9113343981619622,
          1.0897636277906508,
          -0.23886310103044037,
          -0.36243249262063915,
          0.8054873468624355,
          -0.8311895423156016,
          0.36411268083828713,
          0.15287411039096088,
          0.30253942960984925,
          1.0902893872100399,
          -0.7108338092133447,
          2.0768094028590327,
          0.051691069444641746,
          -0.10991256892414793,
          0.7959080246152197,
          0.4057141102482014,
          -0.7086479402378677,
          -1.5163725358414726,
          -0.4387446795954376,
          0.10599681909410427,
          1.2581067321286046,
          -0.23448306331222418,
          -0.43196872710173995,
          -0.13422166623444162,
          -0.916134253624078,
          -0.28070162474793886,
          0.9520456681139606,
          -0.2839508570594622,
          -1.605523474096741,
          -1.0863518252056914,
          0.025308097274283906,
          0.06448363327448572,
          -0.761557429698844,
          0.10329503270324489,
          0.4122547806086187,
          -1.199652516293543,
          0.8959886138160285,
          -0.4977888239267104,
          0.01348762881186117,
          0.48002483050913747,
          1.7292547102720466,
          0.3652142333994519,
          1.5914138134642886,
          -0.05457538970538982,
          0.7492853215006533,
          1.7142499472823864,
          -0.9850415204347099,
          0.6388438927953487,
          0.4138487334186722,
          -0.8905539048608643,
          -1.0279145122359281,
          0.9414427655613998,
          0.25918463510371625,
          -0.19729832180784007,
          -0.390909039372285,
          -0.7835258859704143,
          -1.4253341321155104,
          0.04927046360645166,
          0.2651329981190324,
          1.6619499989545055,
          0.4802126318651488,
          2.5923259691026233,
          -0.42748881665069555,
          0.290167317223398,
          0.5103695762182319,
          1.2582990267796612,
          1.3556684561143955,
          -1.2007802646175456,
          0.3295112813582968,
          0.555959784639183,
          -0.11942895049017666,
          -0.16790176725326109,
          1.5091104754329279,
          -1.2444322169182427,
          0.8543033955585018,
          0.3555174210748361,
          0.4288090890373574
         ],
         "xaxis": "x8",
         "y": [
          -0.3672400660188171,
          1.1723030793263862,
          0.4229211143763501,
          -1.5356190599328485,
          0.29258044314440335,
          -2.077842158921335,
          0.28512491387525263,
          -0.37926165771701653,
          0.29908568497608157,
          0.9443018696549622,
          -1.5967889033942413,
          -1.3887672722735456,
          -0.6641416375654052,
          -0.0639470087730585,
          -0.46663721396131613,
          -0.6295335086197471,
          0.5897981776073271,
          -1.7655390053108517,
          -0.060237541740192926,
          1.4702381311634727,
          -0.579730434241401,
          -0.6002929782656196,
          1.9181218447873463,
          -0.07074094133169188,
          0.1554365837641563,
          0.7018919084379145,
          -0.6418528714390223,
          -0.07787505719096816,
          0.8561862739788918,
          -0.04757433442450353,
          0.937486539183576,
          1.7446059049126703,
          -0.5779297950685147,
          -2.6904740459574996,
          -0.3263343249047711,
          0.5155591540762269,
          0.3498287948955922,
          0.28221116405487856,
          -0.766191809161088,
          -0.5213477645381658,
          0.708880192738116,
          2.0539874746295013,
          -1.2473316263033876,
          0.9476199776636521,
          0.8296837728135735,
          0.2582333472604082,
          -0.7780087626419847,
          -0.2812605671675329,
          1.7583789451772844,
          0.5612996509403224,
          0.014262775164241561,
          -0.023906427686685182,
          -1.6391439824939231,
          1.170887485480817,
          0.5950341792071205,
          -0.6608344171032432,
          0.6288046045099865,
          0.3841721295386118,
          1.5401405371003682,
          -1.8171836596773712,
          -0.7777492347930118,
          0.8959467876452509,
          -0.39984688974564636,
          -1.146909822561759,
          2.24056639133713,
          -0.5676541986251326,
          -0.4629548656750362,
          1.3889964902978318,
          -1.2245992643146717,
          -0.10367449206740265,
          0.9059640174215866,
          0.6786534543107289,
          -0.5540066332650183,
          -0.12598739875013132,
          1.3483800477887116,
          1.2078134648275922,
          0.35034451020220486,
          0.40338079190074544,
          0.06883393428501268,
          -1.253355144433232,
          -1.0346073711363797,
          -1.572317268003851,
          0.8314858329161572,
          0.24454223001424086,
          -0.6227120484695982,
          -0.3559554015358584,
          0.2143436464681599,
          0.9637507906816873,
          3.303530045792439,
          -1.5897202496106333,
          -0.6320262369164329,
          -0.07242936475366742,
          -0.9198386634299148,
          -0.5504794102299363,
          -1.7324629922232109,
          -0.946431143453696,
          0.4470946952370082,
          -1.0733428737514066,
          0.7032246421977343,
          -1.4584740632012463
         ],
         "yaxis": "y8"
        },
        {
         "line": {
          "color": "rgba(128, 128, 128, 1.0)",
          "dash": "solid",
          "shape": "linear",
          "width": 1.3
         },
         "marker": {
          "size": 2,
          "symbol": "circle"
         },
         "mode": "markers",
         "name": "C",
         "text": "",
         "type": "scatter",
         "x": [
          0.3521248991125683,
          0.374378549462778,
          -0.8681275486234619,
          -1.527571333758755,
          -1.3900068126518048,
          -0.4114054920269361,
          0.15520020133584866,
          0.7384591641252498,
          -0.09712690742829033,
          -0.26819560829719846,
          1.1338755445610074,
          -1.4874831675677571,
          0.7051312012337357,
          -1.2024530037012553,
          -0.29809729403226287,
          0.23420816692031013,
          -1.1907221135276438,
          -0.19985732553043734,
          -0.6100052380320969,
          0.9797152589484669,
          0.5532180003133247,
          -1.2390461467516192,
          1.4175055278440405,
          -0.7828444487559498,
          1.2938009572926183,
          -0.8046173586032122,
          -0.9341045740226017,
          -2.1172419964169795,
          -0.015246331294103573,
          -0.4317235418042056,
          -0.490255626621109,
          -0.10495849562550795,
          0.4895473879909302,
          0.9230452012023029,
          -0.9019954565808412,
          -1.311884135102693,
          2.1622266360844407,
          -0.9981760527494739,
          -1.1669136579693293,
          -0.3878438473642099,
          -1.4062878330424886,
          0.9025854927347297,
          1.0662128436949465,
          1.2952217490953246,
          0.26758105507076246,
          -0.23889838423038862,
          -0.43765284660587417,
          -0.15293874988146516,
          0.8457208972983651,
          -0.12651619208777903,
          -0.12830107703185067,
          0.1905151734851748,
          -0.41358010360527675,
          -0.044092658442423424,
          1.40019571716128,
          -0.48424606902779,
          1.3956807833235683,
          0.2687615836341957,
          1.5571707452070334,
          -0.6360986721910912,
          0.626440960714626,
          -1.5397412105578578,
          -0.8981119577862499,
          1.0610658409579183,
          0.8903605943553875,
          0.17073795280636891,
          0.4268772526295468,
          -0.22528647908761543,
          1.2451042431352326,
          0.16225753274666233,
          -0.8591418566134634,
          -0.9830915946369014,
          0.7391052150205726,
          -0.22235452886232096,
          0.36892299213007546,
          -0.41247121129127323,
          -1.134272171255948,
          0.4167587262034833,
          -0.07488677434197762,
          0.3863115228816906,
          -1.4541697028834588,
          -0.3416988673071571,
          -0.8558369938099291,
          0.7881715368230318,
          0.24315956283911963,
          -0.4890587435401381,
          -1.0192033454977736,
          0.8480397711023916,
          0.7591556284639237,
          -1.8384101909642117,
          0.07412638124788648,
          0.42968941865360294,
          0.6402117041777811,
          0.9430575520543083,
          0.6506280986774639,
          0.21082036382305874,
          0.36483477797329544,
          -1.055874549469489,
          -0.7137286648445479,
          0.9370985982210176
         ],
         "xaxis": "x9",
         "y": [
          0.040951349719290576,
          0.9163731498508584,
          0.2473149246675704,
          0.6355789757395596,
          2.0561229303330215,
          -0.8426823150555216,
          0.551260330683669,
          0.03323504120915285,
          -1.2432396486650872,
          -0.6618349008001423,
          0.5217832084147521,
          1.5288418411500666,
          -2.4120830093812837,
          2.8143447205123606,
          -0.257933073781562,
          -0.3572661675178952,
          0.20190338856217502,
          0.9320991029283576,
          -0.2191998538030043,
          2.0719083446892474,
          -2.8485964024490373,
          0.014927423043469038,
          -0.5154646455689982,
          0.4382000391317424,
          -0.4219851166708127,
          -0.6598109185667879,
          -0.5266671295882587,
          2.222491682052409,
          -0.5267075167322591,
          -1.9881988811905362,
          1.8201702033224445,
          2.175163917116367,
          -1.2906075345231638,
          -2.3006061256171084,
          0.3066738920361006,
          0.8559774613699227,
          0.6688883975257423,
          -0.6823697222688537,
          -1.243973226793776,
          0.7583084242632002,
          -1.2414551237252491,
          2.3820652209218296,
          0.9243572868285478,
          1.0052558535898974,
          -0.2961920718199432,
          0.5608432569750889,
          -2.357222093876263,
          1.817388783384015,
          -0.7744521478969061,
          1.0763933510113877,
          -1.2561328071536118,
          -0.638686345881965,
          0.4865256193015979,
          -2.456392803221965,
          -0.6518818470075926,
          0.6257325664820154,
          1.7694428509391302,
          -0.43793671439613535,
          0.29422842599998283,
          -1.1336705708733945,
          -0.02435874048759034,
          -0.9603568369902041,
          1.1487228327794106,
          -0.7861995441361292,
          -0.8447379256723088,
          1.1371711411743168,
          -0.19395465149512472,
          1.526465804209432,
          0.40676357821989756,
          0.5287900098042159,
          0.6608365859778821,
          -0.744901530184483,
          -0.9566989059482564,
          -1.3051061700884141,
          -0.7095434773568681,
          -0.14194679507734942,
          1.0204705452747858,
          -0.47132490477492744,
          -0.5095810769276805,
          -0.13974241072861765,
          1.889069821123595,
          -0.6154788796132468,
          1.3842997701151845,
          -0.153335675502912,
          -0.18154950908872736,
          -0.3369429086014936,
          -0.9140504632574861,
          -0.18505754850539075,
          -0.318009985650538,
          -1.7416551710462669,
          0.49525622789157114,
          -0.9959438615052109,
          1.1649297931196383,
          0.18734503740419692,
          1.6901446812195635,
          -0.6235055022821053,
          1.9786160133931159,
          -1.9407740026576976,
          0.42998530248150685,
          -1.9364366519135416
         ],
         "yaxis": "y9"
        },
        {
         "line": {
          "color": "rgba(128, 128, 128, 1.0)",
          "dash": "solid",
          "shape": "linear",
          "width": 1.3
         },
         "marker": {
          "size": 2,
          "symbol": "circle"
         },
         "mode": "markers",
         "name": "C",
         "text": "",
         "type": "scatter",
         "x": [
          -0.3672400660188171,
          1.1723030793263862,
          0.4229211143763501,
          -1.5356190599328485,
          0.29258044314440335,
          -2.077842158921335,
          0.28512491387525263,
          -0.37926165771701653,
          0.29908568497608157,
          0.9443018696549622,
          -1.5967889033942413,
          -1.3887672722735456,
          -0.6641416375654052,
          -0.0639470087730585,
          -0.46663721396131613,
          -0.6295335086197471,
          0.5897981776073271,
          -1.7655390053108517,
          -0.060237541740192926,
          1.4702381311634727,
          -0.579730434241401,
          -0.6002929782656196,
          1.9181218447873463,
          -0.07074094133169188,
          0.1554365837641563,
          0.7018919084379145,
          -0.6418528714390223,
          -0.07787505719096816,
          0.8561862739788918,
          -0.04757433442450353,
          0.937486539183576,
          1.7446059049126703,
          -0.5779297950685147,
          -2.6904740459574996,
          -0.3263343249047711,
          0.5155591540762269,
          0.3498287948955922,
          0.28221116405487856,
          -0.766191809161088,
          -0.5213477645381658,
          0.708880192738116,
          2.0539874746295013,
          -1.2473316263033876,
          0.9476199776636521,
          0.8296837728135735,
          0.2582333472604082,
          -0.7780087626419847,
          -0.2812605671675329,
          1.7583789451772844,
          0.5612996509403224,
          0.014262775164241561,
          -0.023906427686685182,
          -1.6391439824939231,
          1.170887485480817,
          0.5950341792071205,
          -0.6608344171032432,
          0.6288046045099865,
          0.3841721295386118,
          1.5401405371003682,
          -1.8171836596773712,
          -0.7777492347930118,
          0.8959467876452509,
          -0.39984688974564636,
          -1.146909822561759,
          2.24056639133713,
          -0.5676541986251326,
          -0.4629548656750362,
          1.3889964902978318,
          -1.2245992643146717,
          -0.10367449206740265,
          0.9059640174215866,
          0.6786534543107289,
          -0.5540066332650183,
          -0.12598739875013132,
          1.3483800477887116,
          1.2078134648275922,
          0.35034451020220486,
          0.40338079190074544,
          0.06883393428501268,
          -1.253355144433232,
          -1.0346073711363797,
          -1.572317268003851,
          0.8314858329161572,
          0.24454223001424086,
          -0.6227120484695982,
          -0.3559554015358584,
          0.2143436464681599,
          0.9637507906816873,
          3.303530045792439,
          -1.5897202496106333,
          -0.6320262369164329,
          -0.07242936475366742,
          -0.9198386634299148,
          -0.5504794102299363,
          -1.7324629922232109,
          -0.946431143453696,
          0.4470946952370082,
          -1.0733428737514066,
          0.7032246421977343,
          -1.4584740632012463
         ],
         "xaxis": "x10",
         "y": [
          0.040951349719290576,
          0.9163731498508584,
          0.2473149246675704,
          0.6355789757395596,
          2.0561229303330215,
          -0.8426823150555216,
          0.551260330683669,
          0.03323504120915285,
          -1.2432396486650872,
          -0.6618349008001423,
          0.5217832084147521,
          1.5288418411500666,
          -2.4120830093812837,
          2.8143447205123606,
          -0.257933073781562,
          -0.3572661675178952,
          0.20190338856217502,
          0.9320991029283576,
          -0.2191998538030043,
          2.0719083446892474,
          -2.8485964024490373,
          0.014927423043469038,
          -0.5154646455689982,
          0.4382000391317424,
          -0.4219851166708127,
          -0.6598109185667879,
          -0.5266671295882587,
          2.222491682052409,
          -0.5267075167322591,
          -1.9881988811905362,
          1.8201702033224445,
          2.175163917116367,
          -1.2906075345231638,
          -2.3006061256171084,
          0.3066738920361006,
          0.8559774613699227,
          0.6688883975257423,
          -0.6823697222688537,
          -1.243973226793776,
          0.7583084242632002,
          -1.2414551237252491,
          2.3820652209218296,
          0.9243572868285478,
          1.0052558535898974,
          -0.2961920718199432,
          0.5608432569750889,
          -2.357222093876263,
          1.817388783384015,
          -0.7744521478969061,
          1.0763933510113877,
          -1.2561328071536118,
          -0.638686345881965,
          0.4865256193015979,
          -2.456392803221965,
          -0.6518818470075926,
          0.6257325664820154,
          1.7694428509391302,
          -0.43793671439613535,
          0.29422842599998283,
          -1.1336705708733945,
          -0.02435874048759034,
          -0.9603568369902041,
          1.1487228327794106,
          -0.7861995441361292,
          -0.8447379256723088,
          1.1371711411743168,
          -0.19395465149512472,
          1.526465804209432,
          0.40676357821989756,
          0.5287900098042159,
          0.6608365859778821,
          -0.744901530184483,
          -0.9566989059482564,
          -1.3051061700884141,
          -0.7095434773568681,
          -0.14194679507734942,
          1.0204705452747858,
          -0.47132490477492744,
          -0.5095810769276805,
          -0.13974241072861765,
          1.889069821123595,
          -0.6154788796132468,
          1.3842997701151845,
          -0.153335675502912,
          -0.18154950908872736,
          -0.3369429086014936,
          -0.9140504632574861,
          -0.18505754850539075,
          -0.318009985650538,
          -1.7416551710462669,
          0.49525622789157114,
          -0.9959438615052109,
          1.1649297931196383,
          0.18734503740419692,
          1.6901446812195635,
          -0.6235055022821053,
          1.9786160133931159,
          -1.9407740026576976,
          0.42998530248150685,
          -1.9364366519135416
         ],
         "yaxis": "y10"
        },
        {
         "histfunc": "count",
         "histnorm": "",
         "marker": {
          "color": "rgba(50, 171, 96, 1.0)",
          "line": {
           "color": "#4D5663",
           "width": 1.3
          }
         },
         "name": "C",
         "nbinsx": 10,
         "opacity": 0.8,
         "orientation": "v",
         "type": "histogram",
         "x": [
          0.040951349719290576,
          0.9163731498508584,
          0.2473149246675704,
          0.6355789757395596,
          2.0561229303330215,
          -0.8426823150555216,
          0.551260330683669,
          0.03323504120915285,
          -1.2432396486650872,
          -0.6618349008001423,
          0.5217832084147521,
          1.5288418411500666,
          -2.4120830093812837,
          2.8143447205123606,
          -0.257933073781562,
          -0.3572661675178952,
          0.20190338856217502,
          0.9320991029283576,
          -0.2191998538030043,
          2.0719083446892474,
          -2.8485964024490373,
          0.014927423043469038,
          -0.5154646455689982,
          0.4382000391317424,
          -0.4219851166708127,
          -0.6598109185667879,
          -0.5266671295882587,
          2.222491682052409,
          -0.5267075167322591,
          -1.9881988811905362,
          1.8201702033224445,
          2.175163917116367,
          -1.2906075345231638,
          -2.3006061256171084,
          0.3066738920361006,
          0.8559774613699227,
          0.6688883975257423,
          -0.6823697222688537,
          -1.243973226793776,
          0.7583084242632002,
          -1.2414551237252491,
          2.3820652209218296,
          0.9243572868285478,
          1.0052558535898974,
          -0.2961920718199432,
          0.5608432569750889,
          -2.357222093876263,
          1.817388783384015,
          -0.7744521478969061,
          1.0763933510113877,
          -1.2561328071536118,
          -0.638686345881965,
          0.4865256193015979,
          -2.456392803221965,
          -0.6518818470075926,
          0.6257325664820154,
          1.7694428509391302,
          -0.43793671439613535,
          0.29422842599998283,
          -1.1336705708733945,
          -0.02435874048759034,
          -0.9603568369902041,
          1.1487228327794106,
          -0.7861995441361292,
          -0.8447379256723088,
          1.1371711411743168,
          -0.19395465149512472,
          1.526465804209432,
          0.40676357821989756,
          0.5287900098042159,
          0.6608365859778821,
          -0.744901530184483,
          -0.9566989059482564,
          -1.3051061700884141,
          -0.7095434773568681,
          -0.14194679507734942,
          1.0204705452747858,
          -0.47132490477492744,
          -0.5095810769276805,
          -0.13974241072861765,
          1.889069821123595,
          -0.6154788796132468,
          1.3842997701151845,
          -0.153335675502912,
          -0.18154950908872736,
          -0.3369429086014936,
          -0.9140504632574861,
          -0.18505754850539075,
          -0.318009985650538,
          -1.7416551710462669,
          0.49525622789157114,
          -0.9959438615052109,
          1.1649297931196383,
          0.18734503740419692,
          1.6901446812195635,
          -0.6235055022821053,
          1.9786160133931159,
          -1.9407740026576976,
          0.42998530248150685,
          -1.9364366519135416
         ],
         "xaxis": "x11",
         "yaxis": "y11"
        },
        {
         "line": {
          "color": "rgba(128, 128, 128, 1.0)",
          "dash": "solid",
          "shape": "linear",
          "width": 1.3
         },
         "marker": {
          "size": 2,
          "symbol": "circle"
         },
         "mode": "markers",
         "name": "C",
         "text": "",
         "type": "scatter",
         "x": [
          -1.3375111200422654,
          0.08108573619786534,
          -0.4603419445564614,
          1.6087850830260433,
          -1.1358219279044866,
          -1.3402739069075462,
          -0.8883954210116366,
          -2.333576558962384,
          2.256222344488282,
          -1.518276134540346,
          -0.5493494918608621,
          1.0888175415569215,
          -1.1555295255722635,
          -0.5663726095451217,
          0.8195642561425789,
          -0.6555111443554326,
          1.5823033687248254,
          0.448344094281049,
          -1.534848204837367,
          -0.7738955545996372,
          -1.2526498083817412,
          0.6069527188929812,
          0.24313875205510352,
          0.9113343981619622,
          1.0897636277906508,
          -0.23886310103044037,
          -0.36243249262063915,
          0.8054873468624355,
          -0.8311895423156016,
          0.36411268083828713,
          0.15287411039096088,
          0.30253942960984925,
          1.0902893872100399,
          -0.7108338092133447,
          2.0768094028590327,
          0.051691069444641746,
          -0.10991256892414793,
          0.7959080246152197,
          0.4057141102482014,
          -0.7086479402378677,
          -1.5163725358414726,
          -0.4387446795954376,
          0.10599681909410427,
          1.2581067321286046,
          -0.23448306331222418,
          -0.43196872710173995,
          -0.13422166623444162,
          -0.916134253624078,
          -0.28070162474793886,
          0.9520456681139606,
          -0.2839508570594622,
          -1.605523474096741,
          -1.0863518252056914,
          0.025308097274283906,
          0.06448363327448572,
          -0.761557429698844,
          0.10329503270324489,
          0.4122547806086187,
          -1.199652516293543,
          0.8959886138160285,
          -0.4977888239267104,
          0.01348762881186117,
          0.48002483050913747,
          1.7292547102720466,
          0.3652142333994519,
          1.5914138134642886,
          -0.05457538970538982,
          0.7492853215006533,
          1.7142499472823864,
          -0.9850415204347099,
          0.6388438927953487,
          0.4138487334186722,
          -0.8905539048608643,
          -1.0279145122359281,
          0.9414427655613998,
          0.25918463510371625,
          -0.19729832180784007,
          -0.390909039372285,
          -0.7835258859704143,
          -1.4253341321155104,
          0.04927046360645166,
          0.2651329981190324,
          1.6619499989545055,
          0.4802126318651488,
          2.5923259691026233,
          -0.42748881665069555,
          0.290167317223398,
          0.5103695762182319,
          1.2582990267796612,
          1.3556684561143955,
          -1.2007802646175456,
          0.3295112813582968,
          0.555959784639183,
          -0.11942895049017666,
          -0.16790176725326109,
          1.5091104754329279,
          -1.2444322169182427,
          0.8543033955585018,
          0.3555174210748361,
          0.4288090890373574
         ],
         "xaxis": "x12",
         "y": [
          0.040951349719290576,
          0.9163731498508584,
          0.2473149246675704,
          0.6355789757395596,
          2.0561229303330215,
          -0.8426823150555216,
          0.551260330683669,
          0.03323504120915285,
          -1.2432396486650872,
          -0.6618349008001423,
          0.5217832084147521,
          1.5288418411500666,
          -2.4120830093812837,
          2.8143447205123606,
          -0.257933073781562,
          -0.3572661675178952,
          0.20190338856217502,
          0.9320991029283576,
          -0.2191998538030043,
          2.0719083446892474,
          -2.8485964024490373,
          0.014927423043469038,
          -0.5154646455689982,
          0.4382000391317424,
          -0.4219851166708127,
          -0.6598109185667879,
          -0.5266671295882587,
          2.222491682052409,
          -0.5267075167322591,
          -1.9881988811905362,
          1.8201702033224445,
          2.175163917116367,
          -1.2906075345231638,
          -2.3006061256171084,
          0.3066738920361006,
          0.8559774613699227,
          0.6688883975257423,
          -0.6823697222688537,
          -1.243973226793776,
          0.7583084242632002,
          -1.2414551237252491,
          2.3820652209218296,
          0.9243572868285478,
          1.0052558535898974,
          -0.2961920718199432,
          0.5608432569750889,
          -2.357222093876263,
          1.817388783384015,
          -0.7744521478969061,
          1.0763933510113877,
          -1.2561328071536118,
          -0.638686345881965,
          0.4865256193015979,
          -2.456392803221965,
          -0.6518818470075926,
          0.6257325664820154,
          1.7694428509391302,
          -0.43793671439613535,
          0.29422842599998283,
          -1.1336705708733945,
          -0.02435874048759034,
          -0.9603568369902041,
          1.1487228327794106,
          -0.7861995441361292,
          -0.8447379256723088,
          1.1371711411743168,
          -0.19395465149512472,
          1.526465804209432,
          0.40676357821989756,
          0.5287900098042159,
          0.6608365859778821,
          -0.744901530184483,
          -0.9566989059482564,
          -1.3051061700884141,
          -0.7095434773568681,
          -0.14194679507734942,
          1.0204705452747858,
          -0.47132490477492744,
          -0.5095810769276805,
          -0.13974241072861765,
          1.889069821123595,
          -0.6154788796132468,
          1.3842997701151845,
          -0.153335675502912,
          -0.18154950908872736,
          -0.3369429086014936,
          -0.9140504632574861,
          -0.18505754850539075,
          -0.318009985650538,
          -1.7416551710462669,
          0.49525622789157114,
          -0.9959438615052109,
          1.1649297931196383,
          0.18734503740419692,
          1.6901446812195635,
          -0.6235055022821053,
          1.9786160133931159,
          -1.9407740026576976,
          0.42998530248150685,
          -1.9364366519135416
         ],
         "yaxis": "y12"
        },
        {
         "line": {
          "color": "rgba(128, 128, 128, 1.0)",
          "dash": "solid",
          "shape": "linear",
          "width": 1.3
         },
         "marker": {
          "size": 2,
          "symbol": "circle"
         },
         "mode": "markers",
         "name": "D",
         "text": "",
         "type": "scatter",
         "x": [
          0.3521248991125683,
          0.374378549462778,
          -0.8681275486234619,
          -1.527571333758755,
          -1.3900068126518048,
          -0.4114054920269361,
          0.15520020133584866,
          0.7384591641252498,
          -0.09712690742829033,
          -0.26819560829719846,
          1.1338755445610074,
          -1.4874831675677571,
          0.7051312012337357,
          -1.2024530037012553,
          -0.29809729403226287,
          0.23420816692031013,
          -1.1907221135276438,
          -0.19985732553043734,
          -0.6100052380320969,
          0.9797152589484669,
          0.5532180003133247,
          -1.2390461467516192,
          1.4175055278440405,
          -0.7828444487559498,
          1.2938009572926183,
          -0.8046173586032122,
          -0.9341045740226017,
          -2.1172419964169795,
          -0.015246331294103573,
          -0.4317235418042056,
          -0.490255626621109,
          -0.10495849562550795,
          0.4895473879909302,
          0.9230452012023029,
          -0.9019954565808412,
          -1.311884135102693,
          2.1622266360844407,
          -0.9981760527494739,
          -1.1669136579693293,
          -0.3878438473642099,
          -1.4062878330424886,
          0.9025854927347297,
          1.0662128436949465,
          1.2952217490953246,
          0.26758105507076246,
          -0.23889838423038862,
          -0.43765284660587417,
          -0.15293874988146516,
          0.8457208972983651,
          -0.12651619208777903,
          -0.12830107703185067,
          0.1905151734851748,
          -0.41358010360527675,
          -0.044092658442423424,
          1.40019571716128,
          -0.48424606902779,
          1.3956807833235683,
          0.2687615836341957,
          1.5571707452070334,
          -0.6360986721910912,
          0.626440960714626,
          -1.5397412105578578,
          -0.8981119577862499,
          1.0610658409579183,
          0.8903605943553875,
          0.17073795280636891,
          0.4268772526295468,
          -0.22528647908761543,
          1.2451042431352326,
          0.16225753274666233,
          -0.8591418566134634,
          -0.9830915946369014,
          0.7391052150205726,
          -0.22235452886232096,
          0.36892299213007546,
          -0.41247121129127323,
          -1.134272171255948,
          0.4167587262034833,
          -0.07488677434197762,
          0.3863115228816906,
          -1.4541697028834588,
          -0.3416988673071571,
          -0.8558369938099291,
          0.7881715368230318,
          0.24315956283911963,
          -0.4890587435401381,
          -1.0192033454977736,
          0.8480397711023916,
          0.7591556284639237,
          -1.8384101909642117,
          0.07412638124788648,
          0.42968941865360294,
          0.6402117041777811,
          0.9430575520543083,
          0.6506280986774639,
          0.21082036382305874,
          0.36483477797329544,
          -1.055874549469489,
          -0.7137286648445479,
          0.9370985982210176
         ],
         "xaxis": "x13",
         "y": [
          -1.3375111200422654,
          0.08108573619786534,
          -0.4603419445564614,
          1.6087850830260433,
          -1.1358219279044866,
          -1.3402739069075462,
          -0.8883954210116366,
          -2.333576558962384,
          2.256222344488282,
          -1.518276134540346,
          -0.5493494918608621,
          1.0888175415569215,
          -1.1555295255722635,
          -0.5663726095451217,
          0.8195642561425789,
          -0.6555111443554326,
          1.5823033687248254,
          0.448344094281049,
          -1.534848204837367,
          -0.7738955545996372,
          -1.2526498083817412,
          0.6069527188929812,
          0.24313875205510352,
          0.9113343981619622,
          1.0897636277906508,
          -0.23886310103044037,
          -0.36243249262063915,
          0.8054873468624355,
          -0.8311895423156016,
          0.36411268083828713,
          0.15287411039096088,
          0.30253942960984925,
          1.0902893872100399,
          -0.7108338092133447,
          2.0768094028590327,
          0.051691069444641746,
          -0.10991256892414793,
          0.7959080246152197,
          0.4057141102482014,
          -0.7086479402378677,
          -1.5163725358414726,
          -0.4387446795954376,
          0.10599681909410427,
          1.2581067321286046,
          -0.23448306331222418,
          -0.43196872710173995,
          -0.13422166623444162,
          -0.916134253624078,
          -0.28070162474793886,
          0.9520456681139606,
          -0.2839508570594622,
          -1.605523474096741,
          -1.0863518252056914,
          0.025308097274283906,
          0.06448363327448572,
          -0.761557429698844,
          0.10329503270324489,
          0.4122547806086187,
          -1.199652516293543,
          0.8959886138160285,
          -0.4977888239267104,
          0.01348762881186117,
          0.48002483050913747,
          1.7292547102720466,
          0.3652142333994519,
          1.5914138134642886,
          -0.05457538970538982,
          0.7492853215006533,
          1.7142499472823864,
          -0.9850415204347099,
          0.6388438927953487,
          0.4138487334186722,
          -0.8905539048608643,
          -1.0279145122359281,
          0.9414427655613998,
          0.25918463510371625,
          -0.19729832180784007,
          -0.390909039372285,
          -0.7835258859704143,
          -1.4253341321155104,
          0.04927046360645166,
          0.2651329981190324,
          1.6619499989545055,
          0.4802126318651488,
          2.5923259691026233,
          -0.42748881665069555,
          0.290167317223398,
          0.5103695762182319,
          1.2582990267796612,
          1.3556684561143955,
          -1.2007802646175456,
          0.3295112813582968,
          0.555959784639183,
          -0.11942895049017666,
          -0.16790176725326109,
          1.5091104754329279,
          -1.2444322169182427,
          0.8543033955585018,
          0.3555174210748361,
          0.4288090890373574
         ],
         "yaxis": "y13"
        },
        {
         "line": {
          "color": "rgba(128, 128, 128, 1.0)",
          "dash": "solid",
          "shape": "linear",
          "width": 1.3
         },
         "marker": {
          "size": 2,
          "symbol": "circle"
         },
         "mode": "markers",
         "name": "D",
         "text": "",
         "type": "scatter",
         "x": [
          -0.3672400660188171,
          1.1723030793263862,
          0.4229211143763501,
          -1.5356190599328485,
          0.29258044314440335,
          -2.077842158921335,
          0.28512491387525263,
          -0.37926165771701653,
          0.29908568497608157,
          0.9443018696549622,
          -1.5967889033942413,
          -1.3887672722735456,
          -0.6641416375654052,
          -0.0639470087730585,
          -0.46663721396131613,
          -0.6295335086197471,
          0.5897981776073271,
          -1.7655390053108517,
          -0.060237541740192926,
          1.4702381311634727,
          -0.579730434241401,
          -0.6002929782656196,
          1.9181218447873463,
          -0.07074094133169188,
          0.1554365837641563,
          0.7018919084379145,
          -0.6418528714390223,
          -0.07787505719096816,
          0.8561862739788918,
          -0.04757433442450353,
          0.937486539183576,
          1.7446059049126703,
          -0.5779297950685147,
          -2.6904740459574996,
          -0.3263343249047711,
          0.5155591540762269,
          0.3498287948955922,
          0.28221116405487856,
          -0.766191809161088,
          -0.5213477645381658,
          0.708880192738116,
          2.0539874746295013,
          -1.2473316263033876,
          0.9476199776636521,
          0.8296837728135735,
          0.2582333472604082,
          -0.7780087626419847,
          -0.2812605671675329,
          1.7583789451772844,
          0.5612996509403224,
          0.014262775164241561,
          -0.023906427686685182,
          -1.6391439824939231,
          1.170887485480817,
          0.5950341792071205,
          -0.6608344171032432,
          0.6288046045099865,
          0.3841721295386118,
          1.5401405371003682,
          -1.8171836596773712,
          -0.7777492347930118,
          0.8959467876452509,
          -0.39984688974564636,
          -1.146909822561759,
          2.24056639133713,
          -0.5676541986251326,
          -0.4629548656750362,
          1.3889964902978318,
          -1.2245992643146717,
          -0.10367449206740265,
          0.9059640174215866,
          0.6786534543107289,
          -0.5540066332650183,
          -0.12598739875013132,
          1.3483800477887116,
          1.2078134648275922,
          0.35034451020220486,
          0.40338079190074544,
          0.06883393428501268,
          -1.253355144433232,
          -1.0346073711363797,
          -1.572317268003851,
          0.8314858329161572,
          0.24454223001424086,
          -0.6227120484695982,
          -0.3559554015358584,
          0.2143436464681599,
          0.9637507906816873,
          3.303530045792439,
          -1.5897202496106333,
          -0.6320262369164329,
          -0.07242936475366742,
          -0.9198386634299148,
          -0.5504794102299363,
          -1.7324629922232109,
          -0.946431143453696,
          0.4470946952370082,
          -1.0733428737514066,
          0.7032246421977343,
          -1.4584740632012463
         ],
         "xaxis": "x14",
         "y": [
          -1.3375111200422654,
          0.08108573619786534,
          -0.4603419445564614,
          1.6087850830260433,
          -1.1358219279044866,
          -1.3402739069075462,
          -0.8883954210116366,
          -2.333576558962384,
          2.256222344488282,
          -1.518276134540346,
          -0.5493494918608621,
          1.0888175415569215,
          -1.1555295255722635,
          -0.5663726095451217,
          0.8195642561425789,
          -0.6555111443554326,
          1.5823033687248254,
          0.448344094281049,
          -1.534848204837367,
          -0.7738955545996372,
          -1.2526498083817412,
          0.6069527188929812,
          0.24313875205510352,
          0.9113343981619622,
          1.0897636277906508,
          -0.23886310103044037,
          -0.36243249262063915,
          0.8054873468624355,
          -0.8311895423156016,
          0.36411268083828713,
          0.15287411039096088,
          0.30253942960984925,
          1.0902893872100399,
          -0.7108338092133447,
          2.0768094028590327,
          0.051691069444641746,
          -0.10991256892414793,
          0.7959080246152197,
          0.4057141102482014,
          -0.7086479402378677,
          -1.5163725358414726,
          -0.4387446795954376,
          0.10599681909410427,
          1.2581067321286046,
          -0.23448306331222418,
          -0.43196872710173995,
          -0.13422166623444162,
          -0.916134253624078,
          -0.28070162474793886,
          0.9520456681139606,
          -0.2839508570594622,
          -1.605523474096741,
          -1.0863518252056914,
          0.025308097274283906,
          0.06448363327448572,
          -0.761557429698844,
          0.10329503270324489,
          0.4122547806086187,
          -1.199652516293543,
          0.8959886138160285,
          -0.4977888239267104,
          0.01348762881186117,
          0.48002483050913747,
          1.7292547102720466,
          0.3652142333994519,
          1.5914138134642886,
          -0.05457538970538982,
          0.7492853215006533,
          1.7142499472823864,
          -0.9850415204347099,
          0.6388438927953487,
          0.4138487334186722,
          -0.8905539048608643,
          -1.0279145122359281,
          0.9414427655613998,
          0.25918463510371625,
          -0.19729832180784007,
          -0.390909039372285,
          -0.7835258859704143,
          -1.4253341321155104,
          0.04927046360645166,
          0.2651329981190324,
          1.6619499989545055,
          0.4802126318651488,
          2.5923259691026233,
          -0.42748881665069555,
          0.290167317223398,
          0.5103695762182319,
          1.2582990267796612,
          1.3556684561143955,
          -1.2007802646175456,
          0.3295112813582968,
          0.555959784639183,
          -0.11942895049017666,
          -0.16790176725326109,
          1.5091104754329279,
          -1.2444322169182427,
          0.8543033955585018,
          0.3555174210748361,
          0.4288090890373574
         ],
         "yaxis": "y14"
        },
        {
         "line": {
          "color": "rgba(128, 128, 128, 1.0)",
          "dash": "solid",
          "shape": "linear",
          "width": 1.3
         },
         "marker": {
          "size": 2,
          "symbol": "circle"
         },
         "mode": "markers",
         "name": "D",
         "text": "",
         "type": "scatter",
         "x": [
          0.040951349719290576,
          0.9163731498508584,
          0.2473149246675704,
          0.6355789757395596,
          2.0561229303330215,
          -0.8426823150555216,
          0.551260330683669,
          0.03323504120915285,
          -1.2432396486650872,
          -0.6618349008001423,
          0.5217832084147521,
          1.5288418411500666,
          -2.4120830093812837,
          2.8143447205123606,
          -0.257933073781562,
          -0.3572661675178952,
          0.20190338856217502,
          0.9320991029283576,
          -0.2191998538030043,
          2.0719083446892474,
          -2.8485964024490373,
          0.014927423043469038,
          -0.5154646455689982,
          0.4382000391317424,
          -0.4219851166708127,
          -0.6598109185667879,
          -0.5266671295882587,
          2.222491682052409,
          -0.5267075167322591,
          -1.9881988811905362,
          1.8201702033224445,
          2.175163917116367,
          -1.2906075345231638,
          -2.3006061256171084,
          0.3066738920361006,
          0.8559774613699227,
          0.6688883975257423,
          -0.6823697222688537,
          -1.243973226793776,
          0.7583084242632002,
          -1.2414551237252491,
          2.3820652209218296,
          0.9243572868285478,
          1.0052558535898974,
          -0.2961920718199432,
          0.5608432569750889,
          -2.357222093876263,
          1.817388783384015,
          -0.7744521478969061,
          1.0763933510113877,
          -1.2561328071536118,
          -0.638686345881965,
          0.4865256193015979,
          -2.456392803221965,
          -0.6518818470075926,
          0.6257325664820154,
          1.7694428509391302,
          -0.43793671439613535,
          0.29422842599998283,
          -1.1336705708733945,
          -0.02435874048759034,
          -0.9603568369902041,
          1.1487228327794106,
          -0.7861995441361292,
          -0.8447379256723088,
          1.1371711411743168,
          -0.19395465149512472,
          1.526465804209432,
          0.40676357821989756,
          0.5287900098042159,
          0.6608365859778821,
          -0.744901530184483,
          -0.9566989059482564,
          -1.3051061700884141,
          -0.7095434773568681,
          -0.14194679507734942,
          1.0204705452747858,
          -0.47132490477492744,
          -0.5095810769276805,
          -0.13974241072861765,
          1.889069821123595,
          -0.6154788796132468,
          1.3842997701151845,
          -0.153335675502912,
          -0.18154950908872736,
          -0.3369429086014936,
          -0.9140504632574861,
          -0.18505754850539075,
          -0.318009985650538,
          -1.7416551710462669,
          0.49525622789157114,
          -0.9959438615052109,
          1.1649297931196383,
          0.18734503740419692,
          1.6901446812195635,
          -0.6235055022821053,
          1.9786160133931159,
          -1.9407740026576976,
          0.42998530248150685,
          -1.9364366519135416
         ],
         "xaxis": "x15",
         "y": [
          -1.3375111200422654,
          0.08108573619786534,
          -0.4603419445564614,
          1.6087850830260433,
          -1.1358219279044866,
          -1.3402739069075462,
          -0.8883954210116366,
          -2.333576558962384,
          2.256222344488282,
          -1.518276134540346,
          -0.5493494918608621,
          1.0888175415569215,
          -1.1555295255722635,
          -0.5663726095451217,
          0.8195642561425789,
          -0.6555111443554326,
          1.5823033687248254,
          0.448344094281049,
          -1.534848204837367,
          -0.7738955545996372,
          -1.2526498083817412,
          0.6069527188929812,
          0.24313875205510352,
          0.9113343981619622,
          1.0897636277906508,
          -0.23886310103044037,
          -0.36243249262063915,
          0.8054873468624355,
          -0.8311895423156016,
          0.36411268083828713,
          0.15287411039096088,
          0.30253942960984925,
          1.0902893872100399,
          -0.7108338092133447,
          2.0768094028590327,
          0.051691069444641746,
          -0.10991256892414793,
          0.7959080246152197,
          0.4057141102482014,
          -0.7086479402378677,
          -1.5163725358414726,
          -0.4387446795954376,
          0.10599681909410427,
          1.2581067321286046,
          -0.23448306331222418,
          -0.43196872710173995,
          -0.13422166623444162,
          -0.916134253624078,
          -0.28070162474793886,
          0.9520456681139606,
          -0.2839508570594622,
          -1.605523474096741,
          -1.0863518252056914,
          0.025308097274283906,
          0.06448363327448572,
          -0.761557429698844,
          0.10329503270324489,
          0.4122547806086187,
          -1.199652516293543,
          0.8959886138160285,
          -0.4977888239267104,
          0.01348762881186117,
          0.48002483050913747,
          1.7292547102720466,
          0.3652142333994519,
          1.5914138134642886,
          -0.05457538970538982,
          0.7492853215006533,
          1.7142499472823864,
          -0.9850415204347099,
          0.6388438927953487,
          0.4138487334186722,
          -0.8905539048608643,
          -1.0279145122359281,
          0.9414427655613998,
          0.25918463510371625,
          -0.19729832180784007,
          -0.390909039372285,
          -0.7835258859704143,
          -1.4253341321155104,
          0.04927046360645166,
          0.2651329981190324,
          1.6619499989545055,
          0.4802126318651488,
          2.5923259691026233,
          -0.42748881665069555,
          0.290167317223398,
          0.5103695762182319,
          1.2582990267796612,
          1.3556684561143955,
          -1.2007802646175456,
          0.3295112813582968,
          0.555959784639183,
          -0.11942895049017666,
          -0.16790176725326109,
          1.5091104754329279,
          -1.2444322169182427,
          0.8543033955585018,
          0.3555174210748361,
          0.4288090890373574
         ],
         "yaxis": "y15"
        },
        {
         "histfunc": "count",
         "histnorm": "",
         "marker": {
          "color": "rgba(128, 0, 128, 1.0)",
          "line": {
           "color": "#4D5663",
           "width": 1.3
          }
         },
         "name": "D",
         "nbinsx": 10,
         "opacity": 0.8,
         "orientation": "v",
         "type": "histogram",
         "x": [
          -1.3375111200422654,
          0.08108573619786534,
          -0.4603419445564614,
          1.6087850830260433,
          -1.1358219279044866,
          -1.3402739069075462,
          -0.8883954210116366,
          -2.333576558962384,
          2.256222344488282,
          -1.518276134540346,
          -0.5493494918608621,
          1.0888175415569215,
          -1.1555295255722635,
          -0.5663726095451217,
          0.8195642561425789,
          -0.6555111443554326,
          1.5823033687248254,
          0.448344094281049,
          -1.534848204837367,
          -0.7738955545996372,
          -1.2526498083817412,
          0.6069527188929812,
          0.24313875205510352,
          0.9113343981619622,
          1.0897636277906508,
          -0.23886310103044037,
          -0.36243249262063915,
          0.8054873468624355,
          -0.8311895423156016,
          0.36411268083828713,
          0.15287411039096088,
          0.30253942960984925,
          1.0902893872100399,
          -0.7108338092133447,
          2.0768094028590327,
          0.051691069444641746,
          -0.10991256892414793,
          0.7959080246152197,
          0.4057141102482014,
          -0.7086479402378677,
          -1.5163725358414726,
          -0.4387446795954376,
          0.10599681909410427,
          1.2581067321286046,
          -0.23448306331222418,
          -0.43196872710173995,
          -0.13422166623444162,
          -0.916134253624078,
          -0.28070162474793886,
          0.9520456681139606,
          -0.2839508570594622,
          -1.605523474096741,
          -1.0863518252056914,
          0.025308097274283906,
          0.06448363327448572,
          -0.761557429698844,
          0.10329503270324489,
          0.4122547806086187,
          -1.199652516293543,
          0.8959886138160285,
          -0.4977888239267104,
          0.01348762881186117,
          0.48002483050913747,
          1.7292547102720466,
          0.3652142333994519,
          1.5914138134642886,
          -0.05457538970538982,
          0.7492853215006533,
          1.7142499472823864,
          -0.9850415204347099,
          0.6388438927953487,
          0.4138487334186722,
          -0.8905539048608643,
          -1.0279145122359281,
          0.9414427655613998,
          0.25918463510371625,
          -0.19729832180784007,
          -0.390909039372285,
          -0.7835258859704143,
          -1.4253341321155104,
          0.04927046360645166,
          0.2651329981190324,
          1.6619499989545055,
          0.4802126318651488,
          2.5923259691026233,
          -0.42748881665069555,
          0.290167317223398,
          0.5103695762182319,
          1.2582990267796612,
          1.3556684561143955,
          -1.2007802646175456,
          0.3295112813582968,
          0.555959784639183,
          -0.11942895049017666,
          -0.16790176725326109,
          1.5091104754329279,
          -1.2444322169182427,
          0.8543033955585018,
          0.3555174210748361,
          0.4288090890373574
         ],
         "xaxis": "x16",
         "yaxis": "y16"
        }
       ],
       "layout": {
        "autosize": true,
        "bargap": 0.02,
        "legend": {
         "bgcolor": "#F5F6F9",
         "font": {
          "color": "#4D5663"
         }
        },
        "paper_bgcolor": "#F5F6F9",
        "plot_bgcolor": "#F5F6F9",
        "showlegend": false,
        "template": {
         "data": {
          "bar": [
           {
            "error_x": {
             "color": "#2a3f5f"
            },
            "error_y": {
             "color": "#2a3f5f"
            },
            "marker": {
             "line": {
              "color": "#E5ECF6",
              "width": 0.5
             },
             "pattern": {
              "fillmode": "overlay",
              "size": 10,
              "solidity": 0.2
             }
            },
            "type": "bar"
           }
          ],
          "barpolar": [
           {
            "marker": {
             "line": {
              "color": "#E5ECF6",
              "width": 0.5
             },
             "pattern": {
              "fillmode": "overlay",
              "size": 10,
              "solidity": 0.2
             }
            },
            "type": "barpolar"
           }
          ],
          "carpet": [
           {
            "aaxis": {
             "endlinecolor": "#2a3f5f",
             "gridcolor": "white",
             "linecolor": "white",
             "minorgridcolor": "white",
             "startlinecolor": "#2a3f5f"
            },
            "baxis": {
             "endlinecolor": "#2a3f5f",
             "gridcolor": "white",
             "linecolor": "white",
             "minorgridcolor": "white",
             "startlinecolor": "#2a3f5f"
            },
            "type": "carpet"
           }
          ],
          "choropleth": [
           {
            "colorbar": {
             "outlinewidth": 0,
             "ticks": ""
            },
            "type": "choropleth"
           }
          ],
          "contour": [
           {
            "colorbar": {
             "outlinewidth": 0,
             "ticks": ""
            },
            "colorscale": [
             [
              0,
              "#0d0887"
             ],
             [
              0.1111111111111111,
              "#46039f"
             ],
             [
              0.2222222222222222,
              "#7201a8"
             ],
             [
              0.3333333333333333,
              "#9c179e"
             ],
             [
              0.4444444444444444,
              "#bd3786"
             ],
             [
              0.5555555555555556,
              "#d8576b"
             ],
             [
              0.6666666666666666,
              "#ed7953"
             ],
             [
              0.7777777777777778,
              "#fb9f3a"
             ],
             [
              0.8888888888888888,
              "#fdca26"
             ],
             [
              1,
              "#f0f921"
             ]
            ],
            "type": "contour"
           }
          ],
          "contourcarpet": [
           {
            "colorbar": {
             "outlinewidth": 0,
             "ticks": ""
            },
            "type": "contourcarpet"
           }
          ],
          "heatmap": [
           {
            "colorbar": {
             "outlinewidth": 0,
             "ticks": ""
            },
            "colorscale": [
             [
              0,
              "#0d0887"
             ],
             [
              0.1111111111111111,
              "#46039f"
             ],
             [
              0.2222222222222222,
              "#7201a8"
             ],
             [
              0.3333333333333333,
              "#9c179e"
             ],
             [
              0.4444444444444444,
              "#bd3786"
             ],
             [
              0.5555555555555556,
              "#d8576b"
             ],
             [
              0.6666666666666666,
              "#ed7953"
             ],
             [
              0.7777777777777778,
              "#fb9f3a"
             ],
             [
              0.8888888888888888,
              "#fdca26"
             ],
             [
              1,
              "#f0f921"
             ]
            ],
            "type": "heatmap"
           }
          ],
          "heatmapgl": [
           {
            "colorbar": {
             "outlinewidth": 0,
             "ticks": ""
            },
            "colorscale": [
             [
              0,
              "#0d0887"
             ],
             [
              0.1111111111111111,
              "#46039f"
             ],
             [
              0.2222222222222222,
              "#7201a8"
             ],
             [
              0.3333333333333333,
              "#9c179e"
             ],
             [
              0.4444444444444444,
              "#bd3786"
             ],
             [
              0.5555555555555556,
              "#d8576b"
             ],
             [
              0.6666666666666666,
              "#ed7953"
             ],
             [
              0.7777777777777778,
              "#fb9f3a"
             ],
             [
              0.8888888888888888,
              "#fdca26"
             ],
             [
              1,
              "#f0f921"
             ]
            ],
            "type": "heatmapgl"
           }
          ],
          "histogram": [
           {
            "marker": {
             "pattern": {
              "fillmode": "overlay",
              "size": 10,
              "solidity": 0.2
             }
            },
            "type": "histogram"
           }
          ],
          "histogram2d": [
           {
            "colorbar": {
             "outlinewidth": 0,
             "ticks": ""
            },
            "colorscale": [
             [
              0,
              "#0d0887"
             ],
             [
              0.1111111111111111,
              "#46039f"
             ],
             [
              0.2222222222222222,
              "#7201a8"
             ],
             [
              0.3333333333333333,
              "#9c179e"
             ],
             [
              0.4444444444444444,
              "#bd3786"
             ],
             [
              0.5555555555555556,
              "#d8576b"
             ],
             [
              0.6666666666666666,
              "#ed7953"
             ],
             [
              0.7777777777777778,
              "#fb9f3a"
             ],
             [
              0.8888888888888888,
              "#fdca26"
             ],
             [
              1,
              "#f0f921"
             ]
            ],
            "type": "histogram2d"
           }
          ],
          "histogram2dcontour": [
           {
            "colorbar": {
             "outlinewidth": 0,
             "ticks": ""
            },
            "colorscale": [
             [
              0,
              "#0d0887"
             ],
             [
              0.1111111111111111,
              "#46039f"
             ],
             [
              0.2222222222222222,
              "#7201a8"
             ],
             [
              0.3333333333333333,
              "#9c179e"
             ],
             [
              0.4444444444444444,
              "#bd3786"
             ],
             [
              0.5555555555555556,
              "#d8576b"
             ],
             [
              0.6666666666666666,
              "#ed7953"
             ],
             [
              0.7777777777777778,
              "#fb9f3a"
             ],
             [
              0.8888888888888888,
              "#fdca26"
             ],
             [
              1,
              "#f0f921"
             ]
            ],
            "type": "histogram2dcontour"
           }
          ],
          "mesh3d": [
           {
            "colorbar": {
             "outlinewidth": 0,
             "ticks": ""
            },
            "type": "mesh3d"
           }
          ],
          "parcoords": [
           {
            "line": {
             "colorbar": {
              "outlinewidth": 0,
              "ticks": ""
             }
            },
            "type": "parcoords"
           }
          ],
          "pie": [
           {
            "automargin": true,
            "type": "pie"
           }
          ],
          "scatter": [
           {
            "fillpattern": {
             "fillmode": "overlay",
             "size": 10,
             "solidity": 0.2
            },
            "type": "scatter"
           }
          ],
          "scatter3d": [
           {
            "line": {
             "colorbar": {
              "outlinewidth": 0,
              "ticks": ""
             }
            },
            "marker": {
             "colorbar": {
              "outlinewidth": 0,
              "ticks": ""
             }
            },
            "type": "scatter3d"
           }
          ],
          "scattercarpet": [
           {
            "marker": {
             "colorbar": {
              "outlinewidth": 0,
              "ticks": ""
             }
            },
            "type": "scattercarpet"
           }
          ],
          "scattergeo": [
           {
            "marker": {
             "colorbar": {
              "outlinewidth": 0,
              "ticks": ""
             }
            },
            "type": "scattergeo"
           }
          ],
          "scattergl": [
           {
            "marker": {
             "colorbar": {
              "outlinewidth": 0,
              "ticks": ""
             }
            },
            "type": "scattergl"
           }
          ],
          "scattermapbox": [
           {
            "marker": {
             "colorbar": {
              "outlinewidth": 0,
              "ticks": ""
             }
            },
            "type": "scattermapbox"
           }
          ],
          "scatterpolar": [
           {
            "marker": {
             "colorbar": {
              "outlinewidth": 0,
              "ticks": ""
             }
            },
            "type": "scatterpolar"
           }
          ],
          "scatterpolargl": [
           {
            "marker": {
             "colorbar": {
              "outlinewidth": 0,
              "ticks": ""
             }
            },
            "type": "scatterpolargl"
           }
          ],
          "scatterternary": [
           {
            "marker": {
             "colorbar": {
              "outlinewidth": 0,
              "ticks": ""
             }
            },
            "type": "scatterternary"
           }
          ],
          "surface": [
           {
            "colorbar": {
             "outlinewidth": 0,
             "ticks": ""
            },
            "colorscale": [
             [
              0,
              "#0d0887"
             ],
             [
              0.1111111111111111,
              "#46039f"
             ],
             [
              0.2222222222222222,
              "#7201a8"
             ],
             [
              0.3333333333333333,
              "#9c179e"
             ],
             [
              0.4444444444444444,
              "#bd3786"
             ],
             [
              0.5555555555555556,
              "#d8576b"
             ],
             [
              0.6666666666666666,
              "#ed7953"
             ],
             [
              0.7777777777777778,
              "#fb9f3a"
             ],
             [
              0.8888888888888888,
              "#fdca26"
             ],
             [
              1,
              "#f0f921"
             ]
            ],
            "type": "surface"
           }
          ],
          "table": [
           {
            "cells": {
             "fill": {
              "color": "#EBF0F8"
             },
             "line": {
              "color": "white"
             }
            },
            "header": {
             "fill": {
              "color": "#C8D4E3"
             },
             "line": {
              "color": "white"
             }
            },
            "type": "table"
           }
          ]
         },
         "layout": {
          "annotationdefaults": {
           "arrowcolor": "#2a3f5f",
           "arrowhead": 0,
           "arrowwidth": 1
          },
          "autotypenumbers": "strict",
          "coloraxis": {
           "colorbar": {
            "outlinewidth": 0,
            "ticks": ""
           }
          },
          "colorscale": {
           "diverging": [
            [
             0,
             "#8e0152"
            ],
            [
             0.1,
             "#c51b7d"
            ],
            [
             0.2,
             "#de77ae"
            ],
            [
             0.3,
             "#f1b6da"
            ],
            [
             0.4,
             "#fde0ef"
            ],
            [
             0.5,
             "#f7f7f7"
            ],
            [
             0.6,
             "#e6f5d0"
            ],
            [
             0.7,
             "#b8e186"
            ],
            [
             0.8,
             "#7fbc41"
            ],
            [
             0.9,
             "#4d9221"
            ],
            [
             1,
             "#276419"
            ]
           ],
           "sequential": [
            [
             0,
             "#0d0887"
            ],
            [
             0.1111111111111111,
             "#46039f"
            ],
            [
             0.2222222222222222,
             "#7201a8"
            ],
            [
             0.3333333333333333,
             "#9c179e"
            ],
            [
             0.4444444444444444,
             "#bd3786"
            ],
            [
             0.5555555555555556,
             "#d8576b"
            ],
            [
             0.6666666666666666,
             "#ed7953"
            ],
            [
             0.7777777777777778,
             "#fb9f3a"
            ],
            [
             0.8888888888888888,
             "#fdca26"
            ],
            [
             1,
             "#f0f921"
            ]
           ],
           "sequentialminus": [
            [
             0,
             "#0d0887"
            ],
            [
             0.1111111111111111,
             "#46039f"
            ],
            [
             0.2222222222222222,
             "#7201a8"
            ],
            [
             0.3333333333333333,
             "#9c179e"
            ],
            [
             0.4444444444444444,
             "#bd3786"
            ],
            [
             0.5555555555555556,
             "#d8576b"
            ],
            [
             0.6666666666666666,
             "#ed7953"
            ],
            [
             0.7777777777777778,
             "#fb9f3a"
            ],
            [
             0.8888888888888888,
             "#fdca26"
            ],
            [
             1,
             "#f0f921"
            ]
           ]
          },
          "colorway": [
           "#636efa",
           "#EF553B",
           "#00cc96",
           "#ab63fa",
           "#FFA15A",
           "#19d3f3",
           "#FF6692",
           "#B6E880",
           "#FF97FF",
           "#FECB52"
          ],
          "font": {
           "color": "#2a3f5f"
          },
          "geo": {
           "bgcolor": "white",
           "lakecolor": "white",
           "landcolor": "#E5ECF6",
           "showlakes": true,
           "showland": true,
           "subunitcolor": "white"
          },
          "hoverlabel": {
           "align": "left"
          },
          "hovermode": "closest",
          "mapbox": {
           "style": "light"
          },
          "paper_bgcolor": "white",
          "plot_bgcolor": "#E5ECF6",
          "polar": {
           "angularaxis": {
            "gridcolor": "white",
            "linecolor": "white",
            "ticks": ""
           },
           "bgcolor": "#E5ECF6",
           "radialaxis": {
            "gridcolor": "white",
            "linecolor": "white",
            "ticks": ""
           }
          },
          "scene": {
           "xaxis": {
            "backgroundcolor": "#E5ECF6",
            "gridcolor": "white",
            "gridwidth": 2,
            "linecolor": "white",
            "showbackground": true,
            "ticks": "",
            "zerolinecolor": "white"
           },
           "yaxis": {
            "backgroundcolor": "#E5ECF6",
            "gridcolor": "white",
            "gridwidth": 2,
            "linecolor": "white",
            "showbackground": true,
            "ticks": "",
            "zerolinecolor": "white"
           },
           "zaxis": {
            "backgroundcolor": "#E5ECF6",
            "gridcolor": "white",
            "gridwidth": 2,
            "linecolor": "white",
            "showbackground": true,
            "ticks": "",
            "zerolinecolor": "white"
           }
          },
          "shapedefaults": {
           "line": {
            "color": "#2a3f5f"
           }
          },
          "ternary": {
           "aaxis": {
            "gridcolor": "white",
            "linecolor": "white",
            "ticks": ""
           },
           "baxis": {
            "gridcolor": "white",
            "linecolor": "white",
            "ticks": ""
           },
           "bgcolor": "#E5ECF6",
           "caxis": {
            "gridcolor": "white",
            "linecolor": "white",
            "ticks": ""
           }
          },
          "title": {
           "x": 0.05
          },
          "xaxis": {
           "automargin": true,
           "gridcolor": "white",
           "linecolor": "white",
           "ticks": "",
           "title": {
            "standoff": 15
           },
           "zerolinecolor": "white",
           "zerolinewidth": 2
          },
          "yaxis": {
           "automargin": true,
           "gridcolor": "white",
           "linecolor": "white",
           "ticks": "",
           "title": {
            "standoff": 15
           },
           "zerolinecolor": "white",
           "zerolinewidth": 2
          }
         }
        },
        "title": {
         "font": {
          "color": "#4D5663"
         }
        },
        "xaxis": {
         "anchor": "y",
         "autorange": true,
         "domain": [
          0,
          0.2125
         ],
         "gridcolor": "#E1E5ED",
         "range": [
          -2.5,
          2.5
         ],
         "showgrid": false,
         "tickfont": {
          "color": "#4D5663"
         },
         "title": {
          "font": {
           "color": "#4D5663"
          },
          "text": ""
         },
         "type": "linear",
         "zerolinecolor": "#E1E5ED"
        },
        "xaxis10": {
         "anchor": "y10",
         "autorange": true,
         "domain": [
          0.2625,
          0.475
         ],
         "gridcolor": "#E1E5ED",
         "range": [
          -3.2488074784835828,
          3.861863478318522
         ],
         "showgrid": false,
         "tickfont": {
          "color": "#4D5663"
         },
         "title": {
          "font": {
           "color": "#4D5663"
          },
          "text": ""
         },
         "type": "linear",
         "zerolinecolor": "#E1E5ED"
        },
        "xaxis11": {
         "anchor": "y11",
         "autorange": true,
         "domain": [
          0.525,
          0.7375
         ],
         "gridcolor": "#E1E5ED",
         "range": [
          -3,
          3
         ],
         "showgrid": false,
         "tickfont": {
          "color": "#4D5663"
         },
         "title": {
          "font": {
           "color": "#4D5663"
          },
          "text": ""
         },
         "type": "linear",
         "zerolinecolor": "#E1E5ED"
        },
        "xaxis12": {
         "anchor": "y12",
         "autorange": true,
         "domain": [
          0.7875,
          1
         ],
         "gridcolor": "#E1E5ED",
         "range": [
          -2.7924177650551383,
          3.0511671751953777
         ],
         "showgrid": false,
         "tickfont": {
          "color": "#4D5663"
         },
         "title": {
          "font": {
           "color": "#4D5663"
          },
          "text": ""
         },
         "type": "linear",
         "zerolinecolor": "#E1E5ED"
        },
        "xaxis13": {
         "anchor": "y13",
         "autorange": true,
         "domain": [
          0,
          0.2125
         ],
         "gridcolor": "#E1E5ED",
         "range": [
          -2.515868753155587,
          2.5608533928230486
         ],
         "showgrid": false,
         "tickfont": {
          "color": "#4D5663"
         },
         "title": {
          "font": {
           "color": "#4D5663"
          },
          "text": ""
         },
         "type": "linear",
         "zerolinecolor": "#E1E5ED"
        },
        "xaxis14": {
         "anchor": "y14",
         "autorange": true,
         "domain": [
          0.2625,
          0.475
         ],
         "gridcolor": "#E1E5ED",
         "range": [
          -3.2488074784835828,
          3.861863478318522
         ],
         "showgrid": false,
         "tickfont": {
          "color": "#4D5663"
         },
         "title": {
          "font": {
           "color": "#4D5663"
          },
          "text": ""
         },
         "type": "linear",
         "zerolinecolor": "#E1E5ED"
        },
        "xaxis15": {
         "anchor": "y15",
         "autorange": true,
         "domain": [
          0.525,
          0.7375
         ],
         "gridcolor": "#E1E5ED",
         "range": [
          -3.376091763976738,
          3.3418400820400613
         ],
         "showgrid": false,
         "tickfont": {
          "color": "#4D5663"
         },
         "title": {
          "font": {
           "color": "#4D5663"
          },
          "text": ""
         },
         "type": "linear",
         "zerolinecolor": "#E1E5ED"
        },
        "xaxis16": {
         "anchor": "y16",
         "autorange": true,
         "domain": [
          0.7875,
          1
         ],
         "gridcolor": "#E1E5ED",
         "range": [
          -2.5,
          3
         ],
         "showgrid": false,
         "tickfont": {
          "color": "#4D5663"
         },
         "title": {
          "font": {
           "color": "#4D5663"
          },
          "text": ""
         },
         "type": "linear",
         "zerolinecolor": "#E1E5ED"
        },
        "xaxis2": {
         "anchor": "y2",
         "autorange": true,
         "domain": [
          0.2625,
          0.475
         ],
         "gridcolor": "#E1E5ED",
         "range": [
          -3.2488074784835828,
          3.861863478318522
         ],
         "showgrid": false,
         "tickfont": {
          "color": "#4D5663"
         },
         "title": {
          "font": {
           "color": "#4D5663"
          },
          "text": ""
         },
         "type": "linear",
         "zerolinecolor": "#E1E5ED"
        },
        "xaxis3": {
         "anchor": "y3",
         "autorange": true,
         "domain": [
          0.525,
          0.7375
         ],
         "gridcolor": "#E1E5ED",
         "range": [
          -3.376091763976738,
          3.3418400820400613
         ],
         "showgrid": false,
         "tickfont": {
          "color": "#4D5663"
         },
         "title": {
          "font": {
           "color": "#4D5663"
          },
          "text": ""
         },
         "type": "linear",
         "zerolinecolor": "#E1E5ED"
        },
        "xaxis4": {
         "anchor": "y4",
         "autorange": true,
         "domain": [
          0.7875,
          1
         ],
         "gridcolor": "#E1E5ED",
         "range": [
          -2.7924177650551383,
          3.0511671751953777
         ],
         "showgrid": false,
         "tickfont": {
          "color": "#4D5663"
         },
         "title": {
          "font": {
           "color": "#4D5663"
          },
          "text": ""
         },
         "type": "linear",
         "zerolinecolor": "#E1E5ED"
        },
        "xaxis5": {
         "anchor": "y5",
         "autorange": false,
         "domain": [
          0,
          0.2125
         ],
         "gridcolor": "#E1E5ED",
         "range": [
          -2.467605203342362,
          2.0209049292875907
         ],
         "showgrid": false,
         "tickfont": {
          "color": "#4D5663"
         },
         "title": {
          "font": {
           "color": "#4D5663"
          },
          "text": ""
         },
         "type": "linear",
         "zerolinecolor": "#E1E5ED"
        },
        "xaxis6": {
         "anchor": "y6",
         "autorange": true,
         "domain": [
          0.2625,
          0.475
         ],
         "gridcolor": "#E1E5ED",
         "range": [
          -3,
          4
         ],
         "showgrid": false,
         "tickfont": {
          "color": "#4D5663"
         },
         "title": {
          "font": {
           "color": "#4D5663"
          },
          "text": ""
         },
         "type": "linear",
         "zerolinecolor": "#E1E5ED"
        },
        "xaxis7": {
         "anchor": "y7",
         "autorange": true,
         "domain": [
          0.525,
          0.7375
         ],
         "gridcolor": "#E1E5ED",
         "range": [
          -3.376091763976738,
          3.3418400820400613
         ],
         "showgrid": false,
         "tickfont": {
          "color": "#4D5663"
         },
         "title": {
          "font": {
           "color": "#4D5663"
          },
          "text": ""
         },
         "type": "linear",
         "zerolinecolor": "#E1E5ED"
        },
        "xaxis8": {
         "anchor": "y8",
         "autorange": true,
         "domain": [
          0.7875,
          1
         ],
         "gridcolor": "#E1E5ED",
         "range": [
          -2.7924177650551383,
          3.0511671751953777
         ],
         "showgrid": false,
         "tickfont": {
          "color": "#4D5663"
         },
         "title": {
          "font": {
           "color": "#4D5663"
          },
          "text": ""
         },
         "type": "linear",
         "zerolinecolor": "#E1E5ED"
        },
        "xaxis9": {
         "anchor": "y9",
         "autorange": true,
         "domain": [
          0,
          0.2125
         ],
         "gridcolor": "#E1E5ED",
         "range": [
          -2.515868753155587,
          2.5608533928230486
         ],
         "showgrid": false,
         "tickfont": {
          "color": "#4D5663"
         },
         "title": {
          "font": {
           "color": "#4D5663"
          },
          "text": ""
         },
         "type": "linear",
         "zerolinecolor": "#E1E5ED"
        },
        "yaxis": {
         "anchor": "x",
         "autorange": true,
         "domain": [
          0.8025,
          1
         ],
         "gridcolor": "#E1E5ED",
         "range": [
          0,
          25.263157894736842
         ],
         "showgrid": false,
         "tickfont": {
          "color": "#4D5663"
         },
         "title": {
          "font": {
           "color": "#4D5663"
          },
          "text": ""
         },
         "zerolinecolor": "#E1E5ED"
        },
        "yaxis10": {
         "anchor": "x10",
         "autorange": true,
         "domain": [
          0.2675,
          0.465
         ],
         "gridcolor": "#E1E5ED",
         "range": [
          -3.8893619810198423,
          3.855110299083165
         ],
         "showgrid": false,
         "tickfont": {
          "color": "#4D5663"
         },
         "title": {
          "font": {
           "color": "#4D5663"
          },
          "text": ""
         },
         "type": "linear",
         "zerolinecolor": "#E1E5ED"
        },
        "yaxis11": {
         "anchor": "x11",
         "autorange": true,
         "domain": [
          0.2675,
          0.465
         ],
         "gridcolor": "#E1E5ED",
         "range": [
          0,
          38.94736842105263
         ],
         "showgrid": false,
         "tickfont": {
          "color": "#4D5663"
         },
         "title": {
          "font": {
           "color": "#4D5663"
          },
          "text": ""
         },
         "zerolinecolor": "#E1E5ED"
        },
        "yaxis12": {
         "anchor": "x12",
         "autorange": true,
         "domain": [
          0.2675,
          0.465
         ],
         "gridcolor": "#E1E5ED",
         "range": [
          -3.8893619810198423,
          3.855110299083165
         ],
         "showgrid": false,
         "tickfont": {
          "color": "#4D5663"
         },
         "title": {
          "font": {
           "color": "#4D5663"
          },
          "text": ""
         },
         "type": "linear",
         "zerolinecolor": "#E1E5ED"
        },
        "yaxis13": {
         "anchor": "x13",
         "autorange": true,
         "domain": [
          0,
          0.1975
         ],
         "gridcolor": "#E1E5ED",
         "range": [
          -3.2388852463188202,
          3.4976346564590597
         ],
         "showgrid": false,
         "tickfont": {
          "color": "#4D5663"
         },
         "title": {
          "font": {
           "color": "#4D5663"
          },
          "text": ""
         },
         "type": "linear",
         "zerolinecolor": "#E1E5ED"
        },
        "yaxis14": {
         "anchor": "x14",
         "autorange": true,
         "domain": [
          0,
          0.1975
         ],
         "gridcolor": "#E1E5ED",
         "range": [
          -3.2388852463188202,
          3.4976346564590597
         ],
         "showgrid": false,
         "tickfont": {
          "color": "#4D5663"
         },
         "title": {
          "font": {
           "color": "#4D5663"
          },
          "text": ""
         },
         "type": "linear",
         "zerolinecolor": "#E1E5ED"
        },
        "yaxis15": {
         "anchor": "x15",
         "autorange": true,
         "domain": [
          0,
          0.1975
         ],
         "gridcolor": "#E1E5ED",
         "range": [
          -3.2388852463188202,
          3.4976346564590597
         ],
         "showgrid": false,
         "tickfont": {
          "color": "#4D5663"
         },
         "title": {
          "font": {
           "color": "#4D5663"
          },
          "text": ""
         },
         "type": "linear",
         "zerolinecolor": "#E1E5ED"
        },
        "yaxis16": {
         "anchor": "x16",
         "autorange": true,
         "domain": [
          0,
          0.1975
         ],
         "gridcolor": "#E1E5ED",
         "range": [
          0,
          26.315789473684212
         ],
         "showgrid": false,
         "tickfont": {
          "color": "#4D5663"
         },
         "title": {
          "font": {
           "color": "#4D5663"
          },
          "text": ""
         },
         "zerolinecolor": "#E1E5ED"
        },
        "yaxis2": {
         "anchor": "x2",
         "autorange": true,
         "domain": [
          0.8025,
          1
         ],
         "gridcolor": "#E1E5ED",
         "range": [
          -2.9037456083337148,
          2.9487302480011754
         ],
         "showgrid": false,
         "tickfont": {
          "color": "#4D5663"
         },
         "title": {
          "font": {
           "color": "#4D5663"
          },
          "text": ""
         },
         "type": "linear",
         "zerolinecolor": "#E1E5ED"
        },
        "yaxis3": {
         "anchor": "x3",
         "autorange": true,
         "domain": [
          0.8025,
          1
         ],
         "gridcolor": "#E1E5ED",
         "range": [
          -2.9037456083337148,
          2.9487302480011754
         ],
         "showgrid": false,
         "tickfont": {
          "color": "#4D5663"
         },
         "title": {
          "font": {
           "color": "#4D5663"
          },
          "text": ""
         },
         "type": "linear",
         "zerolinecolor": "#E1E5ED"
        },
        "yaxis4": {
         "anchor": "x4",
         "autorange": true,
         "domain": [
          0.8025,
          1
         ],
         "gridcolor": "#E1E5ED",
         "range": [
          -2.9037456083337148,
          2.9487302480011754
         ],
         "showgrid": false,
         "tickfont": {
          "color": "#4D5663"
         },
         "title": {
          "font": {
           "color": "#4D5663"
          },
          "text": ""
         },
         "type": "linear",
         "zerolinecolor": "#E1E5ED"
        },
        "yaxis5": {
         "anchor": "x5",
         "autorange": false,
         "domain": [
          0.535,
          0.7325
         ],
         "gridcolor": "#E1E5ED",
         "range": [
          -3.5384386658427656,
          2.456718340716126
         ],
         "showgrid": false,
         "tickfont": {
          "color": "#4D5663"
         },
         "title": {
          "font": {
           "color": "#4D5663"
          },
          "text": ""
         },
         "type": "linear",
         "zerolinecolor": "#E1E5ED"
        },
        "yaxis6": {
         "anchor": "x6",
         "autorange": true,
         "domain": [
          0.535,
          0.7325
         ],
         "gridcolor": "#E1E5ED",
         "range": [
          0,
          36.8421052631579
         ],
         "showgrid": false,
         "tickfont": {
          "color": "#4D5663"
         },
         "title": {
          "font": {
           "color": "#4D5663"
          },
          "text": ""
         },
         "zerolinecolor": "#E1E5ED"
        },
        "yaxis7": {
         "anchor": "x7",
         "autorange": true,
         "domain": [
          0.535,
          0.7325
         ],
         "gridcolor": "#E1E5ED",
         "range": [
          -3.792084145912696,
          4.405140145747636
         ],
         "showgrid": false,
         "tickfont": {
          "color": "#4D5663"
         },
         "title": {
          "font": {
           "color": "#4D5663"
          },
          "text": ""
         },
         "type": "linear",
         "zerolinecolor": "#E1E5ED"
        },
        "yaxis8": {
         "anchor": "x8",
         "autorange": true,
         "domain": [
          0.535,
          0.7325
         ],
         "gridcolor": "#E1E5ED",
         "range": [
          -3.792084145912696,
          4.405140145747636
         ],
         "showgrid": false,
         "tickfont": {
          "color": "#4D5663"
         },
         "title": {
          "font": {
           "color": "#4D5663"
          },
          "text": ""
         },
         "type": "linear",
         "zerolinecolor": "#E1E5ED"
        },
        "yaxis9": {
         "anchor": "x9",
         "autorange": true,
         "domain": [
          0.2675,
          0.465
         ],
         "gridcolor": "#E1E5ED",
         "range": [
          -3.8893619810198423,
          3.855110299083165
         ],
         "showgrid": false,
         "tickfont": {
          "color": "#4D5663"
         },
         "title": {
          "font": {
           "color": "#4D5663"
          },
          "text": ""
         },
         "type": "linear",
         "zerolinecolor": "#E1E5ED"
        }
       }
      },
      "image/png": "[encoded data removed]",
      "text/html": [
       "<div>                            <div id=\"1a184445-911f-48f6-b1b4-7981ae186300\" class=\"plotly-graph-div\" style=\"height:525px; width:100%;\"></div>            <script type=\"text/javascript\">                require([\"plotly\"], function(Plotly) {                    window.PLOTLYENV=window.PLOTLYENV || {};\n",
       "                    window.PLOTLYENV.BASE_URL='https://plot.ly';                                    if (document.getElementById(\"1a184445-911f-48f6-b1b4-7981ae186300\")) {                    Plotly.newPlot(                        \"1a184445-911f-48f6-b1b4-7981ae186300\",                        [{\"histfunc\":\"count\",\"histnorm\":\"\",\"marker\":{\"color\":\"rgba(255, 153, 51, 1.0)\",\"line\":{\"color\":\"#4D5663\",\"width\":1.3}},\"name\":\"A\",\"nbinsx\":10,\"opacity\":0.8,\"orientation\":\"v\",\"x\":[0.3521248991125683,0.374378549462778,-0.8681275486234619,-1.527571333758755,-1.3900068126518048,-0.4114054920269361,0.15520020133584866,0.7384591641252498,-0.09712690742829033,-0.26819560829719846,1.1338755445610074,-1.4874831675677571,0.7051312012337357,-1.2024530037012553,-0.29809729403226287,0.23420816692031013,-1.1907221135276438,-0.19985732553043734,-0.6100052380320969,0.9797152589484669,0.5532180003133247,-1.2390461467516192,1.4175055278440405,-0.7828444487559498,1.2938009572926183,-0.8046173586032122,-0.9341045740226017,-2.1172419964169795,-0.015246331294103573,-0.4317235418042056,-0.490255626621109,-0.10495849562550795,0.4895473879909302,0.9230452012023029,-0.9019954565808412,-1.311884135102693,2.1622266360844407,-0.9981760527494739,-1.1669136579693293,-0.3878438473642099,-1.4062878330424886,0.9025854927347297,1.0662128436949465,1.2952217490953246,0.26758105507076246,-0.23889838423038862,-0.43765284660587417,-0.15293874988146516,0.8457208972983651,-0.12651619208777903,-0.12830107703185067,0.1905151734851748,-0.41358010360527675,-0.044092658442423424,1.40019571716128,-0.48424606902779,1.3956807833235683,0.2687615836341957,1.5571707452070334,-0.6360986721910912,0.626440960714626,-1.5397412105578578,-0.8981119577862499,1.0610658409579183,0.8903605943553875,0.17073795280636891,0.4268772526295468,-0.22528647908761543,1.2451042431352326,0.16225753274666233,-0.8591418566134634,-0.9830915946369014,0.7391052150205726,-0.22235452886232096,0.36892299213007546,-0.41247121129127323,-1.134272171255948,0.4167587262034833,-0.07488677434197762,0.3863115228816906,-1.4541697028834588,-0.3416988673071571,-0.8558369938099291,0.7881715368230318,0.24315956283911963,-0.4890587435401381,-1.0192033454977736,0.8480397711023916,0.7591556284639237,-1.8384101909642117,0.07412638124788648,0.42968941865360294,0.6402117041777811,0.9430575520543083,0.6506280986774639,0.21082036382305874,0.36483477797329544,-1.055874549469489,-0.7137286648445479,0.9370985982210176],\"xaxis\":\"x\",\"yaxis\":\"y\",\"type\":\"histogram\"},{\"line\":{\"color\":\"rgba(128, 128, 128, 1.0)\",\"dash\":\"solid\",\"shape\":\"linear\",\"width\":1.3},\"marker\":{\"size\":2,\"symbol\":\"circle\"},\"mode\":\"markers\",\"name\":\"A\",\"text\":\"\",\"x\":[-0.3672400660188171,1.1723030793263862,0.4229211143763501,-1.5356190599328485,0.29258044314440335,-2.077842158921335,0.28512491387525263,-0.37926165771701653,0.29908568497608157,0.9443018696549622,-1.5967889033942413,-1.3887672722735456,-0.6641416375654052,-0.0639470087730585,-0.46663721396131613,-0.6295335086197471,0.5897981776073271,-1.7655390053108517,-0.060237541740192926,1.4702381311634727,-0.579730434241401,-0.6002929782656196,1.9181218447873463,-0.07074094133169188,0.1554365837641563,0.7018919084379145,-0.6418528714390223,-0.07787505719096816,0.8561862739788918,-0.04757433442450353,0.937486539183576,1.7446059049126703,-0.5779297950685147,-2.6904740459574996,-0.3263343249047711,0.5155591540762269,0.3498287948955922,0.28221116405487856,-0.766191809161088,-0.5213477645381658,0.708880192738116,2.0539874746295013,-1.2473316263033876,0.9476199776636521,0.8296837728135735,0.2582333472604082,-0.7780087626419847,-0.2812605671675329,1.7583789451772844,0.5612996509403224,0.014262775164241561,-0.023906427686685182,-1.6391439824939231,1.170887485480817,0.5950341792071205,-0.6608344171032432,0.6288046045099865,0.3841721295386118,1.5401405371003682,-1.8171836596773712,-0.7777492347930118,0.8959467876452509,-0.39984688974564636,-1.146909822561759,2.24056639133713,-0.5676541986251326,-0.4629548656750362,1.3889964902978318,-1.2245992643146717,-0.10367449206740265,0.9059640174215866,0.6786534543107289,-0.5540066332650183,-0.12598739875013132,1.3483800477887116,1.2078134648275922,0.35034451020220486,0.40338079190074544,0.06883393428501268,-1.253355144433232,-1.0346073711363797,-1.572317268003851,0.8314858329161572,0.24454223001424086,-0.6227120484695982,-0.3559554015358584,0.2143436464681599,0.9637507906816873,3.303530045792439,-1.5897202496106333,-0.6320262369164329,-0.07242936475366742,-0.9198386634299148,-0.5504794102299363,-1.7324629922232109,-0.946431143453696,0.4470946952370082,-1.0733428737514066,0.7032246421977343,-1.4584740632012463],\"xaxis\":\"x2\",\"y\":[0.3521248991125683,0.374378549462778,-0.8681275486234619,-1.527571333758755,-1.3900068126518048,-0.4114054920269361,0.15520020133584866,0.7384591641252498,-0.09712690742829033,-0.26819560829719846,1.1338755445610074,-1.4874831675677571,0.7051312012337357,-1.2024530037012553,-0.29809729403226287,0.23420816692031013,-1.1907221135276438,-0.19985732553043734,-0.6100052380320969,0.9797152589484669,0.5532180003133247,-1.2390461467516192,1.4175055278440405,-0.7828444487559498,1.2938009572926183,-0.8046173586032122,-0.9341045740226017,-2.1172419964169795,-0.015246331294103573,-0.4317235418042056,-0.490255626621109,-0.10495849562550795,0.4895473879909302,0.9230452012023029,-0.9019954565808412,-1.311884135102693,2.1622266360844407,-0.9981760527494739,-1.1669136579693293,-0.3878438473642099,-1.4062878330424886,0.9025854927347297,1.0662128436949465,1.2952217490953246,0.26758105507076246,-0.23889838423038862,-0.43765284660587417,-0.15293874988146516,0.8457208972983651,-0.12651619208777903,-0.12830107703185067,0.1905151734851748,-0.41358010360527675,-0.044092658442423424,1.40019571716128,-0.48424606902779,1.3956807833235683,0.2687615836341957,1.5571707452070334,-0.6360986721910912,0.626440960714626,-1.5397412105578578,-0.8981119577862499,1.0610658409579183,0.8903605943553875,0.17073795280636891,0.4268772526295468,-0.22528647908761543,1.2451042431352326,0.16225753274666233,-0.8591418566134634,-0.9830915946369014,0.7391052150205726,-0.22235452886232096,0.36892299213007546,-0.41247121129127323,-1.134272171255948,0.4167587262034833,-0.07488677434197762,0.3863115228816906,-1.4541697028834588,-0.3416988673071571,-0.8558369938099291,0.7881715368230318,0.24315956283911963,-0.4890587435401381,-1.0192033454977736,0.8480397711023916,0.7591556284639237,-1.8384101909642117,0.07412638124788648,0.42968941865360294,0.6402117041777811,0.9430575520543083,0.6506280986774639,0.21082036382305874,0.36483477797329544,-1.055874549469489,-0.7137286648445479,0.9370985982210176],\"yaxis\":\"y2\",\"type\":\"scatter\"},{\"line\":{\"color\":\"rgba(128, 128, 128, 1.0)\",\"dash\":\"solid\",\"shape\":\"linear\",\"width\":1.3},\"marker\":{\"size\":2,\"symbol\":\"circle\"},\"mode\":\"markers\",\"name\":\"A\",\"text\":\"\",\"x\":[0.040951349719290576,0.9163731498508584,0.2473149246675704,0.6355789757395596,2.0561229303330215,-0.8426823150555216,0.551260330683669,0.03323504120915285,-1.2432396486650872,-0.6618349008001423,0.5217832084147521,1.5288418411500666,-2.4120830093812837,2.8143447205123606,-0.257933073781562,-0.3572661675178952,0.20190338856217502,0.9320991029283576,-0.2191998538030043,2.0719083446892474,-2.8485964024490373,0.014927423043469038,-0.5154646455689982,0.4382000391317424,-0.4219851166708127,-0.6598109185667879,-0.5266671295882587,2.222491682052409,-0.5267075167322591,-1.9881988811905362,1.8201702033224445,2.175163917116367,-1.2906075345231638,-2.3006061256171084,0.3066738920361006,0.8559774613699227,0.6688883975257423,-0.6823697222688537,-1.243973226793776,0.7583084242632002,-1.2414551237252491,2.3820652209218296,0.9243572868285478,1.0052558535898974,-0.2961920718199432,0.5608432569750889,-2.357222093876263,1.817388783384015,-0.7744521478969061,1.0763933510113877,-1.2561328071536118,-0.638686345881965,0.4865256193015979,-2.456392803221965,-0.6518818470075926,0.6257325664820154,1.7694428509391302,-0.43793671439613535,0.29422842599998283,-1.1336705708733945,-0.02435874048759034,-0.9603568369902041,1.1487228327794106,-0.7861995441361292,-0.8447379256723088,1.1371711411743168,-0.19395465149512472,1.526465804209432,0.40676357821989756,0.5287900098042159,0.6608365859778821,-0.744901530184483,-0.9566989059482564,-1.3051061700884141,-0.7095434773568681,-0.14194679507734942,1.0204705452747858,-0.47132490477492744,-0.5095810769276805,-0.13974241072861765,1.889069821123595,-0.6154788796132468,1.3842997701151845,-0.153335675502912,-0.18154950908872736,-0.3369429086014936,-0.9140504632574861,-0.18505754850539075,-0.318009985650538,-1.7416551710462669,0.49525622789157114,-0.9959438615052109,1.1649297931196383,0.18734503740419692,1.6901446812195635,-0.6235055022821053,1.9786160133931159,-1.9407740026576976,0.42998530248150685,-1.9364366519135416],\"xaxis\":\"x3\",\"y\":[0.3521248991125683,0.374378549462778,-0.8681275486234619,-1.527571333758755,-1.3900068126518048,-0.4114054920269361,0.15520020133584866,0.7384591641252498,-0.09712690742829033,-0.26819560829719846,1.1338755445610074,-1.4874831675677571,0.7051312012337357,-1.2024530037012553,-0.29809729403226287,0.23420816692031013,-1.1907221135276438,-0.19985732553043734,-0.6100052380320969,0.9797152589484669,0.5532180003133247,-1.2390461467516192,1.4175055278440405,-0.7828444487559498,1.2938009572926183,-0.8046173586032122,-0.9341045740226017,-2.1172419964169795,-0.015246331294103573,-0.4317235418042056,-0.490255626621109,-0.10495849562550795,0.4895473879909302,0.9230452012023029,-0.9019954565808412,-1.311884135102693,2.1622266360844407,-0.9981760527494739,-1.1669136579693293,-0.3878438473642099,-1.4062878330424886,0.9025854927347297,1.0662128436949465,1.2952217490953246,0.26758105507076246,-0.23889838423038862,-0.43765284660587417,-0.15293874988146516,0.8457208972983651,-0.12651619208777903,-0.12830107703185067,0.1905151734851748,-0.41358010360527675,-0.044092658442423424,1.40019571716128,-0.48424606902779,1.3956807833235683,0.2687615836341957,1.5571707452070334,-0.6360986721910912,0.626440960714626,-1.5397412105578578,-0.8981119577862499,1.0610658409579183,0.8903605943553875,0.17073795280636891,0.4268772526295468,-0.22528647908761543,1.2451042431352326,0.16225753274666233,-0.8591418566134634,-0.9830915946369014,0.7391052150205726,-0.22235452886232096,0.36892299213007546,-0.41247121129127323,-1.134272171255948,0.4167587262034833,-0.07488677434197762,0.3863115228816906,-1.4541697028834588,-0.3416988673071571,-0.8558369938099291,0.7881715368230318,0.24315956283911963,-0.4890587435401381,-1.0192033454977736,0.8480397711023916,0.7591556284639237,-1.8384101909642117,0.07412638124788648,0.42968941865360294,0.6402117041777811,0.9430575520543083,0.6506280986774639,0.21082036382305874,0.36483477797329544,-1.055874549469489,-0.7137286648445479,0.9370985982210176],\"yaxis\":\"y3\",\"type\":\"scatter\"},{\"line\":{\"color\":\"rgba(128, 128, 128, 1.0)\",\"dash\":\"solid\",\"shape\":\"linear\",\"width\":1.3},\"marker\":{\"size\":2,\"symbol\":\"circle\"},\"mode\":\"markers\",\"name\":\"A\",\"text\":\"\",\"x\":[-1.3375111200422654,0.08108573619786534,-0.4603419445564614,1.6087850830260433,-1.1358219279044866,-1.3402739069075462,-0.8883954210116366,-2.333576558962384,2.256222344488282,-1.518276134540346,-0.5493494918608621,1.0888175415569215,-1.1555295255722635,-0.5663726095451217,0.8195642561425789,-0.6555111443554326,1.5823033687248254,0.448344094281049,-1.534848204837367,-0.7738955545996372,-1.2526498083817412,0.6069527188929812,0.24313875205510352,0.9113343981619622,1.0897636277906508,-0.23886310103044037,-0.36243249262063915,0.8054873468624355,-0.8311895423156016,0.36411268083828713,0.15287411039096088,0.30253942960984925,1.0902893872100399,-0.7108338092133447,2.0768094028590327,0.051691069444641746,-0.10991256892414793,0.7959080246152197,0.4057141102482014,-0.7086479402378677,-1.5163725358414726,-0.4387446795954376,0.10599681909410427,1.2581067321286046,-0.23448306331222418,-0.43196872710173995,-0.13422166623444162,-0.916134253624078,-0.28070162474793886,0.9520456681139606,-0.2839508570594622,-1.605523474096741,-1.0863518252056914,0.025308097274283906,0.06448363327448572,-0.761557429698844,0.10329503270324489,0.4122547806086187,-1.199652516293543,0.8959886138160285,-0.4977888239267104,0.01348762881186117,0.48002483050913747,1.7292547102720466,0.3652142333994519,1.5914138134642886,-0.05457538970538982,0.7492853215006533,1.7142499472823864,-0.9850415204347099,0.6388438927953487,0.4138487334186722,-0.8905539048608643,-1.0279145122359281,0.9414427655613998,0.25918463510371625,-0.19729832180784007,-0.390909039372285,-0.7835258859704143,-1.4253341321155104,0.04927046360645166,0.2651329981190324,1.6619499989545055,0.4802126318651488,2.5923259691026233,-0.42748881665069555,0.290167317223398,0.5103695762182319,1.2582990267796612,1.3556684561143955,-1.2007802646175456,0.3295112813582968,0.555959784639183,-0.11942895049017666,-0.16790176725326109,1.5091104754329279,-1.2444322169182427,0.8543033955585018,0.3555174210748361,0.4288090890373574],\"xaxis\":\"x4\",\"y\":[0.3521248991125683,0.374378549462778,-0.8681275486234619,-1.527571333758755,-1.3900068126518048,-0.4114054920269361,0.15520020133584866,0.7384591641252498,-0.09712690742829033,-0.26819560829719846,1.1338755445610074,-1.4874831675677571,0.7051312012337357,-1.2024530037012553,-0.29809729403226287,0.23420816692031013,-1.1907221135276438,-0.19985732553043734,-0.6100052380320969,0.9797152589484669,0.5532180003133247,-1.2390461467516192,1.4175055278440405,-0.7828444487559498,1.2938009572926183,-0.8046173586032122,-0.9341045740226017,-2.1172419964169795,-0.015246331294103573,-0.4317235418042056,-0.490255626621109,-0.10495849562550795,0.4895473879909302,0.9230452012023029,-0.9019954565808412,-1.311884135102693,2.1622266360844407,-0.9981760527494739,-1.1669136579693293,-0.3878438473642099,-1.4062878330424886,0.9025854927347297,1.0662128436949465,1.2952217490953246,0.26758105507076246,-0.23889838423038862,-0.43765284660587417,-0.15293874988146516,0.8457208972983651,-0.12651619208777903,-0.12830107703185067,0.1905151734851748,-0.41358010360527675,-0.044092658442423424,1.40019571716128,-0.48424606902779,1.3956807833235683,0.2687615836341957,1.5571707452070334,-0.6360986721910912,0.626440960714626,-1.5397412105578578,-0.8981119577862499,1.0610658409579183,0.8903605943553875,0.17073795280636891,0.4268772526295468,-0.22528647908761543,1.2451042431352326,0.16225753274666233,-0.8591418566134634,-0.9830915946369014,0.7391052150205726,-0.22235452886232096,0.36892299213007546,-0.41247121129127323,-1.134272171255948,0.4167587262034833,-0.07488677434197762,0.3863115228816906,-1.4541697028834588,-0.3416988673071571,-0.8558369938099291,0.7881715368230318,0.24315956283911963,-0.4890587435401381,-1.0192033454977736,0.8480397711023916,0.7591556284639237,-1.8384101909642117,0.07412638124788648,0.42968941865360294,0.6402117041777811,0.9430575520543083,0.6506280986774639,0.21082036382305874,0.36483477797329544,-1.055874549469489,-0.7137286648445479,0.9370985982210176],\"yaxis\":\"y4\",\"type\":\"scatter\"},{\"line\":{\"color\":\"rgba(128, 128, 128, 1.0)\",\"dash\":\"solid\",\"shape\":\"linear\",\"width\":1.3},\"marker\":{\"size\":2,\"symbol\":\"circle\"},\"mode\":\"markers\",\"name\":\"B\",\"text\":\"\",\"x\":[0.3521248991125683,0.374378549462778,-0.8681275486234619,-1.527571333758755,-1.3900068126518048,-0.4114054920269361,0.15520020133584866,0.7384591641252498,-0.09712690742829033,-0.26819560829719846,1.1338755445610074,-1.4874831675677571,0.7051312012337357,-1.2024530037012553,-0.29809729403226287,0.23420816692031013,-1.1907221135276438,-0.19985732553043734,-0.6100052380320969,0.9797152589484669,0.5532180003133247,-1.2390461467516192,1.4175055278440405,-0.7828444487559498,1.2938009572926183,-0.8046173586032122,-0.9341045740226017,-2.1172419964169795,-0.015246331294103573,-0.4317235418042056,-0.490255626621109,-0.10495849562550795,0.4895473879909302,0.9230452012023029,-0.9019954565808412,-1.311884135102693,2.1622266360844407,-0.9981760527494739,-1.1669136579693293,-0.3878438473642099,-1.4062878330424886,0.9025854927347297,1.0662128436949465,1.2952217490953246,0.26758105507076246,-0.23889838423038862,-0.43765284660587417,-0.15293874988146516,0.8457208972983651,-0.12651619208777903,-0.12830107703185067,0.1905151734851748,-0.41358010360527675,-0.044092658442423424,1.40019571716128,-0.48424606902779,1.3956807833235683,0.2687615836341957,1.5571707452070334,-0.6360986721910912,0.626440960714626,-1.5397412105578578,-0.8981119577862499,1.0610658409579183,0.8903605943553875,0.17073795280636891,0.4268772526295468,-0.22528647908761543,1.2451042431352326,0.16225753274666233,-0.8591418566134634,-0.9830915946369014,0.7391052150205726,-0.22235452886232096,0.36892299213007546,-0.41247121129127323,-1.134272171255948,0.4167587262034833,-0.07488677434197762,0.3863115228816906,-1.4541697028834588,-0.3416988673071571,-0.8558369938099291,0.7881715368230318,0.24315956283911963,-0.4890587435401381,-1.0192033454977736,0.8480397711023916,0.7591556284639237,-1.8384101909642117,0.07412638124788648,0.42968941865360294,0.6402117041777811,0.9430575520543083,0.6506280986774639,0.21082036382305874,0.36483477797329544,-1.055874549469489,-0.7137286648445479,0.9370985982210176],\"xaxis\":\"x5\",\"y\":[-0.3672400660188171,1.1723030793263862,0.4229211143763501,-1.5356190599328485,0.29258044314440335,-2.077842158921335,0.28512491387525263,-0.37926165771701653,0.29908568497608157,0.9443018696549622,-1.5967889033942413,-1.3887672722735456,-0.6641416375654052,-0.0639470087730585,-0.46663721396131613,-0.6295335086197471,0.5897981776073271,-1.7655390053108517,-0.060237541740192926,1.4702381311634727,-0.579730434241401,-0.6002929782656196,1.9181218447873463,-0.07074094133169188,0.1554365837641563,0.7018919084379145,-0.6418528714390223,-0.07787505719096816,0.8561862739788918,-0.04757433442450353,0.937486539183576,1.7446059049126703,-0.5779297950685147,-2.6904740459574996,-0.3263343249047711,0.5155591540762269,0.3498287948955922,0.28221116405487856,-0.766191809161088,-0.5213477645381658,0.708880192738116,2.0539874746295013,-1.2473316263033876,0.9476199776636521,0.8296837728135735,0.2582333472604082,-0.7780087626419847,-0.2812605671675329,1.7583789451772844,0.5612996509403224,0.014262775164241561,-0.023906427686685182,-1.6391439824939231,1.170887485480817,0.5950341792071205,-0.6608344171032432,0.6288046045099865,0.3841721295386118,1.5401405371003682,-1.8171836596773712,-0.7777492347930118,0.8959467876452509,-0.39984688974564636,-1.146909822561759,2.24056639133713,-0.5676541986251326,-0.4629548656750362,1.3889964902978318,-1.2245992643146717,-0.10367449206740265,0.9059640174215866,0.6786534543107289,-0.5540066332650183,-0.12598739875013132,1.3483800477887116,1.2078134648275922,0.35034451020220486,0.40338079190074544,0.06883393428501268,-1.253355144433232,-1.0346073711363797,-1.572317268003851,0.8314858329161572,0.24454223001424086,-0.6227120484695982,-0.3559554015358584,0.2143436464681599,0.9637507906816873,3.303530045792439,-1.5897202496106333,-0.6320262369164329,-0.07242936475366742,-0.9198386634299148,-0.5504794102299363,-1.7324629922232109,-0.946431143453696,0.4470946952370082,-1.0733428737514066,0.7032246421977343,-1.4584740632012463],\"yaxis\":\"y5\",\"type\":\"scatter\"},{\"histfunc\":\"count\",\"histnorm\":\"\",\"marker\":{\"color\":\"rgba(55, 128, 191, 1.0)\",\"line\":{\"color\":\"#4D5663\",\"width\":1.3}},\"name\":\"B\",\"nbinsx\":10,\"opacity\":0.8,\"orientation\":\"v\",\"x\":[-0.3672400660188171,1.1723030793263862,0.4229211143763501,-1.5356190599328485,0.29258044314440335,-2.077842158921335,0.28512491387525263,-0.37926165771701653,0.29908568497608157,0.9443018696549622,-1.5967889033942413,-1.3887672722735456,-0.6641416375654052,-0.0639470087730585,-0.46663721396131613,-0.6295335086197471,0.5897981776073271,-1.7655390053108517,-0.060237541740192926,1.4702381311634727,-0.579730434241401,-0.6002929782656196,1.9181218447873463,-0.07074094133169188,0.1554365837641563,0.7018919084379145,-0.6418528714390223,-0.07787505719096816,0.8561862739788918,-0.04757433442450353,0.937486539183576,1.7446059049126703,-0.5779297950685147,-2.6904740459574996,-0.3263343249047711,0.5155591540762269,0.3498287948955922,0.28221116405487856,-0.766191809161088,-0.5213477645381658,0.708880192738116,2.0539874746295013,-1.2473316263033876,0.9476199776636521,0.8296837728135735,0.2582333472604082,-0.7780087626419847,-0.2812605671675329,1.7583789451772844,0.5612996509403224,0.014262775164241561,-0.023906427686685182,-1.6391439824939231,1.170887485480817,0.5950341792071205,-0.6608344171032432,0.6288046045099865,0.3841721295386118,1.5401405371003682,-1.8171836596773712,-0.7777492347930118,0.8959467876452509,-0.39984688974564636,-1.146909822561759,2.24056639133713,-0.5676541986251326,-0.4629548656750362,1.3889964902978318,-1.2245992643146717,-0.10367449206740265,0.9059640174215866,0.6786534543107289,-0.5540066332650183,-0.12598739875013132,1.3483800477887116,1.2078134648275922,0.35034451020220486,0.40338079190074544,0.06883393428501268,-1.253355144433232,-1.0346073711363797,-1.572317268003851,0.8314858329161572,0.24454223001424086,-0.6227120484695982,-0.3559554015358584,0.2143436464681599,0.9637507906816873,3.303530045792439,-1.5897202496106333,-0.6320262369164329,-0.07242936475366742,-0.9198386634299148,-0.5504794102299363,-1.7324629922232109,-0.946431143453696,0.4470946952370082,-1.0733428737514066,0.7032246421977343,-1.4584740632012463],\"xaxis\":\"x6\",\"yaxis\":\"y6\",\"type\":\"histogram\"},{\"line\":{\"color\":\"rgba(128, 128, 128, 1.0)\",\"dash\":\"solid\",\"shape\":\"linear\",\"width\":1.3},\"marker\":{\"size\":2,\"symbol\":\"circle\"},\"mode\":\"markers\",\"name\":\"B\",\"text\":\"\",\"x\":[0.040951349719290576,0.9163731498508584,0.2473149246675704,0.6355789757395596,2.0561229303330215,-0.8426823150555216,0.551260330683669,0.03323504120915285,-1.2432396486650872,-0.6618349008001423,0.5217832084147521,1.5288418411500666,-2.4120830093812837,2.8143447205123606,-0.257933073781562,-0.3572661675178952,0.20190338856217502,0.9320991029283576,-0.2191998538030043,2.0719083446892474,-2.8485964024490373,0.014927423043469038,-0.5154646455689982,0.4382000391317424,-0.4219851166708127,-0.6598109185667879,-0.5266671295882587,2.222491682052409,-0.5267075167322591,-1.9881988811905362,1.8201702033224445,2.175163917116367,-1.2906075345231638,-2.3006061256171084,0.3066738920361006,0.8559774613699227,0.6688883975257423,-0.6823697222688537,-1.243973226793776,0.7583084242632002,-1.2414551237252491,2.3820652209218296,0.9243572868285478,1.0052558535898974,-0.2961920718199432,0.5608432569750889,-2.357222093876263,1.817388783384015,-0.7744521478969061,1.0763933510113877,-1.2561328071536118,-0.638686345881965,0.4865256193015979,-2.456392803221965,-0.6518818470075926,0.6257325664820154,1.7694428509391302,-0.43793671439613535,0.29422842599998283,-1.1336705708733945,-0.02435874048759034,-0.9603568369902041,1.1487228327794106,-0.7861995441361292,-0.8447379256723088,1.1371711411743168,-0.19395465149512472,1.526465804209432,0.40676357821989756,0.5287900098042159,0.6608365859778821,-0.744901530184483,-0.9566989059482564,-1.3051061700884141,-0.7095434773568681,-0.14194679507734942,1.0204705452747858,-0.47132490477492744,-0.5095810769276805,-0.13974241072861765,1.889069821123595,-0.6154788796132468,1.3842997701151845,-0.153335675502912,-0.18154950908872736,-0.3369429086014936,-0.9140504632574861,-0.18505754850539075,-0.318009985650538,-1.7416551710462669,0.49525622789157114,-0.9959438615052109,1.1649297931196383,0.18734503740419692,1.6901446812195635,-0.6235055022821053,1.9786160133931159,-1.9407740026576976,0.42998530248150685,-1.9364366519135416],\"xaxis\":\"x7\",\"y\":[-0.3672400660188171,1.1723030793263862,0.4229211143763501,-1.5356190599328485,0.29258044314440335,-2.077842158921335,0.28512491387525263,-0.37926165771701653,0.29908568497608157,0.9443018696549622,-1.5967889033942413,-1.3887672722735456,-0.6641416375654052,-0.0639470087730585,-0.46663721396131613,-0.6295335086197471,0.5897981776073271,-1.7655390053108517,-0.060237541740192926,1.4702381311634727,-0.579730434241401,-0.6002929782656196,1.9181218447873463,-0.07074094133169188,0.1554365837641563,0.7018919084379145,-0.6418528714390223,-0.07787505719096816,0.8561862739788918,-0.04757433442450353,0.937486539183576,1.7446059049126703,-0.5779297950685147,-2.6904740459574996,-0.3263343249047711,0.5155591540762269,0.3498287948955922,0.28221116405487856,-0.766191809161088,-0.5213477645381658,0.708880192738116,2.0539874746295013,-1.2473316263033876,0.9476199776636521,0.8296837728135735,0.2582333472604082,-0.7780087626419847,-0.2812605671675329,1.7583789451772844,0.5612996509403224,0.014262775164241561,-0.023906427686685182,-1.6391439824939231,1.170887485480817,0.5950341792071205,-0.6608344171032432,0.6288046045099865,0.3841721295386118,1.5401405371003682,-1.8171836596773712,-0.7777492347930118,0.8959467876452509,-0.39984688974564636,-1.146909822561759,2.24056639133713,-0.5676541986251326,-0.4629548656750362,1.3889964902978318,-1.2245992643146717,-0.10367449206740265,0.9059640174215866,0.6786534543107289,-0.5540066332650183,-0.12598739875013132,1.3483800477887116,1.2078134648275922,0.35034451020220486,0.40338079190074544,0.06883393428501268,-1.253355144433232,-1.0346073711363797,-1.572317268003851,0.8314858329161572,0.24454223001424086,-0.6227120484695982,-0.3559554015358584,0.2143436464681599,0.9637507906816873,3.303530045792439,-1.5897202496106333,-0.6320262369164329,-0.07242936475366742,-0.9198386634299148,-0.5504794102299363,-1.7324629922232109,-0.946431143453696,0.4470946952370082,-1.0733428737514066,0.7032246421977343,-1.4584740632012463],\"yaxis\":\"y7\",\"type\":\"scatter\"},{\"line\":{\"color\":\"rgba(128, 128, 128, 1.0)\",\"dash\":\"solid\",\"shape\":\"linear\",\"width\":1.3},\"marker\":{\"size\":2,\"symbol\":\"circle\"},\"mode\":\"markers\",\"name\":\"B\",\"text\":\"\",\"x\":[-1.3375111200422654,0.08108573619786534,-0.4603419445564614,1.6087850830260433,-1.1358219279044866,-1.3402739069075462,-0.8883954210116366,-2.333576558962384,2.256222344488282,-1.518276134540346,-0.5493494918608621,1.0888175415569215,-1.1555295255722635,-0.5663726095451217,0.8195642561425789,-0.6555111443554326,1.5823033687248254,0.448344094281049,-1.534848204837367,-0.7738955545996372,-1.2526498083817412,0.6069527188929812,0.24313875205510352,0.9113343981619622,1.0897636277906508,-0.23886310103044037,-0.36243249262063915,0.8054873468624355,-0.8311895423156016,0.36411268083828713,0.15287411039096088,0.30253942960984925,1.0902893872100399,-0.7108338092133447,2.0768094028590327,0.051691069444641746,-0.10991256892414793,0.7959080246152197,0.4057141102482014,-0.7086479402378677,-1.5163725358414726,-0.4387446795954376,0.10599681909410427,1.2581067321286046,-0.23448306331222418,-0.43196872710173995,-0.13422166623444162,-0.916134253624078,-0.28070162474793886,0.9520456681139606,-0.2839508570594622,-1.605523474096741,-1.0863518252056914,0.025308097274283906,0.06448363327448572,-0.761557429698844,0.10329503270324489,0.4122547806086187,-1.199652516293543,0.8959886138160285,-0.4977888239267104,0.01348762881186117,0.48002483050913747,1.7292547102720466,0.3652142333994519,1.5914138134642886,-0.05457538970538982,0.7492853215006533,1.7142499472823864,-0.9850415204347099,0.6388438927953487,0.4138487334186722,-0.8905539048608643,-1.0279145122359281,0.9414427655613998,0.25918463510371625,-0.19729832180784007,-0.390909039372285,-0.7835258859704143,-1.4253341321155104,0.04927046360645166,0.2651329981190324,1.6619499989545055,0.4802126318651488,2.5923259691026233,-0.42748881665069555,0.290167317223398,0.5103695762182319,1.2582990267796612,1.3556684561143955,-1.2007802646175456,0.3295112813582968,0.555959784639183,-0.11942895049017666,-0.16790176725326109,1.5091104754329279,-1.2444322169182427,0.8543033955585018,0.3555174210748361,0.4288090890373574],\"xaxis\":\"x8\",\"y\":[-0.3672400660188171,1.1723030793263862,0.4229211143763501,-1.5356190599328485,0.29258044314440335,-2.077842158921335,0.28512491387525263,-0.37926165771701653,0.29908568497608157,0.9443018696549622,-1.5967889033942413,-1.3887672722735456,-0.6641416375654052,-0.0639470087730585,-0.46663721396131613,-0.6295335086197471,0.5897981776073271,-1.7655390053108517,-0.060237541740192926,1.4702381311634727,-0.579730434241401,-0.6002929782656196,1.9181218447873463,-0.07074094133169188,0.1554365837641563,0.7018919084379145,-0.6418528714390223,-0.07787505719096816,0.8561862739788918,-0.04757433442450353,0.937486539183576,1.7446059049126703,-0.5779297950685147,-2.6904740459574996,-0.3263343249047711,0.5155591540762269,0.3498287948955922,0.28221116405487856,-0.766191809161088,-0.5213477645381658,0.708880192738116,2.0539874746295013,-1.2473316263033876,0.9476199776636521,0.8296837728135735,0.2582333472604082,-0.7780087626419847,-0.2812605671675329,1.7583789451772844,0.5612996509403224,0.014262775164241561,-0.023906427686685182,-1.6391439824939231,1.170887485480817,0.5950341792071205,-0.6608344171032432,0.6288046045099865,0.3841721295386118,1.5401405371003682,-1.8171836596773712,-0.7777492347930118,0.8959467876452509,-0.39984688974564636,-1.146909822561759,2.24056639133713,-0.5676541986251326,-0.4629548656750362,1.3889964902978318,-1.2245992643146717,-0.10367449206740265,0.9059640174215866,0.6786534543107289,-0.5540066332650183,-0.12598739875013132,1.3483800477887116,1.2078134648275922,0.35034451020220486,0.40338079190074544,0.06883393428501268,-1.253355144433232,-1.0346073711363797,-1.572317268003851,0.8314858329161572,0.24454223001424086,-0.6227120484695982,-0.3559554015358584,0.2143436464681599,0.9637507906816873,3.303530045792439,-1.5897202496106333,-0.6320262369164329,-0.07242936475366742,-0.9198386634299148,-0.5504794102299363,-1.7324629922232109,-0.946431143453696,0.4470946952370082,-1.0733428737514066,0.7032246421977343,-1.4584740632012463],\"yaxis\":\"y8\",\"type\":\"scatter\"},{\"line\":{\"color\":\"rgba(128, 128, 128, 1.0)\",\"dash\":\"solid\",\"shape\":\"linear\",\"width\":1.3},\"marker\":{\"size\":2,\"symbol\":\"circle\"},\"mode\":\"markers\",\"name\":\"C\",\"text\":\"\",\"x\":[0.3521248991125683,0.374378549462778,-0.8681275486234619,-1.527571333758755,-1.3900068126518048,-0.4114054920269361,0.15520020133584866,0.7384591641252498,-0.09712690742829033,-0.26819560829719846,1.1338755445610074,-1.4874831675677571,0.7051312012337357,-1.2024530037012553,-0.29809729403226287,0.23420816692031013,-1.1907221135276438,-0.19985732553043734,-0.6100052380320969,0.9797152589484669,0.5532180003133247,-1.2390461467516192,1.4175055278440405,-0.7828444487559498,1.2938009572926183,-0.8046173586032122,-0.9341045740226017,-2.1172419964169795,-0.015246331294103573,-0.4317235418042056,-0.490255626621109,-0.10495849562550795,0.4895473879909302,0.9230452012023029,-0.9019954565808412,-1.311884135102693,2.1622266360844407,-0.9981760527494739,-1.1669136579693293,-0.3878438473642099,-1.4062878330424886,0.9025854927347297,1.0662128436949465,1.2952217490953246,0.26758105507076246,-0.23889838423038862,-0.43765284660587417,-0.15293874988146516,0.8457208972983651,-0.12651619208777903,-0.12830107703185067,0.1905151734851748,-0.41358010360527675,-0.044092658442423424,1.40019571716128,-0.48424606902779,1.3956807833235683,0.2687615836341957,1.5571707452070334,-0.6360986721910912,0.626440960714626,-1.5397412105578578,-0.8981119577862499,1.0610658409579183,0.8903605943553875,0.17073795280636891,0.4268772526295468,-0.22528647908761543,1.2451042431352326,0.16225753274666233,-0.8591418566134634,-0.9830915946369014,0.7391052150205726,-0.22235452886232096,0.36892299213007546,-0.41247121129127323,-1.134272171255948,0.4167587262034833,-0.07488677434197762,0.3863115228816906,-1.4541697028834588,-0.3416988673071571,-0.8558369938099291,0.7881715368230318,0.24315956283911963,-0.4890587435401381,-1.0192033454977736,0.8480397711023916,0.7591556284639237,-1.8384101909642117,0.07412638124788648,0.42968941865360294,0.6402117041777811,0.9430575520543083,0.6506280986774639,0.21082036382305874,0.36483477797329544,-1.055874549469489,-0.7137286648445479,0.9370985982210176],\"xaxis\":\"x9\",\"y\":[0.040951349719290576,0.9163731498508584,0.2473149246675704,0.6355789757395596,2.0561229303330215,-0.8426823150555216,0.551260330683669,0.03323504120915285,-1.2432396486650872,-0.6618349008001423,0.5217832084147521,1.5288418411500666,-2.4120830093812837,2.8143447205123606,-0.257933073781562,-0.3572661675178952,0.20190338856217502,0.9320991029283576,-0.2191998538030043,2.0719083446892474,-2.8485964024490373,0.014927423043469038,-0.5154646455689982,0.4382000391317424,-0.4219851166708127,-0.6598109185667879,-0.5266671295882587,2.222491682052409,-0.5267075167322591,-1.9881988811905362,1.8201702033224445,2.175163917116367,-1.2906075345231638,-2.3006061256171084,0.3066738920361006,0.8559774613699227,0.6688883975257423,-0.6823697222688537,-1.243973226793776,0.7583084242632002,-1.2414551237252491,2.3820652209218296,0.9243572868285478,1.0052558535898974,-0.2961920718199432,0.5608432569750889,-2.357222093876263,1.817388783384015,-0.7744521478969061,1.0763933510113877,-1.2561328071536118,-0.638686345881965,0.4865256193015979,-2.456392803221965,-0.6518818470075926,0.6257325664820154,1.7694428509391302,-0.43793671439613535,0.29422842599998283,-1.1336705708733945,-0.02435874048759034,-0.9603568369902041,1.1487228327794106,-0.7861995441361292,-0.8447379256723088,1.1371711411743168,-0.19395465149512472,1.526465804209432,0.40676357821989756,0.5287900098042159,0.6608365859778821,-0.744901530184483,-0.9566989059482564,-1.3051061700884141,-0.7095434773568681,-0.14194679507734942,1.0204705452747858,-0.47132490477492744,-0.5095810769276805,-0.13974241072861765,1.889069821123595,-0.6154788796132468,1.3842997701151845,-0.153335675502912,-0.18154950908872736,-0.3369429086014936,-0.9140504632574861,-0.18505754850539075,-0.318009985650538,-1.7416551710462669,0.49525622789157114,-0.9959438615052109,1.1649297931196383,0.18734503740419692,1.6901446812195635,-0.6235055022821053,1.9786160133931159,-1.9407740026576976,0.42998530248150685,-1.9364366519135416],\"yaxis\":\"y9\",\"type\":\"scatter\"},{\"line\":{\"color\":\"rgba(128, 128, 128, 1.0)\",\"dash\":\"solid\",\"shape\":\"linear\",\"width\":1.3},\"marker\":{\"size\":2,\"symbol\":\"circle\"},\"mode\":\"markers\",\"name\":\"C\",\"text\":\"\",\"x\":[-0.3672400660188171,1.1723030793263862,0.4229211143763501,-1.5356190599328485,0.29258044314440335,-2.077842158921335,0.28512491387525263,-0.37926165771701653,0.29908568497608157,0.9443018696549622,-1.5967889033942413,-1.3887672722735456,-0.6641416375654052,-0.0639470087730585,-0.46663721396131613,-0.6295335086197471,0.5897981776073271,-1.7655390053108517,-0.060237541740192926,1.4702381311634727,-0.579730434241401,-0.6002929782656196,1.9181218447873463,-0.07074094133169188,0.1554365837641563,0.7018919084379145,-0.6418528714390223,-0.07787505719096816,0.8561862739788918,-0.04757433442450353,0.937486539183576,1.7446059049126703,-0.5779297950685147,-2.6904740459574996,-0.3263343249047711,0.5155591540762269,0.3498287948955922,0.28221116405487856,-0.766191809161088,-0.5213477645381658,0.708880192738116,2.0539874746295013,-1.2473316263033876,0.9476199776636521,0.8296837728135735,0.2582333472604082,-0.7780087626419847,-0.2812605671675329,1.7583789451772844,0.5612996509403224,0.014262775164241561,-0.023906427686685182,-1.6391439824939231,1.170887485480817,0.5950341792071205,-0.6608344171032432,0.6288046045099865,0.3841721295386118,1.5401405371003682,-1.8171836596773712,-0.7777492347930118,0.8959467876452509,-0.39984688974564636,-1.146909822561759,2.24056639133713,-0.5676541986251326,-0.4629548656750362,1.3889964902978318,-1.2245992643146717,-0.10367449206740265,0.9059640174215866,0.6786534543107289,-0.5540066332650183,-0.12598739875013132,1.3483800477887116,1.2078134648275922,0.35034451020220486,0.40338079190074544,0.06883393428501268,-1.253355144433232,-1.0346073711363797,-1.572317268003851,0.8314858329161572,0.24454223001424086,-0.6227120484695982,-0.3559554015358584,0.2143436464681599,0.9637507906816873,3.303530045792439,-1.5897202496106333,-0.6320262369164329,-0.07242936475366742,-0.9198386634299148,-0.5504794102299363,-1.7324629922232109,-0.946431143453696,0.4470946952370082,-1.0733428737514066,0.7032246421977343,-1.4584740632012463],\"xaxis\":\"x10\",\"y\":[0.040951349719290576,0.9163731498508584,0.2473149246675704,0.6355789757395596,2.0561229303330215,-0.8426823150555216,0.551260330683669,0.03323504120915285,-1.2432396486650872,-0.6618349008001423,0.5217832084147521,1.5288418411500666,-2.4120830093812837,2.8143447205123606,-0.257933073781562,-0.3572661675178952,0.20190338856217502,0.9320991029283576,-0.2191998538030043,2.0719083446892474,-2.8485964024490373,0.014927423043469038,-0.5154646455689982,0.4382000391317424,-0.4219851166708127,-0.6598109185667879,-0.5266671295882587,2.222491682052409,-0.5267075167322591,-1.9881988811905362,1.8201702033224445,2.175163917116367,-1.2906075345231638,-2.3006061256171084,0.3066738920361006,0.8559774613699227,0.6688883975257423,-0.6823697222688537,-1.243973226793776,0.7583084242632002,-1.2414551237252491,2.3820652209218296,0.9243572868285478,1.0052558535898974,-0.2961920718199432,0.5608432569750889,-2.357222093876263,1.817388783384015,-0.7744521478969061,1.0763933510113877,-1.2561328071536118,-0.638686345881965,0.4865256193015979,-2.456392803221965,-0.6518818470075926,0.6257325664820154,1.7694428509391302,-0.43793671439613535,0.29422842599998283,-1.1336705708733945,-0.02435874048759034,-0.9603568369902041,1.1487228327794106,-0.7861995441361292,-0.8447379256723088,1.1371711411743168,-0.19395465149512472,1.526465804209432,0.40676357821989756,0.5287900098042159,0.6608365859778821,-0.744901530184483,-0.9566989059482564,-1.3051061700884141,-0.7095434773568681,-0.14194679507734942,1.0204705452747858,-0.47132490477492744,-0.5095810769276805,-0.13974241072861765,1.889069821123595,-0.6154788796132468,1.3842997701151845,-0.153335675502912,-0.18154950908872736,-0.3369429086014936,-0.9140504632574861,-0.18505754850539075,-0.318009985650538,-1.7416551710462669,0.49525622789157114,-0.9959438615052109,1.1649297931196383,0.18734503740419692,1.6901446812195635,-0.6235055022821053,1.9786160133931159,-1.9407740026576976,0.42998530248150685,-1.9364366519135416],\"yaxis\":\"y10\",\"type\":\"scatter\"},{\"histfunc\":\"count\",\"histnorm\":\"\",\"marker\":{\"color\":\"rgba(50, 171, 96, 1.0)\",\"line\":{\"color\":\"#4D5663\",\"width\":1.3}},\"name\":\"C\",\"nbinsx\":10,\"opacity\":0.8,\"orientation\":\"v\",\"x\":[0.040951349719290576,0.9163731498508584,0.2473149246675704,0.6355789757395596,2.0561229303330215,-0.8426823150555216,0.551260330683669,0.03323504120915285,-1.2432396486650872,-0.6618349008001423,0.5217832084147521,1.5288418411500666,-2.4120830093812837,2.8143447205123606,-0.257933073781562,-0.3572661675178952,0.20190338856217502,0.9320991029283576,-0.2191998538030043,2.0719083446892474,-2.8485964024490373,0.014927423043469038,-0.5154646455689982,0.4382000391317424,-0.4219851166708127,-0.6598109185667879,-0.5266671295882587,2.222491682052409,-0.5267075167322591,-1.9881988811905362,1.8201702033224445,2.175163917116367,-1.2906075345231638,-2.3006061256171084,0.3066738920361006,0.8559774613699227,0.6688883975257423,-0.6823697222688537,-1.243973226793776,0.7583084242632002,-1.2414551237252491,2.3820652209218296,0.9243572868285478,1.0052558535898974,-0.2961920718199432,0.5608432569750889,-2.357222093876263,1.817388783384015,-0.7744521478969061,1.0763933510113877,-1.2561328071536118,-0.638686345881965,0.4865256193015979,-2.456392803221965,-0.6518818470075926,0.6257325664820154,1.7694428509391302,-0.43793671439613535,0.29422842599998283,-1.1336705708733945,-0.02435874048759034,-0.9603568369902041,1.1487228327794106,-0.7861995441361292,-0.8447379256723088,1.1371711411743168,-0.19395465149512472,1.526465804209432,0.40676357821989756,0.5287900098042159,0.6608365859778821,-0.744901530184483,-0.9566989059482564,-1.3051061700884141,-0.7095434773568681,-0.14194679507734942,1.0204705452747858,-0.47132490477492744,-0.5095810769276805,-0.13974241072861765,1.889069821123595,-0.6154788796132468,1.3842997701151845,-0.153335675502912,-0.18154950908872736,-0.3369429086014936,-0.9140504632574861,-0.18505754850539075,-0.318009985650538,-1.7416551710462669,0.49525622789157114,-0.9959438615052109,1.1649297931196383,0.18734503740419692,1.6901446812195635,-0.6235055022821053,1.9786160133931159,-1.9407740026576976,0.42998530248150685,-1.9364366519135416],\"xaxis\":\"x11\",\"yaxis\":\"y11\",\"type\":\"histogram\"},{\"line\":{\"color\":\"rgba(128, 128, 128, 1.0)\",\"dash\":\"solid\",\"shape\":\"linear\",\"width\":1.3},\"marker\":{\"size\":2,\"symbol\":\"circle\"},\"mode\":\"markers\",\"name\":\"C\",\"text\":\"\",\"x\":[-1.3375111200422654,0.08108573619786534,-0.4603419445564614,1.6087850830260433,-1.1358219279044866,-1.3402739069075462,-0.8883954210116366,-2.333576558962384,2.256222344488282,-1.518276134540346,-0.5493494918608621,1.0888175415569215,-1.1555295255722635,-0.5663726095451217,0.8195642561425789,-0.6555111443554326,1.5823033687248254,0.448344094281049,-1.534848204837367,-0.7738955545996372,-1.2526498083817412,0.6069527188929812,0.24313875205510352,0.9113343981619622,1.0897636277906508,-0.23886310103044037,-0.36243249262063915,0.8054873468624355,-0.8311895423156016,0.36411268083828713,0.15287411039096088,0.30253942960984925,1.0902893872100399,-0.7108338092133447,2.0768094028590327,0.051691069444641746,-0.10991256892414793,0.7959080246152197,0.4057141102482014,-0.7086479402378677,-1.5163725358414726,-0.4387446795954376,0.10599681909410427,1.2581067321286046,-0.23448306331222418,-0.43196872710173995,-0.13422166623444162,-0.916134253624078,-0.28070162474793886,0.9520456681139606,-0.2839508570594622,-1.605523474096741,-1.0863518252056914,0.025308097274283906,0.06448363327448572,-0.761557429698844,0.10329503270324489,0.4122547806086187,-1.199652516293543,0.8959886138160285,-0.4977888239267104,0.01348762881186117,0.48002483050913747,1.7292547102720466,0.3652142333994519,1.5914138134642886,-0.05457538970538982,0.7492853215006533,1.7142499472823864,-0.9850415204347099,0.6388438927953487,0.4138487334186722,-0.8905539048608643,-1.0279145122359281,0.9414427655613998,0.25918463510371625,-0.19729832180784007,-0.390909039372285,-0.7835258859704143,-1.4253341321155104,0.04927046360645166,0.2651329981190324,1.6619499989545055,0.4802126318651488,2.5923259691026233,-0.42748881665069555,0.290167317223398,0.5103695762182319,1.2582990267796612,1.3556684561143955,-1.2007802646175456,0.3295112813582968,0.555959784639183,-0.11942895049017666,-0.16790176725326109,1.5091104754329279,-1.2444322169182427,0.8543033955585018,0.3555174210748361,0.4288090890373574],\"xaxis\":\"x12\",\"y\":[0.040951349719290576,0.9163731498508584,0.2473149246675704,0.6355789757395596,2.0561229303330215,-0.8426823150555216,0.551260330683669,0.03323504120915285,-1.2432396486650872,-0.6618349008001423,0.5217832084147521,1.5288418411500666,-2.4120830093812837,2.8143447205123606,-0.257933073781562,-0.3572661675178952,0.20190338856217502,0.9320991029283576,-0.2191998538030043,2.0719083446892474,-2.8485964024490373,0.014927423043469038,-0.5154646455689982,0.4382000391317424,-0.4219851166708127,-0.6598109185667879,-0.5266671295882587,2.222491682052409,-0.5267075167322591,-1.9881988811905362,1.8201702033224445,2.175163917116367,-1.2906075345231638,-2.3006061256171084,0.3066738920361006,0.8559774613699227,0.6688883975257423,-0.6823697222688537,-1.243973226793776,0.7583084242632002,-1.2414551237252491,2.3820652209218296,0.9243572868285478,1.0052558535898974,-0.2961920718199432,0.5608432569750889,-2.357222093876263,1.817388783384015,-0.7744521478969061,1.0763933510113877,-1.2561328071536118,-0.638686345881965,0.4865256193015979,-2.456392803221965,-0.6518818470075926,0.6257325664820154,1.7694428509391302,-0.43793671439613535,0.29422842599998283,-1.1336705708733945,-0.02435874048759034,-0.9603568369902041,1.1487228327794106,-0.7861995441361292,-0.8447379256723088,1.1371711411743168,-0.19395465149512472,1.526465804209432,0.40676357821989756,0.5287900098042159,0.6608365859778821,-0.744901530184483,-0.9566989059482564,-1.3051061700884141,-0.7095434773568681,-0.14194679507734942,1.0204705452747858,-0.47132490477492744,-0.5095810769276805,-0.13974241072861765,1.889069821123595,-0.6154788796132468,1.3842997701151845,-0.153335675502912,-0.18154950908872736,-0.3369429086014936,-0.9140504632574861,-0.18505754850539075,-0.318009985650538,-1.7416551710462669,0.49525622789157114,-0.9959438615052109,1.1649297931196383,0.18734503740419692,1.6901446812195635,-0.6235055022821053,1.9786160133931159,-1.9407740026576976,0.42998530248150685,-1.9364366519135416],\"yaxis\":\"y12\",\"type\":\"scatter\"},{\"line\":{\"color\":\"rgba(128, 128, 128, 1.0)\",\"dash\":\"solid\",\"shape\":\"linear\",\"width\":1.3},\"marker\":{\"size\":2,\"symbol\":\"circle\"},\"mode\":\"markers\",\"name\":\"D\",\"text\":\"\",\"x\":[0.3521248991125683,0.374378549462778,-0.8681275486234619,-1.527571333758755,-1.3900068126518048,-0.4114054920269361,0.15520020133584866,0.7384591641252498,-0.09712690742829033,-0.26819560829719846,1.1338755445610074,-1.4874831675677571,0.7051312012337357,-1.2024530037012553,-0.29809729403226287,0.23420816692031013,-1.1907221135276438,-0.19985732553043734,-0.6100052380320969,0.9797152589484669,0.5532180003133247,-1.2390461467516192,1.4175055278440405,-0.7828444487559498,1.2938009572926183,-0.8046173586032122,-0.9341045740226017,-2.1172419964169795,-0.015246331294103573,-0.4317235418042056,-0.490255626621109,-0.10495849562550795,0.4895473879909302,0.9230452012023029,-0.9019954565808412,-1.311884135102693,2.1622266360844407,-0.9981760527494739,-1.1669136579693293,-0.3878438473642099,-1.4062878330424886,0.9025854927347297,1.0662128436949465,1.2952217490953246,0.26758105507076246,-0.23889838423038862,-0.43765284660587417,-0.15293874988146516,0.8457208972983651,-0.12651619208777903,-0.12830107703185067,0.1905151734851748,-0.41358010360527675,-0.044092658442423424,1.40019571716128,-0.48424606902779,1.3956807833235683,0.2687615836341957,1.5571707452070334,-0.6360986721910912,0.626440960714626,-1.5397412105578578,-0.8981119577862499,1.0610658409579183,0.8903605943553875,0.17073795280636891,0.4268772526295468,-0.22528647908761543,1.2451042431352326,0.16225753274666233,-0.8591418566134634,-0.9830915946369014,0.7391052150205726,-0.22235452886232096,0.36892299213007546,-0.41247121129127323,-1.134272171255948,0.4167587262034833,-0.07488677434197762,0.3863115228816906,-1.4541697028834588,-0.3416988673071571,-0.8558369938099291,0.7881715368230318,0.24315956283911963,-0.4890587435401381,-1.0192033454977736,0.8480397711023916,0.7591556284639237,-1.8384101909642117,0.07412638124788648,0.42968941865360294,0.6402117041777811,0.9430575520543083,0.6506280986774639,0.21082036382305874,0.36483477797329544,-1.055874549469489,-0.7137286648445479,0.9370985982210176],\"xaxis\":\"x13\",\"y\":[-1.3375111200422654,0.08108573619786534,-0.4603419445564614,1.6087850830260433,-1.1358219279044866,-1.3402739069075462,-0.8883954210116366,-2.333576558962384,2.256222344488282,-1.518276134540346,-0.5493494918608621,1.0888175415569215,-1.1555295255722635,-0.5663726095451217,0.8195642561425789,-0.6555111443554326,1.5823033687248254,0.448344094281049,-1.534848204837367,-0.7738955545996372,-1.2526498083817412,0.6069527188929812,0.24313875205510352,0.9113343981619622,1.0897636277906508,-0.23886310103044037,-0.36243249262063915,0.8054873468624355,-0.8311895423156016,0.36411268083828713,0.15287411039096088,0.30253942960984925,1.0902893872100399,-0.7108338092133447,2.0768094028590327,0.051691069444641746,-0.10991256892414793,0.7959080246152197,0.4057141102482014,-0.7086479402378677,-1.5163725358414726,-0.4387446795954376,0.10599681909410427,1.2581067321286046,-0.23448306331222418,-0.43196872710173995,-0.13422166623444162,-0.916134253624078,-0.28070162474793886,0.9520456681139606,-0.2839508570594622,-1.605523474096741,-1.0863518252056914,0.025308097274283906,0.06448363327448572,-0.761557429698844,0.10329503270324489,0.4122547806086187,-1.199652516293543,0.8959886138160285,-0.4977888239267104,0.01348762881186117,0.48002483050913747,1.7292547102720466,0.3652142333994519,1.5914138134642886,-0.05457538970538982,0.7492853215006533,1.7142499472823864,-0.9850415204347099,0.6388438927953487,0.4138487334186722,-0.8905539048608643,-1.0279145122359281,0.9414427655613998,0.25918463510371625,-0.19729832180784007,-0.390909039372285,-0.7835258859704143,-1.4253341321155104,0.04927046360645166,0.2651329981190324,1.6619499989545055,0.4802126318651488,2.5923259691026233,-0.42748881665069555,0.290167317223398,0.5103695762182319,1.2582990267796612,1.3556684561143955,-1.2007802646175456,0.3295112813582968,0.555959784639183,-0.11942895049017666,-0.16790176725326109,1.5091104754329279,-1.2444322169182427,0.8543033955585018,0.3555174210748361,0.4288090890373574],\"yaxis\":\"y13\",\"type\":\"scatter\"},{\"line\":{\"color\":\"rgba(128, 128, 128, 1.0)\",\"dash\":\"solid\",\"shape\":\"linear\",\"width\":1.3},\"marker\":{\"size\":2,\"symbol\":\"circle\"},\"mode\":\"markers\",\"name\":\"D\",\"text\":\"\",\"x\":[-0.3672400660188171,1.1723030793263862,0.4229211143763501,-1.5356190599328485,0.29258044314440335,-2.077842158921335,0.28512491387525263,-0.37926165771701653,0.29908568497608157,0.9443018696549622,-1.5967889033942413,-1.3887672722735456,-0.6641416375654052,-0.0639470087730585,-0.46663721396131613,-0.6295335086197471,0.5897981776073271,-1.7655390053108517,-0.060237541740192926,1.4702381311634727,-0.579730434241401,-0.6002929782656196,1.9181218447873463,-0.07074094133169188,0.1554365837641563,0.7018919084379145,-0.6418528714390223,-0.07787505719096816,0.8561862739788918,-0.04757433442450353,0.937486539183576,1.7446059049126703,-0.5779297950685147,-2.6904740459574996,-0.3263343249047711,0.5155591540762269,0.3498287948955922,0.28221116405487856,-0.766191809161088,-0.5213477645381658,0.708880192738116,2.0539874746295013,-1.2473316263033876,0.9476199776636521,0.8296837728135735,0.2582333472604082,-0.7780087626419847,-0.2812605671675329,1.7583789451772844,0.5612996509403224,0.014262775164241561,-0.023906427686685182,-1.6391439824939231,1.170887485480817,0.5950341792071205,-0.6608344171032432,0.6288046045099865,0.3841721295386118,1.5401405371003682,-1.8171836596773712,-0.7777492347930118,0.8959467876452509,-0.39984688974564636,-1.146909822561759,2.24056639133713,-0.5676541986251326,-0.4629548656750362,1.3889964902978318,-1.2245992643146717,-0.10367449206740265,0.9059640174215866,0.6786534543107289,-0.5540066332650183,-0.12598739875013132,1.3483800477887116,1.2078134648275922,0.35034451020220486,0.40338079190074544,0.06883393428501268,-1.253355144433232,-1.0346073711363797,-1.572317268003851,0.8314858329161572,0.24454223001424086,-0.6227120484695982,-0.3559554015358584,0.2143436464681599,0.9637507906816873,3.303530045792439,-1.5897202496106333,-0.6320262369164329,-0.07242936475366742,-0.9198386634299148,-0.5504794102299363,-1.7324629922232109,-0.946431143453696,0.4470946952370082,-1.0733428737514066,0.7032246421977343,-1.4584740632012463],\"xaxis\":\"x14\",\"y\":[-1.3375111200422654,0.08108573619786534,-0.4603419445564614,1.6087850830260433,-1.1358219279044866,-1.3402739069075462,-0.8883954210116366,-2.333576558962384,2.256222344488282,-1.518276134540346,-0.5493494918608621,1.0888175415569215,-1.1555295255722635,-0.5663726095451217,0.8195642561425789,-0.6555111443554326,1.5823033687248254,0.448344094281049,-1.534848204837367,-0.7738955545996372,-1.2526498083817412,0.6069527188929812,0.24313875205510352,0.9113343981619622,1.0897636277906508,-0.23886310103044037,-0.36243249262063915,0.8054873468624355,-0.8311895423156016,0.36411268083828713,0.15287411039096088,0.30253942960984925,1.0902893872100399,-0.7108338092133447,2.0768094028590327,0.051691069444641746,-0.10991256892414793,0.7959080246152197,0.4057141102482014,-0.7086479402378677,-1.5163725358414726,-0.4387446795954376,0.10599681909410427,1.2581067321286046,-0.23448306331222418,-0.43196872710173995,-0.13422166623444162,-0.916134253624078,-0.28070162474793886,0.9520456681139606,-0.2839508570594622,-1.605523474096741,-1.0863518252056914,0.025308097274283906,0.06448363327448572,-0.761557429698844,0.10329503270324489,0.4122547806086187,-1.199652516293543,0.8959886138160285,-0.4977888239267104,0.01348762881186117,0.48002483050913747,1.7292547102720466,0.3652142333994519,1.5914138134642886,-0.05457538970538982,0.7492853215006533,1.7142499472823864,-0.9850415204347099,0.6388438927953487,0.4138487334186722,-0.8905539048608643,-1.0279145122359281,0.9414427655613998,0.25918463510371625,-0.19729832180784007,-0.390909039372285,-0.7835258859704143,-1.4253341321155104,0.04927046360645166,0.2651329981190324,1.6619499989545055,0.4802126318651488,2.5923259691026233,-0.42748881665069555,0.290167317223398,0.5103695762182319,1.2582990267796612,1.3556684561143955,-1.2007802646175456,0.3295112813582968,0.555959784639183,-0.11942895049017666,-0.16790176725326109,1.5091104754329279,-1.2444322169182427,0.8543033955585018,0.3555174210748361,0.4288090890373574],\"yaxis\":\"y14\",\"type\":\"scatter\"},{\"line\":{\"color\":\"rgba(128, 128, 128, 1.0)\",\"dash\":\"solid\",\"shape\":\"linear\",\"width\":1.3},\"marker\":{\"size\":2,\"symbol\":\"circle\"},\"mode\":\"markers\",\"name\":\"D\",\"text\":\"\",\"x\":[0.040951349719290576,0.9163731498508584,0.2473149246675704,0.6355789757395596,2.0561229303330215,-0.8426823150555216,0.551260330683669,0.03323504120915285,-1.2432396486650872,-0.6618349008001423,0.5217832084147521,1.5288418411500666,-2.4120830093812837,2.8143447205123606,-0.257933073781562,-0.3572661675178952,0.20190338856217502,0.9320991029283576,-0.2191998538030043,2.0719083446892474,-2.8485964024490373,0.014927423043469038,-0.5154646455689982,0.4382000391317424,-0.4219851166708127,-0.6598109185667879,-0.5266671295882587,2.222491682052409,-0.5267075167322591,-1.9881988811905362,1.8201702033224445,2.175163917116367,-1.2906075345231638,-2.3006061256171084,0.3066738920361006,0.8559774613699227,0.6688883975257423,-0.6823697222688537,-1.243973226793776,0.7583084242632002,-1.2414551237252491,2.3820652209218296,0.9243572868285478,1.0052558535898974,-0.2961920718199432,0.5608432569750889,-2.357222093876263,1.817388783384015,-0.7744521478969061,1.0763933510113877,-1.2561328071536118,-0.638686345881965,0.4865256193015979,-2.456392803221965,-0.6518818470075926,0.6257325664820154,1.7694428509391302,-0.43793671439613535,0.29422842599998283,-1.1336705708733945,-0.02435874048759034,-0.9603568369902041,1.1487228327794106,-0.7861995441361292,-0.8447379256723088,1.1371711411743168,-0.19395465149512472,1.526465804209432,0.40676357821989756,0.5287900098042159,0.6608365859778821,-0.744901530184483,-0.9566989059482564,-1.3051061700884141,-0.7095434773568681,-0.14194679507734942,1.0204705452747858,-0.47132490477492744,-0.5095810769276805,-0.13974241072861765,1.889069821123595,-0.6154788796132468,1.3842997701151845,-0.153335675502912,-0.18154950908872736,-0.3369429086014936,-0.9140504632574861,-0.18505754850539075,-0.318009985650538,-1.7416551710462669,0.49525622789157114,-0.9959438615052109,1.1649297931196383,0.18734503740419692,1.6901446812195635,-0.6235055022821053,1.9786160133931159,-1.9407740026576976,0.42998530248150685,-1.9364366519135416],\"xaxis\":\"x15\",\"y\":[-1.3375111200422654,0.08108573619786534,-0.4603419445564614,1.6087850830260433,-1.1358219279044866,-1.3402739069075462,-0.8883954210116366,-2.333576558962384,2.256222344488282,-1.518276134540346,-0.5493494918608621,1.0888175415569215,-1.1555295255722635,-0.5663726095451217,0.8195642561425789,-0.6555111443554326,1.5823033687248254,0.448344094281049,-1.534848204837367,-0.7738955545996372,-1.2526498083817412,0.6069527188929812,0.24313875205510352,0.9113343981619622,1.0897636277906508,-0.23886310103044037,-0.36243249262063915,0.8054873468624355,-0.8311895423156016,0.36411268083828713,0.15287411039096088,0.30253942960984925,1.0902893872100399,-0.7108338092133447,2.0768094028590327,0.051691069444641746,-0.10991256892414793,0.7959080246152197,0.4057141102482014,-0.7086479402378677,-1.5163725358414726,-0.4387446795954376,0.10599681909410427,1.2581067321286046,-0.23448306331222418,-0.43196872710173995,-0.13422166623444162,-0.916134253624078,-0.28070162474793886,0.9520456681139606,-0.2839508570594622,-1.605523474096741,-1.0863518252056914,0.025308097274283906,0.06448363327448572,-0.761557429698844,0.10329503270324489,0.4122547806086187,-1.199652516293543,0.8959886138160285,-0.4977888239267104,0.01348762881186117,0.48002483050913747,1.7292547102720466,0.3652142333994519,1.5914138134642886,-0.05457538970538982,0.7492853215006533,1.7142499472823864,-0.9850415204347099,0.6388438927953487,0.4138487334186722,-0.8905539048608643,-1.0279145122359281,0.9414427655613998,0.25918463510371625,-0.19729832180784007,-0.390909039372285,-0.7835258859704143,-1.4253341321155104,0.04927046360645166,0.2651329981190324,1.6619499989545055,0.4802126318651488,2.5923259691026233,-0.42748881665069555,0.290167317223398,0.5103695762182319,1.2582990267796612,1.3556684561143955,-1.2007802646175456,0.3295112813582968,0.555959784639183,-0.11942895049017666,-0.16790176725326109,1.5091104754329279,-1.2444322169182427,0.8543033955585018,0.3555174210748361,0.4288090890373574],\"yaxis\":\"y15\",\"type\":\"scatter\"},{\"histfunc\":\"count\",\"histnorm\":\"\",\"marker\":{\"color\":\"rgba(128, 0, 128, 1.0)\",\"line\":{\"color\":\"#4D5663\",\"width\":1.3}},\"name\":\"D\",\"nbinsx\":10,\"opacity\":0.8,\"orientation\":\"v\",\"x\":[-1.3375111200422654,0.08108573619786534,-0.4603419445564614,1.6087850830260433,-1.1358219279044866,-1.3402739069075462,-0.8883954210116366,-2.333576558962384,2.256222344488282,-1.518276134540346,-0.5493494918608621,1.0888175415569215,-1.1555295255722635,-0.5663726095451217,0.8195642561425789,-0.6555111443554326,1.5823033687248254,0.448344094281049,-1.534848204837367,-0.7738955545996372,-1.2526498083817412,0.6069527188929812,0.24313875205510352,0.9113343981619622,1.0897636277906508,-0.23886310103044037,-0.36243249262063915,0.8054873468624355,-0.8311895423156016,0.36411268083828713,0.15287411039096088,0.30253942960984925,1.0902893872100399,-0.7108338092133447,2.0768094028590327,0.051691069444641746,-0.10991256892414793,0.7959080246152197,0.4057141102482014,-0.7086479402378677,-1.5163725358414726,-0.4387446795954376,0.10599681909410427,1.2581067321286046,-0.23448306331222418,-0.43196872710173995,-0.13422166623444162,-0.916134253624078,-0.28070162474793886,0.9520456681139606,-0.2839508570594622,-1.605523474096741,-1.0863518252056914,0.025308097274283906,0.06448363327448572,-0.761557429698844,0.10329503270324489,0.4122547806086187,-1.199652516293543,0.8959886138160285,-0.4977888239267104,0.01348762881186117,0.48002483050913747,1.7292547102720466,0.3652142333994519,1.5914138134642886,-0.05457538970538982,0.7492853215006533,1.7142499472823864,-0.9850415204347099,0.6388438927953487,0.4138487334186722,-0.8905539048608643,-1.0279145122359281,0.9414427655613998,0.25918463510371625,-0.19729832180784007,-0.390909039372285,-0.7835258859704143,-1.4253341321155104,0.04927046360645166,0.2651329981190324,1.6619499989545055,0.4802126318651488,2.5923259691026233,-0.42748881665069555,0.290167317223398,0.5103695762182319,1.2582990267796612,1.3556684561143955,-1.2007802646175456,0.3295112813582968,0.555959784639183,-0.11942895049017666,-0.16790176725326109,1.5091104754329279,-1.2444322169182427,0.8543033955585018,0.3555174210748361,0.4288090890373574],\"xaxis\":\"x16\",\"yaxis\":\"y16\",\"type\":\"histogram\"}],                        {\"bargap\":0.02,\"legend\":{\"bgcolor\":\"#F5F6F9\",\"font\":{\"color\":\"#4D5663\"}},\"paper_bgcolor\":\"#F5F6F9\",\"plot_bgcolor\":\"#F5F6F9\",\"showlegend\":false,\"template\":{\"data\":{\"barpolar\":[{\"marker\":{\"line\":{\"color\":\"#E5ECF6\",\"width\":0.5},\"pattern\":{\"fillmode\":\"overlay\",\"size\":10,\"solidity\":0.2}},\"type\":\"barpolar\"}],\"bar\":[{\"error_x\":{\"color\":\"#2a3f5f\"},\"error_y\":{\"color\":\"#2a3f5f\"},\"marker\":{\"line\":{\"color\":\"#E5ECF6\",\"width\":0.5},\"pattern\":{\"fillmode\":\"overlay\",\"size\":10,\"solidity\":0.2}},\"type\":\"bar\"}],\"carpet\":[{\"aaxis\":{\"endlinecolor\":\"#2a3f5f\",\"gridcolor\":\"white\",\"linecolor\":\"white\",\"minorgridcolor\":\"white\",\"startlinecolor\":\"#2a3f5f\"},\"baxis\":{\"endlinecolor\":\"#2a3f5f\",\"gridcolor\":\"white\",\"linecolor\":\"white\",\"minorgridcolor\":\"white\",\"startlinecolor\":\"#2a3f5f\"},\"type\":\"carpet\"}],\"choropleth\":[{\"colorbar\":{\"outlinewidth\":0,\"ticks\":\"\"},\"type\":\"choropleth\"}],\"contourcarpet\":[{\"colorbar\":{\"outlinewidth\":0,\"ticks\":\"\"},\"type\":\"contourcarpet\"}],\"contour\":[{\"colorbar\":{\"outlinewidth\":0,\"ticks\":\"\"},\"colorscale\":[[0.0,\"#0d0887\"],[0.1111111111111111,\"#46039f\"],[0.2222222222222222,\"#7201a8\"],[0.3333333333333333,\"#9c179e\"],[0.4444444444444444,\"#bd3786\"],[0.5555555555555556,\"#d8576b\"],[0.6666666666666666,\"#ed7953\"],[0.7777777777777778,\"#fb9f3a\"],[0.8888888888888888,\"#fdca26\"],[1.0,\"#f0f921\"]],\"type\":\"contour\"}],\"heatmapgl\":[{\"colorbar\":{\"outlinewidth\":0,\"ticks\":\"\"},\"colorscale\":[[0.0,\"#0d0887\"],[0.1111111111111111,\"#46039f\"],[0.2222222222222222,\"#7201a8\"],[0.3333333333333333,\"#9c179e\"],[0.4444444444444444,\"#bd3786\"],[0.5555555555555556,\"#d8576b\"],[0.6666666666666666,\"#ed7953\"],[0.7777777777777778,\"#fb9f3a\"],[0.8888888888888888,\"#fdca26\"],[1.0,\"#f0f921\"]],\"type\":\"heatmapgl\"}],\"heatmap\":[{\"colorbar\":{\"outlinewidth\":0,\"ticks\":\"\"},\"colorscale\":[[0.0,\"#0d0887\"],[0.1111111111111111,\"#46039f\"],[0.2222222222222222,\"#7201a8\"],[0.3333333333333333,\"#9c179e\"],[0.4444444444444444,\"#bd3786\"],[0.5555555555555556,\"#d8576b\"],[0.6666666666666666,\"#ed7953\"],[0.7777777777777778,\"#fb9f3a\"],[0.8888888888888888,\"#fdca26\"],[1.0,\"#f0f921\"]],\"type\":\"heatmap\"}],\"histogram2dcontour\":[{\"colorbar\":{\"outlinewidth\":0,\"ticks\":\"\"},\"colorscale\":[[0.0,\"#0d0887\"],[0.1111111111111111,\"#46039f\"],[0.2222222222222222,\"#7201a8\"],[0.3333333333333333,\"#9c179e\"],[0.4444444444444444,\"#bd3786\"],[0.5555555555555556,\"#d8576b\"],[0.6666666666666666,\"#ed7953\"],[0.7777777777777778,\"#fb9f3a\"],[0.8888888888888888,\"#fdca26\"],[1.0,\"#f0f921\"]],\"type\":\"histogram2dcontour\"}],\"histogram2d\":[{\"colorbar\":{\"outlinewidth\":0,\"ticks\":\"\"},\"colorscale\":[[0.0,\"#0d0887\"],[0.1111111111111111,\"#46039f\"],[0.2222222222222222,\"#7201a8\"],[0.3333333333333333,\"#9c179e\"],[0.4444444444444444,\"#bd3786\"],[0.5555555555555556,\"#d8576b\"],[0.6666666666666666,\"#ed7953\"],[0.7777777777777778,\"#fb9f3a\"],[0.8888888888888888,\"#fdca26\"],[1.0,\"#f0f921\"]],\"type\":\"histogram2d\"}],\"histogram\":[{\"marker\":{\"pattern\":{\"fillmode\":\"overlay\",\"size\":10,\"solidity\":0.2}},\"type\":\"histogram\"}],\"mesh3d\":[{\"colorbar\":{\"outlinewidth\":0,\"ticks\":\"\"},\"type\":\"mesh3d\"}],\"parcoords\":[{\"line\":{\"colorbar\":{\"outlinewidth\":0,\"ticks\":\"\"}},\"type\":\"parcoords\"}],\"pie\":[{\"automargin\":true,\"type\":\"pie\"}],\"scatter3d\":[{\"line\":{\"colorbar\":{\"outlinewidth\":0,\"ticks\":\"\"}},\"marker\":{\"colorbar\":{\"outlinewidth\":0,\"ticks\":\"\"}},\"type\":\"scatter3d\"}],\"scattercarpet\":[{\"marker\":{\"colorbar\":{\"outlinewidth\":0,\"ticks\":\"\"}},\"type\":\"scattercarpet\"}],\"scattergeo\":[{\"marker\":{\"colorbar\":{\"outlinewidth\":0,\"ticks\":\"\"}},\"type\":\"scattergeo\"}],\"scattergl\":[{\"marker\":{\"colorbar\":{\"outlinewidth\":0,\"ticks\":\"\"}},\"type\":\"scattergl\"}],\"scattermapbox\":[{\"marker\":{\"colorbar\":{\"outlinewidth\":0,\"ticks\":\"\"}},\"type\":\"scattermapbox\"}],\"scatterpolargl\":[{\"marker\":{\"colorbar\":{\"outlinewidth\":0,\"ticks\":\"\"}},\"type\":\"scatterpolargl\"}],\"scatterpolar\":[{\"marker\":{\"colorbar\":{\"outlinewidth\":0,\"ticks\":\"\"}},\"type\":\"scatterpolar\"}],\"scatter\":[{\"fillpattern\":{\"fillmode\":\"overlay\",\"size\":10,\"solidity\":0.2},\"type\":\"scatter\"}],\"scatterternary\":[{\"marker\":{\"colorbar\":{\"outlinewidth\":0,\"ticks\":\"\"}},\"type\":\"scatterternary\"}],\"surface\":[{\"colorbar\":{\"outlinewidth\":0,\"ticks\":\"\"},\"colorscale\":[[0.0,\"#0d0887\"],[0.1111111111111111,\"#46039f\"],[0.2222222222222222,\"#7201a8\"],[0.3333333333333333,\"#9c179e\"],[0.4444444444444444,\"#bd3786\"],[0.5555555555555556,\"#d8576b\"],[0.6666666666666666,\"#ed7953\"],[0.7777777777777778,\"#fb9f3a\"],[0.8888888888888888,\"#fdca26\"],[1.0,\"#f0f921\"]],\"type\":\"surface\"}],\"table\":[{\"cells\":{\"fill\":{\"color\":\"#EBF0F8\"},\"line\":{\"color\":\"white\"}},\"header\":{\"fill\":{\"color\":\"#C8D4E3\"},\"line\":{\"color\":\"white\"}},\"type\":\"table\"}]},\"layout\":{\"annotationdefaults\":{\"arrowcolor\":\"#2a3f5f\",\"arrowhead\":0,\"arrowwidth\":1},\"autotypenumbers\":\"strict\",\"coloraxis\":{\"colorbar\":{\"outlinewidth\":0,\"ticks\":\"\"}},\"colorscale\":{\"diverging\":[[0,\"#8e0152\"],[0.1,\"#c51b7d\"],[0.2,\"#de77ae\"],[0.3,\"#f1b6da\"],[0.4,\"#fde0ef\"],[0.5,\"#f7f7f7\"],[0.6,\"#e6f5d0\"],[0.7,\"#b8e186\"],[0.8,\"#7fbc41\"],[0.9,\"#4d9221\"],[1,\"#276419\"]],\"sequential\":[[0.0,\"#0d0887\"],[0.1111111111111111,\"#46039f\"],[0.2222222222222222,\"#7201a8\"],[0.3333333333333333,\"#9c179e\"],[0.4444444444444444,\"#bd3786\"],[0.5555555555555556,\"#d8576b\"],[0.6666666666666666,\"#ed7953\"],[0.7777777777777778,\"#fb9f3a\"],[0.8888888888888888,\"#fdca26\"],[1.0,\"#f0f921\"]],\"sequentialminus\":[[0.0,\"#0d0887\"],[0.1111111111111111,\"#46039f\"],[0.2222222222222222,\"#7201a8\"],[0.3333333333333333,\"#9c179e\"],[0.4444444444444444,\"#bd3786\"],[0.5555555555555556,\"#d8576b\"],[0.6666666666666666,\"#ed7953\"],[0.7777777777777778,\"#fb9f3a\"],[0.8888888888888888,\"#fdca26\"],[1.0,\"#f0f921\"]]},\"colorway\":[\"#636efa\",\"#EF553B\",\"#00cc96\",\"#ab63fa\",\"#FFA15A\",\"#19d3f3\",\"#FF6692\",\"#B6E880\",\"#FF97FF\",\"#FECB52\"],\"font\":{\"color\":\"#2a3f5f\"},\"geo\":{\"bgcolor\":\"white\",\"lakecolor\":\"white\",\"landcolor\":\"#E5ECF6\",\"showlakes\":true,\"showland\":true,\"subunitcolor\":\"white\"},\"hoverlabel\":{\"align\":\"left\"},\"hovermode\":\"closest\",\"mapbox\":{\"style\":\"light\"},\"paper_bgcolor\":\"white\",\"plot_bgcolor\":\"#E5ECF6\",\"polar\":{\"angularaxis\":{\"gridcolor\":\"white\",\"linecolor\":\"white\",\"ticks\":\"\"},\"bgcolor\":\"#E5ECF6\",\"radialaxis\":{\"gridcolor\":\"white\",\"linecolor\":\"white\",\"ticks\":\"\"}},\"scene\":{\"xaxis\":{\"backgroundcolor\":\"#E5ECF6\",\"gridcolor\":\"white\",\"gridwidth\":2,\"linecolor\":\"white\",\"showbackground\":true,\"ticks\":\"\",\"zerolinecolor\":\"white\"},\"yaxis\":{\"backgroundcolor\":\"#E5ECF6\",\"gridcolor\":\"white\",\"gridwidth\":2,\"linecolor\":\"white\",\"showbackground\":true,\"ticks\":\"\",\"zerolinecolor\":\"white\"},\"zaxis\":{\"backgroundcolor\":\"#E5ECF6\",\"gridcolor\":\"white\",\"gridwidth\":2,\"linecolor\":\"white\",\"showbackground\":true,\"ticks\":\"\",\"zerolinecolor\":\"white\"}},\"shapedefaults\":{\"line\":{\"color\":\"#2a3f5f\"}},\"ternary\":{\"aaxis\":{\"gridcolor\":\"white\",\"linecolor\":\"white\",\"ticks\":\"\"},\"baxis\":{\"gridcolor\":\"white\",\"linecolor\":\"white\",\"ticks\":\"\"},\"bgcolor\":\"#E5ECF6\",\"caxis\":{\"gridcolor\":\"white\",\"linecolor\":\"white\",\"ticks\":\"\"}},\"title\":{\"x\":0.05},\"xaxis\":{\"automargin\":true,\"gridcolor\":\"white\",\"linecolor\":\"white\",\"ticks\":\"\",\"title\":{\"standoff\":15},\"zerolinecolor\":\"white\",\"zerolinewidth\":2},\"yaxis\":{\"automargin\":true,\"gridcolor\":\"white\",\"linecolor\":\"white\",\"ticks\":\"\",\"title\":{\"standoff\":15},\"zerolinecolor\":\"white\",\"zerolinewidth\":2}}},\"title\":{\"font\":{\"color\":\"#4D5663\"}},\"xaxis\":{\"anchor\":\"y\",\"domain\":[0.0,0.2125],\"gridcolor\":\"#E1E5ED\",\"showgrid\":false,\"tickfont\":{\"color\":\"#4D5663\"},\"title\":{\"font\":{\"color\":\"#4D5663\"},\"text\":\"\"},\"zerolinecolor\":\"#E1E5ED\"},\"yaxis\":{\"anchor\":\"x\",\"domain\":[0.8025,1.0],\"gridcolor\":\"#E1E5ED\",\"showgrid\":false,\"tickfont\":{\"color\":\"#4D5663\"},\"title\":{\"font\":{\"color\":\"#4D5663\"},\"text\":\"\"},\"zerolinecolor\":\"#E1E5ED\"},\"xaxis2\":{\"anchor\":\"y2\",\"domain\":[0.2625,0.475],\"gridcolor\":\"#E1E5ED\",\"showgrid\":false,\"tickfont\":{\"color\":\"#4D5663\"},\"title\":{\"font\":{\"color\":\"#4D5663\"},\"text\":\"\"},\"zerolinecolor\":\"#E1E5ED\"},\"yaxis2\":{\"anchor\":\"x2\",\"domain\":[0.8025,1.0],\"gridcolor\":\"#E1E5ED\",\"showgrid\":false,\"tickfont\":{\"color\":\"#4D5663\"},\"title\":{\"font\":{\"color\":\"#4D5663\"},\"text\":\"\"},\"zerolinecolor\":\"#E1E5ED\"},\"xaxis3\":{\"anchor\":\"y3\",\"domain\":[0.525,0.7375],\"gridcolor\":\"#E1E5ED\",\"showgrid\":false,\"tickfont\":{\"color\":\"#4D5663\"},\"title\":{\"font\":{\"color\":\"#4D5663\"},\"text\":\"\"},\"zerolinecolor\":\"#E1E5ED\"},\"yaxis3\":{\"anchor\":\"x3\",\"domain\":[0.8025,1.0],\"gridcolor\":\"#E1E5ED\",\"showgrid\":false,\"tickfont\":{\"color\":\"#4D5663\"},\"title\":{\"font\":{\"color\":\"#4D5663\"},\"text\":\"\"},\"zerolinecolor\":\"#E1E5ED\"},\"xaxis4\":{\"anchor\":\"y4\",\"domain\":[0.7875,1.0],\"gridcolor\":\"#E1E5ED\",\"showgrid\":false,\"tickfont\":{\"color\":\"#4D5663\"},\"title\":{\"font\":{\"color\":\"#4D5663\"},\"text\":\"\"},\"zerolinecolor\":\"#E1E5ED\"},\"yaxis4\":{\"anchor\":\"x4\",\"domain\":[0.8025,1.0],\"gridcolor\":\"#E1E5ED\",\"showgrid\":false,\"tickfont\":{\"color\":\"#4D5663\"},\"title\":{\"font\":{\"color\":\"#4D5663\"},\"text\":\"\"},\"zerolinecolor\":\"#E1E5ED\"},\"xaxis5\":{\"anchor\":\"y5\",\"domain\":[0.0,0.2125],\"gridcolor\":\"#E1E5ED\",\"showgrid\":false,\"tickfont\":{\"color\":\"#4D5663\"},\"title\":{\"font\":{\"color\":\"#4D5663\"},\"text\":\"\"},\"zerolinecolor\":\"#E1E5ED\"},\"yaxis5\":{\"anchor\":\"x5\",\"domain\":[0.535,0.7325],\"gridcolor\":\"#E1E5ED\",\"showgrid\":false,\"tickfont\":{\"color\":\"#4D5663\"},\"title\":{\"font\":{\"color\":\"#4D5663\"},\"text\":\"\"},\"zerolinecolor\":\"#E1E5ED\"},\"xaxis6\":{\"anchor\":\"y6\",\"domain\":[0.2625,0.475],\"gridcolor\":\"#E1E5ED\",\"showgrid\":false,\"tickfont\":{\"color\":\"#4D5663\"},\"title\":{\"font\":{\"color\":\"#4D5663\"},\"text\":\"\"},\"zerolinecolor\":\"#E1E5ED\"},\"yaxis6\":{\"anchor\":\"x6\",\"domain\":[0.535,0.7325],\"gridcolor\":\"#E1E5ED\",\"showgrid\":false,\"tickfont\":{\"color\":\"#4D5663\"},\"title\":{\"font\":{\"color\":\"#4D5663\"},\"text\":\"\"},\"zerolinecolor\":\"#E1E5ED\"},\"xaxis7\":{\"anchor\":\"y7\",\"domain\":[0.525,0.7375],\"gridcolor\":\"#E1E5ED\",\"showgrid\":false,\"tickfont\":{\"color\":\"#4D5663\"},\"title\":{\"font\":{\"color\":\"#4D5663\"},\"text\":\"\"},\"zerolinecolor\":\"#E1E5ED\"},\"yaxis7\":{\"anchor\":\"x7\",\"domain\":[0.535,0.7325],\"gridcolor\":\"#E1E5ED\",\"showgrid\":false,\"tickfont\":{\"color\":\"#4D5663\"},\"title\":{\"font\":{\"color\":\"#4D5663\"},\"text\":\"\"},\"zerolinecolor\":\"#E1E5ED\"},\"xaxis8\":{\"anchor\":\"y8\",\"domain\":[0.7875,1.0],\"gridcolor\":\"#E1E5ED\",\"showgrid\":false,\"tickfont\":{\"color\":\"#4D5663\"},\"title\":{\"font\":{\"color\":\"#4D5663\"},\"text\":\"\"},\"zerolinecolor\":\"#E1E5ED\"},\"yaxis8\":{\"anchor\":\"x8\",\"domain\":[0.535,0.7325],\"gridcolor\":\"#E1E5ED\",\"showgrid\":false,\"tickfont\":{\"color\":\"#4D5663\"},\"title\":{\"font\":{\"color\":\"#4D5663\"},\"text\":\"\"},\"zerolinecolor\":\"#E1E5ED\"},\"xaxis9\":{\"anchor\":\"y9\",\"domain\":[0.0,0.2125],\"gridcolor\":\"#E1E5ED\",\"showgrid\":false,\"tickfont\":{\"color\":\"#4D5663\"},\"title\":{\"font\":{\"color\":\"#4D5663\"},\"text\":\"\"},\"zerolinecolor\":\"#E1E5ED\"},\"yaxis9\":{\"anchor\":\"x9\",\"domain\":[0.2675,0.465],\"gridcolor\":\"#E1E5ED\",\"showgrid\":false,\"tickfont\":{\"color\":\"#4D5663\"},\"title\":{\"font\":{\"color\":\"#4D5663\"},\"text\":\"\"},\"zerolinecolor\":\"#E1E5ED\"},\"xaxis10\":{\"anchor\":\"y10\",\"domain\":[0.2625,0.475],\"gridcolor\":\"#E1E5ED\",\"showgrid\":false,\"tickfont\":{\"color\":\"#4D5663\"},\"title\":{\"font\":{\"color\":\"#4D5663\"},\"text\":\"\"},\"zerolinecolor\":\"#E1E5ED\"},\"yaxis10\":{\"anchor\":\"x10\",\"domain\":[0.2675,0.465],\"gridcolor\":\"#E1E5ED\",\"showgrid\":false,\"tickfont\":{\"color\":\"#4D5663\"},\"title\":{\"font\":{\"color\":\"#4D5663\"},\"text\":\"\"},\"zerolinecolor\":\"#E1E5ED\"},\"xaxis11\":{\"anchor\":\"y11\",\"domain\":[0.525,0.7375],\"gridcolor\":\"#E1E5ED\",\"showgrid\":false,\"tickfont\":{\"color\":\"#4D5663\"},\"title\":{\"font\":{\"color\":\"#4D5663\"},\"text\":\"\"},\"zerolinecolor\":\"#E1E5ED\"},\"yaxis11\":{\"anchor\":\"x11\",\"domain\":[0.2675,0.465],\"gridcolor\":\"#E1E5ED\",\"showgrid\":false,\"tickfont\":{\"color\":\"#4D5663\"},\"title\":{\"font\":{\"color\":\"#4D5663\"},\"text\":\"\"},\"zerolinecolor\":\"#E1E5ED\"},\"xaxis12\":{\"anchor\":\"y12\",\"domain\":[0.7875,1.0],\"gridcolor\":\"#E1E5ED\",\"showgrid\":false,\"tickfont\":{\"color\":\"#4D5663\"},\"title\":{\"font\":{\"color\":\"#4D5663\"},\"text\":\"\"},\"zerolinecolor\":\"#E1E5ED\"},\"yaxis12\":{\"anchor\":\"x12\",\"domain\":[0.2675,0.465],\"gridcolor\":\"#E1E5ED\",\"showgrid\":false,\"tickfont\":{\"color\":\"#4D5663\"},\"title\":{\"font\":{\"color\":\"#4D5663\"},\"text\":\"\"},\"zerolinecolor\":\"#E1E5ED\"},\"xaxis13\":{\"anchor\":\"y13\",\"domain\":[0.0,0.2125],\"gridcolor\":\"#E1E5ED\",\"showgrid\":false,\"tickfont\":{\"color\":\"#4D5663\"},\"title\":{\"font\":{\"color\":\"#4D5663\"},\"text\":\"\"},\"zerolinecolor\":\"#E1E5ED\"},\"yaxis13\":{\"anchor\":\"x13\",\"domain\":[0.0,0.1975],\"gridcolor\":\"#E1E5ED\",\"showgrid\":false,\"tickfont\":{\"color\":\"#4D5663\"},\"title\":{\"font\":{\"color\":\"#4D5663\"},\"text\":\"\"},\"zerolinecolor\":\"#E1E5ED\"},\"xaxis14\":{\"anchor\":\"y14\",\"domain\":[0.2625,0.475],\"gridcolor\":\"#E1E5ED\",\"showgrid\":false,\"tickfont\":{\"color\":\"#4D5663\"},\"title\":{\"font\":{\"color\":\"#4D5663\"},\"text\":\"\"},\"zerolinecolor\":\"#E1E5ED\"},\"yaxis14\":{\"anchor\":\"x14\",\"domain\":[0.0,0.1975],\"gridcolor\":\"#E1E5ED\",\"showgrid\":false,\"tickfont\":{\"color\":\"#4D5663\"},\"title\":{\"font\":{\"color\":\"#4D5663\"},\"text\":\"\"},\"zerolinecolor\":\"#E1E5ED\"},\"xaxis15\":{\"anchor\":\"y15\",\"domain\":[0.525,0.7375],\"gridcolor\":\"#E1E5ED\",\"showgrid\":false,\"tickfont\":{\"color\":\"#4D5663\"},\"title\":{\"font\":{\"color\":\"#4D5663\"},\"text\":\"\"},\"zerolinecolor\":\"#E1E5ED\"},\"yaxis15\":{\"anchor\":\"x15\",\"domain\":[0.0,0.1975],\"gridcolor\":\"#E1E5ED\",\"showgrid\":false,\"tickfont\":{\"color\":\"#4D5663\"},\"title\":{\"font\":{\"color\":\"#4D5663\"},\"text\":\"\"},\"zerolinecolor\":\"#E1E5ED\"},\"xaxis16\":{\"anchor\":\"y16\",\"domain\":[0.7875,1.0],\"gridcolor\":\"#E1E5ED\",\"showgrid\":false,\"tickfont\":{\"color\":\"#4D5663\"},\"title\":{\"font\":{\"color\":\"#4D5663\"},\"text\":\"\"},\"zerolinecolor\":\"#E1E5ED\"},\"yaxis16\":{\"anchor\":\"x16\",\"domain\":[0.0,0.1975],\"gridcolor\":\"#E1E5ED\",\"showgrid\":false,\"tickfont\":{\"color\":\"#4D5663\"},\"title\":{\"font\":{\"color\":\"#4D5663\"},\"text\":\"\"},\"zerolinecolor\":\"#E1E5ED\"}},                        {\"showLink\": true, \"linkText\": \"Export to plot.ly\", \"plotlyServerURL\": \"https://plot.ly\", \"responsive\": true}                    ).then(function(){\n",
       "                            \n",
       "var gd = document.getElementById('1a184445-911f-48f6-b1b4-7981ae186300');\n",
       "var x = new MutationObserver(function (mutations, observer) {{\n",
       "        var display = window.getComputedStyle(gd).display;\n",
       "        if (!display || display === 'none') {{\n",
       "            console.log([gd, 'removed!']);\n",
       "            Plotly.purge(gd);\n",
       "            observer.disconnect();\n",
       "        }}\n",
       "}});\n",
       "\n",
       "// Listen for the removal of the full notebook cells\n",
       "var notebookContainer = gd.closest('#notebook-container');\n",
       "if (notebookContainer) {{\n",
       "    x.observe(notebookContainer, {childList: true});\n",
       "}}\n",
       "\n",
       "// Listen for the clearing of the current output cell\n",
       "var outputEl = gd.closest('.output');\n",
       "if (outputEl) {{\n",
       "    x.observe(outputEl, {childList: true});\n",
       "}}\n",
       "\n",
       "                        })                };                });            </script>        </div>"
      ]
     },
     "metadata": {},
     "output_type": "display_data"
    }
   ],
   "source": [
    "df.scatter_matrix()"
   ]
  },
  {
   "cell_type": "code",
   "execution_count": null,
   "id": "4ee2cb87-e963-47b6-bc89-52997d244c84",
   "metadata": {},
   "outputs": [],
   "source": []
  }
 ],
 "metadata": {
  "kernelspec": {
   "display_name": "Python 3 (ipykernel)",
   "language": "python",
   "name": "python3"
  },
  "language_info": {
   "codemirror_mode": {
    "name": "ipython",
    "version": 3
   },
   "file_extension": ".py",
   "mimetype": "text/x-python",
   "name": "python",
   "nbconvert_exporter": "python",
   "pygments_lexer": "ipython3",
   "version": "3.11.7"
  }
 },
 "nbformat": 4,
 "nbformat_minor": 5
}
